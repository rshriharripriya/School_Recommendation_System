{
 "cells": [
  {
   "cell_type": "code",
   "execution_count": 385,
   "id": "initial_id",
   "metadata": {
    "collapsed": true,
    "ExecuteTime": {
     "end_time": "2024-05-01T05:15:31.918261Z",
     "start_time": "2024-05-01T05:15:31.896346Z"
    }
   },
   "outputs": [],
   "source": [
    "import pandas as pd\n",
    "from sklearn.preprocessing import LabelEncoder\n",
    "from sklearn.neighbors import KNeighborsClassifier\n",
    "from sklearn.ensemble import RandomForestClassifier\n",
    "from sklearn.svm import SVC\n",
    "import ast\n",
    "from sklearn.preprocessing import MultiLabelBinarizer\n",
    "import re\n",
    "import numpy as np\n",
    "from sklearn.preprocessing import StandardScaler \n"
   ]
  },
  {
   "cell_type": "code",
   "execution_count": 386,
   "outputs": [],
   "source": [
    "school_raw_data = pd.read_csv(\"../511_project_Step_3.csv\")\n"
   ],
   "metadata": {
    "collapsed": false,
    "ExecuteTime": {
     "end_time": "2024-05-01T05:15:32.140715Z",
     "start_time": "2024-05-01T05:15:32.126754Z"
    }
   },
   "id": "54ac8e79d5a53412"
  },
  {
   "cell_type": "code",
   "execution_count": 387,
   "outputs": [
    {
     "data": {
      "text/plain": "                       School_name      city  zipcode  elementary_school  \\\n0  Academy with Community Partners      Mesa    85203                  0   \n1      Accelerated Learning Center   Phoenix    85028                  0   \n2            Agua Fria High School  Avondale    85323                  0   \n3             Alhambra High School   Phoenix    85019                  0   \n4               Apollo High School  Glendale    85302                  0   \n\n   intermediate_school  middle_school  high_school  school_grade  \\\n0                    0              0            1             4   \n1                    0              0            1             5   \n2                    0              0            1             4   \n3                    0              0            1             3   \n4                    0              0            1             4   \n\n   title_i_status  total_students  ...  personnel_federal_expenditure  \\\n0               1             169  ...                           0.00   \n1               0             153  ...                         361.34   \n2               1            1653  ...                        1015.26   \n3               1            2283  ...                         750.23   \n4               1            2198  ...                        1084.03   \n\n   personnel_state_and_local_expenditure  non_personnel_federal_expenditure  \\\n0                               10009.70                               0.00   \n1                                7245.17                              47.33   \n2                                8781.97                             133.17   \n3                                8190.89                              73.03   \n4                                7182.71                             175.34   \n\n   non_personnel_state_and_local_expenditure  total_per_pupil_expenditure  \\\n0                                    1006.65                     10028.44   \n1                                    2374.60                     10028.44   \n2                                     884.04                     10814.43   \n3                                     183.81                      9197.96   \n4                                     783.21                      9225.29   \n\n   acad_focus_1  acad_focus_2  acad_focus_3  acad_focus_4  acad_focus_5  \n0             1             1             1             1             1  \n1             1             1             1             1             1  \n2             1             1             1             1             1  \n3             1             1             1             1             1  \n4             0             0             0             0             0  \n\n[5 rows x 43 columns]",
      "text/html": "<div>\n<style scoped>\n    .dataframe tbody tr th:only-of-type {\n        vertical-align: middle;\n    }\n\n    .dataframe tbody tr th {\n        vertical-align: top;\n    }\n\n    .dataframe thead th {\n        text-align: right;\n    }\n</style>\n<table border=\"1\" class=\"dataframe\">\n  <thead>\n    <tr style=\"text-align: right;\">\n      <th></th>\n      <th>School_name</th>\n      <th>city</th>\n      <th>zipcode</th>\n      <th>elementary_school</th>\n      <th>intermediate_school</th>\n      <th>middle_school</th>\n      <th>high_school</th>\n      <th>school_grade</th>\n      <th>title_i_status</th>\n      <th>total_students</th>\n      <th>...</th>\n      <th>personnel_federal_expenditure</th>\n      <th>personnel_state_and_local_expenditure</th>\n      <th>non_personnel_federal_expenditure</th>\n      <th>non_personnel_state_and_local_expenditure</th>\n      <th>total_per_pupil_expenditure</th>\n      <th>acad_focus_1</th>\n      <th>acad_focus_2</th>\n      <th>acad_focus_3</th>\n      <th>acad_focus_4</th>\n      <th>acad_focus_5</th>\n    </tr>\n  </thead>\n  <tbody>\n    <tr>\n      <th>0</th>\n      <td>Academy with Community Partners</td>\n      <td>Mesa</td>\n      <td>85203</td>\n      <td>0</td>\n      <td>0</td>\n      <td>0</td>\n      <td>1</td>\n      <td>4</td>\n      <td>1</td>\n      <td>169</td>\n      <td>...</td>\n      <td>0.00</td>\n      <td>10009.70</td>\n      <td>0.00</td>\n      <td>1006.65</td>\n      <td>10028.44</td>\n      <td>1</td>\n      <td>1</td>\n      <td>1</td>\n      <td>1</td>\n      <td>1</td>\n    </tr>\n    <tr>\n      <th>1</th>\n      <td>Accelerated Learning Center</td>\n      <td>Phoenix</td>\n      <td>85028</td>\n      <td>0</td>\n      <td>0</td>\n      <td>0</td>\n      <td>1</td>\n      <td>5</td>\n      <td>0</td>\n      <td>153</td>\n      <td>...</td>\n      <td>361.34</td>\n      <td>7245.17</td>\n      <td>47.33</td>\n      <td>2374.60</td>\n      <td>10028.44</td>\n      <td>1</td>\n      <td>1</td>\n      <td>1</td>\n      <td>1</td>\n      <td>1</td>\n    </tr>\n    <tr>\n      <th>2</th>\n      <td>Agua Fria High School</td>\n      <td>Avondale</td>\n      <td>85323</td>\n      <td>0</td>\n      <td>0</td>\n      <td>0</td>\n      <td>1</td>\n      <td>4</td>\n      <td>1</td>\n      <td>1653</td>\n      <td>...</td>\n      <td>1015.26</td>\n      <td>8781.97</td>\n      <td>133.17</td>\n      <td>884.04</td>\n      <td>10814.43</td>\n      <td>1</td>\n      <td>1</td>\n      <td>1</td>\n      <td>1</td>\n      <td>1</td>\n    </tr>\n    <tr>\n      <th>3</th>\n      <td>Alhambra High School</td>\n      <td>Phoenix</td>\n      <td>85019</td>\n      <td>0</td>\n      <td>0</td>\n      <td>0</td>\n      <td>1</td>\n      <td>3</td>\n      <td>1</td>\n      <td>2283</td>\n      <td>...</td>\n      <td>750.23</td>\n      <td>8190.89</td>\n      <td>73.03</td>\n      <td>183.81</td>\n      <td>9197.96</td>\n      <td>1</td>\n      <td>1</td>\n      <td>1</td>\n      <td>1</td>\n      <td>1</td>\n    </tr>\n    <tr>\n      <th>4</th>\n      <td>Apollo High School</td>\n      <td>Glendale</td>\n      <td>85302</td>\n      <td>0</td>\n      <td>0</td>\n      <td>0</td>\n      <td>1</td>\n      <td>4</td>\n      <td>1</td>\n      <td>2198</td>\n      <td>...</td>\n      <td>1084.03</td>\n      <td>7182.71</td>\n      <td>175.34</td>\n      <td>783.21</td>\n      <td>9225.29</td>\n      <td>0</td>\n      <td>0</td>\n      <td>0</td>\n      <td>0</td>\n      <td>0</td>\n    </tr>\n  </tbody>\n</table>\n<p>5 rows × 43 columns</p>\n</div>"
     },
     "execution_count": 387,
     "metadata": {},
     "output_type": "execute_result"
    }
   ],
   "source": [
    "school_raw_data.head(5)"
   ],
   "metadata": {
    "collapsed": false,
    "ExecuteTime": {
     "end_time": "2024-05-01T05:15:32.343429Z",
     "start_time": "2024-05-01T05:15:32.334054Z"
    }
   },
   "id": "2fdc1becb6337ce1"
  },
  {
   "cell_type": "code",
   "execution_count": 388,
   "outputs": [
    {
     "data": {
      "text/plain": "                         School_name        city  zipcode  elementary_school  \\\n0    Academy with Community Partners        Mesa    85203                  0   \n1        Accelerated Learning Center     Phoenix    85028                  0   \n2              Agua Fria High School    Avondale    85323                  0   \n3               Alhambra High School     Phoenix    85019                  0   \n4                 Apollo High School    Glendale    85302                  0   \n..                               ...         ...      ...                ...   \n215       Wickenburg Virtual Academy  Wickenburg    85390                  1   \n216       Williams Field High School      Higley    85236                  0   \n217        Willis Junior High School    Chandler    85225                  0   \n218        Willow Canyon High School    Surprise    85374                  0   \n219             Youngker High School     Buckeye    85326                  0   \n\n     intermediate_school  middle_school  high_school  school_grade  \\\n0                      0              0            1             4   \n1                      0              0            1             5   \n2                      0              0            1             4   \n3                      0              0            1             3   \n4                      0              0            1             4   \n..                   ...            ...          ...           ...   \n215                    1              1            1             4   \n216                    0              1            1             5   \n217                    0              1            0             4   \n218                    0              1            1             5   \n219                    0              0            1             5   \n\n     title_i_status  total_students  ...  personnel_federal_expenditure  \\\n0                 1             169  ...                           0.00   \n1                 0             153  ...                         361.34   \n2                 1            1653  ...                        1015.26   \n3                 1            2283  ...                         750.23   \n4                 1            2198  ...                        1084.03   \n..              ...             ...  ...                            ...   \n215               0              78  ...                           0.00   \n216               0            2115  ...                         589.04   \n217               1             858  ...                         807.22   \n218               0            1787  ...                         567.63   \n219               1            2107  ...                         263.13   \n\n     personnel_state_and_local_expenditure  non_personnel_federal_expenditure  \\\n0                                 10009.70                               0.00   \n1                                  7245.17                              47.33   \n2                                  8781.97                             133.17   \n3                                  8190.89                              73.03   \n4                                  7182.71                             175.34   \n..                                     ...                                ...   \n215                               10009.70                               0.00   \n216                                6206.66                             131.67   \n217                                7093.56                             141.18   \n218                                7535.96                             541.30   \n219                                4703.99                               5.26   \n\n     non_personnel_state_and_local_expenditure  total_per_pupil_expenditure  \\\n0                                      1006.65                     10028.44   \n1                                      2374.60                     10028.44   \n2                                       884.04                     10814.43   \n3                                       183.81                      9197.96   \n4                                       783.21                      9225.29   \n..                                         ...                          ...   \n215                                    1006.65                     10028.44   \n216                                    1282.88                      8210.26   \n217                                     741.24                      8783.20   \n218                                    1460.76                     10105.66   \n219                                     135.97                      5108.35   \n\n     acad_focus_1  acad_focus_2  acad_focus_3  acad_focus_4  acad_focus_5  \n0               1             1             1             1             1  \n1               1             1             1             1             1  \n2               1             1             1             1             1  \n3               1             1             1             1             1  \n4               0             0             0             0             0  \n..            ...           ...           ...           ...           ...  \n215             0             0             0             0             0  \n216             0             0             0             0             0  \n217             1             1             1             1             1  \n218             1             1             1             1             1  \n219             1             1             1             1             1  \n\n[220 rows x 43 columns]",
      "text/html": "<div>\n<style scoped>\n    .dataframe tbody tr th:only-of-type {\n        vertical-align: middle;\n    }\n\n    .dataframe tbody tr th {\n        vertical-align: top;\n    }\n\n    .dataframe thead th {\n        text-align: right;\n    }\n</style>\n<table border=\"1\" class=\"dataframe\">\n  <thead>\n    <tr style=\"text-align: right;\">\n      <th></th>\n      <th>School_name</th>\n      <th>city</th>\n      <th>zipcode</th>\n      <th>elementary_school</th>\n      <th>intermediate_school</th>\n      <th>middle_school</th>\n      <th>high_school</th>\n      <th>school_grade</th>\n      <th>title_i_status</th>\n      <th>total_students</th>\n      <th>...</th>\n      <th>personnel_federal_expenditure</th>\n      <th>personnel_state_and_local_expenditure</th>\n      <th>non_personnel_federal_expenditure</th>\n      <th>non_personnel_state_and_local_expenditure</th>\n      <th>total_per_pupil_expenditure</th>\n      <th>acad_focus_1</th>\n      <th>acad_focus_2</th>\n      <th>acad_focus_3</th>\n      <th>acad_focus_4</th>\n      <th>acad_focus_5</th>\n    </tr>\n  </thead>\n  <tbody>\n    <tr>\n      <th>0</th>\n      <td>Academy with Community Partners</td>\n      <td>Mesa</td>\n      <td>85203</td>\n      <td>0</td>\n      <td>0</td>\n      <td>0</td>\n      <td>1</td>\n      <td>4</td>\n      <td>1</td>\n      <td>169</td>\n      <td>...</td>\n      <td>0.00</td>\n      <td>10009.70</td>\n      <td>0.00</td>\n      <td>1006.65</td>\n      <td>10028.44</td>\n      <td>1</td>\n      <td>1</td>\n      <td>1</td>\n      <td>1</td>\n      <td>1</td>\n    </tr>\n    <tr>\n      <th>1</th>\n      <td>Accelerated Learning Center</td>\n      <td>Phoenix</td>\n      <td>85028</td>\n      <td>0</td>\n      <td>0</td>\n      <td>0</td>\n      <td>1</td>\n      <td>5</td>\n      <td>0</td>\n      <td>153</td>\n      <td>...</td>\n      <td>361.34</td>\n      <td>7245.17</td>\n      <td>47.33</td>\n      <td>2374.60</td>\n      <td>10028.44</td>\n      <td>1</td>\n      <td>1</td>\n      <td>1</td>\n      <td>1</td>\n      <td>1</td>\n    </tr>\n    <tr>\n      <th>2</th>\n      <td>Agua Fria High School</td>\n      <td>Avondale</td>\n      <td>85323</td>\n      <td>0</td>\n      <td>0</td>\n      <td>0</td>\n      <td>1</td>\n      <td>4</td>\n      <td>1</td>\n      <td>1653</td>\n      <td>...</td>\n      <td>1015.26</td>\n      <td>8781.97</td>\n      <td>133.17</td>\n      <td>884.04</td>\n      <td>10814.43</td>\n      <td>1</td>\n      <td>1</td>\n      <td>1</td>\n      <td>1</td>\n      <td>1</td>\n    </tr>\n    <tr>\n      <th>3</th>\n      <td>Alhambra High School</td>\n      <td>Phoenix</td>\n      <td>85019</td>\n      <td>0</td>\n      <td>0</td>\n      <td>0</td>\n      <td>1</td>\n      <td>3</td>\n      <td>1</td>\n      <td>2283</td>\n      <td>...</td>\n      <td>750.23</td>\n      <td>8190.89</td>\n      <td>73.03</td>\n      <td>183.81</td>\n      <td>9197.96</td>\n      <td>1</td>\n      <td>1</td>\n      <td>1</td>\n      <td>1</td>\n      <td>1</td>\n    </tr>\n    <tr>\n      <th>4</th>\n      <td>Apollo High School</td>\n      <td>Glendale</td>\n      <td>85302</td>\n      <td>0</td>\n      <td>0</td>\n      <td>0</td>\n      <td>1</td>\n      <td>4</td>\n      <td>1</td>\n      <td>2198</td>\n      <td>...</td>\n      <td>1084.03</td>\n      <td>7182.71</td>\n      <td>175.34</td>\n      <td>783.21</td>\n      <td>9225.29</td>\n      <td>0</td>\n      <td>0</td>\n      <td>0</td>\n      <td>0</td>\n      <td>0</td>\n    </tr>\n    <tr>\n      <th>...</th>\n      <td>...</td>\n      <td>...</td>\n      <td>...</td>\n      <td>...</td>\n      <td>...</td>\n      <td>...</td>\n      <td>...</td>\n      <td>...</td>\n      <td>...</td>\n      <td>...</td>\n      <td>...</td>\n      <td>...</td>\n      <td>...</td>\n      <td>...</td>\n      <td>...</td>\n      <td>...</td>\n      <td>...</td>\n      <td>...</td>\n      <td>...</td>\n      <td>...</td>\n      <td>...</td>\n    </tr>\n    <tr>\n      <th>215</th>\n      <td>Wickenburg Virtual Academy</td>\n      <td>Wickenburg</td>\n      <td>85390</td>\n      <td>1</td>\n      <td>1</td>\n      <td>1</td>\n      <td>1</td>\n      <td>4</td>\n      <td>0</td>\n      <td>78</td>\n      <td>...</td>\n      <td>0.00</td>\n      <td>10009.70</td>\n      <td>0.00</td>\n      <td>1006.65</td>\n      <td>10028.44</td>\n      <td>0</td>\n      <td>0</td>\n      <td>0</td>\n      <td>0</td>\n      <td>0</td>\n    </tr>\n    <tr>\n      <th>216</th>\n      <td>Williams Field High School</td>\n      <td>Higley</td>\n      <td>85236</td>\n      <td>0</td>\n      <td>0</td>\n      <td>1</td>\n      <td>1</td>\n      <td>5</td>\n      <td>0</td>\n      <td>2115</td>\n      <td>...</td>\n      <td>589.04</td>\n      <td>6206.66</td>\n      <td>131.67</td>\n      <td>1282.88</td>\n      <td>8210.26</td>\n      <td>0</td>\n      <td>0</td>\n      <td>0</td>\n      <td>0</td>\n      <td>0</td>\n    </tr>\n    <tr>\n      <th>217</th>\n      <td>Willis Junior High School</td>\n      <td>Chandler</td>\n      <td>85225</td>\n      <td>0</td>\n      <td>0</td>\n      <td>1</td>\n      <td>0</td>\n      <td>4</td>\n      <td>1</td>\n      <td>858</td>\n      <td>...</td>\n      <td>807.22</td>\n      <td>7093.56</td>\n      <td>141.18</td>\n      <td>741.24</td>\n      <td>8783.20</td>\n      <td>1</td>\n      <td>1</td>\n      <td>1</td>\n      <td>1</td>\n      <td>1</td>\n    </tr>\n    <tr>\n      <th>218</th>\n      <td>Willow Canyon High School</td>\n      <td>Surprise</td>\n      <td>85374</td>\n      <td>0</td>\n      <td>0</td>\n      <td>1</td>\n      <td>1</td>\n      <td>5</td>\n      <td>0</td>\n      <td>1787</td>\n      <td>...</td>\n      <td>567.63</td>\n      <td>7535.96</td>\n      <td>541.30</td>\n      <td>1460.76</td>\n      <td>10105.66</td>\n      <td>1</td>\n      <td>1</td>\n      <td>1</td>\n      <td>1</td>\n      <td>1</td>\n    </tr>\n    <tr>\n      <th>219</th>\n      <td>Youngker High School</td>\n      <td>Buckeye</td>\n      <td>85326</td>\n      <td>0</td>\n      <td>0</td>\n      <td>0</td>\n      <td>1</td>\n      <td>5</td>\n      <td>1</td>\n      <td>2107</td>\n      <td>...</td>\n      <td>263.13</td>\n      <td>4703.99</td>\n      <td>5.26</td>\n      <td>135.97</td>\n      <td>5108.35</td>\n      <td>1</td>\n      <td>1</td>\n      <td>1</td>\n      <td>1</td>\n      <td>1</td>\n    </tr>\n  </tbody>\n</table>\n<p>220 rows × 43 columns</p>\n</div>"
     },
     "execution_count": 388,
     "metadata": {},
     "output_type": "execute_result"
    }
   ],
   "source": [
    "school_data = school_raw_data.copy(deep=True)\n",
    "school_data"
   ],
   "metadata": {
    "collapsed": false,
    "ExecuteTime": {
     "end_time": "2024-05-01T05:15:32.690871Z",
     "start_time": "2024-05-01T05:15:32.675754Z"
    }
   },
   "id": "43d9b8a3c0c36c02"
  },
  {
   "cell_type": "code",
   "execution_count": 389,
   "outputs": [
    {
     "data": {
      "text/plain": "                       School_name  city  zipcode  elementary_school  \\\n0  Academy with Community Partners    12    85203                  0   \n1      Accelerated Learning Center    14    85028                  0   \n2            Agua Fria High School     1    85323                  0   \n3             Alhambra High School    14    85019                  0   \n4               Apollo High School     8    85302                  0   \n\n   intermediate_school  middle_school  high_school  school_grade  \\\n0                    0              0            1             4   \n1                    0              0            1             5   \n2                    0              0            1             4   \n3                    0              0            1             3   \n4                    0              0            1             4   \n\n   title_i_status  total_students  ...  personnel_federal_expenditure  \\\n0               1             169  ...                           0.00   \n1               0             153  ...                         361.34   \n2               1            1653  ...                        1015.26   \n3               1            2283  ...                         750.23   \n4               1            2198  ...                        1084.03   \n\n   personnel_state_and_local_expenditure  non_personnel_federal_expenditure  \\\n0                               10009.70                               0.00   \n1                                7245.17                              47.33   \n2                                8781.97                             133.17   \n3                                8190.89                              73.03   \n4                                7182.71                             175.34   \n\n   non_personnel_state_and_local_expenditure  total_per_pupil_expenditure  \\\n0                                    1006.65                     10028.44   \n1                                    2374.60                     10028.44   \n2                                     884.04                     10814.43   \n3                                     183.81                      9197.96   \n4                                     783.21                      9225.29   \n\n   acad_focus_1  acad_focus_2  acad_focus_3  acad_focus_4  acad_focus_5  \n0             1             1             1             1             1  \n1             1             1             1             1             1  \n2             1             1             1             1             1  \n3             1             1             1             1             1  \n4             0             0             0             0             0  \n\n[5 rows x 43 columns]",
      "text/html": "<div>\n<style scoped>\n    .dataframe tbody tr th:only-of-type {\n        vertical-align: middle;\n    }\n\n    .dataframe tbody tr th {\n        vertical-align: top;\n    }\n\n    .dataframe thead th {\n        text-align: right;\n    }\n</style>\n<table border=\"1\" class=\"dataframe\">\n  <thead>\n    <tr style=\"text-align: right;\">\n      <th></th>\n      <th>School_name</th>\n      <th>city</th>\n      <th>zipcode</th>\n      <th>elementary_school</th>\n      <th>intermediate_school</th>\n      <th>middle_school</th>\n      <th>high_school</th>\n      <th>school_grade</th>\n      <th>title_i_status</th>\n      <th>total_students</th>\n      <th>...</th>\n      <th>personnel_federal_expenditure</th>\n      <th>personnel_state_and_local_expenditure</th>\n      <th>non_personnel_federal_expenditure</th>\n      <th>non_personnel_state_and_local_expenditure</th>\n      <th>total_per_pupil_expenditure</th>\n      <th>acad_focus_1</th>\n      <th>acad_focus_2</th>\n      <th>acad_focus_3</th>\n      <th>acad_focus_4</th>\n      <th>acad_focus_5</th>\n    </tr>\n  </thead>\n  <tbody>\n    <tr>\n      <th>0</th>\n      <td>Academy with Community Partners</td>\n      <td>12</td>\n      <td>85203</td>\n      <td>0</td>\n      <td>0</td>\n      <td>0</td>\n      <td>1</td>\n      <td>4</td>\n      <td>1</td>\n      <td>169</td>\n      <td>...</td>\n      <td>0.00</td>\n      <td>10009.70</td>\n      <td>0.00</td>\n      <td>1006.65</td>\n      <td>10028.44</td>\n      <td>1</td>\n      <td>1</td>\n      <td>1</td>\n      <td>1</td>\n      <td>1</td>\n    </tr>\n    <tr>\n      <th>1</th>\n      <td>Accelerated Learning Center</td>\n      <td>14</td>\n      <td>85028</td>\n      <td>0</td>\n      <td>0</td>\n      <td>0</td>\n      <td>1</td>\n      <td>5</td>\n      <td>0</td>\n      <td>153</td>\n      <td>...</td>\n      <td>361.34</td>\n      <td>7245.17</td>\n      <td>47.33</td>\n      <td>2374.60</td>\n      <td>10028.44</td>\n      <td>1</td>\n      <td>1</td>\n      <td>1</td>\n      <td>1</td>\n      <td>1</td>\n    </tr>\n    <tr>\n      <th>2</th>\n      <td>Agua Fria High School</td>\n      <td>1</td>\n      <td>85323</td>\n      <td>0</td>\n      <td>0</td>\n      <td>0</td>\n      <td>1</td>\n      <td>4</td>\n      <td>1</td>\n      <td>1653</td>\n      <td>...</td>\n      <td>1015.26</td>\n      <td>8781.97</td>\n      <td>133.17</td>\n      <td>884.04</td>\n      <td>10814.43</td>\n      <td>1</td>\n      <td>1</td>\n      <td>1</td>\n      <td>1</td>\n      <td>1</td>\n    </tr>\n    <tr>\n      <th>3</th>\n      <td>Alhambra High School</td>\n      <td>14</td>\n      <td>85019</td>\n      <td>0</td>\n      <td>0</td>\n      <td>0</td>\n      <td>1</td>\n      <td>3</td>\n      <td>1</td>\n      <td>2283</td>\n      <td>...</td>\n      <td>750.23</td>\n      <td>8190.89</td>\n      <td>73.03</td>\n      <td>183.81</td>\n      <td>9197.96</td>\n      <td>1</td>\n      <td>1</td>\n      <td>1</td>\n      <td>1</td>\n      <td>1</td>\n    </tr>\n    <tr>\n      <th>4</th>\n      <td>Apollo High School</td>\n      <td>8</td>\n      <td>85302</td>\n      <td>0</td>\n      <td>0</td>\n      <td>0</td>\n      <td>1</td>\n      <td>4</td>\n      <td>1</td>\n      <td>2198</td>\n      <td>...</td>\n      <td>1084.03</td>\n      <td>7182.71</td>\n      <td>175.34</td>\n      <td>783.21</td>\n      <td>9225.29</td>\n      <td>0</td>\n      <td>0</td>\n      <td>0</td>\n      <td>0</td>\n      <td>0</td>\n    </tr>\n  </tbody>\n</table>\n<p>5 rows × 43 columns</p>\n</div>"
     },
     "execution_count": 389,
     "metadata": {},
     "output_type": "execute_result"
    }
   ],
   "source": [
    "\n",
    "city_number_converter = LabelEncoder()\n",
    "school_data['city']= city_number_converter.fit_transform(school_raw_data['city'])\n",
    "school_data.head(5)"
   ],
   "metadata": {
    "collapsed": false,
    "ExecuteTime": {
     "end_time": "2024-05-01T05:15:33.001410Z",
     "start_time": "2024-05-01T05:15:32.990406Z"
    }
   },
   "id": "3d015086162f2bac"
  },
  {
   "cell_type": "code",
   "execution_count": 390,
   "outputs": [
    {
     "data": {
      "text/plain": "                       School_name  city  zipcode  elementary_school  \\\n0  Academy with Community Partners    12       38                  0   \n1      Accelerated Learning Center    14       18                  0   \n2            Agua Fria High School     1       81                  0   \n3             Alhambra High School    14       11                  0   \n4               Apollo High School     8       74                  0   \n\n   intermediate_school  middle_school  high_school  school_grade  \\\n0                    0              0            1             4   \n1                    0              0            1             5   \n2                    0              0            1             4   \n3                    0              0            1             3   \n4                    0              0            1             4   \n\n   title_i_status  total_students  ...  personnel_federal_expenditure  \\\n0               1             169  ...                           0.00   \n1               0             153  ...                         361.34   \n2               1            1653  ...                        1015.26   \n3               1            2283  ...                         750.23   \n4               1            2198  ...                        1084.03   \n\n   personnel_state_and_local_expenditure  non_personnel_federal_expenditure  \\\n0                               10009.70                               0.00   \n1                                7245.17                              47.33   \n2                                8781.97                             133.17   \n3                                8190.89                              73.03   \n4                                7182.71                             175.34   \n\n   non_personnel_state_and_local_expenditure  total_per_pupil_expenditure  \\\n0                                    1006.65                     10028.44   \n1                                    2374.60                     10028.44   \n2                                     884.04                     10814.43   \n3                                     183.81                      9197.96   \n4                                     783.21                      9225.29   \n\n   acad_focus_1  acad_focus_2  acad_focus_3  acad_focus_4  acad_focus_5  \n0             1             1             1             1             1  \n1             1             1             1             1             1  \n2             1             1             1             1             1  \n3             1             1             1             1             1  \n4             0             0             0             0             0  \n\n[5 rows x 43 columns]",
      "text/html": "<div>\n<style scoped>\n    .dataframe tbody tr th:only-of-type {\n        vertical-align: middle;\n    }\n\n    .dataframe tbody tr th {\n        vertical-align: top;\n    }\n\n    .dataframe thead th {\n        text-align: right;\n    }\n</style>\n<table border=\"1\" class=\"dataframe\">\n  <thead>\n    <tr style=\"text-align: right;\">\n      <th></th>\n      <th>School_name</th>\n      <th>city</th>\n      <th>zipcode</th>\n      <th>elementary_school</th>\n      <th>intermediate_school</th>\n      <th>middle_school</th>\n      <th>high_school</th>\n      <th>school_grade</th>\n      <th>title_i_status</th>\n      <th>total_students</th>\n      <th>...</th>\n      <th>personnel_federal_expenditure</th>\n      <th>personnel_state_and_local_expenditure</th>\n      <th>non_personnel_federal_expenditure</th>\n      <th>non_personnel_state_and_local_expenditure</th>\n      <th>total_per_pupil_expenditure</th>\n      <th>acad_focus_1</th>\n      <th>acad_focus_2</th>\n      <th>acad_focus_3</th>\n      <th>acad_focus_4</th>\n      <th>acad_focus_5</th>\n    </tr>\n  </thead>\n  <tbody>\n    <tr>\n      <th>0</th>\n      <td>Academy with Community Partners</td>\n      <td>12</td>\n      <td>38</td>\n      <td>0</td>\n      <td>0</td>\n      <td>0</td>\n      <td>1</td>\n      <td>4</td>\n      <td>1</td>\n      <td>169</td>\n      <td>...</td>\n      <td>0.00</td>\n      <td>10009.70</td>\n      <td>0.00</td>\n      <td>1006.65</td>\n      <td>10028.44</td>\n      <td>1</td>\n      <td>1</td>\n      <td>1</td>\n      <td>1</td>\n      <td>1</td>\n    </tr>\n    <tr>\n      <th>1</th>\n      <td>Accelerated Learning Center</td>\n      <td>14</td>\n      <td>18</td>\n      <td>0</td>\n      <td>0</td>\n      <td>0</td>\n      <td>1</td>\n      <td>5</td>\n      <td>0</td>\n      <td>153</td>\n      <td>...</td>\n      <td>361.34</td>\n      <td>7245.17</td>\n      <td>47.33</td>\n      <td>2374.60</td>\n      <td>10028.44</td>\n      <td>1</td>\n      <td>1</td>\n      <td>1</td>\n      <td>1</td>\n      <td>1</td>\n    </tr>\n    <tr>\n      <th>2</th>\n      <td>Agua Fria High School</td>\n      <td>1</td>\n      <td>81</td>\n      <td>0</td>\n      <td>0</td>\n      <td>0</td>\n      <td>1</td>\n      <td>4</td>\n      <td>1</td>\n      <td>1653</td>\n      <td>...</td>\n      <td>1015.26</td>\n      <td>8781.97</td>\n      <td>133.17</td>\n      <td>884.04</td>\n      <td>10814.43</td>\n      <td>1</td>\n      <td>1</td>\n      <td>1</td>\n      <td>1</td>\n      <td>1</td>\n    </tr>\n    <tr>\n      <th>3</th>\n      <td>Alhambra High School</td>\n      <td>14</td>\n      <td>11</td>\n      <td>0</td>\n      <td>0</td>\n      <td>0</td>\n      <td>1</td>\n      <td>3</td>\n      <td>1</td>\n      <td>2283</td>\n      <td>...</td>\n      <td>750.23</td>\n      <td>8190.89</td>\n      <td>73.03</td>\n      <td>183.81</td>\n      <td>9197.96</td>\n      <td>1</td>\n      <td>1</td>\n      <td>1</td>\n      <td>1</td>\n      <td>1</td>\n    </tr>\n    <tr>\n      <th>4</th>\n      <td>Apollo High School</td>\n      <td>8</td>\n      <td>74</td>\n      <td>0</td>\n      <td>0</td>\n      <td>0</td>\n      <td>1</td>\n      <td>4</td>\n      <td>1</td>\n      <td>2198</td>\n      <td>...</td>\n      <td>1084.03</td>\n      <td>7182.71</td>\n      <td>175.34</td>\n      <td>783.21</td>\n      <td>9225.29</td>\n      <td>0</td>\n      <td>0</td>\n      <td>0</td>\n      <td>0</td>\n      <td>0</td>\n    </tr>\n  </tbody>\n</table>\n<p>5 rows × 43 columns</p>\n</div>"
     },
     "execution_count": 390,
     "metadata": {},
     "output_type": "execute_result"
    }
   ],
   "source": [
    "\n",
    "zipcode_number_converter = LabelEncoder()\n",
    "school_data['zipcode']= zipcode_number_converter.fit_transform(school_raw_data['zipcode'])\n",
    "school_data.head(5)"
   ],
   "metadata": {
    "collapsed": false,
    "ExecuteTime": {
     "end_time": "2024-05-01T05:15:33.269967Z",
     "start_time": "2024-05-01T05:15:33.250703Z"
    }
   },
   "id": "eff3712737aee07"
  },
  {
   "cell_type": "code",
   "execution_count": 391,
   "outputs": [
    {
     "data": {
      "text/plain": "['personnel_federal_expenditure',\n 'personnel_state_and_local_expenditure',\n 'non_personnel_federal_expenditure',\n 'non_personnel_state_and_local_expenditure']"
     },
     "execution_count": 391,
     "metadata": {},
     "output_type": "execute_result"
    }
   ],
   "source": [
    "expense_columns_to_drop = school_raw_data.columns[33:37].to_list()\n",
    "expense_columns_to_drop"
   ],
   "metadata": {
    "collapsed": false,
    "ExecuteTime": {
     "end_time": "2024-05-01T05:15:33.486592Z",
     "start_time": "2024-05-01T05:15:33.471480Z"
    }
   },
   "id": "bd797c5a09dc55d5"
  },
  {
   "cell_type": "code",
   "execution_count": 392,
   "outputs": [
    {
     "data": {
      "text/plain": "                       School_name  city  zipcode  elementary_school  \\\n0  Academy with Community Partners    12       38                  0   \n1      Accelerated Learning Center    14       18                  0   \n2            Agua Fria High School     1       81                  0   \n3             Alhambra High School    14       11                  0   \n4               Apollo High School     8       74                  0   \n\n   intermediate_school  middle_school  high_school  school_grade  \\\n0                    0              0            1             4   \n1                    0              0            1             5   \n2                    0              0            1             4   \n3                    0              0            1             3   \n4                    0              0            1             4   \n\n   title_i_status  total_students  ...  No_of_students_adv_placement_course  \\\n0               1             169  ...                                  0.0   \n1               0             153  ...                                  0.0   \n2               1            1653  ...                                597.0   \n3               1            2283  ...                                223.0   \n4               1            2198  ...                                256.0   \n\n   Students_with_Chronic_Absenteeism  crime_rate  total_students_bullied  \\\n0                               79.0         0.0                     0.0   \n1                              171.0         0.0                     0.0   \n2                              781.0        48.0                     6.0   \n3                              973.0        21.0                     0.0   \n4                              847.0        47.0                     0.0   \n\n   total_per_pupil_expenditure  acad_focus_1  acad_focus_2  acad_focus_3  \\\n0                     10028.44             1             1             1   \n1                     10028.44             1             1             1   \n2                     10814.43             1             1             1   \n3                      9197.96             1             1             1   \n4                      9225.29             0             0             0   \n\n   acad_focus_4  acad_focus_5  \n0             1             1  \n1             1             1  \n2             1             1  \n3             1             1  \n4             0             0  \n\n[5 rows x 39 columns]",
      "text/html": "<div>\n<style scoped>\n    .dataframe tbody tr th:only-of-type {\n        vertical-align: middle;\n    }\n\n    .dataframe tbody tr th {\n        vertical-align: top;\n    }\n\n    .dataframe thead th {\n        text-align: right;\n    }\n</style>\n<table border=\"1\" class=\"dataframe\">\n  <thead>\n    <tr style=\"text-align: right;\">\n      <th></th>\n      <th>School_name</th>\n      <th>city</th>\n      <th>zipcode</th>\n      <th>elementary_school</th>\n      <th>intermediate_school</th>\n      <th>middle_school</th>\n      <th>high_school</th>\n      <th>school_grade</th>\n      <th>title_i_status</th>\n      <th>total_students</th>\n      <th>...</th>\n      <th>No_of_students_adv_placement_course</th>\n      <th>Students_with_Chronic_Absenteeism</th>\n      <th>crime_rate</th>\n      <th>total_students_bullied</th>\n      <th>total_per_pupil_expenditure</th>\n      <th>acad_focus_1</th>\n      <th>acad_focus_2</th>\n      <th>acad_focus_3</th>\n      <th>acad_focus_4</th>\n      <th>acad_focus_5</th>\n    </tr>\n  </thead>\n  <tbody>\n    <tr>\n      <th>0</th>\n      <td>Academy with Community Partners</td>\n      <td>12</td>\n      <td>38</td>\n      <td>0</td>\n      <td>0</td>\n      <td>0</td>\n      <td>1</td>\n      <td>4</td>\n      <td>1</td>\n      <td>169</td>\n      <td>...</td>\n      <td>0.0</td>\n      <td>79.0</td>\n      <td>0.0</td>\n      <td>0.0</td>\n      <td>10028.44</td>\n      <td>1</td>\n      <td>1</td>\n      <td>1</td>\n      <td>1</td>\n      <td>1</td>\n    </tr>\n    <tr>\n      <th>1</th>\n      <td>Accelerated Learning Center</td>\n      <td>14</td>\n      <td>18</td>\n      <td>0</td>\n      <td>0</td>\n      <td>0</td>\n      <td>1</td>\n      <td>5</td>\n      <td>0</td>\n      <td>153</td>\n      <td>...</td>\n      <td>0.0</td>\n      <td>171.0</td>\n      <td>0.0</td>\n      <td>0.0</td>\n      <td>10028.44</td>\n      <td>1</td>\n      <td>1</td>\n      <td>1</td>\n      <td>1</td>\n      <td>1</td>\n    </tr>\n    <tr>\n      <th>2</th>\n      <td>Agua Fria High School</td>\n      <td>1</td>\n      <td>81</td>\n      <td>0</td>\n      <td>0</td>\n      <td>0</td>\n      <td>1</td>\n      <td>4</td>\n      <td>1</td>\n      <td>1653</td>\n      <td>...</td>\n      <td>597.0</td>\n      <td>781.0</td>\n      <td>48.0</td>\n      <td>6.0</td>\n      <td>10814.43</td>\n      <td>1</td>\n      <td>1</td>\n      <td>1</td>\n      <td>1</td>\n      <td>1</td>\n    </tr>\n    <tr>\n      <th>3</th>\n      <td>Alhambra High School</td>\n      <td>14</td>\n      <td>11</td>\n      <td>0</td>\n      <td>0</td>\n      <td>0</td>\n      <td>1</td>\n      <td>3</td>\n      <td>1</td>\n      <td>2283</td>\n      <td>...</td>\n      <td>223.0</td>\n      <td>973.0</td>\n      <td>21.0</td>\n      <td>0.0</td>\n      <td>9197.96</td>\n      <td>1</td>\n      <td>1</td>\n      <td>1</td>\n      <td>1</td>\n      <td>1</td>\n    </tr>\n    <tr>\n      <th>4</th>\n      <td>Apollo High School</td>\n      <td>8</td>\n      <td>74</td>\n      <td>0</td>\n      <td>0</td>\n      <td>0</td>\n      <td>1</td>\n      <td>4</td>\n      <td>1</td>\n      <td>2198</td>\n      <td>...</td>\n      <td>256.0</td>\n      <td>847.0</td>\n      <td>47.0</td>\n      <td>0.0</td>\n      <td>9225.29</td>\n      <td>0</td>\n      <td>0</td>\n      <td>0</td>\n      <td>0</td>\n      <td>0</td>\n    </tr>\n  </tbody>\n</table>\n<p>5 rows × 39 columns</p>\n</div>"
     },
     "execution_count": 392,
     "metadata": {},
     "output_type": "execute_result"
    }
   ],
   "source": [
    "\n",
    "school_data.drop(columns=expense_columns_to_drop,inplace=True, axis=1)\n",
    "\n",
    "school_data.head(5)"
   ],
   "metadata": {
    "collapsed": false,
    "ExecuteTime": {
     "end_time": "2024-05-01T05:15:33.725981Z",
     "start_time": "2024-05-01T05:15:33.716190Z"
    }
   },
   "id": "bab9d20f5ae9e77a"
  },
  {
   "cell_type": "code",
   "execution_count": 393,
   "outputs": [],
   "source": [
    "def range_exporter(n, column_name):\n",
    "    n = int(n)\n",
    "    # 0 = less\n",
    "    # 1 = more\n",
    "    if n == 0: \n",
    "        return school_data[column_name].quantile([0.40])[0.40]\n",
    "    elif n == 1: \n",
    "        return school_data[column_name].quantile([0.60])[0.60]\n",
    "    elif n == 2: \n",
    "        return school_data[column_name].quantile([0.80])[0.80]\n",
    "\n",
    "\n"
   ],
   "metadata": {
    "collapsed": false,
    "ExecuteTime": {
     "end_time": "2024-05-01T05:15:34.302794Z",
     "start_time": "2024-05-01T05:15:34.286747Z"
    }
   },
   "id": "d0e77fdf0f8e503f"
  },
  {
   "cell_type": "code",
   "execution_count": 394,
   "outputs": [],
   "source": [
    "testSet = [[]]\n"
   ],
   "metadata": {
    "collapsed": false,
    "ExecuteTime": {
     "end_time": "2024-05-01T05:15:34.626711Z",
     "start_time": "2024-05-01T05:15:34.605178Z"
    }
   },
   "id": "a9cf8472f8f33881"
  },
  {
   "cell_type": "code",
   "execution_count": 395,
   "outputs": [
    {
     "data": {
      "text/plain": "                         School_name  city  zipcode  elementary_school  \\\n0    Academy with Community Partners    12       38                  0   \n1        Accelerated Learning Center    14       18                  0   \n2              Agua Fria High School     1       81                  0   \n3               Alhambra High School    14       11                  0   \n4                 Apollo High School     8       74                  0   \n..                               ...   ...      ...                ...   \n215       Wickenburg Virtual Academy    21       96                  1   \n216       Williams Field High School    10       52                  0   \n217        Willis Junior High School     3       48                  0   \n218        Willow Canyon High School    17       90                  0   \n219             Youngker High School     2       82                  0   \n\n     intermediate_school  middle_school  high_school  school_grade  \\\n0                      0              0            1             4   \n1                      0              0            1             5   \n2                      0              0            1             4   \n3                      0              0            1             3   \n4                      0              0            1             4   \n..                   ...            ...          ...           ...   \n215                    1              1            1             4   \n216                    0              1            1             5   \n217                    0              1            0             4   \n218                    0              1            1             5   \n219                    0              0            1             5   \n\n     title_i_status  total_students  ...  No_of_students_adv_placement_course  \\\n0                 1             169  ...                                  0.0   \n1                 0             153  ...                                  0.0   \n2                 1            1653  ...                                597.0   \n3                 1            2283  ...                                223.0   \n4                 1            2198  ...                                256.0   \n..              ...             ...  ...                                  ...   \n215               0              78  ...                                  2.0   \n216               0            2115  ...                                447.0   \n217               1             858  ...                                  0.0   \n218               0            1787  ...                                459.0   \n219               1            2107  ...                                139.0   \n\n     Students_with_Chronic_Absenteeism  crime_rate  total_students_bullied  \\\n0                                 79.0         0.0                     0.0   \n1                                171.0         0.0                     0.0   \n2                                781.0        48.0                     6.0   \n3                                973.0        21.0                     0.0   \n4                                847.0        47.0                     0.0   \n..                                 ...         ...                     ...   \n215                                0.0         0.0                     0.0   \n216                              724.0         6.0                     0.0   \n217                              478.0        27.0                     0.0   \n218                              625.0        64.0                     0.0   \n219                              641.0        46.0                     8.0   \n\n     total_per_pupil_expenditure  acad_focus_1  acad_focus_2  acad_focus_3  \\\n0                       10028.44             1             1             1   \n1                       10028.44             1             1             1   \n2                       10814.43             1             1             1   \n3                        9197.96             1             1             1   \n4                        9225.29             0             0             0   \n..                           ...           ...           ...           ...   \n215                     10028.44             0             0             0   \n216                      8210.26             0             0             0   \n217                      8783.20             1             1             1   \n218                     10105.66             1             1             1   \n219                      5108.35             1             1             1   \n\n     acad_focus_4  acad_focus_5  \n0               1             1  \n1               1             1  \n2               1             1  \n3               1             1  \n4               0             0  \n..            ...           ...  \n215             0             0  \n216             0             0  \n217             1             1  \n218             1             1  \n219             1             1  \n\n[220 rows x 39 columns]",
      "text/html": "<div>\n<style scoped>\n    .dataframe tbody tr th:only-of-type {\n        vertical-align: middle;\n    }\n\n    .dataframe tbody tr th {\n        vertical-align: top;\n    }\n\n    .dataframe thead th {\n        text-align: right;\n    }\n</style>\n<table border=\"1\" class=\"dataframe\">\n  <thead>\n    <tr style=\"text-align: right;\">\n      <th></th>\n      <th>School_name</th>\n      <th>city</th>\n      <th>zipcode</th>\n      <th>elementary_school</th>\n      <th>intermediate_school</th>\n      <th>middle_school</th>\n      <th>high_school</th>\n      <th>school_grade</th>\n      <th>title_i_status</th>\n      <th>total_students</th>\n      <th>...</th>\n      <th>No_of_students_adv_placement_course</th>\n      <th>Students_with_Chronic_Absenteeism</th>\n      <th>crime_rate</th>\n      <th>total_students_bullied</th>\n      <th>total_per_pupil_expenditure</th>\n      <th>acad_focus_1</th>\n      <th>acad_focus_2</th>\n      <th>acad_focus_3</th>\n      <th>acad_focus_4</th>\n      <th>acad_focus_5</th>\n    </tr>\n  </thead>\n  <tbody>\n    <tr>\n      <th>0</th>\n      <td>Academy with Community Partners</td>\n      <td>12</td>\n      <td>38</td>\n      <td>0</td>\n      <td>0</td>\n      <td>0</td>\n      <td>1</td>\n      <td>4</td>\n      <td>1</td>\n      <td>169</td>\n      <td>...</td>\n      <td>0.0</td>\n      <td>79.0</td>\n      <td>0.0</td>\n      <td>0.0</td>\n      <td>10028.44</td>\n      <td>1</td>\n      <td>1</td>\n      <td>1</td>\n      <td>1</td>\n      <td>1</td>\n    </tr>\n    <tr>\n      <th>1</th>\n      <td>Accelerated Learning Center</td>\n      <td>14</td>\n      <td>18</td>\n      <td>0</td>\n      <td>0</td>\n      <td>0</td>\n      <td>1</td>\n      <td>5</td>\n      <td>0</td>\n      <td>153</td>\n      <td>...</td>\n      <td>0.0</td>\n      <td>171.0</td>\n      <td>0.0</td>\n      <td>0.0</td>\n      <td>10028.44</td>\n      <td>1</td>\n      <td>1</td>\n      <td>1</td>\n      <td>1</td>\n      <td>1</td>\n    </tr>\n    <tr>\n      <th>2</th>\n      <td>Agua Fria High School</td>\n      <td>1</td>\n      <td>81</td>\n      <td>0</td>\n      <td>0</td>\n      <td>0</td>\n      <td>1</td>\n      <td>4</td>\n      <td>1</td>\n      <td>1653</td>\n      <td>...</td>\n      <td>597.0</td>\n      <td>781.0</td>\n      <td>48.0</td>\n      <td>6.0</td>\n      <td>10814.43</td>\n      <td>1</td>\n      <td>1</td>\n      <td>1</td>\n      <td>1</td>\n      <td>1</td>\n    </tr>\n    <tr>\n      <th>3</th>\n      <td>Alhambra High School</td>\n      <td>14</td>\n      <td>11</td>\n      <td>0</td>\n      <td>0</td>\n      <td>0</td>\n      <td>1</td>\n      <td>3</td>\n      <td>1</td>\n      <td>2283</td>\n      <td>...</td>\n      <td>223.0</td>\n      <td>973.0</td>\n      <td>21.0</td>\n      <td>0.0</td>\n      <td>9197.96</td>\n      <td>1</td>\n      <td>1</td>\n      <td>1</td>\n      <td>1</td>\n      <td>1</td>\n    </tr>\n    <tr>\n      <th>4</th>\n      <td>Apollo High School</td>\n      <td>8</td>\n      <td>74</td>\n      <td>0</td>\n      <td>0</td>\n      <td>0</td>\n      <td>1</td>\n      <td>4</td>\n      <td>1</td>\n      <td>2198</td>\n      <td>...</td>\n      <td>256.0</td>\n      <td>847.0</td>\n      <td>47.0</td>\n      <td>0.0</td>\n      <td>9225.29</td>\n      <td>0</td>\n      <td>0</td>\n      <td>0</td>\n      <td>0</td>\n      <td>0</td>\n    </tr>\n    <tr>\n      <th>...</th>\n      <td>...</td>\n      <td>...</td>\n      <td>...</td>\n      <td>...</td>\n      <td>...</td>\n      <td>...</td>\n      <td>...</td>\n      <td>...</td>\n      <td>...</td>\n      <td>...</td>\n      <td>...</td>\n      <td>...</td>\n      <td>...</td>\n      <td>...</td>\n      <td>...</td>\n      <td>...</td>\n      <td>...</td>\n      <td>...</td>\n      <td>...</td>\n      <td>...</td>\n      <td>...</td>\n    </tr>\n    <tr>\n      <th>215</th>\n      <td>Wickenburg Virtual Academy</td>\n      <td>21</td>\n      <td>96</td>\n      <td>1</td>\n      <td>1</td>\n      <td>1</td>\n      <td>1</td>\n      <td>4</td>\n      <td>0</td>\n      <td>78</td>\n      <td>...</td>\n      <td>2.0</td>\n      <td>0.0</td>\n      <td>0.0</td>\n      <td>0.0</td>\n      <td>10028.44</td>\n      <td>0</td>\n      <td>0</td>\n      <td>0</td>\n      <td>0</td>\n      <td>0</td>\n    </tr>\n    <tr>\n      <th>216</th>\n      <td>Williams Field High School</td>\n      <td>10</td>\n      <td>52</td>\n      <td>0</td>\n      <td>0</td>\n      <td>1</td>\n      <td>1</td>\n      <td>5</td>\n      <td>0</td>\n      <td>2115</td>\n      <td>...</td>\n      <td>447.0</td>\n      <td>724.0</td>\n      <td>6.0</td>\n      <td>0.0</td>\n      <td>8210.26</td>\n      <td>0</td>\n      <td>0</td>\n      <td>0</td>\n      <td>0</td>\n      <td>0</td>\n    </tr>\n    <tr>\n      <th>217</th>\n      <td>Willis Junior High School</td>\n      <td>3</td>\n      <td>48</td>\n      <td>0</td>\n      <td>0</td>\n      <td>1</td>\n      <td>0</td>\n      <td>4</td>\n      <td>1</td>\n      <td>858</td>\n      <td>...</td>\n      <td>0.0</td>\n      <td>478.0</td>\n      <td>27.0</td>\n      <td>0.0</td>\n      <td>8783.20</td>\n      <td>1</td>\n      <td>1</td>\n      <td>1</td>\n      <td>1</td>\n      <td>1</td>\n    </tr>\n    <tr>\n      <th>218</th>\n      <td>Willow Canyon High School</td>\n      <td>17</td>\n      <td>90</td>\n      <td>0</td>\n      <td>0</td>\n      <td>1</td>\n      <td>1</td>\n      <td>5</td>\n      <td>0</td>\n      <td>1787</td>\n      <td>...</td>\n      <td>459.0</td>\n      <td>625.0</td>\n      <td>64.0</td>\n      <td>0.0</td>\n      <td>10105.66</td>\n      <td>1</td>\n      <td>1</td>\n      <td>1</td>\n      <td>1</td>\n      <td>1</td>\n    </tr>\n    <tr>\n      <th>219</th>\n      <td>Youngker High School</td>\n      <td>2</td>\n      <td>82</td>\n      <td>0</td>\n      <td>0</td>\n      <td>0</td>\n      <td>1</td>\n      <td>5</td>\n      <td>1</td>\n      <td>2107</td>\n      <td>...</td>\n      <td>139.0</td>\n      <td>641.0</td>\n      <td>46.0</td>\n      <td>8.0</td>\n      <td>5108.35</td>\n      <td>1</td>\n      <td>1</td>\n      <td>1</td>\n      <td>1</td>\n      <td>1</td>\n    </tr>\n  </tbody>\n</table>\n<p>220 rows × 39 columns</p>\n</div>"
     },
     "execution_count": 395,
     "metadata": {},
     "output_type": "execute_result"
    }
   ],
   "source": [
    "school_output_data = school_data.copy(deep=True)\n",
    "school_output_data"
   ],
   "metadata": {
    "collapsed": false,
    "ExecuteTime": {
     "end_time": "2024-05-01T05:15:35.098043Z",
     "start_time": "2024-05-01T05:15:35.076443Z"
    }
   },
   "id": "b294fc235592df8b"
  },
  {
   "cell_type": "code",
   "execution_count": 396,
   "outputs": [],
   "source": [
    "scaler = StandardScaler()  \n",
    "\n",
    "school_data = pd.DataFrame(scaler.fit_transform(school_data.iloc[:,1:]))\n"
   ],
   "metadata": {
    "collapsed": false,
    "ExecuteTime": {
     "end_time": "2024-05-01T05:15:35.759323Z",
     "start_time": "2024-05-01T05:15:35.742414Z"
    }
   },
   "id": "2b0a58463e03a526"
  },
  {
   "cell_type": "code",
   "execution_count": 397,
   "outputs": [],
   "source": [
    "user_input = int(input(\"Do you have a school in mind or do you want to describe your ideal school \\n 0 = Describe school\\n 1 = Enter school name \"))"
   ],
   "metadata": {
    "collapsed": false,
    "ExecuteTime": {
     "end_time": "2024-05-01T05:15:37.516930Z",
     "start_time": "2024-05-01T05:15:36.568536Z"
    }
   },
   "id": "695c78f1474959ff"
  },
  {
   "cell_type": "code",
   "execution_count": 398,
   "outputs": [],
   "source": [
    "if user_input == 1:\n",
    "    school_name = input(\"Enter the full name of the school\")\n",
    "    if len(school_raw_data[\"School_name\"][school_raw_data[\"School_name\"].str.lower().isin([school_name.lower()])]) > 0:\n",
    "        row_index_to_drop = school_raw_data[\"School_name\"][school_raw_data[\"School_name\"].str.lower().isin([school_name.lower()])].index\n",
    "\n",
    "        testSet[0] = school_data.iloc[row_index_to_drop]\n",
    "        \n",
    "        school_data.drop(row_index_to_drop,inplace=True)\n",
    "        school_output_data.drop(row_index_to_drop,inplace=True)\n",
    "        \n",
    "            \n",
    "else:\n",
    "    city_or_zipcode_selecter = int(input(\"Do you want to specify the city or zipcode \\n 0 = City \\n 1 = Zipcode\"))\n",
    "    \n",
    "    if city_or_zipcode_selecter ==0:\n",
    "        testSet[0].append(city_number_converter.transform([input(\"Enter the city you want the school\")])[0])\n",
    "        school_data.drop(columns=['zipcode'],inplace=True, axis=1) \n",
    "    else:\n",
    "        testSet[0].append(zipcode_number_converter.transform([input(\"Enter the zipcode you want the school\")])[0])\n",
    "        school_data.drop(columns=['city'],inplace=True, axis=1) \n",
    "        \n",
    "    testSet[0].append(input(\"Should the school have elementary level classes: \\n 0 = No  \\n 1 = Yes\"))\n",
    "    \n",
    "    testSet[0].append(input(\"Should the school have intermediate level classes: \\n 0 = No  \\n 1 = Yes\"))\n",
    "    \n",
    "    testSet[0].append(input(\"Should the school have middle level classes: \\n 0 = No  \\n 1 = Yes\"))\n",
    "    \n",
    "    testSet[0].append(input(\"Should the school have high level classes: \\n 0 = No  \\n 1 = Yes\"))\n",
    "    \n",
    "    testSet[0].append(input(\"Enter school grade constraints: [1-5]\\n 1 being least and 5 being highest\"))\n",
    "    \n",
    "    testSet[0].append(input(\"Should the school have Title I: \\n 0 = No  \\n 1 = Yes\"))\n",
    "    \n",
    "    testSet[0].append( range_exporter(input(\"Enter the minimum number of students you want in the school: \\n 0 = Less than 1000 \\n 1 = Greater than 1000\"),'total_students')) \n",
    "\n",
    "    # if int(input(\"Do you want to specify any race contraints? \\n 0 = No  \\n 1 = Yes\")) ==1:\n",
    "    race = int(input(\"Enter your race constraint \\n 0 = African American \\n 1 =  Hispanic \\n 2 = Native  American\\n 3 = White\\n 4 = Multiple Race \\n 5 = Asian\\n 6 = Pacific Islander \"))\n",
    "    \n",
    "    race_columns_to_drop = school_raw_data.columns[10:24].to_list()\n",
    "    \n",
    "    if school_raw_data.columns[(race*2) +11 -1] in race_columns_to_drop:\n",
    "        race_columns_to_drop.remove(school_raw_data.columns[(race*2) +11 -1])\n",
    "        \n",
    "    school_data.drop(columns=race_columns_to_drop,inplace=True, axis=1)\n",
    "    \n",
    "    testSet[0].append(range_exporter(input(\"Enter the percentage of the race: \\n0 = Low \\n 1 = Medium \\n 2 = High\"),school_raw_data.columns[(race*2) +11 -1])) \n",
    "    \n",
    "    testSet[0].append(range_exporter(input(\"Enter the proficiency points constraints: \\n0 = Low \\n 1 = Medium \\n 2 = High\"),'proficiency_pts')) \n",
    "    \n",
    "    testSet[0].append(input(\"Enter the graduation rate constraints: [0-10]\\n 0 being least and 10 being highest\"))\n",
    "    \n",
    "    testSet[0].append(range_exporter(input(\"Enter the minimum dropout rate level: \\n0 = Low \\n 1 = Medium \\n 2 = High\"),'Dropout_rate')) \n",
    "    \n",
    "    testSet[0].append(range_exporter(input(\"Enter the CCRI points level:  \\n0 = Low \\n 1 = Medium \\n 2 = High\"),'CCRI_points')) \n",
    "    \n",
    "    testSet[0].append(range_exporter(input(\"Enter the promotion rate level: \\n0 = Low \\n 1 = Medium \\n 2 = High\"),'promotion_rate')) \n",
    "    \n",
    "    testSet[0].append(range_exporter(input(\"Advanced placement courses support level:\\n0 = Low \\n 1 = Medium \\n 2 = High\"),'No_of_students_adv_placement_course')) \n",
    "    \n",
    "    testSet[0].append(range_exporter(input(\"Chronic absenteeism level:\\n0 = Low \\n 1 = Medium \\n 2 = High\"),'Students_with_Chronic_Absenteeism')) \n",
    "    \n",
    "    testSet[0].append(range_exporter(input(\"Crime rate level:\\n0 = Low \\n 1 = Medium \\n 2 = High\"),'crime_rate')) \n",
    "    \n",
    "    testSet[0].append(range_exporter(input(\"Bullying level:\\n0 = Low \\n 1 = Medium \\n 2 = High\"),'total_students_bullied')) \n",
    "    \n",
    "    testSet[0].append(range_exporter(input(\"Total per pupil expenditure level:\\n0 = Low \\n 1 = Medium \\n 2 = High\"),'total_per_pupil_expenditure')) \n",
    "    \n",
    "    testSet[0].append(input(\"Should the school protect excessive distractions labeled as Social Emotional Learning: \\n 0 = No  \\n 1 = Yes\"))\n",
    "    testSet[0].append(input(\"Should the school/district appropriately respect all students as individuals:  \\n 0 = No  \\n 1 = Yes\"))\n",
    "    testSet[0].append(input(\"Should the school/district fully support teacher discipline recommendations:  \\n 0 = No  \\n 1 = Yes\"))\n",
    "    testSet[0].append(input(\"Should the school teach sexual content that is developmentally appropriate:  \\n 0 = No  \\n 1 = Yes\"))\n",
    "    testSet[0].append(input(\"Should the curriculum at school not expose students to explicit or graphic content that is developmentally inappropriate:  \\n 0 = No  \\n 1 = Yes\"))\n",
    "    \n",
    "\n"
   ],
   "metadata": {
    "collapsed": false,
    "ExecuteTime": {
     "end_time": "2024-05-01T05:15:40.267263Z",
     "start_time": "2024-05-01T05:15:38.465668Z"
    }
   },
   "id": "2a098c7933b9f5b7"
  },
  {
   "cell_type": "code",
   "execution_count": 399,
   "outputs": [
    {
     "data": {
      "text/plain": "         0        1         2         3         4        5         6    7   \\\n0  0.076492 -0.31418 -0.404995 -0.434959 -1.056118  0.39736 -0.228783  1.0   \n\n         8         9   ...        28        29        30        31        32  \\\n0 -0.942318 -0.727017  ... -0.561159 -0.821152 -0.798902 -0.373474 -0.103561   \n\n         33        34        35        36        37  \n0  1.095445  1.095445  1.095445  1.136515  1.095445  \n\n[1 rows x 38 columns]",
      "text/html": "<div>\n<style scoped>\n    .dataframe tbody tr th:only-of-type {\n        vertical-align: middle;\n    }\n\n    .dataframe tbody tr th {\n        vertical-align: top;\n    }\n\n    .dataframe thead th {\n        text-align: right;\n    }\n</style>\n<table border=\"1\" class=\"dataframe\">\n  <thead>\n    <tr style=\"text-align: right;\">\n      <th></th>\n      <th>0</th>\n      <th>1</th>\n      <th>2</th>\n      <th>3</th>\n      <th>4</th>\n      <th>5</th>\n      <th>6</th>\n      <th>7</th>\n      <th>8</th>\n      <th>9</th>\n      <th>...</th>\n      <th>28</th>\n      <th>29</th>\n      <th>30</th>\n      <th>31</th>\n      <th>32</th>\n      <th>33</th>\n      <th>34</th>\n      <th>35</th>\n      <th>36</th>\n      <th>37</th>\n    </tr>\n  </thead>\n  <tbody>\n    <tr>\n      <th>0</th>\n      <td>0.076492</td>\n      <td>-0.31418</td>\n      <td>-0.404995</td>\n      <td>-0.434959</td>\n      <td>-1.056118</td>\n      <td>0.39736</td>\n      <td>-0.228783</td>\n      <td>1.0</td>\n      <td>-0.942318</td>\n      <td>-0.727017</td>\n      <td>...</td>\n      <td>-0.561159</td>\n      <td>-0.821152</td>\n      <td>-0.798902</td>\n      <td>-0.373474</td>\n      <td>-0.103561</td>\n      <td>1.095445</td>\n      <td>1.095445</td>\n      <td>1.095445</td>\n      <td>1.136515</td>\n      <td>1.095445</td>\n    </tr>\n  </tbody>\n</table>\n<p>1 rows × 38 columns</p>\n</div>"
     },
     "execution_count": 399,
     "metadata": {},
     "output_type": "execute_result"
    }
   ],
   "source": [
    "testSet[0] "
   ],
   "metadata": {
    "collapsed": false,
    "ExecuteTime": {
     "end_time": "2024-05-01T05:15:41.131104Z",
     "start_time": "2024-05-01T05:15:41.116683Z"
    }
   },
   "id": "360751e05e2b79c2"
  },
  {
   "cell_type": "code",
   "execution_count": 400,
   "outputs": [
    {
     "data": {
      "text/plain": "(219, 38)"
     },
     "execution_count": 400,
     "metadata": {},
     "output_type": "execute_result"
    }
   ],
   "source": [
    "test = pd.DataFrame(testSet[0])\n",
    "test.astype(int)\n",
    "school_output_data.shape"
   ],
   "metadata": {
    "collapsed": false,
    "ExecuteTime": {
     "end_time": "2024-05-01T05:15:41.515475Z",
     "start_time": "2024-05-01T05:15:41.496060Z"
    }
   },
   "id": "8edf674c8d671077"
  },
  {
   "cell_type": "code",
   "execution_count": 402,
   "outputs": [
    {
     "data": {
      "text/plain": "(219, 39)"
     },
     "execution_count": 402,
     "metadata": {},
     "output_type": "execute_result"
    }
   ],
   "source": [
    "school_output_data.shape"
   ],
   "metadata": {
    "collapsed": false,
    "ExecuteTime": {
     "end_time": "2024-05-01T05:16:13.146445Z",
     "start_time": "2024-05-01T05:16:13.127909Z"
    }
   },
   "id": "f8912863b738514"
  },
  {
   "cell_type": "code",
   "execution_count": 404,
   "outputs": [
    {
     "data": {
      "text/plain": "                        School_name      city  zipcode  elementary_school  \\\n18         Bogle Junior High School  Chandler    85248                  0   \n34        Copper Canyon High School  Glendale    85305                  0   \n208          Washington High School   Phoenix    85021                  0   \n39   Country Gardens Charter School    Laveen    85339                  1   \n46   Desert Foothills Middle School   Phoenix    85053                  0   \n\n     intermediate_school  middle_school  high_school  school_grade  \\\n18                     0              1            0             5   \n34                     0              0            1             4   \n208                    0              0            1             4   \n39                     1              1            1             4   \n46                     0              1            0             4   \n\n     title_i_status  total_students  ...  personnel_federal_expenditure  \\\n18                0            1141  ...                         170.05   \n34                1            2157  ...                         843.59   \n208               1            1758  ...                         895.71   \n39                1             322  ...                           0.00   \n46                1             632  ...                        1281.61   \n\n     personnel_state_and_local_expenditure  non_personnel_federal_expenditure  \\\n18                                 7350.83                             111.26   \n34                                 8110.62                             127.45   \n208                                7484.26                             235.98   \n39                                10009.70                               0.00   \n46                                 7263.07                             854.19   \n\n     non_personnel_state_and_local_expenditure  total_per_pupil_expenditure  \\\n18                                      370.30                      8002.45   \n34                                      884.25                      9965.91   \n208                                    1163.17                      9779.12   \n39                                     1006.65                     10028.44   \n46                                      984.98                     10383.86   \n\n     acad_focus_1  acad_focus_2  acad_focus_3  acad_focus_4  acad_focus_5  \n18              1             1             1             1             1  \n34              0             0             0             0             0  \n208             0             0             0             0             0  \n39              1             1             1             1             1  \n46              1             1             1             0             1  \n\n[5 rows x 43 columns]",
      "text/html": "<div>\n<style scoped>\n    .dataframe tbody tr th:only-of-type {\n        vertical-align: middle;\n    }\n\n    .dataframe tbody tr th {\n        vertical-align: top;\n    }\n\n    .dataframe thead th {\n        text-align: right;\n    }\n</style>\n<table border=\"1\" class=\"dataframe\">\n  <thead>\n    <tr style=\"text-align: right;\">\n      <th></th>\n      <th>School_name</th>\n      <th>city</th>\n      <th>zipcode</th>\n      <th>elementary_school</th>\n      <th>intermediate_school</th>\n      <th>middle_school</th>\n      <th>high_school</th>\n      <th>school_grade</th>\n      <th>title_i_status</th>\n      <th>total_students</th>\n      <th>...</th>\n      <th>personnel_federal_expenditure</th>\n      <th>personnel_state_and_local_expenditure</th>\n      <th>non_personnel_federal_expenditure</th>\n      <th>non_personnel_state_and_local_expenditure</th>\n      <th>total_per_pupil_expenditure</th>\n      <th>acad_focus_1</th>\n      <th>acad_focus_2</th>\n      <th>acad_focus_3</th>\n      <th>acad_focus_4</th>\n      <th>acad_focus_5</th>\n    </tr>\n  </thead>\n  <tbody>\n    <tr>\n      <th>18</th>\n      <td>Bogle Junior High School</td>\n      <td>Chandler</td>\n      <td>85248</td>\n      <td>0</td>\n      <td>0</td>\n      <td>1</td>\n      <td>0</td>\n      <td>5</td>\n      <td>0</td>\n      <td>1141</td>\n      <td>...</td>\n      <td>170.05</td>\n      <td>7350.83</td>\n      <td>111.26</td>\n      <td>370.30</td>\n      <td>8002.45</td>\n      <td>1</td>\n      <td>1</td>\n      <td>1</td>\n      <td>1</td>\n      <td>1</td>\n    </tr>\n    <tr>\n      <th>34</th>\n      <td>Copper Canyon High School</td>\n      <td>Glendale</td>\n      <td>85305</td>\n      <td>0</td>\n      <td>0</td>\n      <td>0</td>\n      <td>1</td>\n      <td>4</td>\n      <td>1</td>\n      <td>2157</td>\n      <td>...</td>\n      <td>843.59</td>\n      <td>8110.62</td>\n      <td>127.45</td>\n      <td>884.25</td>\n      <td>9965.91</td>\n      <td>0</td>\n      <td>0</td>\n      <td>0</td>\n      <td>0</td>\n      <td>0</td>\n    </tr>\n    <tr>\n      <th>208</th>\n      <td>Washington High School</td>\n      <td>Phoenix</td>\n      <td>85021</td>\n      <td>0</td>\n      <td>0</td>\n      <td>0</td>\n      <td>1</td>\n      <td>4</td>\n      <td>1</td>\n      <td>1758</td>\n      <td>...</td>\n      <td>895.71</td>\n      <td>7484.26</td>\n      <td>235.98</td>\n      <td>1163.17</td>\n      <td>9779.12</td>\n      <td>0</td>\n      <td>0</td>\n      <td>0</td>\n      <td>0</td>\n      <td>0</td>\n    </tr>\n    <tr>\n      <th>39</th>\n      <td>Country Gardens Charter School</td>\n      <td>Laveen</td>\n      <td>85339</td>\n      <td>1</td>\n      <td>1</td>\n      <td>1</td>\n      <td>1</td>\n      <td>4</td>\n      <td>1</td>\n      <td>322</td>\n      <td>...</td>\n      <td>0.00</td>\n      <td>10009.70</td>\n      <td>0.00</td>\n      <td>1006.65</td>\n      <td>10028.44</td>\n      <td>1</td>\n      <td>1</td>\n      <td>1</td>\n      <td>1</td>\n      <td>1</td>\n    </tr>\n    <tr>\n      <th>46</th>\n      <td>Desert Foothills Middle School</td>\n      <td>Phoenix</td>\n      <td>85053</td>\n      <td>0</td>\n      <td>0</td>\n      <td>1</td>\n      <td>0</td>\n      <td>4</td>\n      <td>1</td>\n      <td>632</td>\n      <td>...</td>\n      <td>1281.61</td>\n      <td>7263.07</td>\n      <td>854.19</td>\n      <td>984.98</td>\n      <td>10383.86</td>\n      <td>1</td>\n      <td>1</td>\n      <td>1</td>\n      <td>0</td>\n      <td>1</td>\n    </tr>\n  </tbody>\n</table>\n<p>5 rows × 43 columns</p>\n</div>"
     },
     "execution_count": 404,
     "metadata": {},
     "output_type": "execute_result"
    }
   ],
   "source": [
    "# Fit the model\n",
    "neigh = KNeighborsClassifier(n_neighbors=5)\n",
    "neigh.fit(school_data, school_output_data['School_name'])\n",
    "\n",
    "# Get distances and indices of 5 nearest neighbors\n",
    "distances, indices = neigh.kneighbors(test)\n",
    "\n",
    "# Print the names of the 5 nearest schools\n",
    "output_index = []\n",
    "for i in range(5):\n",
    "    output_index.append(indices[0][i])\n",
    "    \n",
    "school_raw_data.loc[output_index]\n",
    "\n"
   ],
   "metadata": {
    "collapsed": false,
    "ExecuteTime": {
     "end_time": "2024-05-01T05:17:02.428508Z",
     "start_time": "2024-05-01T05:17:02.396906Z"
    }
   },
   "id": "a29e42d4e1c7e44f"
  },
  {
   "cell_type": "code",
   "execution_count": 403,
   "outputs": [
    {
     "data": {
      "text/plain": "                                      School_name      city  zipcode  \\\n136                     Ombudsman - Charter Metro   Phoenix    85051   \n34                      Copper Canyon High School  Glendale    85305   \n55                            East Valley Academy      Mesa    85201   \n54                  Eagleridge Enrichment Program      Mesa    85210   \n100  International Commerce High School - Phoenix   Phoenix    85014   \n\n     elementary_school  intermediate_school  middle_school  high_school  \\\n136                  0                    0              0            1   \n34                   0                    0              0            1   \n55                   0                    0              0            1   \n54                   1                    1              1            1   \n100                  0                    0              0            1   \n\n     school_grade  title_i_status  total_students  ...  \\\n136             4               0             232  ...   \n34              4               1            2157  ...   \n55              3               0             307  ...   \n54              2               0             645  ...   \n100             5               0             200  ...   \n\n     personnel_federal_expenditure  personnel_state_and_local_expenditure  \\\n136                         584.14                                2557.36   \n34                          843.59                                8110.62   \n55                            0.00                               10009.70   \n54                            0.00                               10009.70   \n100                         424.07                                8353.64   \n\n     non_personnel_federal_expenditure  \\\n136                             168.68   \n34                              127.45   \n55                                0.00   \n54                                0.00   \n100                              21.21   \n\n     non_personnel_state_and_local_expenditure  total_per_pupil_expenditure  \\\n136                                    2418.85                      5729.03   \n34                                      884.25                      9965.91   \n55                                     1006.65                     10028.44   \n54                                     1006.65                     10028.44   \n100                                    4783.81                     13582.73   \n\n     acad_focus_1  acad_focus_2  acad_focus_3  acad_focus_4  acad_focus_5  \n136             0             0             0             0             0  \n34              0             0             0             0             0  \n55              1             1             1             1             1  \n54              0             0             0             0             0  \n100             1             1             1             1             1  \n\n[5 rows x 43 columns]",
      "text/html": "<div>\n<style scoped>\n    .dataframe tbody tr th:only-of-type {\n        vertical-align: middle;\n    }\n\n    .dataframe tbody tr th {\n        vertical-align: top;\n    }\n\n    .dataframe thead th {\n        text-align: right;\n    }\n</style>\n<table border=\"1\" class=\"dataframe\">\n  <thead>\n    <tr style=\"text-align: right;\">\n      <th></th>\n      <th>School_name</th>\n      <th>city</th>\n      <th>zipcode</th>\n      <th>elementary_school</th>\n      <th>intermediate_school</th>\n      <th>middle_school</th>\n      <th>high_school</th>\n      <th>school_grade</th>\n      <th>title_i_status</th>\n      <th>total_students</th>\n      <th>...</th>\n      <th>personnel_federal_expenditure</th>\n      <th>personnel_state_and_local_expenditure</th>\n      <th>non_personnel_federal_expenditure</th>\n      <th>non_personnel_state_and_local_expenditure</th>\n      <th>total_per_pupil_expenditure</th>\n      <th>acad_focus_1</th>\n      <th>acad_focus_2</th>\n      <th>acad_focus_3</th>\n      <th>acad_focus_4</th>\n      <th>acad_focus_5</th>\n    </tr>\n  </thead>\n  <tbody>\n    <tr>\n      <th>136</th>\n      <td>Ombudsman - Charter Metro</td>\n      <td>Phoenix</td>\n      <td>85051</td>\n      <td>0</td>\n      <td>0</td>\n      <td>0</td>\n      <td>1</td>\n      <td>4</td>\n      <td>0</td>\n      <td>232</td>\n      <td>...</td>\n      <td>584.14</td>\n      <td>2557.36</td>\n      <td>168.68</td>\n      <td>2418.85</td>\n      <td>5729.03</td>\n      <td>0</td>\n      <td>0</td>\n      <td>0</td>\n      <td>0</td>\n      <td>0</td>\n    </tr>\n    <tr>\n      <th>34</th>\n      <td>Copper Canyon High School</td>\n      <td>Glendale</td>\n      <td>85305</td>\n      <td>0</td>\n      <td>0</td>\n      <td>0</td>\n      <td>1</td>\n      <td>4</td>\n      <td>1</td>\n      <td>2157</td>\n      <td>...</td>\n      <td>843.59</td>\n      <td>8110.62</td>\n      <td>127.45</td>\n      <td>884.25</td>\n      <td>9965.91</td>\n      <td>0</td>\n      <td>0</td>\n      <td>0</td>\n      <td>0</td>\n      <td>0</td>\n    </tr>\n    <tr>\n      <th>55</th>\n      <td>East Valley Academy</td>\n      <td>Mesa</td>\n      <td>85201</td>\n      <td>0</td>\n      <td>0</td>\n      <td>0</td>\n      <td>1</td>\n      <td>3</td>\n      <td>0</td>\n      <td>307</td>\n      <td>...</td>\n      <td>0.00</td>\n      <td>10009.70</td>\n      <td>0.00</td>\n      <td>1006.65</td>\n      <td>10028.44</td>\n      <td>1</td>\n      <td>1</td>\n      <td>1</td>\n      <td>1</td>\n      <td>1</td>\n    </tr>\n    <tr>\n      <th>54</th>\n      <td>Eagleridge Enrichment Program</td>\n      <td>Mesa</td>\n      <td>85210</td>\n      <td>1</td>\n      <td>1</td>\n      <td>1</td>\n      <td>1</td>\n      <td>2</td>\n      <td>0</td>\n      <td>645</td>\n      <td>...</td>\n      <td>0.00</td>\n      <td>10009.70</td>\n      <td>0.00</td>\n      <td>1006.65</td>\n      <td>10028.44</td>\n      <td>0</td>\n      <td>0</td>\n      <td>0</td>\n      <td>0</td>\n      <td>0</td>\n    </tr>\n    <tr>\n      <th>100</th>\n      <td>International Commerce High School - Phoenix</td>\n      <td>Phoenix</td>\n      <td>85014</td>\n      <td>0</td>\n      <td>0</td>\n      <td>0</td>\n      <td>1</td>\n      <td>5</td>\n      <td>0</td>\n      <td>200</td>\n      <td>...</td>\n      <td>424.07</td>\n      <td>8353.64</td>\n      <td>21.21</td>\n      <td>4783.81</td>\n      <td>13582.73</td>\n      <td>1</td>\n      <td>1</td>\n      <td>1</td>\n      <td>1</td>\n      <td>1</td>\n    </tr>\n  </tbody>\n</table>\n<p>5 rows × 43 columns</p>\n</div>"
     },
     "execution_count": 403,
     "metadata": {},
     "output_type": "execute_result"
    }
   ],
   "source": [
    "\n",
    "\n",
    "# Fit the model\n",
    "rf = RandomForestClassifier(n_estimators=5)\n",
    "rf.fit(school_data, school_output_data['School_name'])\n",
    "\n",
    "# Get a prediction from each tree in the forest\n",
    "predictions = [tree.predict(test) for tree in rf.estimators_]\n",
    "\n",
    "\n",
    "# Print the predictions\n",
    "output_index = []\n",
    "for prediction in predictions:\n",
    "    output_index.append(int(prediction[0]))\n",
    "\n",
    "school_raw_data.loc[output_index]"
   ],
   "metadata": {
    "collapsed": false,
    "ExecuteTime": {
     "end_time": "2024-05-01T05:16:48.700889Z",
     "start_time": "2024-05-01T05:16:48.642196Z"
    }
   },
   "id": "c309139ec75f6392"
  },
  {
   "cell_type": "code",
   "execution_count": 405,
   "outputs": [
    {
     "data": {
      "text/plain": "                    School_name        city  zipcode  elementary_school  \\\n13      Arizona Virtual Academy     Phoenix    85004                  1   \n23   Cactus Shadows High School  Scottsdale    85266                  0   \n84         Hamilton High School    Chandler    85248                  0   \n156          Primavera - Online    Chandler    85225                  1   \n213        Westwood High School        Mesa    85201                  0   \n\n     intermediate_school  middle_school  high_school  school_grade  \\\n13                     1              1            1             3   \n23                     0              1            1             5   \n84                     0              1            1             5   \n156                    1              1            1             2   \n213                    0              0            1             3   \n\n     title_i_status  total_students  ...  personnel_federal_expenditure  \\\n13                1            5110  ...                         522.32   \n23                0            1587  ...                        9636.75   \n84                0            3828  ...                         238.96   \n156               0            6381  ...                           0.00   \n213               0            3571  ...                           0.00   \n\n     personnel_state_and_local_expenditure  non_personnel_federal_expenditure  \\\n13                                 3068.80                            1438.37   \n23                               122302.14                            4217.27   \n84                                 6331.79                              73.59   \n156                               10009.70                               0.00   \n213                               10009.70                               0.00   \n\n     non_personnel_state_and_local_expenditure  total_per_pupil_expenditure  \\\n13                                     9825.53                     14855.02   \n23                                    21696.21                    157852.38   \n84                                      749.36                      7393.70   \n156                                    1006.65                     10028.44   \n213                                    1006.65                     10028.44   \n\n     acad_focus_1  acad_focus_2  acad_focus_3  acad_focus_4  acad_focus_5  \n13              1             1             1             1             1  \n23              0             0             0             0             0  \n84              0             0             0             0             0  \n156             0             0             0             0             0  \n213             1             1             1             1             1  \n\n[5 rows x 43 columns]",
      "text/html": "<div>\n<style scoped>\n    .dataframe tbody tr th:only-of-type {\n        vertical-align: middle;\n    }\n\n    .dataframe tbody tr th {\n        vertical-align: top;\n    }\n\n    .dataframe thead th {\n        text-align: right;\n    }\n</style>\n<table border=\"1\" class=\"dataframe\">\n  <thead>\n    <tr style=\"text-align: right;\">\n      <th></th>\n      <th>School_name</th>\n      <th>city</th>\n      <th>zipcode</th>\n      <th>elementary_school</th>\n      <th>intermediate_school</th>\n      <th>middle_school</th>\n      <th>high_school</th>\n      <th>school_grade</th>\n      <th>title_i_status</th>\n      <th>total_students</th>\n      <th>...</th>\n      <th>personnel_federal_expenditure</th>\n      <th>personnel_state_and_local_expenditure</th>\n      <th>non_personnel_federal_expenditure</th>\n      <th>non_personnel_state_and_local_expenditure</th>\n      <th>total_per_pupil_expenditure</th>\n      <th>acad_focus_1</th>\n      <th>acad_focus_2</th>\n      <th>acad_focus_3</th>\n      <th>acad_focus_4</th>\n      <th>acad_focus_5</th>\n    </tr>\n  </thead>\n  <tbody>\n    <tr>\n      <th>13</th>\n      <td>Arizona Virtual Academy</td>\n      <td>Phoenix</td>\n      <td>85004</td>\n      <td>1</td>\n      <td>1</td>\n      <td>1</td>\n      <td>1</td>\n      <td>3</td>\n      <td>1</td>\n      <td>5110</td>\n      <td>...</td>\n      <td>522.32</td>\n      <td>3068.80</td>\n      <td>1438.37</td>\n      <td>9825.53</td>\n      <td>14855.02</td>\n      <td>1</td>\n      <td>1</td>\n      <td>1</td>\n      <td>1</td>\n      <td>1</td>\n    </tr>\n    <tr>\n      <th>23</th>\n      <td>Cactus Shadows High School</td>\n      <td>Scottsdale</td>\n      <td>85266</td>\n      <td>0</td>\n      <td>0</td>\n      <td>1</td>\n      <td>1</td>\n      <td>5</td>\n      <td>0</td>\n      <td>1587</td>\n      <td>...</td>\n      <td>9636.75</td>\n      <td>122302.14</td>\n      <td>4217.27</td>\n      <td>21696.21</td>\n      <td>157852.38</td>\n      <td>0</td>\n      <td>0</td>\n      <td>0</td>\n      <td>0</td>\n      <td>0</td>\n    </tr>\n    <tr>\n      <th>84</th>\n      <td>Hamilton High School</td>\n      <td>Chandler</td>\n      <td>85248</td>\n      <td>0</td>\n      <td>0</td>\n      <td>1</td>\n      <td>1</td>\n      <td>5</td>\n      <td>0</td>\n      <td>3828</td>\n      <td>...</td>\n      <td>238.96</td>\n      <td>6331.79</td>\n      <td>73.59</td>\n      <td>749.36</td>\n      <td>7393.70</td>\n      <td>0</td>\n      <td>0</td>\n      <td>0</td>\n      <td>0</td>\n      <td>0</td>\n    </tr>\n    <tr>\n      <th>156</th>\n      <td>Primavera - Online</td>\n      <td>Chandler</td>\n      <td>85225</td>\n      <td>1</td>\n      <td>1</td>\n      <td>1</td>\n      <td>1</td>\n      <td>2</td>\n      <td>0</td>\n      <td>6381</td>\n      <td>...</td>\n      <td>0.00</td>\n      <td>10009.70</td>\n      <td>0.00</td>\n      <td>1006.65</td>\n      <td>10028.44</td>\n      <td>0</td>\n      <td>0</td>\n      <td>0</td>\n      <td>0</td>\n      <td>0</td>\n    </tr>\n    <tr>\n      <th>213</th>\n      <td>Westwood High School</td>\n      <td>Mesa</td>\n      <td>85201</td>\n      <td>0</td>\n      <td>0</td>\n      <td>0</td>\n      <td>1</td>\n      <td>3</td>\n      <td>0</td>\n      <td>3571</td>\n      <td>...</td>\n      <td>0.00</td>\n      <td>10009.70</td>\n      <td>0.00</td>\n      <td>1006.65</td>\n      <td>10028.44</td>\n      <td>1</td>\n      <td>1</td>\n      <td>1</td>\n      <td>1</td>\n      <td>1</td>\n    </tr>\n  </tbody>\n</table>\n<p>5 rows × 43 columns</p>\n</div>"
     },
     "execution_count": 405,
     "metadata": {},
     "output_type": "execute_result"
    }
   ],
   "source": [
    "\n",
    "\n",
    "# Fit the model with probability=True\n",
    "svc = SVC(probability=True)\n",
    "svc.fit(school_data, school_output_data['School_name'])\n",
    "\n",
    "# Get class probabilities\n",
    "probabilities = svc.predict_proba(test)\n",
    "\n",
    "# Get the top 5 class indices\n",
    "top5_indices = np.argsort(probabilities, axis=1)[:,-5:]\n",
    "\n",
    "# Get the class labels\n",
    "classes = svc.classes_\n",
    "\n",
    "# Get the top 5 class labels\n",
    "top5_classes = classes[top5_indices]\n",
    "\n",
    "school_raw_data[school_raw_data['School_name'].isin(top5_classes[0])]"
   ],
   "metadata": {
    "collapsed": false,
    "ExecuteTime": {
     "end_time": "2024-05-01T05:17:33.479447Z",
     "start_time": "2024-05-01T05:17:33.076016Z"
    }
   },
   "id": "8d2060d13ac91c4d"
  },
  {
   "cell_type": "code",
   "execution_count": 412,
   "outputs": [],
   "source": [
    "school_additional_raw_data = pd.read_csv(\"../511_project_with_extra_cols.csv\")"
   ],
   "metadata": {
    "collapsed": false,
    "ExecuteTime": {
     "end_time": "2024-05-01T05:20:46.573434Z",
     "start_time": "2024-05-01T05:20:46.546079Z"
    }
   },
   "id": "8e0ddd348093bfeb"
  },
  {
   "cell_type": "code",
   "execution_count": 413,
   "outputs": [
    {
     "data": {
      "text/plain": "                      School_name      city   zipcode  elementary_school  \\\n0  Academy with Community Partners      Mesa    85203                  0   \n1      Accelerated Learning Center   Phoenix    85028                  0   \n2            Agua Fria High School  Avondale    85323                  0   \n3             Alhambra High School   Phoenix    85019                  0   \n4               Apollo High School  Glendale    85302                  0   \n5              Arcadia High School   Phoenix    85018                  0   \n\n   intermediate_school  middle_school  high_school  school_grade  \\\n0                    0              0            1             4   \n1                    0              0            1             5   \n2                    0              0            1             4   \n3                    0              0            1             3   \n4                    0              0            1             4   \n5                    0              0            1             5   \n\n   title_i_status  total_students  ...  \\\n0               1             169  ...   \n1               0             153  ...   \n2               1            1653  ...   \n3               1            2283  ...   \n4               1            2198  ...   \n5               0            1603  ...   \n\n                                   sports_facilities  \\\n0  ['Basketball', 'Others', 'chevron_right', 'Fla...   \n1                              ['No data available']   \n2  ['Badminton', 'Baseball', 'Basketball', 'Cross...   \n3  ['Badminton', 'Baseball', 'Basketball', 'Cross...   \n4  ['Badminton', 'Baseball', 'Basketball', 'Cross...   \n5                              ['No data available']   \n\n                                    music_facilities  \\\n0                                            ['Art']   \n1                             ['Art', 'Photography']   \n2  ['Art', 'Band', 'Ceramics/Sculpting', 'Choir',...   \n3  ['Art', 'Band', 'Ceramics/Sculpting', 'Choir',...   \n4  ['Art', 'Band', 'Ceramics/Sculpting', 'Choir',...   \n5                              ['No data available']   \n\n                          after_school_opportunities  \\\n0  ['Athletic', 'chevron_right', 'Basketball', 'c...   \n1                              ['No data available']   \n2  ['Academic', 'chevron_right', 'National Honor ...   \n3  ['Academic', 'chevron_right', 'AVID Club/Unive...   \n4  ['Academic', 'chevron_right', 'World Language ...   \n5                              ['No data available']   \n\n                                    other_facilities  \\\n0     ['Dedicated Counselors', 'chevron_right', '1']   \n1         ['Art Room', 'Indoor air quality control']   \n2  ['Art Room', 'Auditorium', 'Book Store', 'Cafe...   \n3  ['Art Room', 'Auditorium', 'Book Store', 'Cafe...   \n4  ['Art Room', 'Auditorium', 'Book Store', 'Cafe...   \n5                              ['No data available']   \n\n                                    student_services  acad_focus_1  \\\n0  ['Assistance with Material Needs', 'McKinney-V...             1   \n1  ['Assistance with Material Needs', 'McKinney-V...             1   \n2                              ['No data available']             1   \n3  ['Dedicated School Counselor', 'chevron_right'...             1   \n4                              ['No data available']             0   \n5                              ['No data available']             0   \n\n   acad_focus_2  acad_focus_3  acad_focus_4  acad_focus_5  \n0             1             1             1             1  \n1             1             1             1             1  \n2             1             1             1             1  \n3             1             1             1             1  \n4             0             0             0             0  \n5             0             0             0             0  \n\n[6 rows x 50 columns]",
      "text/html": "<div>\n<style scoped>\n    .dataframe tbody tr th:only-of-type {\n        vertical-align: middle;\n    }\n\n    .dataframe tbody tr th {\n        vertical-align: top;\n    }\n\n    .dataframe thead th {\n        text-align: right;\n    }\n</style>\n<table border=\"1\" class=\"dataframe\">\n  <thead>\n    <tr style=\"text-align: right;\">\n      <th></th>\n      <th>School_name</th>\n      <th>city</th>\n      <th>zipcode</th>\n      <th>elementary_school</th>\n      <th>intermediate_school</th>\n      <th>middle_school</th>\n      <th>high_school</th>\n      <th>school_grade</th>\n      <th>title_i_status</th>\n      <th>total_students</th>\n      <th>...</th>\n      <th>sports_facilities</th>\n      <th>music_facilities</th>\n      <th>after_school_opportunities</th>\n      <th>other_facilities</th>\n      <th>student_services</th>\n      <th>acad_focus_1</th>\n      <th>acad_focus_2</th>\n      <th>acad_focus_3</th>\n      <th>acad_focus_4</th>\n      <th>acad_focus_5</th>\n    </tr>\n  </thead>\n  <tbody>\n    <tr>\n      <th>0</th>\n      <td>Academy with Community Partners</td>\n      <td>Mesa</td>\n      <td>85203</td>\n      <td>0</td>\n      <td>0</td>\n      <td>0</td>\n      <td>1</td>\n      <td>4</td>\n      <td>1</td>\n      <td>169</td>\n      <td>...</td>\n      <td>['Basketball', 'Others', 'chevron_right', 'Fla...</td>\n      <td>['Art']</td>\n      <td>['Athletic', 'chevron_right', 'Basketball', 'c...</td>\n      <td>['Dedicated Counselors', 'chevron_right', '1']</td>\n      <td>['Assistance with Material Needs', 'McKinney-V...</td>\n      <td>1</td>\n      <td>1</td>\n      <td>1</td>\n      <td>1</td>\n      <td>1</td>\n    </tr>\n    <tr>\n      <th>1</th>\n      <td>Accelerated Learning Center</td>\n      <td>Phoenix</td>\n      <td>85028</td>\n      <td>0</td>\n      <td>0</td>\n      <td>0</td>\n      <td>1</td>\n      <td>5</td>\n      <td>0</td>\n      <td>153</td>\n      <td>...</td>\n      <td>['No data available']</td>\n      <td>['Art', 'Photography']</td>\n      <td>['No data available']</td>\n      <td>['Art Room', 'Indoor air quality control']</td>\n      <td>['Assistance with Material Needs', 'McKinney-V...</td>\n      <td>1</td>\n      <td>1</td>\n      <td>1</td>\n      <td>1</td>\n      <td>1</td>\n    </tr>\n    <tr>\n      <th>2</th>\n      <td>Agua Fria High School</td>\n      <td>Avondale</td>\n      <td>85323</td>\n      <td>0</td>\n      <td>0</td>\n      <td>0</td>\n      <td>1</td>\n      <td>4</td>\n      <td>1</td>\n      <td>1653</td>\n      <td>...</td>\n      <td>['Badminton', 'Baseball', 'Basketball', 'Cross...</td>\n      <td>['Art', 'Band', 'Ceramics/Sculpting', 'Choir',...</td>\n      <td>['Academic', 'chevron_right', 'National Honor ...</td>\n      <td>['Art Room', 'Auditorium', 'Book Store', 'Cafe...</td>\n      <td>['No data available']</td>\n      <td>1</td>\n      <td>1</td>\n      <td>1</td>\n      <td>1</td>\n      <td>1</td>\n    </tr>\n    <tr>\n      <th>3</th>\n      <td>Alhambra High School</td>\n      <td>Phoenix</td>\n      <td>85019</td>\n      <td>0</td>\n      <td>0</td>\n      <td>0</td>\n      <td>1</td>\n      <td>3</td>\n      <td>1</td>\n      <td>2283</td>\n      <td>...</td>\n      <td>['Badminton', 'Baseball', 'Basketball', 'Cross...</td>\n      <td>['Art', 'Band', 'Ceramics/Sculpting', 'Choir',...</td>\n      <td>['Academic', 'chevron_right', 'AVID Club/Unive...</td>\n      <td>['Art Room', 'Auditorium', 'Book Store', 'Cafe...</td>\n      <td>['Dedicated School Counselor', 'chevron_right'...</td>\n      <td>1</td>\n      <td>1</td>\n      <td>1</td>\n      <td>1</td>\n      <td>1</td>\n    </tr>\n    <tr>\n      <th>4</th>\n      <td>Apollo High School</td>\n      <td>Glendale</td>\n      <td>85302</td>\n      <td>0</td>\n      <td>0</td>\n      <td>0</td>\n      <td>1</td>\n      <td>4</td>\n      <td>1</td>\n      <td>2198</td>\n      <td>...</td>\n      <td>['Badminton', 'Baseball', 'Basketball', 'Cross...</td>\n      <td>['Art', 'Band', 'Ceramics/Sculpting', 'Choir',...</td>\n      <td>['Academic', 'chevron_right', 'World Language ...</td>\n      <td>['Art Room', 'Auditorium', 'Book Store', 'Cafe...</td>\n      <td>['No data available']</td>\n      <td>0</td>\n      <td>0</td>\n      <td>0</td>\n      <td>0</td>\n      <td>0</td>\n    </tr>\n    <tr>\n      <th>5</th>\n      <td>Arcadia High School</td>\n      <td>Phoenix</td>\n      <td>85018</td>\n      <td>0</td>\n      <td>0</td>\n      <td>0</td>\n      <td>1</td>\n      <td>5</td>\n      <td>0</td>\n      <td>1603</td>\n      <td>...</td>\n      <td>['No data available']</td>\n      <td>['No data available']</td>\n      <td>['No data available']</td>\n      <td>['No data available']</td>\n      <td>['No data available']</td>\n      <td>0</td>\n      <td>0</td>\n      <td>0</td>\n      <td>0</td>\n      <td>0</td>\n    </tr>\n  </tbody>\n</table>\n<p>6 rows × 50 columns</p>\n</div>"
     },
     "execution_count": 413,
     "metadata": {},
     "output_type": "execute_result"
    }
   ],
   "source": [
    "school_additional_raw_data.head(6)"
   ],
   "metadata": {
    "collapsed": false,
    "ExecuteTime": {
     "end_time": "2024-05-01T05:20:47.161657Z",
     "start_time": "2024-05-01T05:20:47.141571Z"
    }
   },
   "id": "13db1be078074d0c"
  },
  {
   "cell_type": "code",
   "execution_count": 414,
   "outputs": [
    {
     "data": {
      "text/plain": "                      School_name      city   zipcode  elementary_school  \\\n0  Academy with Community Partners      Mesa    85203                  0   \n1      Accelerated Learning Center   Phoenix    85028                  0   \n2            Agua Fria High School  Avondale    85323                  0   \n3             Alhambra High School   Phoenix    85019                  0   \n4               Apollo High School  Glendale    85302                  0   \n\n   intermediate_school  middle_school  high_school  school_grade  \\\n0                    0              0            1             4   \n1                    0              0            1             5   \n2                    0              0            1             4   \n3                    0              0            1             3   \n4                    0              0            1             4   \n\n   title_i_status  total_students  ...  \\\n0               1             169  ...   \n1               0             153  ...   \n2               1            1653  ...   \n3               1            2283  ...   \n4               1            2198  ...   \n\n                                   sports_facilities  \\\n0  ['Basketball', 'Others', 'chevron_right', 'Fla...   \n1                              ['No data available']   \n2  ['Badminton', 'Baseball', 'Basketball', 'Cross...   \n3  ['Badminton', 'Baseball', 'Basketball', 'Cross...   \n4  ['Badminton', 'Baseball', 'Basketball', 'Cross...   \n\n                                    music_facilities  \\\n0                                            ['Art']   \n1                             ['Art', 'Photography']   \n2  ['Art', 'Band', 'Ceramics/Sculpting', 'Choir',...   \n3  ['Art', 'Band', 'Ceramics/Sculpting', 'Choir',...   \n4  ['Art', 'Band', 'Ceramics/Sculpting', 'Choir',...   \n\n                          after_school_opportunities  \\\n0  ['Athletic', 'chevron_right', 'Basketball', 'c...   \n1                              ['No data available']   \n2  ['Academic', 'chevron_right', 'National Honor ...   \n3  ['Academic', 'chevron_right', 'AVID Club/Unive...   \n4  ['Academic', 'chevron_right', 'World Language ...   \n\n                                    other_facilities  \\\n0     ['Dedicated Counselors', 'chevron_right', '1']   \n1         ['Art Room', 'Indoor air quality control']   \n2  ['Art Room', 'Auditorium', 'Book Store', 'Cafe...   \n3  ['Art Room', 'Auditorium', 'Book Store', 'Cafe...   \n4  ['Art Room', 'Auditorium', 'Book Store', 'Cafe...   \n\n                                    student_services  acad_focus_1  \\\n0  ['Assistance with Material Needs', 'McKinney-V...             1   \n1  ['Assistance with Material Needs', 'McKinney-V...             1   \n2                              ['No data available']             1   \n3  ['Dedicated School Counselor', 'chevron_right'...             1   \n4                              ['No data available']             0   \n\n   acad_focus_2  acad_focus_3  acad_focus_4  acad_focus_5  \n0             1             1             1             1  \n1             1             1             1             1  \n2             1             1             1             1  \n3             1             1             1             1  \n4             0             0             0             0  \n\n[5 rows x 50 columns]",
      "text/html": "<div>\n<style scoped>\n    .dataframe tbody tr th:only-of-type {\n        vertical-align: middle;\n    }\n\n    .dataframe tbody tr th {\n        vertical-align: top;\n    }\n\n    .dataframe thead th {\n        text-align: right;\n    }\n</style>\n<table border=\"1\" class=\"dataframe\">\n  <thead>\n    <tr style=\"text-align: right;\">\n      <th></th>\n      <th>School_name</th>\n      <th>city</th>\n      <th>zipcode</th>\n      <th>elementary_school</th>\n      <th>intermediate_school</th>\n      <th>middle_school</th>\n      <th>high_school</th>\n      <th>school_grade</th>\n      <th>title_i_status</th>\n      <th>total_students</th>\n      <th>...</th>\n      <th>sports_facilities</th>\n      <th>music_facilities</th>\n      <th>after_school_opportunities</th>\n      <th>other_facilities</th>\n      <th>student_services</th>\n      <th>acad_focus_1</th>\n      <th>acad_focus_2</th>\n      <th>acad_focus_3</th>\n      <th>acad_focus_4</th>\n      <th>acad_focus_5</th>\n    </tr>\n  </thead>\n  <tbody>\n    <tr>\n      <th>0</th>\n      <td>Academy with Community Partners</td>\n      <td>Mesa</td>\n      <td>85203</td>\n      <td>0</td>\n      <td>0</td>\n      <td>0</td>\n      <td>1</td>\n      <td>4</td>\n      <td>1</td>\n      <td>169</td>\n      <td>...</td>\n      <td>['Basketball', 'Others', 'chevron_right', 'Fla...</td>\n      <td>['Art']</td>\n      <td>['Athletic', 'chevron_right', 'Basketball', 'c...</td>\n      <td>['Dedicated Counselors', 'chevron_right', '1']</td>\n      <td>['Assistance with Material Needs', 'McKinney-V...</td>\n      <td>1</td>\n      <td>1</td>\n      <td>1</td>\n      <td>1</td>\n      <td>1</td>\n    </tr>\n    <tr>\n      <th>1</th>\n      <td>Accelerated Learning Center</td>\n      <td>Phoenix</td>\n      <td>85028</td>\n      <td>0</td>\n      <td>0</td>\n      <td>0</td>\n      <td>1</td>\n      <td>5</td>\n      <td>0</td>\n      <td>153</td>\n      <td>...</td>\n      <td>['No data available']</td>\n      <td>['Art', 'Photography']</td>\n      <td>['No data available']</td>\n      <td>['Art Room', 'Indoor air quality control']</td>\n      <td>['Assistance with Material Needs', 'McKinney-V...</td>\n      <td>1</td>\n      <td>1</td>\n      <td>1</td>\n      <td>1</td>\n      <td>1</td>\n    </tr>\n    <tr>\n      <th>2</th>\n      <td>Agua Fria High School</td>\n      <td>Avondale</td>\n      <td>85323</td>\n      <td>0</td>\n      <td>0</td>\n      <td>0</td>\n      <td>1</td>\n      <td>4</td>\n      <td>1</td>\n      <td>1653</td>\n      <td>...</td>\n      <td>['Badminton', 'Baseball', 'Basketball', 'Cross...</td>\n      <td>['Art', 'Band', 'Ceramics/Sculpting', 'Choir',...</td>\n      <td>['Academic', 'chevron_right', 'National Honor ...</td>\n      <td>['Art Room', 'Auditorium', 'Book Store', 'Cafe...</td>\n      <td>['No data available']</td>\n      <td>1</td>\n      <td>1</td>\n      <td>1</td>\n      <td>1</td>\n      <td>1</td>\n    </tr>\n    <tr>\n      <th>3</th>\n      <td>Alhambra High School</td>\n      <td>Phoenix</td>\n      <td>85019</td>\n      <td>0</td>\n      <td>0</td>\n      <td>0</td>\n      <td>1</td>\n      <td>3</td>\n      <td>1</td>\n      <td>2283</td>\n      <td>...</td>\n      <td>['Badminton', 'Baseball', 'Basketball', 'Cross...</td>\n      <td>['Art', 'Band', 'Ceramics/Sculpting', 'Choir',...</td>\n      <td>['Academic', 'chevron_right', 'AVID Club/Unive...</td>\n      <td>['Art Room', 'Auditorium', 'Book Store', 'Cafe...</td>\n      <td>['Dedicated School Counselor', 'chevron_right'...</td>\n      <td>1</td>\n      <td>1</td>\n      <td>1</td>\n      <td>1</td>\n      <td>1</td>\n    </tr>\n    <tr>\n      <th>4</th>\n      <td>Apollo High School</td>\n      <td>Glendale</td>\n      <td>85302</td>\n      <td>0</td>\n      <td>0</td>\n      <td>0</td>\n      <td>1</td>\n      <td>4</td>\n      <td>1</td>\n      <td>2198</td>\n      <td>...</td>\n      <td>['Badminton', 'Baseball', 'Basketball', 'Cross...</td>\n      <td>['Art', 'Band', 'Ceramics/Sculpting', 'Choir',...</td>\n      <td>['Academic', 'chevron_right', 'World Language ...</td>\n      <td>['Art Room', 'Auditorium', 'Book Store', 'Cafe...</td>\n      <td>['No data available']</td>\n      <td>0</td>\n      <td>0</td>\n      <td>0</td>\n      <td>0</td>\n      <td>0</td>\n    </tr>\n  </tbody>\n</table>\n<p>5 rows × 50 columns</p>\n</div>"
     },
     "execution_count": 414,
     "metadata": {},
     "output_type": "execute_result"
    }
   ],
   "source": [
    "school_additional_data = school_additional_raw_data.copy(deep=True)\n",
    "school_additional_data.head(5)"
   ],
   "metadata": {
    "collapsed": false,
    "ExecuteTime": {
     "end_time": "2024-05-01T05:20:48.067529Z",
     "start_time": "2024-05-01T05:20:48.027850Z"
    }
   },
   "id": "a0bd98c24678bdc9"
  },
  {
   "cell_type": "code",
   "execution_count": 415,
   "outputs": [],
   "source": [
    "additional_cols = ['awards_and_recognitions',\n",
    " 'academic_offerings',\n",
    " 'sports_facilities',\n",
    " 'music_facilities',\n",
    " 'after_school_opportunities',\n",
    " 'other_facilities',\n",
    " 'student_services']"
   ],
   "metadata": {
    "collapsed": false,
    "ExecuteTime": {
     "end_time": "2024-05-01T05:20:49.556334Z",
     "start_time": "2024-05-01T05:20:49.534217Z"
    }
   },
   "id": "f9313cdde0100ac2"
  },
  {
   "cell_type": "code",
   "execution_count": 416,
   "outputs": [],
   "source": [
    "for additional_col in additional_cols:\n",
    "\n",
    "    school_additional_data[additional_col] = school_additional_data[additional_col].apply(ast.literal_eval)\n",
    "    one_hot_genres_df = school_additional_data[additional_col].str.get_dummies(sep=\",\")\n",
    "    \n",
    "    mlb = MultiLabelBinarizer()\n",
    "    \n",
    "    one_hot_encoded_data = mlb.fit_transform(school_additional_data[additional_col])\n",
    "    \n",
    "    one_hot_df = pd.DataFrame(one_hot_encoded_data, columns=mlb.classes_)\n",
    "    \n",
    "    columns = one_hot_df.columns.tolist()\n",
    "    \n",
    "    columns_to_drop = []\n",
    "    \n",
    "    numeric_patterns = re.compile(r\"\\d\\.\\d\")\n",
    "    for col in columns:\n",
    "        if sum(one_hot_df[col])==1:\n",
    "            columns_to_drop.append(col)\n",
    "        elif numeric_patterns.match(col) or col.isnumeric():\n",
    "            columns_to_drop.append(col)\n",
    "        elif len(col) > 50:\n",
    "            columns_to_drop.append(col)\n",
    "            # print(col)\n",
    "\n",
    "            \n",
    "    if 'No data available'not in columns_to_drop:\n",
    "        columns_to_drop.append('No data available')\n",
    "        \n",
    "    \n",
    "    one_hot_df.drop(columns=columns_to_drop,inplace=True,axis=1)\n",
    "    \n",
    "    school_additional_data = pd.concat([school_additional_data.drop(additional_col, axis=1), one_hot_df], axis=1)\n",
    "    \n"
   ],
   "metadata": {
    "collapsed": false,
    "ExecuteTime": {
     "end_time": "2024-05-01T05:20:50.779470Z",
     "start_time": "2024-05-01T05:20:50.212131Z"
    }
   },
   "id": "d5b2d7685d673d74"
  },
  {
   "cell_type": "code",
   "execution_count": 418,
   "outputs": [
    {
     "data": {
      "text/plain": "                      School_name      city   zipcode  elementary_school  \\\n0  Academy with Community Partners      Mesa    85203                  0   \n1      Accelerated Learning Center   Phoenix    85028                  0   \n2            Agua Fria High School  Avondale    85323                  0   \n3             Alhambra High School   Phoenix    85019                  0   \n4               Apollo High School  Glendale    85302                  0   \n\n   intermediate_school  middle_school  high_school  school_grade  \\\n0                    0              0            1             4   \n1                    0              0            1             5   \n2                    0              0            1             4   \n3                    0              0            1             3   \n4                    0              0            1             4   \n\n   title_i_status  total_students  ...  Parenting programs  \\\n0               1             169  ...                   0   \n1               0             153  ...                   0   \n2               1            1653  ...                   0   \n3               1            2283  ...                   0   \n4               1            2198  ...                   0   \n\n   Partner Community Organizations  Partner Mental Health Agencies  \\\n0                                0                               0   \n1                                0                               0   \n2                                0                               0   \n3                                1                               1   \n4                                0                               0   \n\n   Refugee services  School Psychologist  Small group counseling  \\\n0                 0                    0                       0   \n1                 0                    0                       0   \n2                 0                    0                       0   \n3                 1                    0                       1   \n4                 0                    0                       0   \n\n   Southwest Behavior Health  Southwest Behavioral Health  Teen Lifeline  \\\n0                          0                            0              0   \n1                          0                            0              0   \n2                          0                            0              0   \n3                          0                            0              1   \n4                          0                            0              0   \n\n   chevron_right  \n0              0  \n1              0  \n2              0  \n3              1  \n4              0  \n\n[5 rows x 473 columns]",
      "text/html": "<div>\n<style scoped>\n    .dataframe tbody tr th:only-of-type {\n        vertical-align: middle;\n    }\n\n    .dataframe tbody tr th {\n        vertical-align: top;\n    }\n\n    .dataframe thead th {\n        text-align: right;\n    }\n</style>\n<table border=\"1\" class=\"dataframe\">\n  <thead>\n    <tr style=\"text-align: right;\">\n      <th></th>\n      <th>School_name</th>\n      <th>city</th>\n      <th>zipcode</th>\n      <th>elementary_school</th>\n      <th>intermediate_school</th>\n      <th>middle_school</th>\n      <th>high_school</th>\n      <th>school_grade</th>\n      <th>title_i_status</th>\n      <th>total_students</th>\n      <th>...</th>\n      <th>Parenting programs</th>\n      <th>Partner Community Organizations</th>\n      <th>Partner Mental Health Agencies</th>\n      <th>Refugee services</th>\n      <th>School Psychologist</th>\n      <th>Small group counseling</th>\n      <th>Southwest Behavior Health</th>\n      <th>Southwest Behavioral Health</th>\n      <th>Teen Lifeline</th>\n      <th>chevron_right</th>\n    </tr>\n  </thead>\n  <tbody>\n    <tr>\n      <th>0</th>\n      <td>Academy with Community Partners</td>\n      <td>Mesa</td>\n      <td>85203</td>\n      <td>0</td>\n      <td>0</td>\n      <td>0</td>\n      <td>1</td>\n      <td>4</td>\n      <td>1</td>\n      <td>169</td>\n      <td>...</td>\n      <td>0</td>\n      <td>0</td>\n      <td>0</td>\n      <td>0</td>\n      <td>0</td>\n      <td>0</td>\n      <td>0</td>\n      <td>0</td>\n      <td>0</td>\n      <td>0</td>\n    </tr>\n    <tr>\n      <th>1</th>\n      <td>Accelerated Learning Center</td>\n      <td>Phoenix</td>\n      <td>85028</td>\n      <td>0</td>\n      <td>0</td>\n      <td>0</td>\n      <td>1</td>\n      <td>5</td>\n      <td>0</td>\n      <td>153</td>\n      <td>...</td>\n      <td>0</td>\n      <td>0</td>\n      <td>0</td>\n      <td>0</td>\n      <td>0</td>\n      <td>0</td>\n      <td>0</td>\n      <td>0</td>\n      <td>0</td>\n      <td>0</td>\n    </tr>\n    <tr>\n      <th>2</th>\n      <td>Agua Fria High School</td>\n      <td>Avondale</td>\n      <td>85323</td>\n      <td>0</td>\n      <td>0</td>\n      <td>0</td>\n      <td>1</td>\n      <td>4</td>\n      <td>1</td>\n      <td>1653</td>\n      <td>...</td>\n      <td>0</td>\n      <td>0</td>\n      <td>0</td>\n      <td>0</td>\n      <td>0</td>\n      <td>0</td>\n      <td>0</td>\n      <td>0</td>\n      <td>0</td>\n      <td>0</td>\n    </tr>\n    <tr>\n      <th>3</th>\n      <td>Alhambra High School</td>\n      <td>Phoenix</td>\n      <td>85019</td>\n      <td>0</td>\n      <td>0</td>\n      <td>0</td>\n      <td>1</td>\n      <td>3</td>\n      <td>1</td>\n      <td>2283</td>\n      <td>...</td>\n      <td>0</td>\n      <td>1</td>\n      <td>1</td>\n      <td>1</td>\n      <td>0</td>\n      <td>1</td>\n      <td>0</td>\n      <td>0</td>\n      <td>1</td>\n      <td>1</td>\n    </tr>\n    <tr>\n      <th>4</th>\n      <td>Apollo High School</td>\n      <td>Glendale</td>\n      <td>85302</td>\n      <td>0</td>\n      <td>0</td>\n      <td>0</td>\n      <td>1</td>\n      <td>4</td>\n      <td>1</td>\n      <td>2198</td>\n      <td>...</td>\n      <td>0</td>\n      <td>0</td>\n      <td>0</td>\n      <td>0</td>\n      <td>0</td>\n      <td>0</td>\n      <td>0</td>\n      <td>0</td>\n      <td>0</td>\n      <td>0</td>\n    </tr>\n  </tbody>\n</table>\n<p>5 rows × 473 columns</p>\n</div>"
     },
     "execution_count": 418,
     "metadata": {},
     "output_type": "execute_result"
    }
   ],
   "source": [
    "school_additional_data.head(5)"
   ],
   "metadata": {
    "collapsed": false,
    "ExecuteTime": {
     "end_time": "2024-05-01T05:20:57.850450Z",
     "start_time": "2024-05-01T05:20:57.824182Z"
    }
   },
   "id": "fa518ec47b25fed5"
  },
  {
   "cell_type": "code",
   "execution_count": 419,
   "outputs": [],
   "source": [
    "# school_additional_data.to_csv('dataset_of_schools_in_phoenix_metropolitan_with_extra_cols.csv', index=False)"
   ],
   "metadata": {
    "collapsed": false,
    "ExecuteTime": {
     "end_time": "2024-05-01T05:20:59.389989Z",
     "start_time": "2024-05-01T05:20:59.366616Z"
    }
   },
   "id": "10d646cabb50db51"
  },
  {
   "cell_type": "code",
   "execution_count": 420,
   "outputs": [],
   "source": [
    "add_test_set = [[]]"
   ],
   "metadata": {
    "collapsed": false,
    "ExecuteTime": {
     "end_time": "2024-05-01T05:21:00.484844Z",
     "start_time": "2024-05-01T05:21:00.465460Z"
    }
   },
   "id": "3f5f989d1ee8068"
  },
  {
   "cell_type": "code",
   "execution_count": 421,
   "outputs": [],
   "source": [
    "\n",
    "city_number_converter = LabelEncoder()\n",
    "school_additional_data['city '] = city_number_converter.fit_transform(school_additional_raw_data['city '])\n",
    "\n",
    "\n",
    "zipcode_number_converter = LabelEncoder()\n",
    "school_additional_data['zipcode'] = zipcode_number_converter.fit_transform(school_additional_raw_data['zipcode'])\n"
   ],
   "metadata": {
    "collapsed": false,
    "ExecuteTime": {
     "end_time": "2024-05-01T05:21:01.260334Z",
     "start_time": "2024-05-01T05:21:01.245593Z"
    }
   },
   "id": "d53d6e14b002604a"
  },
  {
   "cell_type": "code",
   "execution_count": 422,
   "outputs": [
    {
     "data": {
      "text/plain": "                        School_name   city   zipcode  elementary_school  \\\n0    Academy with Community Partners     12       38                  0   \n1        Accelerated Learning Center     14       18                  0   \n2              Agua Fria High School      1       81                  0   \n3               Alhambra High School     14       11                  0   \n4                 Apollo High School      8       74                  0   \n..                               ...    ...      ...                ...   \n215       Wickenburg Virtual Academy     21       96                  1   \n216       Williams Field High School     10       52                  0   \n217        Willis Junior High School      3       48                  0   \n218        Willow Canyon High School     17       90                  0   \n219             Youngker High School      2       82                  0   \n\n     intermediate_school  middle_school  high_school  school_grade  \\\n0                      0              0            1             4   \n1                      0              0            1             5   \n2                      0              0            1             4   \n3                      0              0            1             3   \n4                      0              0            1             4   \n..                   ...            ...          ...           ...   \n215                    1              1            1             4   \n216                    0              1            1             5   \n217                    0              1            0             4   \n218                    0              1            1             5   \n219                    0              0            1             5   \n\n     title_i_status  total_students  ...  Parenting programs  \\\n0                 1             169  ...                   0   \n1                 0             153  ...                   0   \n2                 1            1653  ...                   0   \n3                 1            2283  ...                   0   \n4                 1            2198  ...                   0   \n..              ...             ...  ...                 ...   \n215               0              78  ...                   0   \n216               0            2115  ...                   0   \n217               1             858  ...                   1   \n218               0            1787  ...                   0   \n219               1            2107  ...                   0   \n\n     Partner Community Organizations  Partner Mental Health Agencies  \\\n0                                  0                               0   \n1                                  0                               0   \n2                                  0                               0   \n3                                  1                               1   \n4                                  0                               0   \n..                               ...                             ...   \n215                                0                               0   \n216                                0                               0   \n217                                0                               1   \n218                                0                               0   \n219                                0                               0   \n\n     Refugee services  School Psychologist  Small group counseling  \\\n0                   0                    0                       0   \n1                   0                    0                       0   \n2                   0                    0                       0   \n3                   1                    0                       1   \n4                   0                    0                       0   \n..                ...                  ...                     ...   \n215                 0                    0                       0   \n216                 0                    0                       0   \n217                 0                    0                       0   \n218                 0                    0                       0   \n219                 0                    1                       0   \n\n     Southwest Behavior Health  Southwest Behavioral Health  Teen Lifeline  \\\n0                            0                            0              0   \n1                            0                            0              0   \n2                            0                            0              0   \n3                            0                            0              1   \n4                            0                            0              0   \n..                         ...                          ...            ...   \n215                          0                            0              0   \n216                          0                            0              0   \n217                          0                            1              0   \n218                          0                            0              0   \n219                          0                            0              0   \n\n     chevron_right  \n0                0  \n1                0  \n2                0  \n3                1  \n4                0  \n..             ...  \n215              0  \n216              0  \n217              1  \n218              0  \n219              1  \n\n[220 rows x 473 columns]",
      "text/html": "<div>\n<style scoped>\n    .dataframe tbody tr th:only-of-type {\n        vertical-align: middle;\n    }\n\n    .dataframe tbody tr th {\n        vertical-align: top;\n    }\n\n    .dataframe thead th {\n        text-align: right;\n    }\n</style>\n<table border=\"1\" class=\"dataframe\">\n  <thead>\n    <tr style=\"text-align: right;\">\n      <th></th>\n      <th>School_name</th>\n      <th>city</th>\n      <th>zipcode</th>\n      <th>elementary_school</th>\n      <th>intermediate_school</th>\n      <th>middle_school</th>\n      <th>high_school</th>\n      <th>school_grade</th>\n      <th>title_i_status</th>\n      <th>total_students</th>\n      <th>...</th>\n      <th>Parenting programs</th>\n      <th>Partner Community Organizations</th>\n      <th>Partner Mental Health Agencies</th>\n      <th>Refugee services</th>\n      <th>School Psychologist</th>\n      <th>Small group counseling</th>\n      <th>Southwest Behavior Health</th>\n      <th>Southwest Behavioral Health</th>\n      <th>Teen Lifeline</th>\n      <th>chevron_right</th>\n    </tr>\n  </thead>\n  <tbody>\n    <tr>\n      <th>0</th>\n      <td>Academy with Community Partners</td>\n      <td>12</td>\n      <td>38</td>\n      <td>0</td>\n      <td>0</td>\n      <td>0</td>\n      <td>1</td>\n      <td>4</td>\n      <td>1</td>\n      <td>169</td>\n      <td>...</td>\n      <td>0</td>\n      <td>0</td>\n      <td>0</td>\n      <td>0</td>\n      <td>0</td>\n      <td>0</td>\n      <td>0</td>\n      <td>0</td>\n      <td>0</td>\n      <td>0</td>\n    </tr>\n    <tr>\n      <th>1</th>\n      <td>Accelerated Learning Center</td>\n      <td>14</td>\n      <td>18</td>\n      <td>0</td>\n      <td>0</td>\n      <td>0</td>\n      <td>1</td>\n      <td>5</td>\n      <td>0</td>\n      <td>153</td>\n      <td>...</td>\n      <td>0</td>\n      <td>0</td>\n      <td>0</td>\n      <td>0</td>\n      <td>0</td>\n      <td>0</td>\n      <td>0</td>\n      <td>0</td>\n      <td>0</td>\n      <td>0</td>\n    </tr>\n    <tr>\n      <th>2</th>\n      <td>Agua Fria High School</td>\n      <td>1</td>\n      <td>81</td>\n      <td>0</td>\n      <td>0</td>\n      <td>0</td>\n      <td>1</td>\n      <td>4</td>\n      <td>1</td>\n      <td>1653</td>\n      <td>...</td>\n      <td>0</td>\n      <td>0</td>\n      <td>0</td>\n      <td>0</td>\n      <td>0</td>\n      <td>0</td>\n      <td>0</td>\n      <td>0</td>\n      <td>0</td>\n      <td>0</td>\n    </tr>\n    <tr>\n      <th>3</th>\n      <td>Alhambra High School</td>\n      <td>14</td>\n      <td>11</td>\n      <td>0</td>\n      <td>0</td>\n      <td>0</td>\n      <td>1</td>\n      <td>3</td>\n      <td>1</td>\n      <td>2283</td>\n      <td>...</td>\n      <td>0</td>\n      <td>1</td>\n      <td>1</td>\n      <td>1</td>\n      <td>0</td>\n      <td>1</td>\n      <td>0</td>\n      <td>0</td>\n      <td>1</td>\n      <td>1</td>\n    </tr>\n    <tr>\n      <th>4</th>\n      <td>Apollo High School</td>\n      <td>8</td>\n      <td>74</td>\n      <td>0</td>\n      <td>0</td>\n      <td>0</td>\n      <td>1</td>\n      <td>4</td>\n      <td>1</td>\n      <td>2198</td>\n      <td>...</td>\n      <td>0</td>\n      <td>0</td>\n      <td>0</td>\n      <td>0</td>\n      <td>0</td>\n      <td>0</td>\n      <td>0</td>\n      <td>0</td>\n      <td>0</td>\n      <td>0</td>\n    </tr>\n    <tr>\n      <th>...</th>\n      <td>...</td>\n      <td>...</td>\n      <td>...</td>\n      <td>...</td>\n      <td>...</td>\n      <td>...</td>\n      <td>...</td>\n      <td>...</td>\n      <td>...</td>\n      <td>...</td>\n      <td>...</td>\n      <td>...</td>\n      <td>...</td>\n      <td>...</td>\n      <td>...</td>\n      <td>...</td>\n      <td>...</td>\n      <td>...</td>\n      <td>...</td>\n      <td>...</td>\n      <td>...</td>\n    </tr>\n    <tr>\n      <th>215</th>\n      <td>Wickenburg Virtual Academy</td>\n      <td>21</td>\n      <td>96</td>\n      <td>1</td>\n      <td>1</td>\n      <td>1</td>\n      <td>1</td>\n      <td>4</td>\n      <td>0</td>\n      <td>78</td>\n      <td>...</td>\n      <td>0</td>\n      <td>0</td>\n      <td>0</td>\n      <td>0</td>\n      <td>0</td>\n      <td>0</td>\n      <td>0</td>\n      <td>0</td>\n      <td>0</td>\n      <td>0</td>\n    </tr>\n    <tr>\n      <th>216</th>\n      <td>Williams Field High School</td>\n      <td>10</td>\n      <td>52</td>\n      <td>0</td>\n      <td>0</td>\n      <td>1</td>\n      <td>1</td>\n      <td>5</td>\n      <td>0</td>\n      <td>2115</td>\n      <td>...</td>\n      <td>0</td>\n      <td>0</td>\n      <td>0</td>\n      <td>0</td>\n      <td>0</td>\n      <td>0</td>\n      <td>0</td>\n      <td>0</td>\n      <td>0</td>\n      <td>0</td>\n    </tr>\n    <tr>\n      <th>217</th>\n      <td>Willis Junior High School</td>\n      <td>3</td>\n      <td>48</td>\n      <td>0</td>\n      <td>0</td>\n      <td>1</td>\n      <td>0</td>\n      <td>4</td>\n      <td>1</td>\n      <td>858</td>\n      <td>...</td>\n      <td>1</td>\n      <td>0</td>\n      <td>1</td>\n      <td>0</td>\n      <td>0</td>\n      <td>0</td>\n      <td>0</td>\n      <td>1</td>\n      <td>0</td>\n      <td>1</td>\n    </tr>\n    <tr>\n      <th>218</th>\n      <td>Willow Canyon High School</td>\n      <td>17</td>\n      <td>90</td>\n      <td>0</td>\n      <td>0</td>\n      <td>1</td>\n      <td>1</td>\n      <td>5</td>\n      <td>0</td>\n      <td>1787</td>\n      <td>...</td>\n      <td>0</td>\n      <td>0</td>\n      <td>0</td>\n      <td>0</td>\n      <td>0</td>\n      <td>0</td>\n      <td>0</td>\n      <td>0</td>\n      <td>0</td>\n      <td>0</td>\n    </tr>\n    <tr>\n      <th>219</th>\n      <td>Youngker High School</td>\n      <td>2</td>\n      <td>82</td>\n      <td>0</td>\n      <td>0</td>\n      <td>0</td>\n      <td>1</td>\n      <td>5</td>\n      <td>1</td>\n      <td>2107</td>\n      <td>...</td>\n      <td>0</td>\n      <td>0</td>\n      <td>0</td>\n      <td>0</td>\n      <td>1</td>\n      <td>0</td>\n      <td>0</td>\n      <td>0</td>\n      <td>0</td>\n      <td>1</td>\n    </tr>\n  </tbody>\n</table>\n<p>220 rows × 473 columns</p>\n</div>"
     },
     "execution_count": 422,
     "metadata": {},
     "output_type": "execute_result"
    }
   ],
   "source": [
    "school_add_output_data = school_additional_data.copy(deep=True)\n",
    "school_add_output_data"
   ],
   "metadata": {
    "collapsed": false,
    "ExecuteTime": {
     "end_time": "2024-05-01T05:21:04.172482Z",
     "start_time": "2024-05-01T05:21:04.150002Z"
    }
   },
   "id": "a255fe27d83f2bea"
  },
  {
   "cell_type": "code",
   "execution_count": 424,
   "outputs": [],
   "source": [
    "scaler = StandardScaler()\n",
    "\n",
    "school_additional_data = pd.DataFrame(scaler.fit_transform(school_additional_data.iloc[:, 1:]))"
   ],
   "metadata": {
    "collapsed": false,
    "ExecuteTime": {
     "end_time": "2024-05-01T05:21:17.662983Z",
     "start_time": "2024-05-01T05:21:17.633484Z"
    }
   },
   "id": "6f64020c95bb7b42"
  },
  {
   "cell_type": "code",
   "execution_count": 428,
   "outputs": [],
   "source": [
    "school_name_add = input(\"Enter the full name of the school\")\n",
    "if len(school_additional_raw_data[\"School_name \"][school_additional_raw_data[\"School_name \"].str.lower().isin([school_name_add.lower()])]) > 0:\n",
    "    row_index_to_drop = school_additional_raw_data[\"School_name \"][school_additional_raw_data[\"School_name \"].str.lower().isin([school_name_add.lower()])].index\n",
    "\n",
    "    add_test_set[0] = school_additional_data.iloc[row_index_to_drop]\n",
    "    \n",
    "    school_additional_data.drop(row_index_to_drop,inplace=True)\n",
    "    school_add_output_data.drop(row_index_to_drop,inplace=True)\n",
    "            "
   ],
   "metadata": {
    "collapsed": false,
    "ExecuteTime": {
     "end_time": "2024-05-01T05:22:33.520127Z",
     "start_time": "2024-05-01T05:22:31.956406Z"
    }
   },
   "id": "d2989adb7901d306"
  },
  {
   "cell_type": "code",
   "execution_count": 429,
   "outputs": [
    {
     "data": {
      "text/plain": "        0        1         2         3         4        5         6    7    \\\n0  0.076492 -0.31418 -0.404995 -0.434959 -1.056118  0.39736 -0.228783  1.0   \n\n        8         9    ...       462       463       464       465       466  \\\n0 -0.942318 -0.727017  ... -0.270501 -0.358057 -0.412568 -0.206529 -0.117579   \n\n        467       468       469       470       471  \n0 -0.507093 -0.095783 -0.260694 -0.270501 -0.793492  \n\n[1 rows x 472 columns]",
      "text/html": "<div>\n<style scoped>\n    .dataframe tbody tr th:only-of-type {\n        vertical-align: middle;\n    }\n\n    .dataframe tbody tr th {\n        vertical-align: top;\n    }\n\n    .dataframe thead th {\n        text-align: right;\n    }\n</style>\n<table border=\"1\" class=\"dataframe\">\n  <thead>\n    <tr style=\"text-align: right;\">\n      <th></th>\n      <th>0</th>\n      <th>1</th>\n      <th>2</th>\n      <th>3</th>\n      <th>4</th>\n      <th>5</th>\n      <th>6</th>\n      <th>7</th>\n      <th>8</th>\n      <th>9</th>\n      <th>...</th>\n      <th>462</th>\n      <th>463</th>\n      <th>464</th>\n      <th>465</th>\n      <th>466</th>\n      <th>467</th>\n      <th>468</th>\n      <th>469</th>\n      <th>470</th>\n      <th>471</th>\n    </tr>\n  </thead>\n  <tbody>\n    <tr>\n      <th>0</th>\n      <td>0.076492</td>\n      <td>-0.31418</td>\n      <td>-0.404995</td>\n      <td>-0.434959</td>\n      <td>-1.056118</td>\n      <td>0.39736</td>\n      <td>-0.228783</td>\n      <td>1.0</td>\n      <td>-0.942318</td>\n      <td>-0.727017</td>\n      <td>...</td>\n      <td>-0.270501</td>\n      <td>-0.358057</td>\n      <td>-0.412568</td>\n      <td>-0.206529</td>\n      <td>-0.117579</td>\n      <td>-0.507093</td>\n      <td>-0.095783</td>\n      <td>-0.260694</td>\n      <td>-0.270501</td>\n      <td>-0.793492</td>\n    </tr>\n  </tbody>\n</table>\n<p>1 rows × 472 columns</p>\n</div>"
     },
     "execution_count": 429,
     "metadata": {},
     "output_type": "execute_result"
    }
   ],
   "source": [
    "add_test_set[0]"
   ],
   "metadata": {
    "collapsed": false,
    "ExecuteTime": {
     "end_time": "2024-05-01T05:22:36.465426Z",
     "start_time": "2024-05-01T05:22:36.453827Z"
    }
   },
   "id": "5a930240b8f6315"
  },
  {
   "cell_type": "code",
   "execution_count": 430,
   "outputs": [
    {
     "data": {
      "text/plain": "(1, 472)"
     },
     "execution_count": 430,
     "metadata": {},
     "output_type": "execute_result"
    }
   ],
   "source": [
    "add_test = pd.DataFrame(add_test_set[0])\n",
    "add_test.astype(int)\n",
    "add_test.shape"
   ],
   "metadata": {
    "collapsed": false,
    "ExecuteTime": {
     "end_time": "2024-05-01T05:22:39.937589Z",
     "start_time": "2024-05-01T05:22:39.914965Z"
    }
   },
   "id": "94578c016c013442"
  },
  {
   "cell_type": "code",
   "execution_count": 431,
   "outputs": [
    {
     "data": {
      "text/plain": "                                 School_name      city   zipcode  \\\n90                    Hillcrest Middle School  Glendale    85310   \n39             Country Gardens Charter School    Laveen    85339   \n41                    Crown Point High School   Phoenix    85033   \n0             Academy with Community Partners      Mesa    85203   \n40  Crestview College Preparatory High School   Phoenix    85032   \n\n    elementary_school  intermediate_school  middle_school  high_school  \\\n90                  0                    0              1            0   \n39                  1                    1              1            1   \n41                  0                    0              0            1   \n0                   0                    0              0            1   \n40                  0                    0              0            1   \n\n    school_grade  title_i_status  total_students  ...  \\\n90             5               0             898  ...   \n39             4               1             322  ...   \n41             5               0              35  ...   \n0              4               1             169  ...   \n40             4               1             246  ...   \n\n                                    sports_facilities  \\\n90  ['Baseball', 'Basketball', 'Cross-Country', 'S...   \n39  ['Swimming', 'Others', 'chevron_right', 'Dance...   \n41                              ['No data available']   \n0   ['Basketball', 'Others', 'chevron_right', 'Fla...   \n40     ['Others', 'chevron_right', 'Weight Training']   \n\n                                     music_facilities  \\\n90  ['Art', 'Band', 'Ceramics/Sculpting', 'Choir',...   \n39  ['Art', 'Cultural Arts', 'Dance', 'Music', 'Ph...   \n41                              ['No data available']   \n0                                             ['Art']   \n40                                ['Art', 'Painting']   \n\n                           after_school_opportunities  \\\n90  ['Academic', 'Arts', 'Athletic', 'Games and Ga...   \n39  ['Academic', 'chevron_right', 'Entreprenuershi...   \n41                              ['No data available']   \n0   ['Athletic', 'chevron_right', 'Basketball', 'c...   \n40                              ['No data available']   \n\n                                     other_facilities  \\\n90  ['Art Room', 'Cafeteria (Onsite food service)'...   \n39  ['Art Room', 'Auditorium', 'Cafeteria (Onsite ...   \n41                              ['No data available']   \n0      ['Dedicated Counselors', 'chevron_right', '1']   \n40  ['Art Room', 'Cafeteria (Onsite food service)'...   \n\n                                     student_services  acad_focus_1  \\\n90  ['Dedicated School Counselor', 'chevron_right'...             1   \n39  ['Mental health services', 'Individual counsel...             1   \n41  ['Assistance with Material Needs', 'McKinney-V...             0   \n0   ['Assistance with Material Needs', 'McKinney-V...             1   \n40                              ['No data available']             1   \n\n    acad_focus_2  acad_focus_3  acad_focus_4  acad_focus_5  \n90             1             1             1             1  \n39             1             1             1             1  \n41             0             0             0             0  \n0              1             1             1             1  \n40             1             1             1             1  \n\n[5 rows x 50 columns]",
      "text/html": "<div>\n<style scoped>\n    .dataframe tbody tr th:only-of-type {\n        vertical-align: middle;\n    }\n\n    .dataframe tbody tr th {\n        vertical-align: top;\n    }\n\n    .dataframe thead th {\n        text-align: right;\n    }\n</style>\n<table border=\"1\" class=\"dataframe\">\n  <thead>\n    <tr style=\"text-align: right;\">\n      <th></th>\n      <th>School_name</th>\n      <th>city</th>\n      <th>zipcode</th>\n      <th>elementary_school</th>\n      <th>intermediate_school</th>\n      <th>middle_school</th>\n      <th>high_school</th>\n      <th>school_grade</th>\n      <th>title_i_status</th>\n      <th>total_students</th>\n      <th>...</th>\n      <th>sports_facilities</th>\n      <th>music_facilities</th>\n      <th>after_school_opportunities</th>\n      <th>other_facilities</th>\n      <th>student_services</th>\n      <th>acad_focus_1</th>\n      <th>acad_focus_2</th>\n      <th>acad_focus_3</th>\n      <th>acad_focus_4</th>\n      <th>acad_focus_5</th>\n    </tr>\n  </thead>\n  <tbody>\n    <tr>\n      <th>90</th>\n      <td>Hillcrest Middle School</td>\n      <td>Glendale</td>\n      <td>85310</td>\n      <td>0</td>\n      <td>0</td>\n      <td>1</td>\n      <td>0</td>\n      <td>5</td>\n      <td>0</td>\n      <td>898</td>\n      <td>...</td>\n      <td>['Baseball', 'Basketball', 'Cross-Country', 'S...</td>\n      <td>['Art', 'Band', 'Ceramics/Sculpting', 'Choir',...</td>\n      <td>['Academic', 'Arts', 'Athletic', 'Games and Ga...</td>\n      <td>['Art Room', 'Cafeteria (Onsite food service)'...</td>\n      <td>['Dedicated School Counselor', 'chevron_right'...</td>\n      <td>1</td>\n      <td>1</td>\n      <td>1</td>\n      <td>1</td>\n      <td>1</td>\n    </tr>\n    <tr>\n      <th>39</th>\n      <td>Country Gardens Charter School</td>\n      <td>Laveen</td>\n      <td>85339</td>\n      <td>1</td>\n      <td>1</td>\n      <td>1</td>\n      <td>1</td>\n      <td>4</td>\n      <td>1</td>\n      <td>322</td>\n      <td>...</td>\n      <td>['Swimming', 'Others', 'chevron_right', 'Dance...</td>\n      <td>['Art', 'Cultural Arts', 'Dance', 'Music', 'Ph...</td>\n      <td>['Academic', 'chevron_right', 'Entreprenuershi...</td>\n      <td>['Art Room', 'Auditorium', 'Cafeteria (Onsite ...</td>\n      <td>['Mental health services', 'Individual counsel...</td>\n      <td>1</td>\n      <td>1</td>\n      <td>1</td>\n      <td>1</td>\n      <td>1</td>\n    </tr>\n    <tr>\n      <th>41</th>\n      <td>Crown Point High School</td>\n      <td>Phoenix</td>\n      <td>85033</td>\n      <td>0</td>\n      <td>0</td>\n      <td>0</td>\n      <td>1</td>\n      <td>5</td>\n      <td>0</td>\n      <td>35</td>\n      <td>...</td>\n      <td>['No data available']</td>\n      <td>['No data available']</td>\n      <td>['No data available']</td>\n      <td>['No data available']</td>\n      <td>['Assistance with Material Needs', 'McKinney-V...</td>\n      <td>0</td>\n      <td>0</td>\n      <td>0</td>\n      <td>0</td>\n      <td>0</td>\n    </tr>\n    <tr>\n      <th>0</th>\n      <td>Academy with Community Partners</td>\n      <td>Mesa</td>\n      <td>85203</td>\n      <td>0</td>\n      <td>0</td>\n      <td>0</td>\n      <td>1</td>\n      <td>4</td>\n      <td>1</td>\n      <td>169</td>\n      <td>...</td>\n      <td>['Basketball', 'Others', 'chevron_right', 'Fla...</td>\n      <td>['Art']</td>\n      <td>['Athletic', 'chevron_right', 'Basketball', 'c...</td>\n      <td>['Dedicated Counselors', 'chevron_right', '1']</td>\n      <td>['Assistance with Material Needs', 'McKinney-V...</td>\n      <td>1</td>\n      <td>1</td>\n      <td>1</td>\n      <td>1</td>\n      <td>1</td>\n    </tr>\n    <tr>\n      <th>40</th>\n      <td>Crestview College Preparatory High School</td>\n      <td>Phoenix</td>\n      <td>85032</td>\n      <td>0</td>\n      <td>0</td>\n      <td>0</td>\n      <td>1</td>\n      <td>4</td>\n      <td>1</td>\n      <td>246</td>\n      <td>...</td>\n      <td>['Others', 'chevron_right', 'Weight Training']</td>\n      <td>['Art', 'Painting']</td>\n      <td>['No data available']</td>\n      <td>['Art Room', 'Cafeteria (Onsite food service)'...</td>\n      <td>['No data available']</td>\n      <td>1</td>\n      <td>1</td>\n      <td>1</td>\n      <td>1</td>\n      <td>1</td>\n    </tr>\n  </tbody>\n</table>\n<p>5 rows × 50 columns</p>\n</div>"
     },
     "execution_count": 431,
     "metadata": {},
     "output_type": "execute_result"
    }
   ],
   "source": [
    "# Fit the model\n",
    "neigh = KNeighborsClassifier(n_neighbors=5)\n",
    "neigh.fit(school_additional_data, school_add_output_data['School_name '])\n",
    "\n",
    "# Get distances and indices of 5 nearest neighbors\n",
    "distances, indices = neigh.kneighbors(add_test)\n",
    "\n",
    "# Print the names of the 5 nearest schools\n",
    "output_index = []\n",
    "for i in range(5):\n",
    "    output_index.append(indices[0][i])\n",
    "\n",
    "school_additional_raw_data.loc[output_index]"
   ],
   "metadata": {
    "collapsed": false,
    "ExecuteTime": {
     "end_time": "2024-05-01T05:22:42.020722Z",
     "start_time": "2024-05-01T05:22:41.993797Z"
    }
   },
   "id": "23e8ea6ae73c8543"
  },
  {
   "cell_type": "code",
   "execution_count": 238,
   "outputs": [
    {
     "name": "stdout",
     "output_type": "stream",
     "text": [
      "[[ 70.36297322  83.83206069  96.90012951  97.7886159  108.52153888]]\n"
     ]
    }
   ],
   "source": [
    "print(distances)"
   ],
   "metadata": {
    "collapsed": false,
    "ExecuteTime": {
     "end_time": "2024-04-30T22:49:13.183463Z",
     "start_time": "2024-04-30T22:49:13.160903Z"
    }
   },
   "id": "b89ae02f0443d470"
  },
  {
   "cell_type": "code",
   "execution_count": 432,
   "outputs": [
    {
     "data": {
      "text/plain": "                         School_name      city   zipcode  elementary_school  \\\n98   Intelli-School - Paradise Valley   Phoenix    85022                  0   \n193      Sunrise Mountain High School    Peoria    85382                  0   \n65                Gilbert High School   Gilbert    85234                  0   \n208            Washington High School   Phoenix    85021                  0   \n199        Tolleson Union High School  Tolleson    85353                  0   \n\n     intermediate_school  middle_school  high_school  school_grade  \\\n98                     0              0            1             4   \n193                    0              1            1             5   \n65                     0              1            1             4   \n208                    0              0            1             4   \n199                    0              0            1             4   \n\n     title_i_status  total_students  ...  \\\n98                1              62  ...   \n193               0            2018  ...   \n65                0            2350  ...   \n208               1            1758  ...   \n199               1            2256  ...   \n\n                                     sports_facilities  \\\n98                               ['No data available']   \n193  ['Badminton', 'Baseball', 'Basketball', 'Cross...   \n65   ['Badminton', 'Baseball', 'Basketball', 'Cross...   \n208  ['Badminton', 'Baseball', 'Basketball', 'Cross...   \n199  ['Baseball', 'Basketball', 'Cross-Country', 'F...   \n\n                                      music_facilities  \\\n98                               ['No data available']   \n193  ['Art', 'Band', 'Ceramics/Sculpting', 'Choir',...   \n65   ['Art', 'Band', 'Ceramics/Sculpting', 'Choir',...   \n208  ['Art', 'Band', 'Ceramics/Sculpting', 'Choir',...   \n199  ['Art', 'Band', 'Ceramics/Sculpting', 'Choir',...   \n\n                            after_school_opportunities  \\\n98   ['Career Focus', 'chevron_right', 'West MEC', ...   \n193                              ['No data available']   \n65   ['Academic', 'chevron_right', 'AVID', 'chevron...   \n208  ['Academic', 'chevron_right', 'French Club', '...   \n199  ['Academic', 'chevron_right', 'National Honor ...   \n\n                                      other_facilities  \\\n98      ['Dedicated Counselors', 'chevron_right', '1']   \n193  ['Art Room', 'Auditorium', 'Book Store', 'Cafe...   \n65   ['Art Room', 'Auditorium', 'Book Store', 'Cafe...   \n208  ['Art Room', 'Auditorium', 'Book Store', 'Cafe...   \n199  ['Art Room', 'Auditorium', 'Book Store', 'Cafe...   \n\n                                      student_services  acad_focus_1  \\\n98                               ['No data available']             0   \n193                              ['No data available']             0   \n65                               ['No data available']             1   \n208                              ['No data available']             0   \n199  ['Dedicated School Counselor', 'chevron_right'...             0   \n\n     acad_focus_2  acad_focus_3  acad_focus_4  acad_focus_5  \n98              0             0             0             0  \n193             0             0             0             0  \n65              1             1             1             1  \n208             0             0             0             0  \n199             0             0             0             0  \n\n[5 rows x 50 columns]",
      "text/html": "<div>\n<style scoped>\n    .dataframe tbody tr th:only-of-type {\n        vertical-align: middle;\n    }\n\n    .dataframe tbody tr th {\n        vertical-align: top;\n    }\n\n    .dataframe thead th {\n        text-align: right;\n    }\n</style>\n<table border=\"1\" class=\"dataframe\">\n  <thead>\n    <tr style=\"text-align: right;\">\n      <th></th>\n      <th>School_name</th>\n      <th>city</th>\n      <th>zipcode</th>\n      <th>elementary_school</th>\n      <th>intermediate_school</th>\n      <th>middle_school</th>\n      <th>high_school</th>\n      <th>school_grade</th>\n      <th>title_i_status</th>\n      <th>total_students</th>\n      <th>...</th>\n      <th>sports_facilities</th>\n      <th>music_facilities</th>\n      <th>after_school_opportunities</th>\n      <th>other_facilities</th>\n      <th>student_services</th>\n      <th>acad_focus_1</th>\n      <th>acad_focus_2</th>\n      <th>acad_focus_3</th>\n      <th>acad_focus_4</th>\n      <th>acad_focus_5</th>\n    </tr>\n  </thead>\n  <tbody>\n    <tr>\n      <th>98</th>\n      <td>Intelli-School - Paradise Valley</td>\n      <td>Phoenix</td>\n      <td>85022</td>\n      <td>0</td>\n      <td>0</td>\n      <td>0</td>\n      <td>1</td>\n      <td>4</td>\n      <td>1</td>\n      <td>62</td>\n      <td>...</td>\n      <td>['No data available']</td>\n      <td>['No data available']</td>\n      <td>['Career Focus', 'chevron_right', 'West MEC', ...</td>\n      <td>['Dedicated Counselors', 'chevron_right', '1']</td>\n      <td>['No data available']</td>\n      <td>0</td>\n      <td>0</td>\n      <td>0</td>\n      <td>0</td>\n      <td>0</td>\n    </tr>\n    <tr>\n      <th>193</th>\n      <td>Sunrise Mountain High School</td>\n      <td>Peoria</td>\n      <td>85382</td>\n      <td>0</td>\n      <td>0</td>\n      <td>1</td>\n      <td>1</td>\n      <td>5</td>\n      <td>0</td>\n      <td>2018</td>\n      <td>...</td>\n      <td>['Badminton', 'Baseball', 'Basketball', 'Cross...</td>\n      <td>['Art', 'Band', 'Ceramics/Sculpting', 'Choir',...</td>\n      <td>['No data available']</td>\n      <td>['Art Room', 'Auditorium', 'Book Store', 'Cafe...</td>\n      <td>['No data available']</td>\n      <td>0</td>\n      <td>0</td>\n      <td>0</td>\n      <td>0</td>\n      <td>0</td>\n    </tr>\n    <tr>\n      <th>65</th>\n      <td>Gilbert High School</td>\n      <td>Gilbert</td>\n      <td>85234</td>\n      <td>0</td>\n      <td>0</td>\n      <td>1</td>\n      <td>1</td>\n      <td>4</td>\n      <td>0</td>\n      <td>2350</td>\n      <td>...</td>\n      <td>['Badminton', 'Baseball', 'Basketball', 'Cross...</td>\n      <td>['Art', 'Band', 'Ceramics/Sculpting', 'Choir',...</td>\n      <td>['Academic', 'chevron_right', 'AVID', 'chevron...</td>\n      <td>['Art Room', 'Auditorium', 'Book Store', 'Cafe...</td>\n      <td>['No data available']</td>\n      <td>1</td>\n      <td>1</td>\n      <td>1</td>\n      <td>1</td>\n      <td>1</td>\n    </tr>\n    <tr>\n      <th>208</th>\n      <td>Washington High School</td>\n      <td>Phoenix</td>\n      <td>85021</td>\n      <td>0</td>\n      <td>0</td>\n      <td>0</td>\n      <td>1</td>\n      <td>4</td>\n      <td>1</td>\n      <td>1758</td>\n      <td>...</td>\n      <td>['Badminton', 'Baseball', 'Basketball', 'Cross...</td>\n      <td>['Art', 'Band', 'Ceramics/Sculpting', 'Choir',...</td>\n      <td>['Academic', 'chevron_right', 'French Club', '...</td>\n      <td>['Art Room', 'Auditorium', 'Book Store', 'Cafe...</td>\n      <td>['No data available']</td>\n      <td>0</td>\n      <td>0</td>\n      <td>0</td>\n      <td>0</td>\n      <td>0</td>\n    </tr>\n    <tr>\n      <th>199</th>\n      <td>Tolleson Union High School</td>\n      <td>Tolleson</td>\n      <td>85353</td>\n      <td>0</td>\n      <td>0</td>\n      <td>0</td>\n      <td>1</td>\n      <td>4</td>\n      <td>1</td>\n      <td>2256</td>\n      <td>...</td>\n      <td>['Baseball', 'Basketball', 'Cross-Country', 'F...</td>\n      <td>['Art', 'Band', 'Ceramics/Sculpting', 'Choir',...</td>\n      <td>['Academic', 'chevron_right', 'National Honor ...</td>\n      <td>['Art Room', 'Auditorium', 'Book Store', 'Cafe...</td>\n      <td>['Dedicated School Counselor', 'chevron_right'...</td>\n      <td>0</td>\n      <td>0</td>\n      <td>0</td>\n      <td>0</td>\n      <td>0</td>\n    </tr>\n  </tbody>\n</table>\n<p>5 rows × 50 columns</p>\n</div>"
     },
     "execution_count": 432,
     "metadata": {},
     "output_type": "execute_result"
    }
   ],
   "source": [
    "# Fit the model\n",
    "rf = RandomForestClassifier(n_estimators=5)\n",
    "rf.fit(school_additional_data, school_add_output_data['School_name '])\n",
    "\n",
    "# Get a prediction from each tree in the forest\n",
    "predictions = [tree.predict(add_test) for tree in rf.estimators_]\n",
    "\n",
    "# Print the predictions\n",
    "output_index = []\n",
    "for prediction in predictions:\n",
    "    output_index.append(int(prediction[0]))\n",
    "\n",
    "school_additional_raw_data.loc[output_index]"
   ],
   "metadata": {
    "collapsed": false,
    "ExecuteTime": {
     "end_time": "2024-05-01T05:22:55.838679Z",
     "start_time": "2024-05-01T05:22:55.788801Z"
    }
   },
   "id": "ce4b20698ad6380e"
  },
  {
   "cell_type": "code",
   "execution_count": 433,
   "outputs": [
    {
     "data": {
      "text/plain": "                      School_name      city   zipcode  elementary_school  \\\n34       Copper Canyon High School  Glendale    85305                  0   \n107  La Joya Community High School  Avondale    85353                  0   \n120         Metro Tech High School   Phoenix    85015                  0   \n131              North High School   Phoenix    85014                  0   \n212           Westview High School  Avondale    85353                  0   \n\n     intermediate_school  middle_school  high_school  school_grade  \\\n34                     0              0            1             4   \n107                    0              0            1             4   \n120                    0              0            1             5   \n131                    0              0            1             3   \n212                    0              0            1             4   \n\n     title_i_status  total_students  ...  \\\n34                1            2157  ...   \n107               1            2078  ...   \n120               1            1804  ...   \n131               1            2135  ...   \n212               1            1864  ...   \n\n                                     sports_facilities  \\\n34   ['Baseball', 'Basketball', 'Cross-Country', 'F...   \n107  ['Baseball', 'Basketball', 'Cross-Country', 'F...   \n120  ['Baseball', 'Basketball', 'Cross-Country', 'G...   \n131  ['Baseball', 'Basketball', 'Cross-Country', 'F...   \n212  ['Baseball', 'Basketball', 'Cross-Country', 'F...   \n\n                                      music_facilities  \\\n34   ['Art', 'Band', 'Ceramics/Sculpting', 'Choir',...   \n107  ['Art', 'Band', 'Ceramics/Sculpting', 'Choir',...   \n120  ['Art', 'Dance', 'Theater', 'Others', 'chevron...   \n131  ['Art', 'Band', 'Ceramics/Sculpting', 'Choir',...   \n212  ['Art', 'Band', 'Ceramics/Sculpting', 'Choir',...   \n\n                            after_school_opportunities  \\\n34   ['Academic', 'chevron_right', 'National Honor ...   \n107  ['Academic', 'chevron_right', 'National Honor ...   \n120  ['Academic', 'chevron_right', 'Physics (Fyzyx)...   \n131  ['Academic', 'chevron_right', 'NHS', 'chevron_...   \n212  ['Academic', 'chevron_right', 'National Honor ...   \n\n                                      other_facilities  \\\n34   ['Art Room', 'Auditorium', 'Book Store', 'Cafe...   \n107  ['Art Room', 'Auditorium', 'Book Store', 'Cafe...   \n120  ['Art Room', 'Book Store', 'Cafeteria (Onsite ...   \n131  ['Art Room', 'Auditorium', 'Book Store', 'Cafe...   \n212  ['Art Room', 'Auditorium', 'Book Store', 'Cafe...   \n\n                                      student_services  acad_focus_1  \\\n34                               ['No data available']             0   \n107                              ['No data available']             0   \n120  ['Dedicated School Counselor', 'chevron_right'...             1   \n131  ['Dedicated School Counselor', 'chevron_right'...             1   \n212                              ['No data available']             0   \n\n     acad_focus_2  acad_focus_3  acad_focus_4  acad_focus_5  \n34              0             0             0             0  \n107             0             0             0             0  \n120             1             1             1             1  \n131             1             1             1             1  \n212             0             0             0             0  \n\n[5 rows x 50 columns]",
      "text/html": "<div>\n<style scoped>\n    .dataframe tbody tr th:only-of-type {\n        vertical-align: middle;\n    }\n\n    .dataframe tbody tr th {\n        vertical-align: top;\n    }\n\n    .dataframe thead th {\n        text-align: right;\n    }\n</style>\n<table border=\"1\" class=\"dataframe\">\n  <thead>\n    <tr style=\"text-align: right;\">\n      <th></th>\n      <th>School_name</th>\n      <th>city</th>\n      <th>zipcode</th>\n      <th>elementary_school</th>\n      <th>intermediate_school</th>\n      <th>middle_school</th>\n      <th>high_school</th>\n      <th>school_grade</th>\n      <th>title_i_status</th>\n      <th>total_students</th>\n      <th>...</th>\n      <th>sports_facilities</th>\n      <th>music_facilities</th>\n      <th>after_school_opportunities</th>\n      <th>other_facilities</th>\n      <th>student_services</th>\n      <th>acad_focus_1</th>\n      <th>acad_focus_2</th>\n      <th>acad_focus_3</th>\n      <th>acad_focus_4</th>\n      <th>acad_focus_5</th>\n    </tr>\n  </thead>\n  <tbody>\n    <tr>\n      <th>34</th>\n      <td>Copper Canyon High School</td>\n      <td>Glendale</td>\n      <td>85305</td>\n      <td>0</td>\n      <td>0</td>\n      <td>0</td>\n      <td>1</td>\n      <td>4</td>\n      <td>1</td>\n      <td>2157</td>\n      <td>...</td>\n      <td>['Baseball', 'Basketball', 'Cross-Country', 'F...</td>\n      <td>['Art', 'Band', 'Ceramics/Sculpting', 'Choir',...</td>\n      <td>['Academic', 'chevron_right', 'National Honor ...</td>\n      <td>['Art Room', 'Auditorium', 'Book Store', 'Cafe...</td>\n      <td>['No data available']</td>\n      <td>0</td>\n      <td>0</td>\n      <td>0</td>\n      <td>0</td>\n      <td>0</td>\n    </tr>\n    <tr>\n      <th>107</th>\n      <td>La Joya Community High School</td>\n      <td>Avondale</td>\n      <td>85353</td>\n      <td>0</td>\n      <td>0</td>\n      <td>0</td>\n      <td>1</td>\n      <td>4</td>\n      <td>1</td>\n      <td>2078</td>\n      <td>...</td>\n      <td>['Baseball', 'Basketball', 'Cross-Country', 'F...</td>\n      <td>['Art', 'Band', 'Ceramics/Sculpting', 'Choir',...</td>\n      <td>['Academic', 'chevron_right', 'National Honor ...</td>\n      <td>['Art Room', 'Auditorium', 'Book Store', 'Cafe...</td>\n      <td>['No data available']</td>\n      <td>0</td>\n      <td>0</td>\n      <td>0</td>\n      <td>0</td>\n      <td>0</td>\n    </tr>\n    <tr>\n      <th>120</th>\n      <td>Metro Tech High School</td>\n      <td>Phoenix</td>\n      <td>85015</td>\n      <td>0</td>\n      <td>0</td>\n      <td>0</td>\n      <td>1</td>\n      <td>5</td>\n      <td>1</td>\n      <td>1804</td>\n      <td>...</td>\n      <td>['Baseball', 'Basketball', 'Cross-Country', 'G...</td>\n      <td>['Art', 'Dance', 'Theater', 'Others', 'chevron...</td>\n      <td>['Academic', 'chevron_right', 'Physics (Fyzyx)...</td>\n      <td>['Art Room', 'Book Store', 'Cafeteria (Onsite ...</td>\n      <td>['Dedicated School Counselor', 'chevron_right'...</td>\n      <td>1</td>\n      <td>1</td>\n      <td>1</td>\n      <td>1</td>\n      <td>1</td>\n    </tr>\n    <tr>\n      <th>131</th>\n      <td>North High School</td>\n      <td>Phoenix</td>\n      <td>85014</td>\n      <td>0</td>\n      <td>0</td>\n      <td>0</td>\n      <td>1</td>\n      <td>3</td>\n      <td>1</td>\n      <td>2135</td>\n      <td>...</td>\n      <td>['Baseball', 'Basketball', 'Cross-Country', 'F...</td>\n      <td>['Art', 'Band', 'Ceramics/Sculpting', 'Choir',...</td>\n      <td>['Academic', 'chevron_right', 'NHS', 'chevron_...</td>\n      <td>['Art Room', 'Auditorium', 'Book Store', 'Cafe...</td>\n      <td>['Dedicated School Counselor', 'chevron_right'...</td>\n      <td>1</td>\n      <td>1</td>\n      <td>1</td>\n      <td>1</td>\n      <td>1</td>\n    </tr>\n    <tr>\n      <th>212</th>\n      <td>Westview High School</td>\n      <td>Avondale</td>\n      <td>85353</td>\n      <td>0</td>\n      <td>0</td>\n      <td>0</td>\n      <td>1</td>\n      <td>4</td>\n      <td>1</td>\n      <td>1864</td>\n      <td>...</td>\n      <td>['Baseball', 'Basketball', 'Cross-Country', 'F...</td>\n      <td>['Art', 'Band', 'Ceramics/Sculpting', 'Choir',...</td>\n      <td>['Academic', 'chevron_right', 'National Honor ...</td>\n      <td>['Art Room', 'Auditorium', 'Book Store', 'Cafe...</td>\n      <td>['No data available']</td>\n      <td>0</td>\n      <td>0</td>\n      <td>0</td>\n      <td>0</td>\n      <td>0</td>\n    </tr>\n  </tbody>\n</table>\n<p>5 rows × 50 columns</p>\n</div>"
     },
     "execution_count": 433,
     "metadata": {},
     "output_type": "execute_result"
    }
   ],
   "source": [
    "\n",
    "import numpy as np\n",
    "\n",
    "svc = SVC(probability=True)\n",
    "svc.fit(school_additional_data, school_add_output_data['School_name '])\n",
    "\n",
    "probabilities = svc.predict_proba(add_test)\n",
    "\n",
    "top5_indices = np.argsort(probabilities, axis=1)[:, -5:]\n",
    "\n",
    "classes = svc.classes_\n",
    "\n",
    "top5_classes = classes[top5_indices]\n",
    "school_additional_raw_data[school_additional_raw_data['School_name '].isin(top5_classes[0])]"
   ],
   "metadata": {
    "collapsed": false,
    "ExecuteTime": {
     "end_time": "2024-05-01T05:23:11.269588Z",
     "start_time": "2024-05-01T05:23:10.471566Z"
    }
   },
   "id": "13dbb20f4dc3c166"
  }
 ],
 "metadata": {
  "kernelspec": {
   "display_name": "Python 3",
   "language": "python",
   "name": "python3"
  },
  "language_info": {
   "codemirror_mode": {
    "name": "ipython",
    "version": 2
   },
   "file_extension": ".py",
   "mimetype": "text/x-python",
   "name": "python",
   "nbconvert_exporter": "python",
   "pygments_lexer": "ipython2",
   "version": "2.7.6"
  }
 },
 "nbformat": 4,
 "nbformat_minor": 5
}
