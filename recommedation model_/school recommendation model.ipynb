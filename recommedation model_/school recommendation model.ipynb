{
 "cells": [
  {
   "cell_type": "code",
   "execution_count": 447,
   "id": "initial_id",
   "metadata": {
    "collapsed": true,
    "jupyter": {
     "outputs_hidden": true
    },
    "ExecuteTime": {
     "end_time": "2024-05-03T03:50:22.087427Z",
     "start_time": "2024-05-03T03:50:21.725079Z"
    }
   },
   "outputs": [],
   "source": [
    "import pandas as pd\n",
    "from sklearn.preprocessing import LabelEncoder\n",
    "from sklearn.neighbors import KNeighborsClassifier\n",
    "from sklearn.ensemble import RandomForestClassifier\n",
    "from sklearn.svm import SVC\n",
    "import ast\n",
    "from sklearn.preprocessing import MultiLabelBinarizer\n",
    "import re\n",
    "import numpy as np\n",
    "from sklearn.preprocessing import StandardScaler \n"
   ]
  },
  {
   "cell_type": "code",
   "execution_count": 448,
   "id": "54ac8e79d5a53412",
   "metadata": {
    "collapsed": false,
    "ExecuteTime": {
     "end_time": "2024-05-03T03:50:22.103285Z",
     "start_time": "2024-05-03T03:50:21.747355Z"
    }
   },
   "outputs": [],
   "source": [
    "school_raw_data = pd.read_csv(\"../511_project_Step_3.csv\")\n"
   ]
  },
  {
   "cell_type": "code",
   "execution_count": 449,
   "id": "2fdc1becb6337ce1",
   "metadata": {
    "collapsed": false,
    "ExecuteTime": {
     "end_time": "2024-05-03T03:50:22.104299Z",
     "start_time": "2024-05-03T03:50:21.811114Z"
    }
   },
   "outputs": [
    {
     "data": {
      "text/plain": "                       School_name      city  zipcode  elementary_school  \\\n0  Academy with Community Partners      Mesa    85203                  0   \n1      Accelerated Learning Center   Phoenix    85028                  0   \n2            Agua Fria High School  Avondale    85323                  0   \n3             Alhambra High School   Phoenix    85019                  0   \n4               Apollo High School  Glendale    85302                  0   \n\n   intermediate_school  middle_school  high_school  school_grade  \\\n0                    0              0            1             4   \n1                    0              0            1             5   \n2                    0              0            1             4   \n3                    0              0            1             3   \n4                    0              0            1             4   \n\n   title_i_status  total_students  ...  personnel_federal_expenditure  \\\n0               1             169  ...                           0.00   \n1               0             153  ...                         361.34   \n2               1            1653  ...                        1015.26   \n3               1            2283  ...                         750.23   \n4               1            2198  ...                        1084.03   \n\n   personnel_state_and_local_expenditure  non_personnel_federal_expenditure  \\\n0                               10009.70                               0.00   \n1                                7245.17                              47.33   \n2                                8781.97                             133.17   \n3                                8190.89                              73.03   \n4                                7182.71                             175.34   \n\n   non_personnel_state_and_local_expenditure  total_per_pupil_expenditure  \\\n0                                    1006.65                     10028.44   \n1                                    2374.60                     10028.44   \n2                                     884.04                     10814.43   \n3                                     183.81                      9197.96   \n4                                     783.21                      9225.29   \n\n   acad_focus_1  acad_focus_2  acad_focus_3  acad_focus_4  acad_focus_5  \n0             1             1             1             1             1  \n1             1             1             1             1             1  \n2             1             1             1             1             1  \n3             1             1             1             1             1  \n4             0             0             0             0             0  \n\n[5 rows x 43 columns]",
      "text/html": "<div>\n<style scoped>\n    .dataframe tbody tr th:only-of-type {\n        vertical-align: middle;\n    }\n\n    .dataframe tbody tr th {\n        vertical-align: top;\n    }\n\n    .dataframe thead th {\n        text-align: right;\n    }\n</style>\n<table border=\"1\" class=\"dataframe\">\n  <thead>\n    <tr style=\"text-align: right;\">\n      <th></th>\n      <th>School_name</th>\n      <th>city</th>\n      <th>zipcode</th>\n      <th>elementary_school</th>\n      <th>intermediate_school</th>\n      <th>middle_school</th>\n      <th>high_school</th>\n      <th>school_grade</th>\n      <th>title_i_status</th>\n      <th>total_students</th>\n      <th>...</th>\n      <th>personnel_federal_expenditure</th>\n      <th>personnel_state_and_local_expenditure</th>\n      <th>non_personnel_federal_expenditure</th>\n      <th>non_personnel_state_and_local_expenditure</th>\n      <th>total_per_pupil_expenditure</th>\n      <th>acad_focus_1</th>\n      <th>acad_focus_2</th>\n      <th>acad_focus_3</th>\n      <th>acad_focus_4</th>\n      <th>acad_focus_5</th>\n    </tr>\n  </thead>\n  <tbody>\n    <tr>\n      <th>0</th>\n      <td>Academy with Community Partners</td>\n      <td>Mesa</td>\n      <td>85203</td>\n      <td>0</td>\n      <td>0</td>\n      <td>0</td>\n      <td>1</td>\n      <td>4</td>\n      <td>1</td>\n      <td>169</td>\n      <td>...</td>\n      <td>0.00</td>\n      <td>10009.70</td>\n      <td>0.00</td>\n      <td>1006.65</td>\n      <td>10028.44</td>\n      <td>1</td>\n      <td>1</td>\n      <td>1</td>\n      <td>1</td>\n      <td>1</td>\n    </tr>\n    <tr>\n      <th>1</th>\n      <td>Accelerated Learning Center</td>\n      <td>Phoenix</td>\n      <td>85028</td>\n      <td>0</td>\n      <td>0</td>\n      <td>0</td>\n      <td>1</td>\n      <td>5</td>\n      <td>0</td>\n      <td>153</td>\n      <td>...</td>\n      <td>361.34</td>\n      <td>7245.17</td>\n      <td>47.33</td>\n      <td>2374.60</td>\n      <td>10028.44</td>\n      <td>1</td>\n      <td>1</td>\n      <td>1</td>\n      <td>1</td>\n      <td>1</td>\n    </tr>\n    <tr>\n      <th>2</th>\n      <td>Agua Fria High School</td>\n      <td>Avondale</td>\n      <td>85323</td>\n      <td>0</td>\n      <td>0</td>\n      <td>0</td>\n      <td>1</td>\n      <td>4</td>\n      <td>1</td>\n      <td>1653</td>\n      <td>...</td>\n      <td>1015.26</td>\n      <td>8781.97</td>\n      <td>133.17</td>\n      <td>884.04</td>\n      <td>10814.43</td>\n      <td>1</td>\n      <td>1</td>\n      <td>1</td>\n      <td>1</td>\n      <td>1</td>\n    </tr>\n    <tr>\n      <th>3</th>\n      <td>Alhambra High School</td>\n      <td>Phoenix</td>\n      <td>85019</td>\n      <td>0</td>\n      <td>0</td>\n      <td>0</td>\n      <td>1</td>\n      <td>3</td>\n      <td>1</td>\n      <td>2283</td>\n      <td>...</td>\n      <td>750.23</td>\n      <td>8190.89</td>\n      <td>73.03</td>\n      <td>183.81</td>\n      <td>9197.96</td>\n      <td>1</td>\n      <td>1</td>\n      <td>1</td>\n      <td>1</td>\n      <td>1</td>\n    </tr>\n    <tr>\n      <th>4</th>\n      <td>Apollo High School</td>\n      <td>Glendale</td>\n      <td>85302</td>\n      <td>0</td>\n      <td>0</td>\n      <td>0</td>\n      <td>1</td>\n      <td>4</td>\n      <td>1</td>\n      <td>2198</td>\n      <td>...</td>\n      <td>1084.03</td>\n      <td>7182.71</td>\n      <td>175.34</td>\n      <td>783.21</td>\n      <td>9225.29</td>\n      <td>0</td>\n      <td>0</td>\n      <td>0</td>\n      <td>0</td>\n      <td>0</td>\n    </tr>\n  </tbody>\n</table>\n<p>5 rows × 43 columns</p>\n</div>"
     },
     "execution_count": 449,
     "metadata": {},
     "output_type": "execute_result"
    }
   ],
   "source": [
    "school_raw_data.head(5)"
   ]
  },
  {
   "cell_type": "code",
   "execution_count": 450,
   "id": "43d9b8a3c0c36c02",
   "metadata": {
    "collapsed": false,
    "ExecuteTime": {
     "end_time": "2024-05-03T03:50:22.104807Z",
     "start_time": "2024-05-03T03:50:21.826949Z"
    }
   },
   "outputs": [
    {
     "data": {
      "text/plain": "                         School_name        city  zipcode  elementary_school  \\\n0    Academy with Community Partners        Mesa    85203                  0   \n1        Accelerated Learning Center     Phoenix    85028                  0   \n2              Agua Fria High School    Avondale    85323                  0   \n3               Alhambra High School     Phoenix    85019                  0   \n4                 Apollo High School    Glendale    85302                  0   \n..                               ...         ...      ...                ...   \n215       Wickenburg Virtual Academy  Wickenburg    85390                  1   \n216       Williams Field High School      Higley    85236                  0   \n217        Willis Junior High School    Chandler    85225                  0   \n218        Willow Canyon High School    Surprise    85374                  0   \n219             Youngker High School     Buckeye    85326                  0   \n\n     intermediate_school  middle_school  high_school  school_grade  \\\n0                      0              0            1             4   \n1                      0              0            1             5   \n2                      0              0            1             4   \n3                      0              0            1             3   \n4                      0              0            1             4   \n..                   ...            ...          ...           ...   \n215                    1              1            1             4   \n216                    0              1            1             5   \n217                    0              1            0             4   \n218                    0              1            1             5   \n219                    0              0            1             5   \n\n     title_i_status  total_students  ...  personnel_federal_expenditure  \\\n0                 1             169  ...                           0.00   \n1                 0             153  ...                         361.34   \n2                 1            1653  ...                        1015.26   \n3                 1            2283  ...                         750.23   \n4                 1            2198  ...                        1084.03   \n..              ...             ...  ...                            ...   \n215               0              78  ...                           0.00   \n216               0            2115  ...                         589.04   \n217               1             858  ...                         807.22   \n218               0            1787  ...                         567.63   \n219               1            2107  ...                         263.13   \n\n     personnel_state_and_local_expenditure  non_personnel_federal_expenditure  \\\n0                                 10009.70                               0.00   \n1                                  7245.17                              47.33   \n2                                  8781.97                             133.17   \n3                                  8190.89                              73.03   \n4                                  7182.71                             175.34   \n..                                     ...                                ...   \n215                               10009.70                               0.00   \n216                                6206.66                             131.67   \n217                                7093.56                             141.18   \n218                                7535.96                             541.30   \n219                                4703.99                               5.26   \n\n     non_personnel_state_and_local_expenditure  total_per_pupil_expenditure  \\\n0                                      1006.65                     10028.44   \n1                                      2374.60                     10028.44   \n2                                       884.04                     10814.43   \n3                                       183.81                      9197.96   \n4                                       783.21                      9225.29   \n..                                         ...                          ...   \n215                                    1006.65                     10028.44   \n216                                    1282.88                      8210.26   \n217                                     741.24                      8783.20   \n218                                    1460.76                     10105.66   \n219                                     135.97                      5108.35   \n\n     acad_focus_1  acad_focus_2  acad_focus_3  acad_focus_4  acad_focus_5  \n0               1             1             1             1             1  \n1               1             1             1             1             1  \n2               1             1             1             1             1  \n3               1             1             1             1             1  \n4               0             0             0             0             0  \n..            ...           ...           ...           ...           ...  \n215             0             0             0             0             0  \n216             0             0             0             0             0  \n217             1             1             1             1             1  \n218             1             1             1             1             1  \n219             1             1             1             1             1  \n\n[220 rows x 43 columns]",
      "text/html": "<div>\n<style scoped>\n    .dataframe tbody tr th:only-of-type {\n        vertical-align: middle;\n    }\n\n    .dataframe tbody tr th {\n        vertical-align: top;\n    }\n\n    .dataframe thead th {\n        text-align: right;\n    }\n</style>\n<table border=\"1\" class=\"dataframe\">\n  <thead>\n    <tr style=\"text-align: right;\">\n      <th></th>\n      <th>School_name</th>\n      <th>city</th>\n      <th>zipcode</th>\n      <th>elementary_school</th>\n      <th>intermediate_school</th>\n      <th>middle_school</th>\n      <th>high_school</th>\n      <th>school_grade</th>\n      <th>title_i_status</th>\n      <th>total_students</th>\n      <th>...</th>\n      <th>personnel_federal_expenditure</th>\n      <th>personnel_state_and_local_expenditure</th>\n      <th>non_personnel_federal_expenditure</th>\n      <th>non_personnel_state_and_local_expenditure</th>\n      <th>total_per_pupil_expenditure</th>\n      <th>acad_focus_1</th>\n      <th>acad_focus_2</th>\n      <th>acad_focus_3</th>\n      <th>acad_focus_4</th>\n      <th>acad_focus_5</th>\n    </tr>\n  </thead>\n  <tbody>\n    <tr>\n      <th>0</th>\n      <td>Academy with Community Partners</td>\n      <td>Mesa</td>\n      <td>85203</td>\n      <td>0</td>\n      <td>0</td>\n      <td>0</td>\n      <td>1</td>\n      <td>4</td>\n      <td>1</td>\n      <td>169</td>\n      <td>...</td>\n      <td>0.00</td>\n      <td>10009.70</td>\n      <td>0.00</td>\n      <td>1006.65</td>\n      <td>10028.44</td>\n      <td>1</td>\n      <td>1</td>\n      <td>1</td>\n      <td>1</td>\n      <td>1</td>\n    </tr>\n    <tr>\n      <th>1</th>\n      <td>Accelerated Learning Center</td>\n      <td>Phoenix</td>\n      <td>85028</td>\n      <td>0</td>\n      <td>0</td>\n      <td>0</td>\n      <td>1</td>\n      <td>5</td>\n      <td>0</td>\n      <td>153</td>\n      <td>...</td>\n      <td>361.34</td>\n      <td>7245.17</td>\n      <td>47.33</td>\n      <td>2374.60</td>\n      <td>10028.44</td>\n      <td>1</td>\n      <td>1</td>\n      <td>1</td>\n      <td>1</td>\n      <td>1</td>\n    </tr>\n    <tr>\n      <th>2</th>\n      <td>Agua Fria High School</td>\n      <td>Avondale</td>\n      <td>85323</td>\n      <td>0</td>\n      <td>0</td>\n      <td>0</td>\n      <td>1</td>\n      <td>4</td>\n      <td>1</td>\n      <td>1653</td>\n      <td>...</td>\n      <td>1015.26</td>\n      <td>8781.97</td>\n      <td>133.17</td>\n      <td>884.04</td>\n      <td>10814.43</td>\n      <td>1</td>\n      <td>1</td>\n      <td>1</td>\n      <td>1</td>\n      <td>1</td>\n    </tr>\n    <tr>\n      <th>3</th>\n      <td>Alhambra High School</td>\n      <td>Phoenix</td>\n      <td>85019</td>\n      <td>0</td>\n      <td>0</td>\n      <td>0</td>\n      <td>1</td>\n      <td>3</td>\n      <td>1</td>\n      <td>2283</td>\n      <td>...</td>\n      <td>750.23</td>\n      <td>8190.89</td>\n      <td>73.03</td>\n      <td>183.81</td>\n      <td>9197.96</td>\n      <td>1</td>\n      <td>1</td>\n      <td>1</td>\n      <td>1</td>\n      <td>1</td>\n    </tr>\n    <tr>\n      <th>4</th>\n      <td>Apollo High School</td>\n      <td>Glendale</td>\n      <td>85302</td>\n      <td>0</td>\n      <td>0</td>\n      <td>0</td>\n      <td>1</td>\n      <td>4</td>\n      <td>1</td>\n      <td>2198</td>\n      <td>...</td>\n      <td>1084.03</td>\n      <td>7182.71</td>\n      <td>175.34</td>\n      <td>783.21</td>\n      <td>9225.29</td>\n      <td>0</td>\n      <td>0</td>\n      <td>0</td>\n      <td>0</td>\n      <td>0</td>\n    </tr>\n    <tr>\n      <th>...</th>\n      <td>...</td>\n      <td>...</td>\n      <td>...</td>\n      <td>...</td>\n      <td>...</td>\n      <td>...</td>\n      <td>...</td>\n      <td>...</td>\n      <td>...</td>\n      <td>...</td>\n      <td>...</td>\n      <td>...</td>\n      <td>...</td>\n      <td>...</td>\n      <td>...</td>\n      <td>...</td>\n      <td>...</td>\n      <td>...</td>\n      <td>...</td>\n      <td>...</td>\n      <td>...</td>\n    </tr>\n    <tr>\n      <th>215</th>\n      <td>Wickenburg Virtual Academy</td>\n      <td>Wickenburg</td>\n      <td>85390</td>\n      <td>1</td>\n      <td>1</td>\n      <td>1</td>\n      <td>1</td>\n      <td>4</td>\n      <td>0</td>\n      <td>78</td>\n      <td>...</td>\n      <td>0.00</td>\n      <td>10009.70</td>\n      <td>0.00</td>\n      <td>1006.65</td>\n      <td>10028.44</td>\n      <td>0</td>\n      <td>0</td>\n      <td>0</td>\n      <td>0</td>\n      <td>0</td>\n    </tr>\n    <tr>\n      <th>216</th>\n      <td>Williams Field High School</td>\n      <td>Higley</td>\n      <td>85236</td>\n      <td>0</td>\n      <td>0</td>\n      <td>1</td>\n      <td>1</td>\n      <td>5</td>\n      <td>0</td>\n      <td>2115</td>\n      <td>...</td>\n      <td>589.04</td>\n      <td>6206.66</td>\n      <td>131.67</td>\n      <td>1282.88</td>\n      <td>8210.26</td>\n      <td>0</td>\n      <td>0</td>\n      <td>0</td>\n      <td>0</td>\n      <td>0</td>\n    </tr>\n    <tr>\n      <th>217</th>\n      <td>Willis Junior High School</td>\n      <td>Chandler</td>\n      <td>85225</td>\n      <td>0</td>\n      <td>0</td>\n      <td>1</td>\n      <td>0</td>\n      <td>4</td>\n      <td>1</td>\n      <td>858</td>\n      <td>...</td>\n      <td>807.22</td>\n      <td>7093.56</td>\n      <td>141.18</td>\n      <td>741.24</td>\n      <td>8783.20</td>\n      <td>1</td>\n      <td>1</td>\n      <td>1</td>\n      <td>1</td>\n      <td>1</td>\n    </tr>\n    <tr>\n      <th>218</th>\n      <td>Willow Canyon High School</td>\n      <td>Surprise</td>\n      <td>85374</td>\n      <td>0</td>\n      <td>0</td>\n      <td>1</td>\n      <td>1</td>\n      <td>5</td>\n      <td>0</td>\n      <td>1787</td>\n      <td>...</td>\n      <td>567.63</td>\n      <td>7535.96</td>\n      <td>541.30</td>\n      <td>1460.76</td>\n      <td>10105.66</td>\n      <td>1</td>\n      <td>1</td>\n      <td>1</td>\n      <td>1</td>\n      <td>1</td>\n    </tr>\n    <tr>\n      <th>219</th>\n      <td>Youngker High School</td>\n      <td>Buckeye</td>\n      <td>85326</td>\n      <td>0</td>\n      <td>0</td>\n      <td>0</td>\n      <td>1</td>\n      <td>5</td>\n      <td>1</td>\n      <td>2107</td>\n      <td>...</td>\n      <td>263.13</td>\n      <td>4703.99</td>\n      <td>5.26</td>\n      <td>135.97</td>\n      <td>5108.35</td>\n      <td>1</td>\n      <td>1</td>\n      <td>1</td>\n      <td>1</td>\n      <td>1</td>\n    </tr>\n  </tbody>\n</table>\n<p>220 rows × 43 columns</p>\n</div>"
     },
     "execution_count": 450,
     "metadata": {},
     "output_type": "execute_result"
    }
   ],
   "source": [
    "school_data = school_raw_data.copy(deep=True)\n",
    "school_data"
   ]
  },
  {
   "cell_type": "code",
   "execution_count": 451,
   "id": "3d015086162f2bac",
   "metadata": {
    "collapsed": false,
    "ExecuteTime": {
     "end_time": "2024-05-03T03:50:22.105139Z",
     "start_time": "2024-05-03T03:50:21.855561Z"
    }
   },
   "outputs": [
    {
     "data": {
      "text/plain": "                       School_name  city  zipcode  elementary_school  \\\n0  Academy with Community Partners    12    85203                  0   \n1      Accelerated Learning Center    14    85028                  0   \n2            Agua Fria High School     1    85323                  0   \n3             Alhambra High School    14    85019                  0   \n4               Apollo High School     8    85302                  0   \n\n   intermediate_school  middle_school  high_school  school_grade  \\\n0                    0              0            1             4   \n1                    0              0            1             5   \n2                    0              0            1             4   \n3                    0              0            1             3   \n4                    0              0            1             4   \n\n   title_i_status  total_students  ...  personnel_federal_expenditure  \\\n0               1             169  ...                           0.00   \n1               0             153  ...                         361.34   \n2               1            1653  ...                        1015.26   \n3               1            2283  ...                         750.23   \n4               1            2198  ...                        1084.03   \n\n   personnel_state_and_local_expenditure  non_personnel_federal_expenditure  \\\n0                               10009.70                               0.00   \n1                                7245.17                              47.33   \n2                                8781.97                             133.17   \n3                                8190.89                              73.03   \n4                                7182.71                             175.34   \n\n   non_personnel_state_and_local_expenditure  total_per_pupil_expenditure  \\\n0                                    1006.65                     10028.44   \n1                                    2374.60                     10028.44   \n2                                     884.04                     10814.43   \n3                                     183.81                      9197.96   \n4                                     783.21                      9225.29   \n\n   acad_focus_1  acad_focus_2  acad_focus_3  acad_focus_4  acad_focus_5  \n0             1             1             1             1             1  \n1             1             1             1             1             1  \n2             1             1             1             1             1  \n3             1             1             1             1             1  \n4             0             0             0             0             0  \n\n[5 rows x 43 columns]",
      "text/html": "<div>\n<style scoped>\n    .dataframe tbody tr th:only-of-type {\n        vertical-align: middle;\n    }\n\n    .dataframe tbody tr th {\n        vertical-align: top;\n    }\n\n    .dataframe thead th {\n        text-align: right;\n    }\n</style>\n<table border=\"1\" class=\"dataframe\">\n  <thead>\n    <tr style=\"text-align: right;\">\n      <th></th>\n      <th>School_name</th>\n      <th>city</th>\n      <th>zipcode</th>\n      <th>elementary_school</th>\n      <th>intermediate_school</th>\n      <th>middle_school</th>\n      <th>high_school</th>\n      <th>school_grade</th>\n      <th>title_i_status</th>\n      <th>total_students</th>\n      <th>...</th>\n      <th>personnel_federal_expenditure</th>\n      <th>personnel_state_and_local_expenditure</th>\n      <th>non_personnel_federal_expenditure</th>\n      <th>non_personnel_state_and_local_expenditure</th>\n      <th>total_per_pupil_expenditure</th>\n      <th>acad_focus_1</th>\n      <th>acad_focus_2</th>\n      <th>acad_focus_3</th>\n      <th>acad_focus_4</th>\n      <th>acad_focus_5</th>\n    </tr>\n  </thead>\n  <tbody>\n    <tr>\n      <th>0</th>\n      <td>Academy with Community Partners</td>\n      <td>12</td>\n      <td>85203</td>\n      <td>0</td>\n      <td>0</td>\n      <td>0</td>\n      <td>1</td>\n      <td>4</td>\n      <td>1</td>\n      <td>169</td>\n      <td>...</td>\n      <td>0.00</td>\n      <td>10009.70</td>\n      <td>0.00</td>\n      <td>1006.65</td>\n      <td>10028.44</td>\n      <td>1</td>\n      <td>1</td>\n      <td>1</td>\n      <td>1</td>\n      <td>1</td>\n    </tr>\n    <tr>\n      <th>1</th>\n      <td>Accelerated Learning Center</td>\n      <td>14</td>\n      <td>85028</td>\n      <td>0</td>\n      <td>0</td>\n      <td>0</td>\n      <td>1</td>\n      <td>5</td>\n      <td>0</td>\n      <td>153</td>\n      <td>...</td>\n      <td>361.34</td>\n      <td>7245.17</td>\n      <td>47.33</td>\n      <td>2374.60</td>\n      <td>10028.44</td>\n      <td>1</td>\n      <td>1</td>\n      <td>1</td>\n      <td>1</td>\n      <td>1</td>\n    </tr>\n    <tr>\n      <th>2</th>\n      <td>Agua Fria High School</td>\n      <td>1</td>\n      <td>85323</td>\n      <td>0</td>\n      <td>0</td>\n      <td>0</td>\n      <td>1</td>\n      <td>4</td>\n      <td>1</td>\n      <td>1653</td>\n      <td>...</td>\n      <td>1015.26</td>\n      <td>8781.97</td>\n      <td>133.17</td>\n      <td>884.04</td>\n      <td>10814.43</td>\n      <td>1</td>\n      <td>1</td>\n      <td>1</td>\n      <td>1</td>\n      <td>1</td>\n    </tr>\n    <tr>\n      <th>3</th>\n      <td>Alhambra High School</td>\n      <td>14</td>\n      <td>85019</td>\n      <td>0</td>\n      <td>0</td>\n      <td>0</td>\n      <td>1</td>\n      <td>3</td>\n      <td>1</td>\n      <td>2283</td>\n      <td>...</td>\n      <td>750.23</td>\n      <td>8190.89</td>\n      <td>73.03</td>\n      <td>183.81</td>\n      <td>9197.96</td>\n      <td>1</td>\n      <td>1</td>\n      <td>1</td>\n      <td>1</td>\n      <td>1</td>\n    </tr>\n    <tr>\n      <th>4</th>\n      <td>Apollo High School</td>\n      <td>8</td>\n      <td>85302</td>\n      <td>0</td>\n      <td>0</td>\n      <td>0</td>\n      <td>1</td>\n      <td>4</td>\n      <td>1</td>\n      <td>2198</td>\n      <td>...</td>\n      <td>1084.03</td>\n      <td>7182.71</td>\n      <td>175.34</td>\n      <td>783.21</td>\n      <td>9225.29</td>\n      <td>0</td>\n      <td>0</td>\n      <td>0</td>\n      <td>0</td>\n      <td>0</td>\n    </tr>\n  </tbody>\n</table>\n<p>5 rows × 43 columns</p>\n</div>"
     },
     "execution_count": 451,
     "metadata": {},
     "output_type": "execute_result"
    }
   ],
   "source": [
    "\n",
    "city_number_converter = LabelEncoder()\n",
    "school_data['city']= city_number_converter.fit_transform(school_raw_data['city'])\n",
    "school_data.head(5)"
   ]
  },
  {
   "cell_type": "code",
   "execution_count": 452,
   "id": "eff3712737aee07",
   "metadata": {
    "collapsed": false,
    "ExecuteTime": {
     "end_time": "2024-05-03T03:50:22.105465Z",
     "start_time": "2024-05-03T03:50:21.859002Z"
    }
   },
   "outputs": [
    {
     "data": {
      "text/plain": "                       School_name  city  zipcode  elementary_school  \\\n0  Academy with Community Partners    12       38                  0   \n1      Accelerated Learning Center    14       18                  0   \n2            Agua Fria High School     1       81                  0   \n3             Alhambra High School    14       11                  0   \n4               Apollo High School     8       74                  0   \n\n   intermediate_school  middle_school  high_school  school_grade  \\\n0                    0              0            1             4   \n1                    0              0            1             5   \n2                    0              0            1             4   \n3                    0              0            1             3   \n4                    0              0            1             4   \n\n   title_i_status  total_students  ...  personnel_federal_expenditure  \\\n0               1             169  ...                           0.00   \n1               0             153  ...                         361.34   \n2               1            1653  ...                        1015.26   \n3               1            2283  ...                         750.23   \n4               1            2198  ...                        1084.03   \n\n   personnel_state_and_local_expenditure  non_personnel_federal_expenditure  \\\n0                               10009.70                               0.00   \n1                                7245.17                              47.33   \n2                                8781.97                             133.17   \n3                                8190.89                              73.03   \n4                                7182.71                             175.34   \n\n   non_personnel_state_and_local_expenditure  total_per_pupil_expenditure  \\\n0                                    1006.65                     10028.44   \n1                                    2374.60                     10028.44   \n2                                     884.04                     10814.43   \n3                                     183.81                      9197.96   \n4                                     783.21                      9225.29   \n\n   acad_focus_1  acad_focus_2  acad_focus_3  acad_focus_4  acad_focus_5  \n0             1             1             1             1             1  \n1             1             1             1             1             1  \n2             1             1             1             1             1  \n3             1             1             1             1             1  \n4             0             0             0             0             0  \n\n[5 rows x 43 columns]",
      "text/html": "<div>\n<style scoped>\n    .dataframe tbody tr th:only-of-type {\n        vertical-align: middle;\n    }\n\n    .dataframe tbody tr th {\n        vertical-align: top;\n    }\n\n    .dataframe thead th {\n        text-align: right;\n    }\n</style>\n<table border=\"1\" class=\"dataframe\">\n  <thead>\n    <tr style=\"text-align: right;\">\n      <th></th>\n      <th>School_name</th>\n      <th>city</th>\n      <th>zipcode</th>\n      <th>elementary_school</th>\n      <th>intermediate_school</th>\n      <th>middle_school</th>\n      <th>high_school</th>\n      <th>school_grade</th>\n      <th>title_i_status</th>\n      <th>total_students</th>\n      <th>...</th>\n      <th>personnel_federal_expenditure</th>\n      <th>personnel_state_and_local_expenditure</th>\n      <th>non_personnel_federal_expenditure</th>\n      <th>non_personnel_state_and_local_expenditure</th>\n      <th>total_per_pupil_expenditure</th>\n      <th>acad_focus_1</th>\n      <th>acad_focus_2</th>\n      <th>acad_focus_3</th>\n      <th>acad_focus_4</th>\n      <th>acad_focus_5</th>\n    </tr>\n  </thead>\n  <tbody>\n    <tr>\n      <th>0</th>\n      <td>Academy with Community Partners</td>\n      <td>12</td>\n      <td>38</td>\n      <td>0</td>\n      <td>0</td>\n      <td>0</td>\n      <td>1</td>\n      <td>4</td>\n      <td>1</td>\n      <td>169</td>\n      <td>...</td>\n      <td>0.00</td>\n      <td>10009.70</td>\n      <td>0.00</td>\n      <td>1006.65</td>\n      <td>10028.44</td>\n      <td>1</td>\n      <td>1</td>\n      <td>1</td>\n      <td>1</td>\n      <td>1</td>\n    </tr>\n    <tr>\n      <th>1</th>\n      <td>Accelerated Learning Center</td>\n      <td>14</td>\n      <td>18</td>\n      <td>0</td>\n      <td>0</td>\n      <td>0</td>\n      <td>1</td>\n      <td>5</td>\n      <td>0</td>\n      <td>153</td>\n      <td>...</td>\n      <td>361.34</td>\n      <td>7245.17</td>\n      <td>47.33</td>\n      <td>2374.60</td>\n      <td>10028.44</td>\n      <td>1</td>\n      <td>1</td>\n      <td>1</td>\n      <td>1</td>\n      <td>1</td>\n    </tr>\n    <tr>\n      <th>2</th>\n      <td>Agua Fria High School</td>\n      <td>1</td>\n      <td>81</td>\n      <td>0</td>\n      <td>0</td>\n      <td>0</td>\n      <td>1</td>\n      <td>4</td>\n      <td>1</td>\n      <td>1653</td>\n      <td>...</td>\n      <td>1015.26</td>\n      <td>8781.97</td>\n      <td>133.17</td>\n      <td>884.04</td>\n      <td>10814.43</td>\n      <td>1</td>\n      <td>1</td>\n      <td>1</td>\n      <td>1</td>\n      <td>1</td>\n    </tr>\n    <tr>\n      <th>3</th>\n      <td>Alhambra High School</td>\n      <td>14</td>\n      <td>11</td>\n      <td>0</td>\n      <td>0</td>\n      <td>0</td>\n      <td>1</td>\n      <td>3</td>\n      <td>1</td>\n      <td>2283</td>\n      <td>...</td>\n      <td>750.23</td>\n      <td>8190.89</td>\n      <td>73.03</td>\n      <td>183.81</td>\n      <td>9197.96</td>\n      <td>1</td>\n      <td>1</td>\n      <td>1</td>\n      <td>1</td>\n      <td>1</td>\n    </tr>\n    <tr>\n      <th>4</th>\n      <td>Apollo High School</td>\n      <td>8</td>\n      <td>74</td>\n      <td>0</td>\n      <td>0</td>\n      <td>0</td>\n      <td>1</td>\n      <td>4</td>\n      <td>1</td>\n      <td>2198</td>\n      <td>...</td>\n      <td>1084.03</td>\n      <td>7182.71</td>\n      <td>175.34</td>\n      <td>783.21</td>\n      <td>9225.29</td>\n      <td>0</td>\n      <td>0</td>\n      <td>0</td>\n      <td>0</td>\n      <td>0</td>\n    </tr>\n  </tbody>\n</table>\n<p>5 rows × 43 columns</p>\n</div>"
     },
     "execution_count": 452,
     "metadata": {},
     "output_type": "execute_result"
    }
   ],
   "source": [
    "\n",
    "zipcode_number_converter = LabelEncoder()\n",
    "school_data['zipcode']= zipcode_number_converter.fit_transform(school_raw_data['zipcode'])\n",
    "school_data.head(5)"
   ]
  },
  {
   "cell_type": "code",
   "execution_count": 453,
   "id": "bd797c5a09dc55d5",
   "metadata": {
    "collapsed": false,
    "ExecuteTime": {
     "end_time": "2024-05-03T03:50:22.105636Z",
     "start_time": "2024-05-03T03:50:21.872097Z"
    }
   },
   "outputs": [
    {
     "data": {
      "text/plain": "['personnel_federal_expenditure',\n 'personnel_state_and_local_expenditure',\n 'non_personnel_federal_expenditure',\n 'non_personnel_state_and_local_expenditure']"
     },
     "execution_count": 453,
     "metadata": {},
     "output_type": "execute_result"
    }
   ],
   "source": [
    "expense_columns_to_drop = school_raw_data.columns[33:37].to_list()\n",
    "expense_columns_to_drop"
   ]
  },
  {
   "cell_type": "code",
   "execution_count": 454,
   "id": "bab9d20f5ae9e77a",
   "metadata": {
    "collapsed": false,
    "ExecuteTime": {
     "end_time": "2024-05-03T03:50:22.106001Z",
     "start_time": "2024-05-03T03:50:21.878533Z"
    }
   },
   "outputs": [
    {
     "data": {
      "text/plain": "                       School_name  city  zipcode  elementary_school  \\\n0  Academy with Community Partners    12       38                  0   \n1      Accelerated Learning Center    14       18                  0   \n2            Agua Fria High School     1       81                  0   \n3             Alhambra High School    14       11                  0   \n4               Apollo High School     8       74                  0   \n\n   intermediate_school  middle_school  high_school  school_grade  \\\n0                    0              0            1             4   \n1                    0              0            1             5   \n2                    0              0            1             4   \n3                    0              0            1             3   \n4                    0              0            1             4   \n\n   title_i_status  total_students  ...  No_of_students_adv_placement_course  \\\n0               1             169  ...                                  0.0   \n1               0             153  ...                                  0.0   \n2               1            1653  ...                                597.0   \n3               1            2283  ...                                223.0   \n4               1            2198  ...                                256.0   \n\n   Students_with_Chronic_Absenteeism  crime_rate  total_students_bullied  \\\n0                               79.0         0.0                     0.0   \n1                              171.0         0.0                     0.0   \n2                              781.0        48.0                     6.0   \n3                              973.0        21.0                     0.0   \n4                              847.0        47.0                     0.0   \n\n   total_per_pupil_expenditure  acad_focus_1  acad_focus_2  acad_focus_3  \\\n0                     10028.44             1             1             1   \n1                     10028.44             1             1             1   \n2                     10814.43             1             1             1   \n3                      9197.96             1             1             1   \n4                      9225.29             0             0             0   \n\n   acad_focus_4  acad_focus_5  \n0             1             1  \n1             1             1  \n2             1             1  \n3             1             1  \n4             0             0  \n\n[5 rows x 39 columns]",
      "text/html": "<div>\n<style scoped>\n    .dataframe tbody tr th:only-of-type {\n        vertical-align: middle;\n    }\n\n    .dataframe tbody tr th {\n        vertical-align: top;\n    }\n\n    .dataframe thead th {\n        text-align: right;\n    }\n</style>\n<table border=\"1\" class=\"dataframe\">\n  <thead>\n    <tr style=\"text-align: right;\">\n      <th></th>\n      <th>School_name</th>\n      <th>city</th>\n      <th>zipcode</th>\n      <th>elementary_school</th>\n      <th>intermediate_school</th>\n      <th>middle_school</th>\n      <th>high_school</th>\n      <th>school_grade</th>\n      <th>title_i_status</th>\n      <th>total_students</th>\n      <th>...</th>\n      <th>No_of_students_adv_placement_course</th>\n      <th>Students_with_Chronic_Absenteeism</th>\n      <th>crime_rate</th>\n      <th>total_students_bullied</th>\n      <th>total_per_pupil_expenditure</th>\n      <th>acad_focus_1</th>\n      <th>acad_focus_2</th>\n      <th>acad_focus_3</th>\n      <th>acad_focus_4</th>\n      <th>acad_focus_5</th>\n    </tr>\n  </thead>\n  <tbody>\n    <tr>\n      <th>0</th>\n      <td>Academy with Community Partners</td>\n      <td>12</td>\n      <td>38</td>\n      <td>0</td>\n      <td>0</td>\n      <td>0</td>\n      <td>1</td>\n      <td>4</td>\n      <td>1</td>\n      <td>169</td>\n      <td>...</td>\n      <td>0.0</td>\n      <td>79.0</td>\n      <td>0.0</td>\n      <td>0.0</td>\n      <td>10028.44</td>\n      <td>1</td>\n      <td>1</td>\n      <td>1</td>\n      <td>1</td>\n      <td>1</td>\n    </tr>\n    <tr>\n      <th>1</th>\n      <td>Accelerated Learning Center</td>\n      <td>14</td>\n      <td>18</td>\n      <td>0</td>\n      <td>0</td>\n      <td>0</td>\n      <td>1</td>\n      <td>5</td>\n      <td>0</td>\n      <td>153</td>\n      <td>...</td>\n      <td>0.0</td>\n      <td>171.0</td>\n      <td>0.0</td>\n      <td>0.0</td>\n      <td>10028.44</td>\n      <td>1</td>\n      <td>1</td>\n      <td>1</td>\n      <td>1</td>\n      <td>1</td>\n    </tr>\n    <tr>\n      <th>2</th>\n      <td>Agua Fria High School</td>\n      <td>1</td>\n      <td>81</td>\n      <td>0</td>\n      <td>0</td>\n      <td>0</td>\n      <td>1</td>\n      <td>4</td>\n      <td>1</td>\n      <td>1653</td>\n      <td>...</td>\n      <td>597.0</td>\n      <td>781.0</td>\n      <td>48.0</td>\n      <td>6.0</td>\n      <td>10814.43</td>\n      <td>1</td>\n      <td>1</td>\n      <td>1</td>\n      <td>1</td>\n      <td>1</td>\n    </tr>\n    <tr>\n      <th>3</th>\n      <td>Alhambra High School</td>\n      <td>14</td>\n      <td>11</td>\n      <td>0</td>\n      <td>0</td>\n      <td>0</td>\n      <td>1</td>\n      <td>3</td>\n      <td>1</td>\n      <td>2283</td>\n      <td>...</td>\n      <td>223.0</td>\n      <td>973.0</td>\n      <td>21.0</td>\n      <td>0.0</td>\n      <td>9197.96</td>\n      <td>1</td>\n      <td>1</td>\n      <td>1</td>\n      <td>1</td>\n      <td>1</td>\n    </tr>\n    <tr>\n      <th>4</th>\n      <td>Apollo High School</td>\n      <td>8</td>\n      <td>74</td>\n      <td>0</td>\n      <td>0</td>\n      <td>0</td>\n      <td>1</td>\n      <td>4</td>\n      <td>1</td>\n      <td>2198</td>\n      <td>...</td>\n      <td>256.0</td>\n      <td>847.0</td>\n      <td>47.0</td>\n      <td>0.0</td>\n      <td>9225.29</td>\n      <td>0</td>\n      <td>0</td>\n      <td>0</td>\n      <td>0</td>\n      <td>0</td>\n    </tr>\n  </tbody>\n</table>\n<p>5 rows × 39 columns</p>\n</div>"
     },
     "execution_count": 454,
     "metadata": {},
     "output_type": "execute_result"
    }
   ],
   "source": [
    "\n",
    "school_data.drop(columns=expense_columns_to_drop,inplace=True, axis=1)\n",
    "\n",
    "school_data.head(5)"
   ]
  },
  {
   "cell_type": "code",
   "execution_count": 455,
   "id": "d0e77fdf0f8e503f",
   "metadata": {
    "collapsed": false,
    "ExecuteTime": {
     "end_time": "2024-05-03T03:50:22.106060Z",
     "start_time": "2024-05-03T03:50:21.893035Z"
    }
   },
   "outputs": [],
   "source": [
    "def range_exporter(n, column_name):\n",
    "    n = int(n)\n",
    "    # 0 = less\n",
    "    # 1 = more\n",
    "    if n == 0: \n",
    "        return school_data[column_name].quantile([0.40])[0.40]\n",
    "    elif n == 1: \n",
    "        return school_data[column_name].quantile([0.60])[0.60]\n",
    "    elif n == 2: \n",
    "        return school_data[column_name].quantile([0.80])[0.80]\n",
    "\n",
    "\n"
   ]
  },
  {
   "cell_type": "code",
   "execution_count": 456,
   "id": "a9cf8472f8f33881",
   "metadata": {
    "collapsed": false,
    "ExecuteTime": {
     "end_time": "2024-05-03T03:50:22.106114Z",
     "start_time": "2024-05-03T03:50:21.895307Z"
    }
   },
   "outputs": [],
   "source": [
    "testSet = [[]]\n"
   ]
  },
  {
   "cell_type": "code",
   "execution_count": 457,
   "id": "b294fc235592df8b",
   "metadata": {
    "collapsed": false,
    "ExecuteTime": {
     "end_time": "2024-05-03T03:50:22.106585Z",
     "start_time": "2024-05-03T03:50:21.898045Z"
    }
   },
   "outputs": [
    {
     "data": {
      "text/plain": "                         School_name  city  zipcode  elementary_school  \\\n0    Academy with Community Partners    12       38                  0   \n1        Accelerated Learning Center    14       18                  0   \n2              Agua Fria High School     1       81                  0   \n3               Alhambra High School    14       11                  0   \n4                 Apollo High School     8       74                  0   \n..                               ...   ...      ...                ...   \n215       Wickenburg Virtual Academy    21       96                  1   \n216       Williams Field High School    10       52                  0   \n217        Willis Junior High School     3       48                  0   \n218        Willow Canyon High School    17       90                  0   \n219             Youngker High School     2       82                  0   \n\n     intermediate_school  middle_school  high_school  school_grade  \\\n0                      0              0            1             4   \n1                      0              0            1             5   \n2                      0              0            1             4   \n3                      0              0            1             3   \n4                      0              0            1             4   \n..                   ...            ...          ...           ...   \n215                    1              1            1             4   \n216                    0              1            1             5   \n217                    0              1            0             4   \n218                    0              1            1             5   \n219                    0              0            1             5   \n\n     title_i_status  total_students  ...  No_of_students_adv_placement_course  \\\n0                 1             169  ...                                  0.0   \n1                 0             153  ...                                  0.0   \n2                 1            1653  ...                                597.0   \n3                 1            2283  ...                                223.0   \n4                 1            2198  ...                                256.0   \n..              ...             ...  ...                                  ...   \n215               0              78  ...                                  2.0   \n216               0            2115  ...                                447.0   \n217               1             858  ...                                  0.0   \n218               0            1787  ...                                459.0   \n219               1            2107  ...                                139.0   \n\n     Students_with_Chronic_Absenteeism  crime_rate  total_students_bullied  \\\n0                                 79.0         0.0                     0.0   \n1                                171.0         0.0                     0.0   \n2                                781.0        48.0                     6.0   \n3                                973.0        21.0                     0.0   \n4                                847.0        47.0                     0.0   \n..                                 ...         ...                     ...   \n215                                0.0         0.0                     0.0   \n216                              724.0         6.0                     0.0   \n217                              478.0        27.0                     0.0   \n218                              625.0        64.0                     0.0   \n219                              641.0        46.0                     8.0   \n\n     total_per_pupil_expenditure  acad_focus_1  acad_focus_2  acad_focus_3  \\\n0                       10028.44             1             1             1   \n1                       10028.44             1             1             1   \n2                       10814.43             1             1             1   \n3                        9197.96             1             1             1   \n4                        9225.29             0             0             0   \n..                           ...           ...           ...           ...   \n215                     10028.44             0             0             0   \n216                      8210.26             0             0             0   \n217                      8783.20             1             1             1   \n218                     10105.66             1             1             1   \n219                      5108.35             1             1             1   \n\n     acad_focus_4  acad_focus_5  \n0               1             1  \n1               1             1  \n2               1             1  \n3               1             1  \n4               0             0  \n..            ...           ...  \n215             0             0  \n216             0             0  \n217             1             1  \n218             1             1  \n219             1             1  \n\n[220 rows x 39 columns]",
      "text/html": "<div>\n<style scoped>\n    .dataframe tbody tr th:only-of-type {\n        vertical-align: middle;\n    }\n\n    .dataframe tbody tr th {\n        vertical-align: top;\n    }\n\n    .dataframe thead th {\n        text-align: right;\n    }\n</style>\n<table border=\"1\" class=\"dataframe\">\n  <thead>\n    <tr style=\"text-align: right;\">\n      <th></th>\n      <th>School_name</th>\n      <th>city</th>\n      <th>zipcode</th>\n      <th>elementary_school</th>\n      <th>intermediate_school</th>\n      <th>middle_school</th>\n      <th>high_school</th>\n      <th>school_grade</th>\n      <th>title_i_status</th>\n      <th>total_students</th>\n      <th>...</th>\n      <th>No_of_students_adv_placement_course</th>\n      <th>Students_with_Chronic_Absenteeism</th>\n      <th>crime_rate</th>\n      <th>total_students_bullied</th>\n      <th>total_per_pupil_expenditure</th>\n      <th>acad_focus_1</th>\n      <th>acad_focus_2</th>\n      <th>acad_focus_3</th>\n      <th>acad_focus_4</th>\n      <th>acad_focus_5</th>\n    </tr>\n  </thead>\n  <tbody>\n    <tr>\n      <th>0</th>\n      <td>Academy with Community Partners</td>\n      <td>12</td>\n      <td>38</td>\n      <td>0</td>\n      <td>0</td>\n      <td>0</td>\n      <td>1</td>\n      <td>4</td>\n      <td>1</td>\n      <td>169</td>\n      <td>...</td>\n      <td>0.0</td>\n      <td>79.0</td>\n      <td>0.0</td>\n      <td>0.0</td>\n      <td>10028.44</td>\n      <td>1</td>\n      <td>1</td>\n      <td>1</td>\n      <td>1</td>\n      <td>1</td>\n    </tr>\n    <tr>\n      <th>1</th>\n      <td>Accelerated Learning Center</td>\n      <td>14</td>\n      <td>18</td>\n      <td>0</td>\n      <td>0</td>\n      <td>0</td>\n      <td>1</td>\n      <td>5</td>\n      <td>0</td>\n      <td>153</td>\n      <td>...</td>\n      <td>0.0</td>\n      <td>171.0</td>\n      <td>0.0</td>\n      <td>0.0</td>\n      <td>10028.44</td>\n      <td>1</td>\n      <td>1</td>\n      <td>1</td>\n      <td>1</td>\n      <td>1</td>\n    </tr>\n    <tr>\n      <th>2</th>\n      <td>Agua Fria High School</td>\n      <td>1</td>\n      <td>81</td>\n      <td>0</td>\n      <td>0</td>\n      <td>0</td>\n      <td>1</td>\n      <td>4</td>\n      <td>1</td>\n      <td>1653</td>\n      <td>...</td>\n      <td>597.0</td>\n      <td>781.0</td>\n      <td>48.0</td>\n      <td>6.0</td>\n      <td>10814.43</td>\n      <td>1</td>\n      <td>1</td>\n      <td>1</td>\n      <td>1</td>\n      <td>1</td>\n    </tr>\n    <tr>\n      <th>3</th>\n      <td>Alhambra High School</td>\n      <td>14</td>\n      <td>11</td>\n      <td>0</td>\n      <td>0</td>\n      <td>0</td>\n      <td>1</td>\n      <td>3</td>\n      <td>1</td>\n      <td>2283</td>\n      <td>...</td>\n      <td>223.0</td>\n      <td>973.0</td>\n      <td>21.0</td>\n      <td>0.0</td>\n      <td>9197.96</td>\n      <td>1</td>\n      <td>1</td>\n      <td>1</td>\n      <td>1</td>\n      <td>1</td>\n    </tr>\n    <tr>\n      <th>4</th>\n      <td>Apollo High School</td>\n      <td>8</td>\n      <td>74</td>\n      <td>0</td>\n      <td>0</td>\n      <td>0</td>\n      <td>1</td>\n      <td>4</td>\n      <td>1</td>\n      <td>2198</td>\n      <td>...</td>\n      <td>256.0</td>\n      <td>847.0</td>\n      <td>47.0</td>\n      <td>0.0</td>\n      <td>9225.29</td>\n      <td>0</td>\n      <td>0</td>\n      <td>0</td>\n      <td>0</td>\n      <td>0</td>\n    </tr>\n    <tr>\n      <th>...</th>\n      <td>...</td>\n      <td>...</td>\n      <td>...</td>\n      <td>...</td>\n      <td>...</td>\n      <td>...</td>\n      <td>...</td>\n      <td>...</td>\n      <td>...</td>\n      <td>...</td>\n      <td>...</td>\n      <td>...</td>\n      <td>...</td>\n      <td>...</td>\n      <td>...</td>\n      <td>...</td>\n      <td>...</td>\n      <td>...</td>\n      <td>...</td>\n      <td>...</td>\n      <td>...</td>\n    </tr>\n    <tr>\n      <th>215</th>\n      <td>Wickenburg Virtual Academy</td>\n      <td>21</td>\n      <td>96</td>\n      <td>1</td>\n      <td>1</td>\n      <td>1</td>\n      <td>1</td>\n      <td>4</td>\n      <td>0</td>\n      <td>78</td>\n      <td>...</td>\n      <td>2.0</td>\n      <td>0.0</td>\n      <td>0.0</td>\n      <td>0.0</td>\n      <td>10028.44</td>\n      <td>0</td>\n      <td>0</td>\n      <td>0</td>\n      <td>0</td>\n      <td>0</td>\n    </tr>\n    <tr>\n      <th>216</th>\n      <td>Williams Field High School</td>\n      <td>10</td>\n      <td>52</td>\n      <td>0</td>\n      <td>0</td>\n      <td>1</td>\n      <td>1</td>\n      <td>5</td>\n      <td>0</td>\n      <td>2115</td>\n      <td>...</td>\n      <td>447.0</td>\n      <td>724.0</td>\n      <td>6.0</td>\n      <td>0.0</td>\n      <td>8210.26</td>\n      <td>0</td>\n      <td>0</td>\n      <td>0</td>\n      <td>0</td>\n      <td>0</td>\n    </tr>\n    <tr>\n      <th>217</th>\n      <td>Willis Junior High School</td>\n      <td>3</td>\n      <td>48</td>\n      <td>0</td>\n      <td>0</td>\n      <td>1</td>\n      <td>0</td>\n      <td>4</td>\n      <td>1</td>\n      <td>858</td>\n      <td>...</td>\n      <td>0.0</td>\n      <td>478.0</td>\n      <td>27.0</td>\n      <td>0.0</td>\n      <td>8783.20</td>\n      <td>1</td>\n      <td>1</td>\n      <td>1</td>\n      <td>1</td>\n      <td>1</td>\n    </tr>\n    <tr>\n      <th>218</th>\n      <td>Willow Canyon High School</td>\n      <td>17</td>\n      <td>90</td>\n      <td>0</td>\n      <td>0</td>\n      <td>1</td>\n      <td>1</td>\n      <td>5</td>\n      <td>0</td>\n      <td>1787</td>\n      <td>...</td>\n      <td>459.0</td>\n      <td>625.0</td>\n      <td>64.0</td>\n      <td>0.0</td>\n      <td>10105.66</td>\n      <td>1</td>\n      <td>1</td>\n      <td>1</td>\n      <td>1</td>\n      <td>1</td>\n    </tr>\n    <tr>\n      <th>219</th>\n      <td>Youngker High School</td>\n      <td>2</td>\n      <td>82</td>\n      <td>0</td>\n      <td>0</td>\n      <td>0</td>\n      <td>1</td>\n      <td>5</td>\n      <td>1</td>\n      <td>2107</td>\n      <td>...</td>\n      <td>139.0</td>\n      <td>641.0</td>\n      <td>46.0</td>\n      <td>8.0</td>\n      <td>5108.35</td>\n      <td>1</td>\n      <td>1</td>\n      <td>1</td>\n      <td>1</td>\n      <td>1</td>\n    </tr>\n  </tbody>\n</table>\n<p>220 rows × 39 columns</p>\n</div>"
     },
     "execution_count": 457,
     "metadata": {},
     "output_type": "execute_result"
    }
   ],
   "source": [
    "school_output_data = school_data.copy(deep=True)\n",
    "school_output_data"
   ]
  },
  {
   "cell_type": "code",
   "execution_count": 458,
   "id": "2b0a58463e03a526",
   "metadata": {
    "collapsed": false,
    "ExecuteTime": {
     "end_time": "2024-05-03T03:50:22.106642Z",
     "start_time": "2024-05-03T03:50:21.929552Z"
    }
   },
   "outputs": [],
   "source": [
    "scaler = StandardScaler()  \n",
    "\n",
    "school_data = pd.DataFrame(scaler.fit_transform(school_data.iloc[:,1:]))\n"
   ]
  },
  {
   "cell_type": "code",
   "execution_count": 459,
   "id": "695c78f1474959ff",
   "metadata": {
    "collapsed": false,
    "ExecuteTime": {
     "end_time": "2024-05-03T03:50:25.057556Z",
     "start_time": "2024-05-03T03:50:21.937151Z"
    }
   },
   "outputs": [],
   "source": [
    "user_input = int(input(\"Do you have a school in mind or do you want to describe your ideal school \\n 0 = Describe school\\n 1 = Enter school name \"))"
   ]
  },
  {
   "cell_type": "code",
   "execution_count": 460,
   "id": "2a098c7933b9f5b7",
   "metadata": {
    "collapsed": false,
    "ExecuteTime": {
     "end_time": "2024-05-03T03:50:28.097222Z",
     "start_time": "2024-05-03T03:50:24.934661Z"
    }
   },
   "outputs": [],
   "source": [
    "if user_input == 1:\n",
    "    school_name = input(\"Enter the full name of the school\")\n",
    "    if len(school_raw_data[\"School_name\"][school_raw_data[\"School_name\"].str.lower().isin([school_name.lower()])]) > 0:\n",
    "        row_index_to_drop = school_raw_data[\"School_name\"][school_raw_data[\"School_name\"].str.lower().isin([school_name.lower()])].index\n",
    "\n",
    "        testSet[0] = school_data.iloc[row_index_to_drop]\n",
    "        \n",
    "        school_data.drop(row_index_to_drop,inplace=True)\n",
    "        school_output_data.drop(row_index_to_drop,inplace=True)\n",
    "        \n",
    "            \n",
    "else:\n",
    "    city_or_zipcode_selecter = int(input(\"Do you want to specify the city or zipcode \\n 0 = City \\n 1 = Zipcode\"))\n",
    "    \n",
    "    if city_or_zipcode_selecter ==0:\n",
    "        testSet[0].append(city_number_converter.transform([input(\"Enter the city you want the school\")])[0])\n",
    "        school_data.drop(columns=['zipcode'],inplace=True, axis=1) \n",
    "    else:\n",
    "        testSet[0].append(zipcode_number_converter.transform([input(\"Enter the zipcode you want the school\")])[0])\n",
    "        school_data.drop(columns=['city'],inplace=True, axis=1) \n",
    "        \n",
    "    testSet[0].append(input(\"Should the school have elementary level classes: \\n 0 = No  \\n 1 = Yes\"))\n",
    "    \n",
    "    testSet[0].append(input(\"Should the school have intermediate level classes: \\n 0 = No  \\n 1 = Yes\"))\n",
    "    \n",
    "    testSet[0].append(input(\"Should the school have middle level classes: \\n 0 = No  \\n 1 = Yes\"))\n",
    "    \n",
    "    testSet[0].append(input(\"Should the school have high level classes: \\n 0 = No  \\n 1 = Yes\"))\n",
    "    \n",
    "    testSet[0].append(input(\"Enter school grade constraints: [1-5]\\n 1 being least and 5 being highest\"))\n",
    "    \n",
    "    testSet[0].append(input(\"Should the school have Title I: \\n 0 = No  \\n 1 = Yes\"))\n",
    "    \n",
    "    testSet[0].append( range_exporter(input(\"Enter the minimum number of students you want in the school: \\n 0 = Less than 1000 \\n 1 = Greater than 1000\"),'total_students')) \n",
    "\n",
    "    # if int(input(\"Do you want to specify any race contraints? \\n 0 = No  \\n 1 = Yes\")) ==1:\n",
    "    race = int(input(\"Enter your race constraint \\n 0 = African American \\n 1 =  Hispanic \\n 2 = Native  American\\n 3 = White\\n 4 = Multiple Race \\n 5 = Asian\\n 6 = Pacific Islander \"))\n",
    "    \n",
    "    race_columns_to_drop = school_raw_data.columns[10:24].to_list()\n",
    "    \n",
    "    if school_raw_data.columns[(race*2) +11 -1] in race_columns_to_drop:\n",
    "        race_columns_to_drop.remove(school_raw_data.columns[(race*2) +11 -1])\n",
    "        \n",
    "    school_data.drop(columns=race_columns_to_drop,inplace=True, axis=1)\n",
    "    \n",
    "    testSet[0].append(range_exporter(input(\"Enter the percentage of the race: \\n0 = Low \\n 1 = Medium \\n 2 = High\"),school_raw_data.columns[(race*2) +11 -1])) \n",
    "    \n",
    "    testSet[0].append(range_exporter(input(\"Enter the proficiency points constraints: \\n0 = Low \\n 1 = Medium \\n 2 = High\"),'proficiency_pts')) \n",
    "    \n",
    "    testSet[0].append(input(\"Enter the graduation rate constraints: [0-10]\\n 0 being least and 10 being highest\"))\n",
    "    \n",
    "    testSet[0].append(range_exporter(input(\"Enter the minimum dropout rate level: \\n0 = Low \\n 1 = Medium \\n 2 = High\"),'Dropout_rate')) \n",
    "    \n",
    "    testSet[0].append(range_exporter(input(\"Enter the CCRI points level:  \\n0 = Low \\n 1 = Medium \\n 2 = High\"),'CCRI_points')) \n",
    "    \n",
    "    testSet[0].append(range_exporter(input(\"Enter the promotion rate level: \\n0 = Low \\n 1 = Medium \\n 2 = High\"),'promotion_rate')) \n",
    "    \n",
    "    testSet[0].append(range_exporter(input(\"Advanced placement courses support level:\\n0 = Low \\n 1 = Medium \\n 2 = High\"),'No_of_students_adv_placement_course')) \n",
    "    \n",
    "    testSet[0].append(range_exporter(input(\"Chronic absenteeism level:\\n0 = Low \\n 1 = Medium \\n 2 = High\"),'Students_with_Chronic_Absenteeism')) \n",
    "    \n",
    "    testSet[0].append(range_exporter(input(\"Crime rate level:\\n0 = Low \\n 1 = Medium \\n 2 = High\"),'crime_rate')) \n",
    "    \n",
    "    testSet[0].append(range_exporter(input(\"Bullying level:\\n0 = Low \\n 1 = Medium \\n 2 = High\"),'total_students_bullied')) \n",
    "    \n",
    "    testSet[0].append(range_exporter(input(\"Total per pupil expenditure level:\\n0 = Low \\n 1 = Medium \\n 2 = High\"),'total_per_pupil_expenditure')) \n",
    "    \n",
    "    testSet[0].append(input(\"Should the school protect excessive distractions labeled as Social Emotional Learning: \\n 0 = No  \\n 1 = Yes\"))\n",
    "    testSet[0].append(input(\"Should the school/district appropriately respect all students as individuals:  \\n 0 = No  \\n 1 = Yes\"))\n",
    "    testSet[0].append(input(\"Should the school/district fully support teacher discipline recommendations:  \\n 0 = No  \\n 1 = Yes\"))\n",
    "    testSet[0].append(input(\"Should the school teach sexual content that is developmentally appropriate:  \\n 0 = No  \\n 1 = Yes\"))\n",
    "    testSet[0].append(input(\"Should the curriculum at school not expose students to explicit or graphic content that is developmentally inappropriate:  \\n 0 = No  \\n 1 = Yes\"))\n",
    "    \n",
    "\n"
   ]
  },
  {
   "cell_type": "code",
   "execution_count": 461,
   "id": "360751e05e2b79c2",
   "metadata": {
    "collapsed": false,
    "ExecuteTime": {
     "end_time": "2024-05-03T03:50:28.109192Z",
     "start_time": "2024-05-03T03:50:27.936856Z"
    }
   },
   "outputs": [
    {
     "data": {
      "text/plain": "           0         1         2         3         4        5         6    7   \\\n157  0.732136 -0.419385 -0.404995 -0.434959 -1.056118  0.39736  1.061789 -1.0   \n\n           8         9   ...        28        29        30        31  \\\n157  1.055672 -0.147016  ...  0.154223  1.080839  0.374777 -0.373474   \n\n           32        33        34        35        36        37  \n157 -0.324834  1.095445  1.095445  1.095445  1.136515  1.095445  \n\n[1 rows x 38 columns]",
      "text/html": "<div>\n<style scoped>\n    .dataframe tbody tr th:only-of-type {\n        vertical-align: middle;\n    }\n\n    .dataframe tbody tr th {\n        vertical-align: top;\n    }\n\n    .dataframe thead th {\n        text-align: right;\n    }\n</style>\n<table border=\"1\" class=\"dataframe\">\n  <thead>\n    <tr style=\"text-align: right;\">\n      <th></th>\n      <th>0</th>\n      <th>1</th>\n      <th>2</th>\n      <th>3</th>\n      <th>4</th>\n      <th>5</th>\n      <th>6</th>\n      <th>7</th>\n      <th>8</th>\n      <th>9</th>\n      <th>...</th>\n      <th>28</th>\n      <th>29</th>\n      <th>30</th>\n      <th>31</th>\n      <th>32</th>\n      <th>33</th>\n      <th>34</th>\n      <th>35</th>\n      <th>36</th>\n      <th>37</th>\n    </tr>\n  </thead>\n  <tbody>\n    <tr>\n      <th>157</th>\n      <td>0.732136</td>\n      <td>-0.419385</td>\n      <td>-0.404995</td>\n      <td>-0.434959</td>\n      <td>-1.056118</td>\n      <td>0.39736</td>\n      <td>1.061789</td>\n      <td>-1.0</td>\n      <td>1.055672</td>\n      <td>-0.147016</td>\n      <td>...</td>\n      <td>0.154223</td>\n      <td>1.080839</td>\n      <td>0.374777</td>\n      <td>-0.373474</td>\n      <td>-0.324834</td>\n      <td>1.095445</td>\n      <td>1.095445</td>\n      <td>1.095445</td>\n      <td>1.136515</td>\n      <td>1.095445</td>\n    </tr>\n  </tbody>\n</table>\n<p>1 rows × 38 columns</p>\n</div>"
     },
     "execution_count": 461,
     "metadata": {},
     "output_type": "execute_result"
    }
   ],
   "source": [
    "testSet[0] "
   ]
  },
  {
   "cell_type": "code",
   "execution_count": 462,
   "id": "8edf674c8d671077",
   "metadata": {
    "collapsed": false,
    "ExecuteTime": {
     "end_time": "2024-05-03T03:50:28.109812Z",
     "start_time": "2024-05-03T03:50:27.943151Z"
    }
   },
   "outputs": [
    {
     "data": {
      "text/plain": "(219, 39)"
     },
     "execution_count": 462,
     "metadata": {},
     "output_type": "execute_result"
    }
   ],
   "source": [
    "test = pd.DataFrame(testSet[0])\n",
    "test.astype(int)\n",
    "school_output_data.shape"
   ]
  },
  {
   "cell_type": "code",
   "execution_count": 463,
   "id": "f8912863b738514",
   "metadata": {
    "collapsed": false,
    "ExecuteTime": {
     "end_time": "2024-05-03T03:50:28.138235Z",
     "start_time": "2024-05-03T03:50:27.946574Z"
    }
   },
   "outputs": [
    {
     "data": {
      "text/plain": "(219, 39)"
     },
     "execution_count": 463,
     "metadata": {},
     "output_type": "execute_result"
    }
   ],
   "source": [
    "school_output_data.shape"
   ]
  },
  {
   "cell_type": "code",
   "execution_count": 464,
   "id": "a29e42d4e1c7e44f",
   "metadata": {
    "collapsed": false,
    "ExecuteTime": {
     "end_time": "2024-05-03T03:50:28.347622Z",
     "start_time": "2024-05-03T03:50:27.956272Z"
    }
   },
   "outputs": [
    {
     "data": {
      "text/plain": "                         School_name         city  zipcode  elementary_school  \\\n93               Horizon High School   Scottsdale    85254                  0   \n52   Dr. Camille Casteel High School  Queen Creek    85142                  0   \n25           Campo Verde High School      Gilbert    85297                  0   \n152             Pinnacle High School      Phoenix    85050                  0   \n65               Gilbert High School      Gilbert    85234                  0   \n\n     intermediate_school  middle_school  high_school  school_grade  \\\n93                     0              1            1             5   \n52                     0              1            1             5   \n25                     0              1            1             5   \n152                    0              1            1             5   \n65                     0              1            1             4   \n\n     title_i_status  total_students  ...  personnel_federal_expenditure  \\\n93                0            1912  ...                         497.91   \n52                0            3126  ...                         202.13   \n25                0            1986  ...                         173.77   \n152               0            2480  ...                         631.49   \n65                0            2350  ...                         185.20   \n\n     personnel_state_and_local_expenditure  non_personnel_federal_expenditure  \\\n93                                 6246.83                              78.32   \n52                                 6274.55                             109.44   \n25                                 6219.76                              14.37   \n152                                5906.27                             116.20   \n65                                 6509.50                              21.29   \n\n     non_personnel_state_and_local_expenditure  total_per_pupil_expenditure  \\\n93                                      956.86                      7779.92   \n52                                      553.77                      7139.89   \n25                                      341.77                      6749.68   \n152                                    1239.36                      7893.33   \n65                                      247.04                      6963.04   \n\n     acad_focus_1  acad_focus_2  acad_focus_3  acad_focus_4  acad_focus_5  \n93              1             1             1             1             1  \n52              1             1             1             1             1  \n25              1             1             1             1             1  \n152             1             1             1             1             1  \n65              1             1             1             1             1  \n\n[5 rows x 43 columns]",
      "text/html": "<div>\n<style scoped>\n    .dataframe tbody tr th:only-of-type {\n        vertical-align: middle;\n    }\n\n    .dataframe tbody tr th {\n        vertical-align: top;\n    }\n\n    .dataframe thead th {\n        text-align: right;\n    }\n</style>\n<table border=\"1\" class=\"dataframe\">\n  <thead>\n    <tr style=\"text-align: right;\">\n      <th></th>\n      <th>School_name</th>\n      <th>city</th>\n      <th>zipcode</th>\n      <th>elementary_school</th>\n      <th>intermediate_school</th>\n      <th>middle_school</th>\n      <th>high_school</th>\n      <th>school_grade</th>\n      <th>title_i_status</th>\n      <th>total_students</th>\n      <th>...</th>\n      <th>personnel_federal_expenditure</th>\n      <th>personnel_state_and_local_expenditure</th>\n      <th>non_personnel_federal_expenditure</th>\n      <th>non_personnel_state_and_local_expenditure</th>\n      <th>total_per_pupil_expenditure</th>\n      <th>acad_focus_1</th>\n      <th>acad_focus_2</th>\n      <th>acad_focus_3</th>\n      <th>acad_focus_4</th>\n      <th>acad_focus_5</th>\n    </tr>\n  </thead>\n  <tbody>\n    <tr>\n      <th>93</th>\n      <td>Horizon High School</td>\n      <td>Scottsdale</td>\n      <td>85254</td>\n      <td>0</td>\n      <td>0</td>\n      <td>1</td>\n      <td>1</td>\n      <td>5</td>\n      <td>0</td>\n      <td>1912</td>\n      <td>...</td>\n      <td>497.91</td>\n      <td>6246.83</td>\n      <td>78.32</td>\n      <td>956.86</td>\n      <td>7779.92</td>\n      <td>1</td>\n      <td>1</td>\n      <td>1</td>\n      <td>1</td>\n      <td>1</td>\n    </tr>\n    <tr>\n      <th>52</th>\n      <td>Dr. Camille Casteel High School</td>\n      <td>Queen Creek</td>\n      <td>85142</td>\n      <td>0</td>\n      <td>0</td>\n      <td>1</td>\n      <td>1</td>\n      <td>5</td>\n      <td>0</td>\n      <td>3126</td>\n      <td>...</td>\n      <td>202.13</td>\n      <td>6274.55</td>\n      <td>109.44</td>\n      <td>553.77</td>\n      <td>7139.89</td>\n      <td>1</td>\n      <td>1</td>\n      <td>1</td>\n      <td>1</td>\n      <td>1</td>\n    </tr>\n    <tr>\n      <th>25</th>\n      <td>Campo Verde High School</td>\n      <td>Gilbert</td>\n      <td>85297</td>\n      <td>0</td>\n      <td>0</td>\n      <td>1</td>\n      <td>1</td>\n      <td>5</td>\n      <td>0</td>\n      <td>1986</td>\n      <td>...</td>\n      <td>173.77</td>\n      <td>6219.76</td>\n      <td>14.37</td>\n      <td>341.77</td>\n      <td>6749.68</td>\n      <td>1</td>\n      <td>1</td>\n      <td>1</td>\n      <td>1</td>\n      <td>1</td>\n    </tr>\n    <tr>\n      <th>152</th>\n      <td>Pinnacle High School</td>\n      <td>Phoenix</td>\n      <td>85050</td>\n      <td>0</td>\n      <td>0</td>\n      <td>1</td>\n      <td>1</td>\n      <td>5</td>\n      <td>0</td>\n      <td>2480</td>\n      <td>...</td>\n      <td>631.49</td>\n      <td>5906.27</td>\n      <td>116.20</td>\n      <td>1239.36</td>\n      <td>7893.33</td>\n      <td>1</td>\n      <td>1</td>\n      <td>1</td>\n      <td>1</td>\n      <td>1</td>\n    </tr>\n    <tr>\n      <th>65</th>\n      <td>Gilbert High School</td>\n      <td>Gilbert</td>\n      <td>85234</td>\n      <td>0</td>\n      <td>0</td>\n      <td>1</td>\n      <td>1</td>\n      <td>4</td>\n      <td>0</td>\n      <td>2350</td>\n      <td>...</td>\n      <td>185.20</td>\n      <td>6509.50</td>\n      <td>21.29</td>\n      <td>247.04</td>\n      <td>6963.04</td>\n      <td>1</td>\n      <td>1</td>\n      <td>1</td>\n      <td>1</td>\n      <td>1</td>\n    </tr>\n  </tbody>\n</table>\n<p>5 rows × 43 columns</p>\n</div>"
     },
     "execution_count": 464,
     "metadata": {},
     "output_type": "execute_result"
    }
   ],
   "source": [
    "# Fit the model\n",
    "neigh = KNeighborsClassifier(n_neighbors=5)\n",
    "neigh.fit(school_data, school_output_data['School_name'])\n",
    "\n",
    "# Get distances and indices of 5 nearest neighbors\n",
    "distances, indices = neigh.kneighbors(test)\n",
    "\n",
    "# Print the names of the 5 nearest schools\n",
    "output_index = []\n",
    "for i in range(5):\n",
    "    output_index.append(indices[0][i])\n",
    "    \n",
    "school_raw_data.loc[output_index]\n",
    "\n"
   ]
  },
  {
   "cell_type": "code",
   "execution_count": 465,
   "id": "c309139ec75f6392",
   "metadata": {
    "collapsed": false,
    "ExecuteTime": {
     "end_time": "2024-05-03T03:50:28.456324Z",
     "start_time": "2024-05-03T03:50:28.008482Z"
    }
   },
   "outputs": [
    {
     "data": {
      "text/plain": "                        School_name      city  zipcode  elementary_school  \\\n127    Mountain Trail Middle School   Phoenix    85024                  0   \n89               Higley High School   Gilbert    85295                  0   \n89               Higley High School   Gilbert    85295                  0   \n57   Estrella Foothills High School  Goodyear    85338                  0   \n43          Deer Valley High School  Glendale    85308                  0   \n\n     intermediate_school  middle_school  high_school  school_grade  \\\n127                    0              1            0             5   \n89                     0              1            1             5   \n89                     0              1            1             5   \n57                     0              0            1             5   \n43                     0              1            1             5   \n\n     title_i_status  total_students  ...  personnel_federal_expenditure  \\\n127               0             680  ...                         968.63   \n89                0            2137  ...                         467.24   \n89                0            2137  ...                         467.24   \n57                0            1397  ...                         122.00   \n43                0            1634  ...                         482.86   \n\n     personnel_state_and_local_expenditure  non_personnel_federal_expenditure  \\\n127                                6650.79                             114.73   \n89                                 6418.77                             119.98   \n89                                 6418.77                             119.98   \n57                                 4964.77                               4.64   \n43                                 5840.16                              63.48   \n\n     non_personnel_state_and_local_expenditure  total_per_pupil_expenditure  \\\n127                                    1549.92                      9284.07   \n89                                     1047.59                      8053.58   \n89                                     1047.59                      8053.58   \n57                                      213.38                      5304.79   \n43                                      241.72                      6628.22   \n\n     acad_focus_1  acad_focus_2  acad_focus_3  acad_focus_4  acad_focus_5  \n127             1             1             1             1             1  \n89              0             0             0             0             0  \n89              0             0             0             0             0  \n57              1             1             1             1             1  \n43              1             1             1             1             1  \n\n[5 rows x 43 columns]",
      "text/html": "<div>\n<style scoped>\n    .dataframe tbody tr th:only-of-type {\n        vertical-align: middle;\n    }\n\n    .dataframe tbody tr th {\n        vertical-align: top;\n    }\n\n    .dataframe thead th {\n        text-align: right;\n    }\n</style>\n<table border=\"1\" class=\"dataframe\">\n  <thead>\n    <tr style=\"text-align: right;\">\n      <th></th>\n      <th>School_name</th>\n      <th>city</th>\n      <th>zipcode</th>\n      <th>elementary_school</th>\n      <th>intermediate_school</th>\n      <th>middle_school</th>\n      <th>high_school</th>\n      <th>school_grade</th>\n      <th>title_i_status</th>\n      <th>total_students</th>\n      <th>...</th>\n      <th>personnel_federal_expenditure</th>\n      <th>personnel_state_and_local_expenditure</th>\n      <th>non_personnel_federal_expenditure</th>\n      <th>non_personnel_state_and_local_expenditure</th>\n      <th>total_per_pupil_expenditure</th>\n      <th>acad_focus_1</th>\n      <th>acad_focus_2</th>\n      <th>acad_focus_3</th>\n      <th>acad_focus_4</th>\n      <th>acad_focus_5</th>\n    </tr>\n  </thead>\n  <tbody>\n    <tr>\n      <th>127</th>\n      <td>Mountain Trail Middle School</td>\n      <td>Phoenix</td>\n      <td>85024</td>\n      <td>0</td>\n      <td>0</td>\n      <td>1</td>\n      <td>0</td>\n      <td>5</td>\n      <td>0</td>\n      <td>680</td>\n      <td>...</td>\n      <td>968.63</td>\n      <td>6650.79</td>\n      <td>114.73</td>\n      <td>1549.92</td>\n      <td>9284.07</td>\n      <td>1</td>\n      <td>1</td>\n      <td>1</td>\n      <td>1</td>\n      <td>1</td>\n    </tr>\n    <tr>\n      <th>89</th>\n      <td>Higley High School</td>\n      <td>Gilbert</td>\n      <td>85295</td>\n      <td>0</td>\n      <td>0</td>\n      <td>1</td>\n      <td>1</td>\n      <td>5</td>\n      <td>0</td>\n      <td>2137</td>\n      <td>...</td>\n      <td>467.24</td>\n      <td>6418.77</td>\n      <td>119.98</td>\n      <td>1047.59</td>\n      <td>8053.58</td>\n      <td>0</td>\n      <td>0</td>\n      <td>0</td>\n      <td>0</td>\n      <td>0</td>\n    </tr>\n    <tr>\n      <th>89</th>\n      <td>Higley High School</td>\n      <td>Gilbert</td>\n      <td>85295</td>\n      <td>0</td>\n      <td>0</td>\n      <td>1</td>\n      <td>1</td>\n      <td>5</td>\n      <td>0</td>\n      <td>2137</td>\n      <td>...</td>\n      <td>467.24</td>\n      <td>6418.77</td>\n      <td>119.98</td>\n      <td>1047.59</td>\n      <td>8053.58</td>\n      <td>0</td>\n      <td>0</td>\n      <td>0</td>\n      <td>0</td>\n      <td>0</td>\n    </tr>\n    <tr>\n      <th>57</th>\n      <td>Estrella Foothills High School</td>\n      <td>Goodyear</td>\n      <td>85338</td>\n      <td>0</td>\n      <td>0</td>\n      <td>0</td>\n      <td>1</td>\n      <td>5</td>\n      <td>0</td>\n      <td>1397</td>\n      <td>...</td>\n      <td>122.00</td>\n      <td>4964.77</td>\n      <td>4.64</td>\n      <td>213.38</td>\n      <td>5304.79</td>\n      <td>1</td>\n      <td>1</td>\n      <td>1</td>\n      <td>1</td>\n      <td>1</td>\n    </tr>\n    <tr>\n      <th>43</th>\n      <td>Deer Valley High School</td>\n      <td>Glendale</td>\n      <td>85308</td>\n      <td>0</td>\n      <td>0</td>\n      <td>1</td>\n      <td>1</td>\n      <td>5</td>\n      <td>0</td>\n      <td>1634</td>\n      <td>...</td>\n      <td>482.86</td>\n      <td>5840.16</td>\n      <td>63.48</td>\n      <td>241.72</td>\n      <td>6628.22</td>\n      <td>1</td>\n      <td>1</td>\n      <td>1</td>\n      <td>1</td>\n      <td>1</td>\n    </tr>\n  </tbody>\n</table>\n<p>5 rows × 43 columns</p>\n</div>"
     },
     "execution_count": 465,
     "metadata": {},
     "output_type": "execute_result"
    }
   ],
   "source": [
    "\n",
    "\n",
    "# Fit the model\n",
    "rf = RandomForestClassifier(n_estimators=5)\n",
    "rf.fit(school_data, school_output_data['School_name'])\n",
    "\n",
    "# Get a prediction from each tree in the forest\n",
    "predictions = [tree.predict(test) for tree in rf.estimators_]\n",
    "\n",
    "\n",
    "# Print the predictions\n",
    "output_index = []\n",
    "for prediction in predictions:\n",
    "    output_index.append(int(prediction[0]))\n",
    "\n",
    "school_raw_data.loc[output_index]"
   ]
  },
  {
   "cell_type": "code",
   "execution_count": 466,
   "id": "8d2060d13ac91c4d",
   "metadata": {
    "collapsed": false,
    "ExecuteTime": {
     "end_time": "2024-05-03T03:50:28.719321Z",
     "start_time": "2024-05-03T03:50:28.089110Z"
    }
   },
   "outputs": [
    {
     "data": {
      "text/plain": "                                 School_name        city  zipcode  \\\n84                      Hamilton High School    Chandler    85248   \n156                       Primavera - Online    Chandler    85225   \n162                        Roadrunner School     Phoenix    85028   \n164  Salt River Accelerated Learning Academy  Scottsdale    85256   \n180        Sonoran Science Academy - Phoenix     Phoenix    85008   \n\n     elementary_school  intermediate_school  middle_school  high_school  \\\n84                   0                    0              1            1   \n156                  1                    1              1            1   \n162                  1                    1              1            1   \n164                  0                    0              0            1   \n180                  1                    1              1            1   \n\n     school_grade  title_i_status  total_students  ...  \\\n84              5               0            3828  ...   \n156             2               0            6381  ...   \n162             4               0             239  ...   \n164             4               0              74  ...   \n180             4               1             380  ...   \n\n     personnel_federal_expenditure  personnel_state_and_local_expenditure  \\\n84                          238.96                                6331.79   \n156                           0.00                               10009.70   \n162                       22578.88                              158170.43   \n164                           0.00                               10009.70   \n180                        1537.13                                 549.34   \n\n     non_personnel_federal_expenditure  \\\n84                               73.59   \n156                               0.00   \n162                            2235.76   \n164                               0.00   \n180                            3281.10   \n\n     non_personnel_state_and_local_expenditure  total_per_pupil_expenditure  \\\n84                                      749.36                      7393.70   \n156                                    1006.65                     10028.44   \n162                                    4654.69                    187639.76   \n164                                    1006.65                     10028.44   \n180                                    7664.34                     13031.90   \n\n     acad_focus_1  acad_focus_2  acad_focus_3  acad_focus_4  acad_focus_5  \n84              0             0             0             0             0  \n156             0             0             0             0             0  \n162             0             0             0             0             0  \n164             1             1             1             1             1  \n180             0             0             0             0             0  \n\n[5 rows x 43 columns]",
      "text/html": "<div>\n<style scoped>\n    .dataframe tbody tr th:only-of-type {\n        vertical-align: middle;\n    }\n\n    .dataframe tbody tr th {\n        vertical-align: top;\n    }\n\n    .dataframe thead th {\n        text-align: right;\n    }\n</style>\n<table border=\"1\" class=\"dataframe\">\n  <thead>\n    <tr style=\"text-align: right;\">\n      <th></th>\n      <th>School_name</th>\n      <th>city</th>\n      <th>zipcode</th>\n      <th>elementary_school</th>\n      <th>intermediate_school</th>\n      <th>middle_school</th>\n      <th>high_school</th>\n      <th>school_grade</th>\n      <th>title_i_status</th>\n      <th>total_students</th>\n      <th>...</th>\n      <th>personnel_federal_expenditure</th>\n      <th>personnel_state_and_local_expenditure</th>\n      <th>non_personnel_federal_expenditure</th>\n      <th>non_personnel_state_and_local_expenditure</th>\n      <th>total_per_pupil_expenditure</th>\n      <th>acad_focus_1</th>\n      <th>acad_focus_2</th>\n      <th>acad_focus_3</th>\n      <th>acad_focus_4</th>\n      <th>acad_focus_5</th>\n    </tr>\n  </thead>\n  <tbody>\n    <tr>\n      <th>84</th>\n      <td>Hamilton High School</td>\n      <td>Chandler</td>\n      <td>85248</td>\n      <td>0</td>\n      <td>0</td>\n      <td>1</td>\n      <td>1</td>\n      <td>5</td>\n      <td>0</td>\n      <td>3828</td>\n      <td>...</td>\n      <td>238.96</td>\n      <td>6331.79</td>\n      <td>73.59</td>\n      <td>749.36</td>\n      <td>7393.70</td>\n      <td>0</td>\n      <td>0</td>\n      <td>0</td>\n      <td>0</td>\n      <td>0</td>\n    </tr>\n    <tr>\n      <th>156</th>\n      <td>Primavera - Online</td>\n      <td>Chandler</td>\n      <td>85225</td>\n      <td>1</td>\n      <td>1</td>\n      <td>1</td>\n      <td>1</td>\n      <td>2</td>\n      <td>0</td>\n      <td>6381</td>\n      <td>...</td>\n      <td>0.00</td>\n      <td>10009.70</td>\n      <td>0.00</td>\n      <td>1006.65</td>\n      <td>10028.44</td>\n      <td>0</td>\n      <td>0</td>\n      <td>0</td>\n      <td>0</td>\n      <td>0</td>\n    </tr>\n    <tr>\n      <th>162</th>\n      <td>Roadrunner School</td>\n      <td>Phoenix</td>\n      <td>85028</td>\n      <td>1</td>\n      <td>1</td>\n      <td>1</td>\n      <td>1</td>\n      <td>4</td>\n      <td>0</td>\n      <td>239</td>\n      <td>...</td>\n      <td>22578.88</td>\n      <td>158170.43</td>\n      <td>2235.76</td>\n      <td>4654.69</td>\n      <td>187639.76</td>\n      <td>0</td>\n      <td>0</td>\n      <td>0</td>\n      <td>0</td>\n      <td>0</td>\n    </tr>\n    <tr>\n      <th>164</th>\n      <td>Salt River Accelerated Learning Academy</td>\n      <td>Scottsdale</td>\n      <td>85256</td>\n      <td>0</td>\n      <td>0</td>\n      <td>0</td>\n      <td>1</td>\n      <td>4</td>\n      <td>0</td>\n      <td>74</td>\n      <td>...</td>\n      <td>0.00</td>\n      <td>10009.70</td>\n      <td>0.00</td>\n      <td>1006.65</td>\n      <td>10028.44</td>\n      <td>1</td>\n      <td>1</td>\n      <td>1</td>\n      <td>1</td>\n      <td>1</td>\n    </tr>\n    <tr>\n      <th>180</th>\n      <td>Sonoran Science Academy - Phoenix</td>\n      <td>Phoenix</td>\n      <td>85008</td>\n      <td>1</td>\n      <td>1</td>\n      <td>1</td>\n      <td>1</td>\n      <td>4</td>\n      <td>1</td>\n      <td>380</td>\n      <td>...</td>\n      <td>1537.13</td>\n      <td>549.34</td>\n      <td>3281.10</td>\n      <td>7664.34</td>\n      <td>13031.90</td>\n      <td>0</td>\n      <td>0</td>\n      <td>0</td>\n      <td>0</td>\n      <td>0</td>\n    </tr>\n  </tbody>\n</table>\n<p>5 rows × 43 columns</p>\n</div>"
     },
     "execution_count": 466,
     "metadata": {},
     "output_type": "execute_result"
    }
   ],
   "source": [
    "\n",
    "\n",
    "# Fit the model with probability=True\n",
    "svc = SVC(probability=True)\n",
    "svc.fit(school_data, school_output_data['School_name'])\n",
    "\n",
    "# Get class probabilities\n",
    "probabilities = svc.predict_proba(test)\n",
    "\n",
    "# Get the top 5 class indices\n",
    "top5_indices = np.argsort(probabilities, axis=1)[:,-5:]\n",
    "\n",
    "# Get the class labels\n",
    "classes = svc.classes_\n",
    "\n",
    "# Get the top 5 class labels\n",
    "top5_classes = classes[top5_indices]\n",
    "\n",
    "school_raw_data[school_raw_data['School_name'].isin(top5_classes[0])]"
   ]
  },
  {
   "cell_type": "code",
   "execution_count": 467,
   "id": "8e0ddd348093bfeb",
   "metadata": {
    "collapsed": false,
    "ExecuteTime": {
     "end_time": "2024-05-03T03:50:28.719601Z",
     "start_time": "2024-05-03T03:50:28.699954Z"
    }
   },
   "outputs": [],
   "source": [
    "school_additional_raw_data = pd.read_csv(\"../511_project_with_extra_cols.csv\")"
   ]
  },
  {
   "cell_type": "code",
   "execution_count": 468,
   "id": "13db1be078074d0c",
   "metadata": {
    "collapsed": false,
    "ExecuteTime": {
     "end_time": "2024-05-03T03:50:28.761735Z",
     "start_time": "2024-05-03T03:50:28.715949Z"
    }
   },
   "outputs": [
    {
     "data": {
      "text/plain": "                      School_name      city   zipcode  elementary_school  \\\n0  Academy with Community Partners      Mesa    85203                  0   \n1      Accelerated Learning Center   Phoenix    85028                  0   \n2            Agua Fria High School  Avondale    85323                  0   \n3             Alhambra High School   Phoenix    85019                  0   \n4               Apollo High School  Glendale    85302                  0   \n5              Arcadia High School   Phoenix    85018                  0   \n\n   intermediate_school  middle_school  high_school  school_grade  \\\n0                    0              0            1             4   \n1                    0              0            1             5   \n2                    0              0            1             4   \n3                    0              0            1             3   \n4                    0              0            1             4   \n5                    0              0            1             5   \n\n   title_i_status  total_students  ...  \\\n0               1             169  ...   \n1               0             153  ...   \n2               1            1653  ...   \n3               1            2283  ...   \n4               1            2198  ...   \n5               0            1603  ...   \n\n                                   sports_facilities  \\\n0  ['Basketball', 'Others', 'chevron_right', 'Fla...   \n1                              ['No data available']   \n2  ['Badminton', 'Baseball', 'Basketball', 'Cross...   \n3  ['Badminton', 'Baseball', 'Basketball', 'Cross...   \n4  ['Badminton', 'Baseball', 'Basketball', 'Cross...   \n5                              ['No data available']   \n\n                                    music_facilities  \\\n0                                            ['Art']   \n1                             ['Art', 'Photography']   \n2  ['Art', 'Band', 'Ceramics/Sculpting', 'Choir',...   \n3  ['Art', 'Band', 'Ceramics/Sculpting', 'Choir',...   \n4  ['Art', 'Band', 'Ceramics/Sculpting', 'Choir',...   \n5                              ['No data available']   \n\n                          after_school_opportunities  \\\n0  ['Athletic', 'chevron_right', 'Basketball', 'c...   \n1                              ['No data available']   \n2  ['Academic', 'chevron_right', 'National Honor ...   \n3  ['Academic', 'chevron_right', 'AVID Club/Unive...   \n4  ['Academic', 'chevron_right', 'World Language ...   \n5                              ['No data available']   \n\n                                    other_facilities  \\\n0     ['Dedicated Counselors', 'chevron_right', '1']   \n1         ['Art Room', 'Indoor air quality control']   \n2  ['Art Room', 'Auditorium', 'Book Store', 'Cafe...   \n3  ['Art Room', 'Auditorium', 'Book Store', 'Cafe...   \n4  ['Art Room', 'Auditorium', 'Book Store', 'Cafe...   \n5                              ['No data available']   \n\n                                    student_services  acad_focus_1  \\\n0  ['Assistance with Material Needs', 'McKinney-V...             1   \n1  ['Assistance with Material Needs', 'McKinney-V...             1   \n2                              ['No data available']             1   \n3  ['Dedicated School Counselor', 'chevron_right'...             1   \n4                              ['No data available']             0   \n5                              ['No data available']             0   \n\n   acad_focus_2  acad_focus_3  acad_focus_4  acad_focus_5  \n0             1             1             1             1  \n1             1             1             1             1  \n2             1             1             1             1  \n3             1             1             1             1  \n4             0             0             0             0  \n5             0             0             0             0  \n\n[6 rows x 50 columns]",
      "text/html": "<div>\n<style scoped>\n    .dataframe tbody tr th:only-of-type {\n        vertical-align: middle;\n    }\n\n    .dataframe tbody tr th {\n        vertical-align: top;\n    }\n\n    .dataframe thead th {\n        text-align: right;\n    }\n</style>\n<table border=\"1\" class=\"dataframe\">\n  <thead>\n    <tr style=\"text-align: right;\">\n      <th></th>\n      <th>School_name</th>\n      <th>city</th>\n      <th>zipcode</th>\n      <th>elementary_school</th>\n      <th>intermediate_school</th>\n      <th>middle_school</th>\n      <th>high_school</th>\n      <th>school_grade</th>\n      <th>title_i_status</th>\n      <th>total_students</th>\n      <th>...</th>\n      <th>sports_facilities</th>\n      <th>music_facilities</th>\n      <th>after_school_opportunities</th>\n      <th>other_facilities</th>\n      <th>student_services</th>\n      <th>acad_focus_1</th>\n      <th>acad_focus_2</th>\n      <th>acad_focus_3</th>\n      <th>acad_focus_4</th>\n      <th>acad_focus_5</th>\n    </tr>\n  </thead>\n  <tbody>\n    <tr>\n      <th>0</th>\n      <td>Academy with Community Partners</td>\n      <td>Mesa</td>\n      <td>85203</td>\n      <td>0</td>\n      <td>0</td>\n      <td>0</td>\n      <td>1</td>\n      <td>4</td>\n      <td>1</td>\n      <td>169</td>\n      <td>...</td>\n      <td>['Basketball', 'Others', 'chevron_right', 'Fla...</td>\n      <td>['Art']</td>\n      <td>['Athletic', 'chevron_right', 'Basketball', 'c...</td>\n      <td>['Dedicated Counselors', 'chevron_right', '1']</td>\n      <td>['Assistance with Material Needs', 'McKinney-V...</td>\n      <td>1</td>\n      <td>1</td>\n      <td>1</td>\n      <td>1</td>\n      <td>1</td>\n    </tr>\n    <tr>\n      <th>1</th>\n      <td>Accelerated Learning Center</td>\n      <td>Phoenix</td>\n      <td>85028</td>\n      <td>0</td>\n      <td>0</td>\n      <td>0</td>\n      <td>1</td>\n      <td>5</td>\n      <td>0</td>\n      <td>153</td>\n      <td>...</td>\n      <td>['No data available']</td>\n      <td>['Art', 'Photography']</td>\n      <td>['No data available']</td>\n      <td>['Art Room', 'Indoor air quality control']</td>\n      <td>['Assistance with Material Needs', 'McKinney-V...</td>\n      <td>1</td>\n      <td>1</td>\n      <td>1</td>\n      <td>1</td>\n      <td>1</td>\n    </tr>\n    <tr>\n      <th>2</th>\n      <td>Agua Fria High School</td>\n      <td>Avondale</td>\n      <td>85323</td>\n      <td>0</td>\n      <td>0</td>\n      <td>0</td>\n      <td>1</td>\n      <td>4</td>\n      <td>1</td>\n      <td>1653</td>\n      <td>...</td>\n      <td>['Badminton', 'Baseball', 'Basketball', 'Cross...</td>\n      <td>['Art', 'Band', 'Ceramics/Sculpting', 'Choir',...</td>\n      <td>['Academic', 'chevron_right', 'National Honor ...</td>\n      <td>['Art Room', 'Auditorium', 'Book Store', 'Cafe...</td>\n      <td>['No data available']</td>\n      <td>1</td>\n      <td>1</td>\n      <td>1</td>\n      <td>1</td>\n      <td>1</td>\n    </tr>\n    <tr>\n      <th>3</th>\n      <td>Alhambra High School</td>\n      <td>Phoenix</td>\n      <td>85019</td>\n      <td>0</td>\n      <td>0</td>\n      <td>0</td>\n      <td>1</td>\n      <td>3</td>\n      <td>1</td>\n      <td>2283</td>\n      <td>...</td>\n      <td>['Badminton', 'Baseball', 'Basketball', 'Cross...</td>\n      <td>['Art', 'Band', 'Ceramics/Sculpting', 'Choir',...</td>\n      <td>['Academic', 'chevron_right', 'AVID Club/Unive...</td>\n      <td>['Art Room', 'Auditorium', 'Book Store', 'Cafe...</td>\n      <td>['Dedicated School Counselor', 'chevron_right'...</td>\n      <td>1</td>\n      <td>1</td>\n      <td>1</td>\n      <td>1</td>\n      <td>1</td>\n    </tr>\n    <tr>\n      <th>4</th>\n      <td>Apollo High School</td>\n      <td>Glendale</td>\n      <td>85302</td>\n      <td>0</td>\n      <td>0</td>\n      <td>0</td>\n      <td>1</td>\n      <td>4</td>\n      <td>1</td>\n      <td>2198</td>\n      <td>...</td>\n      <td>['Badminton', 'Baseball', 'Basketball', 'Cross...</td>\n      <td>['Art', 'Band', 'Ceramics/Sculpting', 'Choir',...</td>\n      <td>['Academic', 'chevron_right', 'World Language ...</td>\n      <td>['Art Room', 'Auditorium', 'Book Store', 'Cafe...</td>\n      <td>['No data available']</td>\n      <td>0</td>\n      <td>0</td>\n      <td>0</td>\n      <td>0</td>\n      <td>0</td>\n    </tr>\n    <tr>\n      <th>5</th>\n      <td>Arcadia High School</td>\n      <td>Phoenix</td>\n      <td>85018</td>\n      <td>0</td>\n      <td>0</td>\n      <td>0</td>\n      <td>1</td>\n      <td>5</td>\n      <td>0</td>\n      <td>1603</td>\n      <td>...</td>\n      <td>['No data available']</td>\n      <td>['No data available']</td>\n      <td>['No data available']</td>\n      <td>['No data available']</td>\n      <td>['No data available']</td>\n      <td>0</td>\n      <td>0</td>\n      <td>0</td>\n      <td>0</td>\n      <td>0</td>\n    </tr>\n  </tbody>\n</table>\n<p>6 rows × 50 columns</p>\n</div>"
     },
     "execution_count": 468,
     "metadata": {},
     "output_type": "execute_result"
    }
   ],
   "source": [
    "school_additional_raw_data.head(6)"
   ]
  },
  {
   "cell_type": "code",
   "execution_count": 469,
   "id": "a0bd98c24678bdc9",
   "metadata": {
    "collapsed": false,
    "ExecuteTime": {
     "end_time": "2024-05-03T03:50:28.762442Z",
     "start_time": "2024-05-03T03:50:28.726091Z"
    }
   },
   "outputs": [
    {
     "data": {
      "text/plain": "                      School_name      city   zipcode  elementary_school  \\\n0  Academy with Community Partners      Mesa    85203                  0   \n1      Accelerated Learning Center   Phoenix    85028                  0   \n2            Agua Fria High School  Avondale    85323                  0   \n3             Alhambra High School   Phoenix    85019                  0   \n4               Apollo High School  Glendale    85302                  0   \n\n   intermediate_school  middle_school  high_school  school_grade  \\\n0                    0              0            1             4   \n1                    0              0            1             5   \n2                    0              0            1             4   \n3                    0              0            1             3   \n4                    0              0            1             4   \n\n   title_i_status  total_students  ...  \\\n0               1             169  ...   \n1               0             153  ...   \n2               1            1653  ...   \n3               1            2283  ...   \n4               1            2198  ...   \n\n                                   sports_facilities  \\\n0  ['Basketball', 'Others', 'chevron_right', 'Fla...   \n1                              ['No data available']   \n2  ['Badminton', 'Baseball', 'Basketball', 'Cross...   \n3  ['Badminton', 'Baseball', 'Basketball', 'Cross...   \n4  ['Badminton', 'Baseball', 'Basketball', 'Cross...   \n\n                                    music_facilities  \\\n0                                            ['Art']   \n1                             ['Art', 'Photography']   \n2  ['Art', 'Band', 'Ceramics/Sculpting', 'Choir',...   \n3  ['Art', 'Band', 'Ceramics/Sculpting', 'Choir',...   \n4  ['Art', 'Band', 'Ceramics/Sculpting', 'Choir',...   \n\n                          after_school_opportunities  \\\n0  ['Athletic', 'chevron_right', 'Basketball', 'c...   \n1                              ['No data available']   \n2  ['Academic', 'chevron_right', 'National Honor ...   \n3  ['Academic', 'chevron_right', 'AVID Club/Unive...   \n4  ['Academic', 'chevron_right', 'World Language ...   \n\n                                    other_facilities  \\\n0     ['Dedicated Counselors', 'chevron_right', '1']   \n1         ['Art Room', 'Indoor air quality control']   \n2  ['Art Room', 'Auditorium', 'Book Store', 'Cafe...   \n3  ['Art Room', 'Auditorium', 'Book Store', 'Cafe...   \n4  ['Art Room', 'Auditorium', 'Book Store', 'Cafe...   \n\n                                    student_services  acad_focus_1  \\\n0  ['Assistance with Material Needs', 'McKinney-V...             1   \n1  ['Assistance with Material Needs', 'McKinney-V...             1   \n2                              ['No data available']             1   \n3  ['Dedicated School Counselor', 'chevron_right'...             1   \n4                              ['No data available']             0   \n\n   acad_focus_2  acad_focus_3  acad_focus_4  acad_focus_5  \n0             1             1             1             1  \n1             1             1             1             1  \n2             1             1             1             1  \n3             1             1             1             1  \n4             0             0             0             0  \n\n[5 rows x 50 columns]",
      "text/html": "<div>\n<style scoped>\n    .dataframe tbody tr th:only-of-type {\n        vertical-align: middle;\n    }\n\n    .dataframe tbody tr th {\n        vertical-align: top;\n    }\n\n    .dataframe thead th {\n        text-align: right;\n    }\n</style>\n<table border=\"1\" class=\"dataframe\">\n  <thead>\n    <tr style=\"text-align: right;\">\n      <th></th>\n      <th>School_name</th>\n      <th>city</th>\n      <th>zipcode</th>\n      <th>elementary_school</th>\n      <th>intermediate_school</th>\n      <th>middle_school</th>\n      <th>high_school</th>\n      <th>school_grade</th>\n      <th>title_i_status</th>\n      <th>total_students</th>\n      <th>...</th>\n      <th>sports_facilities</th>\n      <th>music_facilities</th>\n      <th>after_school_opportunities</th>\n      <th>other_facilities</th>\n      <th>student_services</th>\n      <th>acad_focus_1</th>\n      <th>acad_focus_2</th>\n      <th>acad_focus_3</th>\n      <th>acad_focus_4</th>\n      <th>acad_focus_5</th>\n    </tr>\n  </thead>\n  <tbody>\n    <tr>\n      <th>0</th>\n      <td>Academy with Community Partners</td>\n      <td>Mesa</td>\n      <td>85203</td>\n      <td>0</td>\n      <td>0</td>\n      <td>0</td>\n      <td>1</td>\n      <td>4</td>\n      <td>1</td>\n      <td>169</td>\n      <td>...</td>\n      <td>['Basketball', 'Others', 'chevron_right', 'Fla...</td>\n      <td>['Art']</td>\n      <td>['Athletic', 'chevron_right', 'Basketball', 'c...</td>\n      <td>['Dedicated Counselors', 'chevron_right', '1']</td>\n      <td>['Assistance with Material Needs', 'McKinney-V...</td>\n      <td>1</td>\n      <td>1</td>\n      <td>1</td>\n      <td>1</td>\n      <td>1</td>\n    </tr>\n    <tr>\n      <th>1</th>\n      <td>Accelerated Learning Center</td>\n      <td>Phoenix</td>\n      <td>85028</td>\n      <td>0</td>\n      <td>0</td>\n      <td>0</td>\n      <td>1</td>\n      <td>5</td>\n      <td>0</td>\n      <td>153</td>\n      <td>...</td>\n      <td>['No data available']</td>\n      <td>['Art', 'Photography']</td>\n      <td>['No data available']</td>\n      <td>['Art Room', 'Indoor air quality control']</td>\n      <td>['Assistance with Material Needs', 'McKinney-V...</td>\n      <td>1</td>\n      <td>1</td>\n      <td>1</td>\n      <td>1</td>\n      <td>1</td>\n    </tr>\n    <tr>\n      <th>2</th>\n      <td>Agua Fria High School</td>\n      <td>Avondale</td>\n      <td>85323</td>\n      <td>0</td>\n      <td>0</td>\n      <td>0</td>\n      <td>1</td>\n      <td>4</td>\n      <td>1</td>\n      <td>1653</td>\n      <td>...</td>\n      <td>['Badminton', 'Baseball', 'Basketball', 'Cross...</td>\n      <td>['Art', 'Band', 'Ceramics/Sculpting', 'Choir',...</td>\n      <td>['Academic', 'chevron_right', 'National Honor ...</td>\n      <td>['Art Room', 'Auditorium', 'Book Store', 'Cafe...</td>\n      <td>['No data available']</td>\n      <td>1</td>\n      <td>1</td>\n      <td>1</td>\n      <td>1</td>\n      <td>1</td>\n    </tr>\n    <tr>\n      <th>3</th>\n      <td>Alhambra High School</td>\n      <td>Phoenix</td>\n      <td>85019</td>\n      <td>0</td>\n      <td>0</td>\n      <td>0</td>\n      <td>1</td>\n      <td>3</td>\n      <td>1</td>\n      <td>2283</td>\n      <td>...</td>\n      <td>['Badminton', 'Baseball', 'Basketball', 'Cross...</td>\n      <td>['Art', 'Band', 'Ceramics/Sculpting', 'Choir',...</td>\n      <td>['Academic', 'chevron_right', 'AVID Club/Unive...</td>\n      <td>['Art Room', 'Auditorium', 'Book Store', 'Cafe...</td>\n      <td>['Dedicated School Counselor', 'chevron_right'...</td>\n      <td>1</td>\n      <td>1</td>\n      <td>1</td>\n      <td>1</td>\n      <td>1</td>\n    </tr>\n    <tr>\n      <th>4</th>\n      <td>Apollo High School</td>\n      <td>Glendale</td>\n      <td>85302</td>\n      <td>0</td>\n      <td>0</td>\n      <td>0</td>\n      <td>1</td>\n      <td>4</td>\n      <td>1</td>\n      <td>2198</td>\n      <td>...</td>\n      <td>['Badminton', 'Baseball', 'Basketball', 'Cross...</td>\n      <td>['Art', 'Band', 'Ceramics/Sculpting', 'Choir',...</td>\n      <td>['Academic', 'chevron_right', 'World Language ...</td>\n      <td>['Art Room', 'Auditorium', 'Book Store', 'Cafe...</td>\n      <td>['No data available']</td>\n      <td>0</td>\n      <td>0</td>\n      <td>0</td>\n      <td>0</td>\n      <td>0</td>\n    </tr>\n  </tbody>\n</table>\n<p>5 rows × 50 columns</p>\n</div>"
     },
     "execution_count": 469,
     "metadata": {},
     "output_type": "execute_result"
    }
   ],
   "source": [
    "school_additional_data = school_additional_raw_data.copy(deep=True)\n",
    "school_additional_data.head(5)"
   ]
  },
  {
   "cell_type": "code",
   "execution_count": 470,
   "id": "f9313cdde0100ac2",
   "metadata": {
    "collapsed": false,
    "ExecuteTime": {
     "end_time": "2024-05-03T03:50:28.814402Z",
     "start_time": "2024-05-03T03:50:28.741204Z"
    }
   },
   "outputs": [],
   "source": [
    "additional_cols = ['awards_and_recognitions',\n",
    " 'academic_offerings',\n",
    " 'sports_facilities',\n",
    " 'music_facilities',\n",
    " 'after_school_opportunities',\n",
    " 'other_facilities',\n",
    " 'student_services']"
   ]
  },
  {
   "cell_type": "code",
   "execution_count": 471,
   "id": "d5b2d7685d673d74",
   "metadata": {
    "collapsed": false,
    "ExecuteTime": {
     "end_time": "2024-05-03T03:50:29.433050Z",
     "start_time": "2024-05-03T03:50:28.758203Z"
    }
   },
   "outputs": [],
   "source": [
    "for additional_col in additional_cols:\n",
    "\n",
    "    school_additional_data[additional_col] = school_additional_data[additional_col].apply(ast.literal_eval)\n",
    "    one_hot_genres_df = school_additional_data[additional_col].str.get_dummies(sep=\",\")\n",
    "    \n",
    "    mlb = MultiLabelBinarizer()\n",
    "    \n",
    "    one_hot_encoded_data = mlb.fit_transform(school_additional_data[additional_col])\n",
    "    \n",
    "    one_hot_df = pd.DataFrame(one_hot_encoded_data, columns=mlb.classes_)\n",
    "    \n",
    "    columns = one_hot_df.columns.tolist()\n",
    "    \n",
    "    columns_to_drop = []\n",
    "    \n",
    "    numeric_patterns = re.compile(r\"\\d\\.\\d\")\n",
    "    for col in columns:\n",
    "        if sum(one_hot_df[col])==1:\n",
    "            columns_to_drop.append(col)\n",
    "        elif numeric_patterns.match(col) or col.isnumeric():\n",
    "            columns_to_drop.append(col)\n",
    "        elif len(col) > 50:\n",
    "            columns_to_drop.append(col)\n",
    "            # print(col)\n",
    "\n",
    "            \n",
    "    if 'No data available'not in columns_to_drop:\n",
    "        columns_to_drop.append('No data available')\n",
    "        \n",
    "    \n",
    "    one_hot_df.drop(columns=columns_to_drop,inplace=True,axis=1)\n",
    "    \n",
    "    school_additional_data = pd.concat([school_additional_data.drop(additional_col, axis=1), one_hot_df], axis=1)\n",
    "    \n"
   ]
  },
  {
   "cell_type": "code",
   "execution_count": 472,
   "id": "fa518ec47b25fed5",
   "metadata": {
    "collapsed": false,
    "ExecuteTime": {
     "end_time": "2024-05-03T03:50:29.446342Z",
     "start_time": "2024-05-03T03:50:29.439818Z"
    }
   },
   "outputs": [
    {
     "data": {
      "text/plain": "                      School_name      city   zipcode  elementary_school  \\\n0  Academy with Community Partners      Mesa    85203                  0   \n1      Accelerated Learning Center   Phoenix    85028                  0   \n2            Agua Fria High School  Avondale    85323                  0   \n3             Alhambra High School   Phoenix    85019                  0   \n4               Apollo High School  Glendale    85302                  0   \n\n   intermediate_school  middle_school  high_school  school_grade  \\\n0                    0              0            1             4   \n1                    0              0            1             5   \n2                    0              0            1             4   \n3                    0              0            1             3   \n4                    0              0            1             4   \n\n   title_i_status  total_students  ...  Parenting programs  \\\n0               1             169  ...                   0   \n1               0             153  ...                   0   \n2               1            1653  ...                   0   \n3               1            2283  ...                   0   \n4               1            2198  ...                   0   \n\n   Partner Community Organizations  Partner Mental Health Agencies  \\\n0                                0                               0   \n1                                0                               0   \n2                                0                               0   \n3                                1                               1   \n4                                0                               0   \n\n   Refugee services  School Psychologist  Small group counseling  \\\n0                 0                    0                       0   \n1                 0                    0                       0   \n2                 0                    0                       0   \n3                 1                    0                       1   \n4                 0                    0                       0   \n\n   Southwest Behavior Health  Southwest Behavioral Health  Teen Lifeline  \\\n0                          0                            0              0   \n1                          0                            0              0   \n2                          0                            0              0   \n3                          0                            0              1   \n4                          0                            0              0   \n\n   chevron_right  \n0              0  \n1              0  \n2              0  \n3              1  \n4              0  \n\n[5 rows x 473 columns]",
      "text/html": "<div>\n<style scoped>\n    .dataframe tbody tr th:only-of-type {\n        vertical-align: middle;\n    }\n\n    .dataframe tbody tr th {\n        vertical-align: top;\n    }\n\n    .dataframe thead th {\n        text-align: right;\n    }\n</style>\n<table border=\"1\" class=\"dataframe\">\n  <thead>\n    <tr style=\"text-align: right;\">\n      <th></th>\n      <th>School_name</th>\n      <th>city</th>\n      <th>zipcode</th>\n      <th>elementary_school</th>\n      <th>intermediate_school</th>\n      <th>middle_school</th>\n      <th>high_school</th>\n      <th>school_grade</th>\n      <th>title_i_status</th>\n      <th>total_students</th>\n      <th>...</th>\n      <th>Parenting programs</th>\n      <th>Partner Community Organizations</th>\n      <th>Partner Mental Health Agencies</th>\n      <th>Refugee services</th>\n      <th>School Psychologist</th>\n      <th>Small group counseling</th>\n      <th>Southwest Behavior Health</th>\n      <th>Southwest Behavioral Health</th>\n      <th>Teen Lifeline</th>\n      <th>chevron_right</th>\n    </tr>\n  </thead>\n  <tbody>\n    <tr>\n      <th>0</th>\n      <td>Academy with Community Partners</td>\n      <td>Mesa</td>\n      <td>85203</td>\n      <td>0</td>\n      <td>0</td>\n      <td>0</td>\n      <td>1</td>\n      <td>4</td>\n      <td>1</td>\n      <td>169</td>\n      <td>...</td>\n      <td>0</td>\n      <td>0</td>\n      <td>0</td>\n      <td>0</td>\n      <td>0</td>\n      <td>0</td>\n      <td>0</td>\n      <td>0</td>\n      <td>0</td>\n      <td>0</td>\n    </tr>\n    <tr>\n      <th>1</th>\n      <td>Accelerated Learning Center</td>\n      <td>Phoenix</td>\n      <td>85028</td>\n      <td>0</td>\n      <td>0</td>\n      <td>0</td>\n      <td>1</td>\n      <td>5</td>\n      <td>0</td>\n      <td>153</td>\n      <td>...</td>\n      <td>0</td>\n      <td>0</td>\n      <td>0</td>\n      <td>0</td>\n      <td>0</td>\n      <td>0</td>\n      <td>0</td>\n      <td>0</td>\n      <td>0</td>\n      <td>0</td>\n    </tr>\n    <tr>\n      <th>2</th>\n      <td>Agua Fria High School</td>\n      <td>Avondale</td>\n      <td>85323</td>\n      <td>0</td>\n      <td>0</td>\n      <td>0</td>\n      <td>1</td>\n      <td>4</td>\n      <td>1</td>\n      <td>1653</td>\n      <td>...</td>\n      <td>0</td>\n      <td>0</td>\n      <td>0</td>\n      <td>0</td>\n      <td>0</td>\n      <td>0</td>\n      <td>0</td>\n      <td>0</td>\n      <td>0</td>\n      <td>0</td>\n    </tr>\n    <tr>\n      <th>3</th>\n      <td>Alhambra High School</td>\n      <td>Phoenix</td>\n      <td>85019</td>\n      <td>0</td>\n      <td>0</td>\n      <td>0</td>\n      <td>1</td>\n      <td>3</td>\n      <td>1</td>\n      <td>2283</td>\n      <td>...</td>\n      <td>0</td>\n      <td>1</td>\n      <td>1</td>\n      <td>1</td>\n      <td>0</td>\n      <td>1</td>\n      <td>0</td>\n      <td>0</td>\n      <td>1</td>\n      <td>1</td>\n    </tr>\n    <tr>\n      <th>4</th>\n      <td>Apollo High School</td>\n      <td>Glendale</td>\n      <td>85302</td>\n      <td>0</td>\n      <td>0</td>\n      <td>0</td>\n      <td>1</td>\n      <td>4</td>\n      <td>1</td>\n      <td>2198</td>\n      <td>...</td>\n      <td>0</td>\n      <td>0</td>\n      <td>0</td>\n      <td>0</td>\n      <td>0</td>\n      <td>0</td>\n      <td>0</td>\n      <td>0</td>\n      <td>0</td>\n      <td>0</td>\n    </tr>\n  </tbody>\n</table>\n<p>5 rows × 473 columns</p>\n</div>"
     },
     "execution_count": 472,
     "metadata": {},
     "output_type": "execute_result"
    }
   ],
   "source": [
    "school_additional_data.head(5)"
   ]
  },
  {
   "cell_type": "code",
   "execution_count": 473,
   "id": "3f5f989d1ee8068",
   "metadata": {
    "collapsed": false,
    "ExecuteTime": {
     "end_time": "2024-05-03T03:50:29.452346Z",
     "start_time": "2024-05-03T03:50:29.444248Z"
    }
   },
   "outputs": [],
   "source": [
    "add_test_set = [[]]"
   ]
  },
  {
   "cell_type": "code",
   "execution_count": 474,
   "id": "d53d6e14b002604a",
   "metadata": {
    "collapsed": false,
    "ExecuteTime": {
     "end_time": "2024-05-03T03:50:29.453807Z",
     "start_time": "2024-05-03T03:50:29.450082Z"
    }
   },
   "outputs": [],
   "source": [
    "\n",
    "city_number_converter = LabelEncoder()\n",
    "school_additional_data['city '] = city_number_converter.fit_transform(school_additional_raw_data['city '])\n",
    "\n",
    "\n",
    "zipcode_number_converter = LabelEncoder()\n",
    "school_additional_data['zipcode'] = zipcode_number_converter.fit_transform(school_additional_raw_data['zipcode'])\n"
   ]
  },
  {
   "cell_type": "code",
   "execution_count": 475,
   "id": "a255fe27d83f2bea",
   "metadata": {
    "collapsed": false,
    "scrolled": true,
    "ExecuteTime": {
     "end_time": "2024-05-03T03:50:29.485581Z",
     "start_time": "2024-05-03T03:50:29.452836Z"
    }
   },
   "outputs": [
    {
     "data": {
      "text/plain": "                        School_name   city   zipcode  elementary_school  \\\n0    Academy with Community Partners     12       38                  0   \n1        Accelerated Learning Center     14       18                  0   \n2              Agua Fria High School      1       81                  0   \n3               Alhambra High School     14       11                  0   \n4                 Apollo High School      8       74                  0   \n..                               ...    ...      ...                ...   \n215       Wickenburg Virtual Academy     21       96                  1   \n216       Williams Field High School     10       52                  0   \n217        Willis Junior High School      3       48                  0   \n218        Willow Canyon High School     17       90                  0   \n219             Youngker High School      2       82                  0   \n\n     intermediate_school  middle_school  high_school  school_grade  \\\n0                      0              0            1             4   \n1                      0              0            1             5   \n2                      0              0            1             4   \n3                      0              0            1             3   \n4                      0              0            1             4   \n..                   ...            ...          ...           ...   \n215                    1              1            1             4   \n216                    0              1            1             5   \n217                    0              1            0             4   \n218                    0              1            1             5   \n219                    0              0            1             5   \n\n     title_i_status  total_students  ...  Parenting programs  \\\n0                 1             169  ...                   0   \n1                 0             153  ...                   0   \n2                 1            1653  ...                   0   \n3                 1            2283  ...                   0   \n4                 1            2198  ...                   0   \n..              ...             ...  ...                 ...   \n215               0              78  ...                   0   \n216               0            2115  ...                   0   \n217               1             858  ...                   1   \n218               0            1787  ...                   0   \n219               1            2107  ...                   0   \n\n     Partner Community Organizations  Partner Mental Health Agencies  \\\n0                                  0                               0   \n1                                  0                               0   \n2                                  0                               0   \n3                                  1                               1   \n4                                  0                               0   \n..                               ...                             ...   \n215                                0                               0   \n216                                0                               0   \n217                                0                               1   \n218                                0                               0   \n219                                0                               0   \n\n     Refugee services  School Psychologist  Small group counseling  \\\n0                   0                    0                       0   \n1                   0                    0                       0   \n2                   0                    0                       0   \n3                   1                    0                       1   \n4                   0                    0                       0   \n..                ...                  ...                     ...   \n215                 0                    0                       0   \n216                 0                    0                       0   \n217                 0                    0                       0   \n218                 0                    0                       0   \n219                 0                    1                       0   \n\n     Southwest Behavior Health  Southwest Behavioral Health  Teen Lifeline  \\\n0                            0                            0              0   \n1                            0                            0              0   \n2                            0                            0              0   \n3                            0                            0              1   \n4                            0                            0              0   \n..                         ...                          ...            ...   \n215                          0                            0              0   \n216                          0                            0              0   \n217                          0                            1              0   \n218                          0                            0              0   \n219                          0                            0              0   \n\n     chevron_right  \n0                0  \n1                0  \n2                0  \n3                1  \n4                0  \n..             ...  \n215              0  \n216              0  \n217              1  \n218              0  \n219              1  \n\n[220 rows x 473 columns]",
      "text/html": "<div>\n<style scoped>\n    .dataframe tbody tr th:only-of-type {\n        vertical-align: middle;\n    }\n\n    .dataframe tbody tr th {\n        vertical-align: top;\n    }\n\n    .dataframe thead th {\n        text-align: right;\n    }\n</style>\n<table border=\"1\" class=\"dataframe\">\n  <thead>\n    <tr style=\"text-align: right;\">\n      <th></th>\n      <th>School_name</th>\n      <th>city</th>\n      <th>zipcode</th>\n      <th>elementary_school</th>\n      <th>intermediate_school</th>\n      <th>middle_school</th>\n      <th>high_school</th>\n      <th>school_grade</th>\n      <th>title_i_status</th>\n      <th>total_students</th>\n      <th>...</th>\n      <th>Parenting programs</th>\n      <th>Partner Community Organizations</th>\n      <th>Partner Mental Health Agencies</th>\n      <th>Refugee services</th>\n      <th>School Psychologist</th>\n      <th>Small group counseling</th>\n      <th>Southwest Behavior Health</th>\n      <th>Southwest Behavioral Health</th>\n      <th>Teen Lifeline</th>\n      <th>chevron_right</th>\n    </tr>\n  </thead>\n  <tbody>\n    <tr>\n      <th>0</th>\n      <td>Academy with Community Partners</td>\n      <td>12</td>\n      <td>38</td>\n      <td>0</td>\n      <td>0</td>\n      <td>0</td>\n      <td>1</td>\n      <td>4</td>\n      <td>1</td>\n      <td>169</td>\n      <td>...</td>\n      <td>0</td>\n      <td>0</td>\n      <td>0</td>\n      <td>0</td>\n      <td>0</td>\n      <td>0</td>\n      <td>0</td>\n      <td>0</td>\n      <td>0</td>\n      <td>0</td>\n    </tr>\n    <tr>\n      <th>1</th>\n      <td>Accelerated Learning Center</td>\n      <td>14</td>\n      <td>18</td>\n      <td>0</td>\n      <td>0</td>\n      <td>0</td>\n      <td>1</td>\n      <td>5</td>\n      <td>0</td>\n      <td>153</td>\n      <td>...</td>\n      <td>0</td>\n      <td>0</td>\n      <td>0</td>\n      <td>0</td>\n      <td>0</td>\n      <td>0</td>\n      <td>0</td>\n      <td>0</td>\n      <td>0</td>\n      <td>0</td>\n    </tr>\n    <tr>\n      <th>2</th>\n      <td>Agua Fria High School</td>\n      <td>1</td>\n      <td>81</td>\n      <td>0</td>\n      <td>0</td>\n      <td>0</td>\n      <td>1</td>\n      <td>4</td>\n      <td>1</td>\n      <td>1653</td>\n      <td>...</td>\n      <td>0</td>\n      <td>0</td>\n      <td>0</td>\n      <td>0</td>\n      <td>0</td>\n      <td>0</td>\n      <td>0</td>\n      <td>0</td>\n      <td>0</td>\n      <td>0</td>\n    </tr>\n    <tr>\n      <th>3</th>\n      <td>Alhambra High School</td>\n      <td>14</td>\n      <td>11</td>\n      <td>0</td>\n      <td>0</td>\n      <td>0</td>\n      <td>1</td>\n      <td>3</td>\n      <td>1</td>\n      <td>2283</td>\n      <td>...</td>\n      <td>0</td>\n      <td>1</td>\n      <td>1</td>\n      <td>1</td>\n      <td>0</td>\n      <td>1</td>\n      <td>0</td>\n      <td>0</td>\n      <td>1</td>\n      <td>1</td>\n    </tr>\n    <tr>\n      <th>4</th>\n      <td>Apollo High School</td>\n      <td>8</td>\n      <td>74</td>\n      <td>0</td>\n      <td>0</td>\n      <td>0</td>\n      <td>1</td>\n      <td>4</td>\n      <td>1</td>\n      <td>2198</td>\n      <td>...</td>\n      <td>0</td>\n      <td>0</td>\n      <td>0</td>\n      <td>0</td>\n      <td>0</td>\n      <td>0</td>\n      <td>0</td>\n      <td>0</td>\n      <td>0</td>\n      <td>0</td>\n    </tr>\n    <tr>\n      <th>...</th>\n      <td>...</td>\n      <td>...</td>\n      <td>...</td>\n      <td>...</td>\n      <td>...</td>\n      <td>...</td>\n      <td>...</td>\n      <td>...</td>\n      <td>...</td>\n      <td>...</td>\n      <td>...</td>\n      <td>...</td>\n      <td>...</td>\n      <td>...</td>\n      <td>...</td>\n      <td>...</td>\n      <td>...</td>\n      <td>...</td>\n      <td>...</td>\n      <td>...</td>\n      <td>...</td>\n    </tr>\n    <tr>\n      <th>215</th>\n      <td>Wickenburg Virtual Academy</td>\n      <td>21</td>\n      <td>96</td>\n      <td>1</td>\n      <td>1</td>\n      <td>1</td>\n      <td>1</td>\n      <td>4</td>\n      <td>0</td>\n      <td>78</td>\n      <td>...</td>\n      <td>0</td>\n      <td>0</td>\n      <td>0</td>\n      <td>0</td>\n      <td>0</td>\n      <td>0</td>\n      <td>0</td>\n      <td>0</td>\n      <td>0</td>\n      <td>0</td>\n    </tr>\n    <tr>\n      <th>216</th>\n      <td>Williams Field High School</td>\n      <td>10</td>\n      <td>52</td>\n      <td>0</td>\n      <td>0</td>\n      <td>1</td>\n      <td>1</td>\n      <td>5</td>\n      <td>0</td>\n      <td>2115</td>\n      <td>...</td>\n      <td>0</td>\n      <td>0</td>\n      <td>0</td>\n      <td>0</td>\n      <td>0</td>\n      <td>0</td>\n      <td>0</td>\n      <td>0</td>\n      <td>0</td>\n      <td>0</td>\n    </tr>\n    <tr>\n      <th>217</th>\n      <td>Willis Junior High School</td>\n      <td>3</td>\n      <td>48</td>\n      <td>0</td>\n      <td>0</td>\n      <td>1</td>\n      <td>0</td>\n      <td>4</td>\n      <td>1</td>\n      <td>858</td>\n      <td>...</td>\n      <td>1</td>\n      <td>0</td>\n      <td>1</td>\n      <td>0</td>\n      <td>0</td>\n      <td>0</td>\n      <td>0</td>\n      <td>1</td>\n      <td>0</td>\n      <td>1</td>\n    </tr>\n    <tr>\n      <th>218</th>\n      <td>Willow Canyon High School</td>\n      <td>17</td>\n      <td>90</td>\n      <td>0</td>\n      <td>0</td>\n      <td>1</td>\n      <td>1</td>\n      <td>5</td>\n      <td>0</td>\n      <td>1787</td>\n      <td>...</td>\n      <td>0</td>\n      <td>0</td>\n      <td>0</td>\n      <td>0</td>\n      <td>0</td>\n      <td>0</td>\n      <td>0</td>\n      <td>0</td>\n      <td>0</td>\n      <td>0</td>\n    </tr>\n    <tr>\n      <th>219</th>\n      <td>Youngker High School</td>\n      <td>2</td>\n      <td>82</td>\n      <td>0</td>\n      <td>0</td>\n      <td>0</td>\n      <td>1</td>\n      <td>5</td>\n      <td>1</td>\n      <td>2107</td>\n      <td>...</td>\n      <td>0</td>\n      <td>0</td>\n      <td>0</td>\n      <td>0</td>\n      <td>1</td>\n      <td>0</td>\n      <td>0</td>\n      <td>0</td>\n      <td>0</td>\n      <td>1</td>\n    </tr>\n  </tbody>\n</table>\n<p>220 rows × 473 columns</p>\n</div>"
     },
     "execution_count": 475,
     "metadata": {},
     "output_type": "execute_result"
    }
   ],
   "source": [
    "school_add_output_data = school_additional_data.copy(deep=True)\n",
    "school_add_output_data"
   ]
  },
  {
   "cell_type": "code",
   "execution_count": 476,
   "id": "6f64020c95bb7b42",
   "metadata": {
    "collapsed": false,
    "ExecuteTime": {
     "end_time": "2024-05-03T03:50:29.486565Z",
     "start_time": "2024-05-03T03:50:29.467360Z"
    }
   },
   "outputs": [],
   "source": [
    "scaler = StandardScaler()\n",
    "\n",
    "school_additional_data = pd.DataFrame(scaler.fit_transform(school_additional_data.iloc[:, 1:]))"
   ]
  },
  {
   "cell_type": "code",
   "execution_count": 477,
   "outputs": [
    {
     "data": {
      "text/plain": "        0         1         2         3         4        5         6    7    \\\n0  0.076492 -0.314180 -0.404995 -0.434959 -1.056118  0.39736 -0.228783  1.0   \n1  0.513588 -1.015547 -0.404995 -0.434959 -1.056118  0.39736  1.061789 -1.0   \n\n        8         9    ...       462       463       464       465       466  \\\n0 -0.942318 -0.727017  ... -0.270501 -0.358057 -0.412568 -0.206529 -0.117579   \n1 -0.957866 -0.761135  ... -0.270501 -0.358057 -0.412568 -0.206529 -0.117579   \n\n        467       468       469       470       471  \n0 -0.507093 -0.095783 -0.260694 -0.270501 -0.793492  \n1 -0.507093 -0.095783 -0.260694 -0.270501 -0.793492  \n\n[2 rows x 472 columns]",
      "text/html": "<div>\n<style scoped>\n    .dataframe tbody tr th:only-of-type {\n        vertical-align: middle;\n    }\n\n    .dataframe tbody tr th {\n        vertical-align: top;\n    }\n\n    .dataframe thead th {\n        text-align: right;\n    }\n</style>\n<table border=\"1\" class=\"dataframe\">\n  <thead>\n    <tr style=\"text-align: right;\">\n      <th></th>\n      <th>0</th>\n      <th>1</th>\n      <th>2</th>\n      <th>3</th>\n      <th>4</th>\n      <th>5</th>\n      <th>6</th>\n      <th>7</th>\n      <th>8</th>\n      <th>9</th>\n      <th>...</th>\n      <th>462</th>\n      <th>463</th>\n      <th>464</th>\n      <th>465</th>\n      <th>466</th>\n      <th>467</th>\n      <th>468</th>\n      <th>469</th>\n      <th>470</th>\n      <th>471</th>\n    </tr>\n  </thead>\n  <tbody>\n    <tr>\n      <th>0</th>\n      <td>0.076492</td>\n      <td>-0.314180</td>\n      <td>-0.404995</td>\n      <td>-0.434959</td>\n      <td>-1.056118</td>\n      <td>0.39736</td>\n      <td>-0.228783</td>\n      <td>1.0</td>\n      <td>-0.942318</td>\n      <td>-0.727017</td>\n      <td>...</td>\n      <td>-0.270501</td>\n      <td>-0.358057</td>\n      <td>-0.412568</td>\n      <td>-0.206529</td>\n      <td>-0.117579</td>\n      <td>-0.507093</td>\n      <td>-0.095783</td>\n      <td>-0.260694</td>\n      <td>-0.270501</td>\n      <td>-0.793492</td>\n    </tr>\n    <tr>\n      <th>1</th>\n      <td>0.513588</td>\n      <td>-1.015547</td>\n      <td>-0.404995</td>\n      <td>-0.434959</td>\n      <td>-1.056118</td>\n      <td>0.39736</td>\n      <td>1.061789</td>\n      <td>-1.0</td>\n      <td>-0.957866</td>\n      <td>-0.761135</td>\n      <td>...</td>\n      <td>-0.270501</td>\n      <td>-0.358057</td>\n      <td>-0.412568</td>\n      <td>-0.206529</td>\n      <td>-0.117579</td>\n      <td>-0.507093</td>\n      <td>-0.095783</td>\n      <td>-0.260694</td>\n      <td>-0.270501</td>\n      <td>-0.793492</td>\n    </tr>\n  </tbody>\n</table>\n<p>2 rows × 472 columns</p>\n</div>"
     },
     "execution_count": 477,
     "metadata": {},
     "output_type": "execute_result"
    }
   ],
   "source": [
    "school_additional_data.head(2)"
   ],
   "metadata": {
    "collapsed": false,
    "ExecuteTime": {
     "end_time": "2024-05-03T03:50:29.575186Z",
     "start_time": "2024-05-03T03:50:29.484273Z"
    }
   },
   "id": "4709b6c5a312dacc"
  },
  {
   "cell_type": "code",
   "execution_count": 478,
   "outputs": [],
   "source": [
    "school_additional_data.to_csv('dataset_of_schools_in_phoenix_metropolitan_with_extra_cols.csv', index=False)"
   ],
   "metadata": {
    "collapsed": false,
    "ExecuteTime": {
     "end_time": "2024-05-03T03:50:29.821918Z",
     "start_time": "2024-05-03T03:50:29.489981Z"
    }
   },
   "id": "10d646cabb50db51"
  },
  {
   "cell_type": "code",
   "execution_count": 479,
   "id": "d2989adb7901d306",
   "metadata": {
    "collapsed": false,
    "ExecuteTime": {
     "end_time": "2024-05-03T03:50:32.832492Z",
     "start_time": "2024-05-03T03:50:29.656045Z"
    }
   },
   "outputs": [],
   "source": [
    "school_name_add = input(\"Enter the full name of the school\")\n",
    "if len(school_additional_raw_data[\"School_name \"][school_additional_raw_data[\"School_name \"].str.lower().isin([school_name_add.lower()])]) > 0:\n",
    "    row_index_to_drop = school_additional_raw_data[\"School_name \"][school_additional_raw_data[\"School_name \"].str.lower().isin([school_name_add.lower()])].index\n",
    "\n",
    "    add_test_set[0] = school_additional_data.iloc[row_index_to_drop]\n",
    "    \n",
    "    school_additional_data.drop(row_index_to_drop,inplace=True)\n",
    "    school_add_output_data.drop(row_index_to_drop,inplace=True)\n",
    "            "
   ]
  },
  {
   "cell_type": "code",
   "execution_count": 480,
   "id": "5a930240b8f6315",
   "metadata": {
    "collapsed": false,
    "ExecuteTime": {
     "end_time": "2024-05-03T03:50:32.850699Z",
     "start_time": "2024-05-03T03:50:32.747051Z"
    }
   },
   "outputs": [
    {
     "data": {
      "text/plain": "          0         1         2         3         4        5         6    7    \\\n157  0.732136 -0.419385 -0.404995 -0.434959 -1.056118  0.39736  1.061789 -1.0   \n\n          8         9    ...       462       463      464       465       466  \\\n157  1.055672 -0.147016  ... -0.270501  2.792848  2.42384 -0.206529 -0.117579   \n\n          467       468       469       470       471  \n157  1.972027 -0.095783 -0.260694 -0.270501  1.260252  \n\n[1 rows x 472 columns]",
      "text/html": "<div>\n<style scoped>\n    .dataframe tbody tr th:only-of-type {\n        vertical-align: middle;\n    }\n\n    .dataframe tbody tr th {\n        vertical-align: top;\n    }\n\n    .dataframe thead th {\n        text-align: right;\n    }\n</style>\n<table border=\"1\" class=\"dataframe\">\n  <thead>\n    <tr style=\"text-align: right;\">\n      <th></th>\n      <th>0</th>\n      <th>1</th>\n      <th>2</th>\n      <th>3</th>\n      <th>4</th>\n      <th>5</th>\n      <th>6</th>\n      <th>7</th>\n      <th>8</th>\n      <th>9</th>\n      <th>...</th>\n      <th>462</th>\n      <th>463</th>\n      <th>464</th>\n      <th>465</th>\n      <th>466</th>\n      <th>467</th>\n      <th>468</th>\n      <th>469</th>\n      <th>470</th>\n      <th>471</th>\n    </tr>\n  </thead>\n  <tbody>\n    <tr>\n      <th>157</th>\n      <td>0.732136</td>\n      <td>-0.419385</td>\n      <td>-0.404995</td>\n      <td>-0.434959</td>\n      <td>-1.056118</td>\n      <td>0.39736</td>\n      <td>1.061789</td>\n      <td>-1.0</td>\n      <td>1.055672</td>\n      <td>-0.147016</td>\n      <td>...</td>\n      <td>-0.270501</td>\n      <td>2.792848</td>\n      <td>2.42384</td>\n      <td>-0.206529</td>\n      <td>-0.117579</td>\n      <td>1.972027</td>\n      <td>-0.095783</td>\n      <td>-0.260694</td>\n      <td>-0.270501</td>\n      <td>1.260252</td>\n    </tr>\n  </tbody>\n</table>\n<p>1 rows × 472 columns</p>\n</div>"
     },
     "execution_count": 480,
     "metadata": {},
     "output_type": "execute_result"
    }
   ],
   "source": [
    "add_test_set[0]"
   ]
  },
  {
   "cell_type": "code",
   "execution_count": 481,
   "id": "94578c016c013442",
   "metadata": {
    "collapsed": false,
    "ExecuteTime": {
     "end_time": "2024-05-03T03:50:32.850959Z",
     "start_time": "2024-05-03T03:50:32.754293Z"
    }
   },
   "outputs": [
    {
     "data": {
      "text/plain": "(1, 472)"
     },
     "execution_count": 481,
     "metadata": {},
     "output_type": "execute_result"
    }
   ],
   "source": [
    "add_test = pd.DataFrame(add_test_set[0])\n",
    "add_test.astype(int)\n",
    "add_test.shape"
   ]
  },
  {
   "cell_type": "code",
   "execution_count": 482,
   "id": "23e8ea6ae73c8543",
   "metadata": {
    "collapsed": false,
    "scrolled": true,
    "ExecuteTime": {
     "end_time": "2024-05-03T03:50:32.888368Z",
     "start_time": "2024-05-03T03:50:32.763673Z"
    }
   },
   "outputs": [
    {
     "data": {
      "text/plain": "                     School_name        city   zipcode  elementary_school  \\\n117              Mesa High School        Mesa    85204                  0   \n32          Chaparral High School  Scottsdale    85253                  0   \n187  Southwest Leadership Academy     Phoenix    85043                  0   \n192         Sunrise Middle School  Scottsdale    85254                  0   \n51             Dobson High School        Mesa    85202                  0   \n\n     intermediate_school  middle_school  high_school  school_grade  \\\n117                    0              0            1             4   \n32                     0              0            1             5   \n187                    0              0            1             4   \n192                    0              1            0             4   \n51                     0              0            1             4   \n\n     title_i_status  total_students  ...  \\\n117               0            3475  ...   \n32                0            2038  ...   \n187               1             196  ...   \n192               0             433  ...   \n51                0            2370  ...   \n\n                                     sports_facilities  \\\n117  ['Badminton', 'Baseball', 'Basketball', 'Cross...   \n32   ['Badminton', 'Baseball', 'Basketball', 'Cross...   \n187  ['Baseball', 'Basketball', 'Football', 'Softba...   \n192  ['Basketball', 'Football', 'Softball', 'Track ...   \n51   ['Badminton', 'Baseball', 'Basketball', 'Cross...   \n\n                                      music_facilities  \\\n117  ['Art', 'Band', 'Ceramics/Sculpting', 'Choir',...   \n32   ['Art', 'Band', 'Ceramics/Sculpting', 'Choir',...   \n187                                   ['Art', 'Music']   \n192  ['Art', 'Band', 'Choir', 'Dance', 'Orchestra',...   \n51   ['Art', 'Band', 'Ceramics/Sculpting', 'Choir',...   \n\n                            after_school_opportunities  \\\n117  ['Academic', 'Arts', 'Athletic', 'Career and T...   \n32   ['Academic', 'Arts', 'Athletic', 'Business Int...   \n187  ['Academic', 'chevron_right', 'Before and afte...   \n192  ['Academic', 'chevron_right', 'National Junior...   \n51   ['Academic', 'chevron_right', 'Academic Decath...   \n\n                                      other_facilities  \\\n117  ['Art Room', 'Auditorium', 'Book Store', 'Cafe...   \n32   ['Art Room', 'Auditorium', 'Book Store', 'Cafe...   \n187  ['Cafeteria (Onsite food service)', 'Dedicated...   \n192  ['Art Room', 'Cafeteria (Onsite food service)'...   \n51   ['Art Room', 'Auditorium', 'Book Store', 'Cafe...   \n\n                                      student_services  acad_focus_1  \\\n117  ['Dedicated School Counselor', 'chevron_right'...             1   \n32                               ['No data available']             0   \n187                              ['No data available']             0   \n192  ['Dedicated School Counselor', 'chevron_right'...             1   \n51                               ['No data available']             0   \n\n     acad_focus_2  acad_focus_3  acad_focus_4  acad_focus_5  \n117             1             1             1             1  \n32              0             0             0             0  \n187             0             0             0             0  \n192             1             1             1             1  \n51              0             0             0             0  \n\n[5 rows x 50 columns]",
      "text/html": "<div>\n<style scoped>\n    .dataframe tbody tr th:only-of-type {\n        vertical-align: middle;\n    }\n\n    .dataframe tbody tr th {\n        vertical-align: top;\n    }\n\n    .dataframe thead th {\n        text-align: right;\n    }\n</style>\n<table border=\"1\" class=\"dataframe\">\n  <thead>\n    <tr style=\"text-align: right;\">\n      <th></th>\n      <th>School_name</th>\n      <th>city</th>\n      <th>zipcode</th>\n      <th>elementary_school</th>\n      <th>intermediate_school</th>\n      <th>middle_school</th>\n      <th>high_school</th>\n      <th>school_grade</th>\n      <th>title_i_status</th>\n      <th>total_students</th>\n      <th>...</th>\n      <th>sports_facilities</th>\n      <th>music_facilities</th>\n      <th>after_school_opportunities</th>\n      <th>other_facilities</th>\n      <th>student_services</th>\n      <th>acad_focus_1</th>\n      <th>acad_focus_2</th>\n      <th>acad_focus_3</th>\n      <th>acad_focus_4</th>\n      <th>acad_focus_5</th>\n    </tr>\n  </thead>\n  <tbody>\n    <tr>\n      <th>117</th>\n      <td>Mesa High School</td>\n      <td>Mesa</td>\n      <td>85204</td>\n      <td>0</td>\n      <td>0</td>\n      <td>0</td>\n      <td>1</td>\n      <td>4</td>\n      <td>0</td>\n      <td>3475</td>\n      <td>...</td>\n      <td>['Badminton', 'Baseball', 'Basketball', 'Cross...</td>\n      <td>['Art', 'Band', 'Ceramics/Sculpting', 'Choir',...</td>\n      <td>['Academic', 'Arts', 'Athletic', 'Career and T...</td>\n      <td>['Art Room', 'Auditorium', 'Book Store', 'Cafe...</td>\n      <td>['Dedicated School Counselor', 'chevron_right'...</td>\n      <td>1</td>\n      <td>1</td>\n      <td>1</td>\n      <td>1</td>\n      <td>1</td>\n    </tr>\n    <tr>\n      <th>32</th>\n      <td>Chaparral High School</td>\n      <td>Scottsdale</td>\n      <td>85253</td>\n      <td>0</td>\n      <td>0</td>\n      <td>0</td>\n      <td>1</td>\n      <td>5</td>\n      <td>0</td>\n      <td>2038</td>\n      <td>...</td>\n      <td>['Badminton', 'Baseball', 'Basketball', 'Cross...</td>\n      <td>['Art', 'Band', 'Ceramics/Sculpting', 'Choir',...</td>\n      <td>['Academic', 'Arts', 'Athletic', 'Business Int...</td>\n      <td>['Art Room', 'Auditorium', 'Book Store', 'Cafe...</td>\n      <td>['No data available']</td>\n      <td>0</td>\n      <td>0</td>\n      <td>0</td>\n      <td>0</td>\n      <td>0</td>\n    </tr>\n    <tr>\n      <th>187</th>\n      <td>Southwest Leadership Academy</td>\n      <td>Phoenix</td>\n      <td>85043</td>\n      <td>0</td>\n      <td>0</td>\n      <td>0</td>\n      <td>1</td>\n      <td>4</td>\n      <td>1</td>\n      <td>196</td>\n      <td>...</td>\n      <td>['Baseball', 'Basketball', 'Football', 'Softba...</td>\n      <td>['Art', 'Music']</td>\n      <td>['Academic', 'chevron_right', 'Before and afte...</td>\n      <td>['Cafeteria (Onsite food service)', 'Dedicated...</td>\n      <td>['No data available']</td>\n      <td>0</td>\n      <td>0</td>\n      <td>0</td>\n      <td>0</td>\n      <td>0</td>\n    </tr>\n    <tr>\n      <th>192</th>\n      <td>Sunrise Middle School</td>\n      <td>Scottsdale</td>\n      <td>85254</td>\n      <td>0</td>\n      <td>0</td>\n      <td>1</td>\n      <td>0</td>\n      <td>4</td>\n      <td>0</td>\n      <td>433</td>\n      <td>...</td>\n      <td>['Basketball', 'Football', 'Softball', 'Track ...</td>\n      <td>['Art', 'Band', 'Choir', 'Dance', 'Orchestra',...</td>\n      <td>['Academic', 'chevron_right', 'National Junior...</td>\n      <td>['Art Room', 'Cafeteria (Onsite food service)'...</td>\n      <td>['Dedicated School Counselor', 'chevron_right'...</td>\n      <td>1</td>\n      <td>1</td>\n      <td>1</td>\n      <td>1</td>\n      <td>1</td>\n    </tr>\n    <tr>\n      <th>51</th>\n      <td>Dobson High School</td>\n      <td>Mesa</td>\n      <td>85202</td>\n      <td>0</td>\n      <td>0</td>\n      <td>0</td>\n      <td>1</td>\n      <td>4</td>\n      <td>0</td>\n      <td>2370</td>\n      <td>...</td>\n      <td>['Badminton', 'Baseball', 'Basketball', 'Cross...</td>\n      <td>['Art', 'Band', 'Ceramics/Sculpting', 'Choir',...</td>\n      <td>['Academic', 'chevron_right', 'Academic Decath...</td>\n      <td>['Art Room', 'Auditorium', 'Book Store', 'Cafe...</td>\n      <td>['No data available']</td>\n      <td>0</td>\n      <td>0</td>\n      <td>0</td>\n      <td>0</td>\n      <td>0</td>\n    </tr>\n  </tbody>\n</table>\n<p>5 rows × 50 columns</p>\n</div>"
     },
     "execution_count": 482,
     "metadata": {},
     "output_type": "execute_result"
    }
   ],
   "source": [
    "# Fit the model\n",
    "neigh = KNeighborsClassifier(n_neighbors=5)\n",
    "neigh.fit(school_additional_data, school_add_output_data['School_name '])\n",
    "\n",
    "# Get distances and indices of 5 nearest neighbors\n",
    "distances, indices = neigh.kneighbors(add_test)\n",
    "\n",
    "# Print the names of the 5 nearest schools\n",
    "output_index = []\n",
    "for i in range(5):\n",
    "    output_index.append(indices[0][i])\n",
    "\n",
    "school_additional_raw_data.loc[output_index]"
   ]
  },
  {
   "cell_type": "code",
   "execution_count": 483,
   "id": "b89ae02f0443d470",
   "metadata": {
    "collapsed": false,
    "ExecuteTime": {
     "end_time": "2024-05-03T03:50:32.905479Z",
     "start_time": "2024-05-03T03:50:32.779034Z"
    }
   },
   "outputs": [
    {
     "name": "stdout",
     "output_type": "stream",
     "text": [
      "[[41.13677758 41.39746355 41.40934522 41.50625607 41.5720368 ]]\n"
     ]
    }
   ],
   "source": [
    "print(distances)"
   ]
  },
  {
   "cell_type": "code",
   "execution_count": 484,
   "id": "ce4b20698ad6380e",
   "metadata": {
    "collapsed": false,
    "ExecuteTime": {
     "end_time": "2024-05-03T03:50:32.960336Z",
     "start_time": "2024-05-03T03:50:32.789408Z"
    }
   },
   "outputs": [
    {
     "data": {
      "text/plain": "                    School_name        city   zipcode  elementary_school  \\\n93           Horizon High School  Scottsdale    85254                  0   \n216   Williams Field High School      Higley    85236                  0   \n14   Barry Goldwater High School     Phoenix    85027                  0   \n43       Deer Valley High School    Glendale    85308                  0   \n43       Deer Valley High School    Glendale    85308                  0   \n\n     intermediate_school  middle_school  high_school  school_grade  \\\n93                     0              1            1             5   \n216                    0              1            1             5   \n14                     0              1            1             4   \n43                     0              1            1             5   \n43                     0              1            1             5   \n\n     title_i_status  total_students  ...  \\\n93                0            1912  ...   \n216               0            2115  ...   \n14                1            1640  ...   \n43                0            1634  ...   \n43                0            1634  ...   \n\n                                     sports_facilities  \\\n93   ['Badminton', 'Baseball', 'Basketball', 'Cross...   \n216                              ['No data available']   \n14   ['Badminton', 'Baseball', 'Basketball', 'Cross...   \n43   ['Badminton', 'Baseball', 'Basketball', 'Cross...   \n43   ['Badminton', 'Baseball', 'Basketball', 'Cross...   \n\n                                      music_facilities  \\\n93   ['Art', 'Band', 'Ceramics/Sculpting', 'Choir',...   \n216                              ['No data available']   \n14   ['Art', 'Band', 'Choir', 'Cultural Arts', 'Dan...   \n43   ['Art', 'Band', 'Ceramics/Sculpting', 'Choir',...   \n43   ['Art', 'Band', 'Ceramics/Sculpting', 'Choir',...   \n\n                            after_school_opportunities  \\\n93   ['Academic', 'chevron_right', 'Math Lab', 'che...   \n216                              ['No data available']   \n14   ['Academic', 'Arts', 'Athletic', 'Career and T...   \n43   ['Academic', 'chevron_right', 'Academic Decath...   \n43   ['Academic', 'chevron_right', 'Academic Decath...   \n\n                                      other_facilities  \\\n93   ['Art Room', 'Auditorium', 'Book Store', 'Cafe...   \n216                              ['No data available']   \n14   ['Art Room', 'Auditorium', 'Book Store', 'Cafe...   \n43   ['Art Room', 'Auditorium', 'Book Store', 'Cafe...   \n43   ['Art Room', 'Auditorium', 'Book Store', 'Cafe...   \n\n                                      student_services  acad_focus_1  \\\n93   ['Dedicated School Counselor', 'chevron_right'...             1   \n216                              ['No data available']             0   \n14   ['Dedicated School Counselor', 'chevron_right'...             1   \n43   ['Mental health services', 'Individual counsel...             1   \n43   ['Mental health services', 'Individual counsel...             1   \n\n     acad_focus_2  acad_focus_3  acad_focus_4  acad_focus_5  \n93              1             1             1             1  \n216             0             0             0             0  \n14              1             1             1             1  \n43              1             1             1             1  \n43              1             1             1             1  \n\n[5 rows x 50 columns]",
      "text/html": "<div>\n<style scoped>\n    .dataframe tbody tr th:only-of-type {\n        vertical-align: middle;\n    }\n\n    .dataframe tbody tr th {\n        vertical-align: top;\n    }\n\n    .dataframe thead th {\n        text-align: right;\n    }\n</style>\n<table border=\"1\" class=\"dataframe\">\n  <thead>\n    <tr style=\"text-align: right;\">\n      <th></th>\n      <th>School_name</th>\n      <th>city</th>\n      <th>zipcode</th>\n      <th>elementary_school</th>\n      <th>intermediate_school</th>\n      <th>middle_school</th>\n      <th>high_school</th>\n      <th>school_grade</th>\n      <th>title_i_status</th>\n      <th>total_students</th>\n      <th>...</th>\n      <th>sports_facilities</th>\n      <th>music_facilities</th>\n      <th>after_school_opportunities</th>\n      <th>other_facilities</th>\n      <th>student_services</th>\n      <th>acad_focus_1</th>\n      <th>acad_focus_2</th>\n      <th>acad_focus_3</th>\n      <th>acad_focus_4</th>\n      <th>acad_focus_5</th>\n    </tr>\n  </thead>\n  <tbody>\n    <tr>\n      <th>93</th>\n      <td>Horizon High School</td>\n      <td>Scottsdale</td>\n      <td>85254</td>\n      <td>0</td>\n      <td>0</td>\n      <td>1</td>\n      <td>1</td>\n      <td>5</td>\n      <td>0</td>\n      <td>1912</td>\n      <td>...</td>\n      <td>['Badminton', 'Baseball', 'Basketball', 'Cross...</td>\n      <td>['Art', 'Band', 'Ceramics/Sculpting', 'Choir',...</td>\n      <td>['Academic', 'chevron_right', 'Math Lab', 'che...</td>\n      <td>['Art Room', 'Auditorium', 'Book Store', 'Cafe...</td>\n      <td>['Dedicated School Counselor', 'chevron_right'...</td>\n      <td>1</td>\n      <td>1</td>\n      <td>1</td>\n      <td>1</td>\n      <td>1</td>\n    </tr>\n    <tr>\n      <th>216</th>\n      <td>Williams Field High School</td>\n      <td>Higley</td>\n      <td>85236</td>\n      <td>0</td>\n      <td>0</td>\n      <td>1</td>\n      <td>1</td>\n      <td>5</td>\n      <td>0</td>\n      <td>2115</td>\n      <td>...</td>\n      <td>['No data available']</td>\n      <td>['No data available']</td>\n      <td>['No data available']</td>\n      <td>['No data available']</td>\n      <td>['No data available']</td>\n      <td>0</td>\n      <td>0</td>\n      <td>0</td>\n      <td>0</td>\n      <td>0</td>\n    </tr>\n    <tr>\n      <th>14</th>\n      <td>Barry Goldwater High School</td>\n      <td>Phoenix</td>\n      <td>85027</td>\n      <td>0</td>\n      <td>0</td>\n      <td>1</td>\n      <td>1</td>\n      <td>4</td>\n      <td>1</td>\n      <td>1640</td>\n      <td>...</td>\n      <td>['Badminton', 'Baseball', 'Basketball', 'Cross...</td>\n      <td>['Art', 'Band', 'Choir', 'Cultural Arts', 'Dan...</td>\n      <td>['Academic', 'Arts', 'Athletic', 'Career and T...</td>\n      <td>['Art Room', 'Auditorium', 'Book Store', 'Cafe...</td>\n      <td>['Dedicated School Counselor', 'chevron_right'...</td>\n      <td>1</td>\n      <td>1</td>\n      <td>1</td>\n      <td>1</td>\n      <td>1</td>\n    </tr>\n    <tr>\n      <th>43</th>\n      <td>Deer Valley High School</td>\n      <td>Glendale</td>\n      <td>85308</td>\n      <td>0</td>\n      <td>0</td>\n      <td>1</td>\n      <td>1</td>\n      <td>5</td>\n      <td>0</td>\n      <td>1634</td>\n      <td>...</td>\n      <td>['Badminton', 'Baseball', 'Basketball', 'Cross...</td>\n      <td>['Art', 'Band', 'Ceramics/Sculpting', 'Choir',...</td>\n      <td>['Academic', 'chevron_right', 'Academic Decath...</td>\n      <td>['Art Room', 'Auditorium', 'Book Store', 'Cafe...</td>\n      <td>['Mental health services', 'Individual counsel...</td>\n      <td>1</td>\n      <td>1</td>\n      <td>1</td>\n      <td>1</td>\n      <td>1</td>\n    </tr>\n    <tr>\n      <th>43</th>\n      <td>Deer Valley High School</td>\n      <td>Glendale</td>\n      <td>85308</td>\n      <td>0</td>\n      <td>0</td>\n      <td>1</td>\n      <td>1</td>\n      <td>5</td>\n      <td>0</td>\n      <td>1634</td>\n      <td>...</td>\n      <td>['Badminton', 'Baseball', 'Basketball', 'Cross...</td>\n      <td>['Art', 'Band', 'Ceramics/Sculpting', 'Choir',...</td>\n      <td>['Academic', 'chevron_right', 'Academic Decath...</td>\n      <td>['Art Room', 'Auditorium', 'Book Store', 'Cafe...</td>\n      <td>['Mental health services', 'Individual counsel...</td>\n      <td>1</td>\n      <td>1</td>\n      <td>1</td>\n      <td>1</td>\n      <td>1</td>\n    </tr>\n  </tbody>\n</table>\n<p>5 rows × 50 columns</p>\n</div>"
     },
     "execution_count": 484,
     "metadata": {},
     "output_type": "execute_result"
    }
   ],
   "source": [
    "# Fit the model\n",
    "rf = RandomForestClassifier(n_estimators=5)\n",
    "rf.fit(school_additional_data, school_add_output_data['School_name '])\n",
    "\n",
    "# Get a prediction from each tree in the forest\n",
    "predictions = [tree.predict(add_test) for tree in rf.estimators_]\n",
    "\n",
    "# Print the predictions\n",
    "output_index = []\n",
    "for prediction in predictions:\n",
    "    output_index.append(int(prediction[0]))\n",
    "\n",
    "school_additional_raw_data.loc[output_index]"
   ]
  },
  {
   "cell_type": "code",
   "execution_count": 485,
   "id": "13dbb20f4dc3c166",
   "metadata": {
    "collapsed": false,
    "ExecuteTime": {
     "end_time": "2024-05-03T03:50:33.998335Z",
     "start_time": "2024-05-03T03:50:32.836982Z"
    }
   },
   "outputs": [
    {
     "data": {
      "text/plain": "                      School_name      city   zipcode  elementary_school  \\\n34       Copper Canyon High School  Glendale    85305                  0   \n67            Glendale High School  Glendale    85301                  0   \n107  La Joya Community High School  Avondale    85353                  0   \n131              North High School   Phoenix    85014                  0   \n212           Westview High School  Avondale    85353                  0   \n\n     intermediate_school  middle_school  high_school  school_grade  \\\n34                     0              0            1             4   \n67                     0              0            1             4   \n107                    0              0            1             4   \n131                    0              0            1             3   \n212                    0              0            1             4   \n\n     title_i_status  total_students  ...  \\\n34                1            2157  ...   \n67                1            1816  ...   \n107               1            2078  ...   \n131               1            2135  ...   \n212               1            1864  ...   \n\n                                     sports_facilities  \\\n34   ['Baseball', 'Basketball', 'Cross-Country', 'F...   \n67   ['Badminton', 'Baseball', 'Basketball', 'Cross...   \n107  ['Baseball', 'Basketball', 'Cross-Country', 'F...   \n131  ['Baseball', 'Basketball', 'Cross-Country', 'F...   \n212  ['Baseball', 'Basketball', 'Cross-Country', 'F...   \n\n                                      music_facilities  \\\n34   ['Art', 'Band', 'Ceramics/Sculpting', 'Choir',...   \n67   ['Art', 'Band', 'Ceramics/Sculpting', 'Choir',...   \n107  ['Art', 'Band', 'Ceramics/Sculpting', 'Choir',...   \n131  ['Art', 'Band', 'Ceramics/Sculpting', 'Choir',...   \n212  ['Art', 'Band', 'Ceramics/Sculpting', 'Choir',...   \n\n                            after_school_opportunities  \\\n34   ['Academic', 'chevron_right', 'National Honor ...   \n67   ['Academic', 'chevron_right', 'World Language ...   \n107  ['Academic', 'chevron_right', 'National Honor ...   \n131  ['Academic', 'chevron_right', 'NHS', 'chevron_...   \n212  ['Academic', 'chevron_right', 'National Honor ...   \n\n                                      other_facilities  \\\n34   ['Art Room', 'Auditorium', 'Book Store', 'Cafe...   \n67   ['Art Room', 'Auditorium', 'Book Store', 'Cafe...   \n107  ['Art Room', 'Auditorium', 'Book Store', 'Cafe...   \n131  ['Art Room', 'Auditorium', 'Book Store', 'Cafe...   \n212  ['Art Room', 'Auditorium', 'Book Store', 'Cafe...   \n\n                                      student_services  acad_focus_1  \\\n34                               ['No data available']             0   \n67                               ['No data available']             0   \n107                              ['No data available']             0   \n131  ['Dedicated School Counselor', 'chevron_right'...             1   \n212                              ['No data available']             0   \n\n     acad_focus_2  acad_focus_3  acad_focus_4  acad_focus_5  \n34              0             0             0             0  \n67              0             0             0             0  \n107             0             0             0             0  \n131             1             1             1             1  \n212             0             0             0             0  \n\n[5 rows x 50 columns]",
      "text/html": "<div>\n<style scoped>\n    .dataframe tbody tr th:only-of-type {\n        vertical-align: middle;\n    }\n\n    .dataframe tbody tr th {\n        vertical-align: top;\n    }\n\n    .dataframe thead th {\n        text-align: right;\n    }\n</style>\n<table border=\"1\" class=\"dataframe\">\n  <thead>\n    <tr style=\"text-align: right;\">\n      <th></th>\n      <th>School_name</th>\n      <th>city</th>\n      <th>zipcode</th>\n      <th>elementary_school</th>\n      <th>intermediate_school</th>\n      <th>middle_school</th>\n      <th>high_school</th>\n      <th>school_grade</th>\n      <th>title_i_status</th>\n      <th>total_students</th>\n      <th>...</th>\n      <th>sports_facilities</th>\n      <th>music_facilities</th>\n      <th>after_school_opportunities</th>\n      <th>other_facilities</th>\n      <th>student_services</th>\n      <th>acad_focus_1</th>\n      <th>acad_focus_2</th>\n      <th>acad_focus_3</th>\n      <th>acad_focus_4</th>\n      <th>acad_focus_5</th>\n    </tr>\n  </thead>\n  <tbody>\n    <tr>\n      <th>34</th>\n      <td>Copper Canyon High School</td>\n      <td>Glendale</td>\n      <td>85305</td>\n      <td>0</td>\n      <td>0</td>\n      <td>0</td>\n      <td>1</td>\n      <td>4</td>\n      <td>1</td>\n      <td>2157</td>\n      <td>...</td>\n      <td>['Baseball', 'Basketball', 'Cross-Country', 'F...</td>\n      <td>['Art', 'Band', 'Ceramics/Sculpting', 'Choir',...</td>\n      <td>['Academic', 'chevron_right', 'National Honor ...</td>\n      <td>['Art Room', 'Auditorium', 'Book Store', 'Cafe...</td>\n      <td>['No data available']</td>\n      <td>0</td>\n      <td>0</td>\n      <td>0</td>\n      <td>0</td>\n      <td>0</td>\n    </tr>\n    <tr>\n      <th>67</th>\n      <td>Glendale High School</td>\n      <td>Glendale</td>\n      <td>85301</td>\n      <td>0</td>\n      <td>0</td>\n      <td>0</td>\n      <td>1</td>\n      <td>4</td>\n      <td>1</td>\n      <td>1816</td>\n      <td>...</td>\n      <td>['Badminton', 'Baseball', 'Basketball', 'Cross...</td>\n      <td>['Art', 'Band', 'Ceramics/Sculpting', 'Choir',...</td>\n      <td>['Academic', 'chevron_right', 'World Language ...</td>\n      <td>['Art Room', 'Auditorium', 'Book Store', 'Cafe...</td>\n      <td>['No data available']</td>\n      <td>0</td>\n      <td>0</td>\n      <td>0</td>\n      <td>0</td>\n      <td>0</td>\n    </tr>\n    <tr>\n      <th>107</th>\n      <td>La Joya Community High School</td>\n      <td>Avondale</td>\n      <td>85353</td>\n      <td>0</td>\n      <td>0</td>\n      <td>0</td>\n      <td>1</td>\n      <td>4</td>\n      <td>1</td>\n      <td>2078</td>\n      <td>...</td>\n      <td>['Baseball', 'Basketball', 'Cross-Country', 'F...</td>\n      <td>['Art', 'Band', 'Ceramics/Sculpting', 'Choir',...</td>\n      <td>['Academic', 'chevron_right', 'National Honor ...</td>\n      <td>['Art Room', 'Auditorium', 'Book Store', 'Cafe...</td>\n      <td>['No data available']</td>\n      <td>0</td>\n      <td>0</td>\n      <td>0</td>\n      <td>0</td>\n      <td>0</td>\n    </tr>\n    <tr>\n      <th>131</th>\n      <td>North High School</td>\n      <td>Phoenix</td>\n      <td>85014</td>\n      <td>0</td>\n      <td>0</td>\n      <td>0</td>\n      <td>1</td>\n      <td>3</td>\n      <td>1</td>\n      <td>2135</td>\n      <td>...</td>\n      <td>['Baseball', 'Basketball', 'Cross-Country', 'F...</td>\n      <td>['Art', 'Band', 'Ceramics/Sculpting', 'Choir',...</td>\n      <td>['Academic', 'chevron_right', 'NHS', 'chevron_...</td>\n      <td>['Art Room', 'Auditorium', 'Book Store', 'Cafe...</td>\n      <td>['Dedicated School Counselor', 'chevron_right'...</td>\n      <td>1</td>\n      <td>1</td>\n      <td>1</td>\n      <td>1</td>\n      <td>1</td>\n    </tr>\n    <tr>\n      <th>212</th>\n      <td>Westview High School</td>\n      <td>Avondale</td>\n      <td>85353</td>\n      <td>0</td>\n      <td>0</td>\n      <td>0</td>\n      <td>1</td>\n      <td>4</td>\n      <td>1</td>\n      <td>1864</td>\n      <td>...</td>\n      <td>['Baseball', 'Basketball', 'Cross-Country', 'F...</td>\n      <td>['Art', 'Band', 'Ceramics/Sculpting', 'Choir',...</td>\n      <td>['Academic', 'chevron_right', 'National Honor ...</td>\n      <td>['Art Room', 'Auditorium', 'Book Store', 'Cafe...</td>\n      <td>['No data available']</td>\n      <td>0</td>\n      <td>0</td>\n      <td>0</td>\n      <td>0</td>\n      <td>0</td>\n    </tr>\n  </tbody>\n</table>\n<p>5 rows × 50 columns</p>\n</div>"
     },
     "execution_count": 485,
     "metadata": {},
     "output_type": "execute_result"
    }
   ],
   "source": [
    "\n",
    "import numpy as np\n",
    "\n",
    "svc = SVC(probability=True)\n",
    "svc.fit(school_additional_data, school_add_output_data['School_name '])\n",
    "\n",
    "probabilities = svc.predict_proba(add_test)\n",
    "\n",
    "top5_indices = np.argsort(probabilities, axis=1)[:, -5:]\n",
    "\n",
    "classes = svc.classes_\n",
    "\n",
    "top5_classes = classes[top5_indices]\n",
    "school_additional_raw_data[school_additional_raw_data['School_name '].isin(top5_classes[0])]"
   ]
  }
 ],
 "metadata": {
  "kernelspec": {
   "display_name": "Python 3 (ipykernel)",
   "language": "python",
   "name": "python3"
  },
  "language_info": {
   "codemirror_mode": {
    "name": "ipython",
    "version": 3
   },
   "file_extension": ".py",
   "mimetype": "text/x-python",
   "name": "python",
   "nbconvert_exporter": "python",
   "pygments_lexer": "ipython3",
   "version": "3.11.8"
  },
  "widgets": {
   "application/vnd.jupyter.widget-state+json": {
    "state": {},
    "version_major": 2,
    "version_minor": 0
   }
  }
 },
 "nbformat": 4,
 "nbformat_minor": 5
}
