{
 "cells": [
  {
   "cell_type": "code",
   "outputs": [],
   "source": [
    "import pandas as pd\n",
    "from math import sqrt\n",
    "import numpy as np\n",
    "import matplotlib.pyplot as plt\n",
    "import scipy.stats as stats\n",
    "import zipfile\n",
    "import os\n",
    "%matplotlib inline"
   ],
   "metadata": {
    "ExecuteTime": {
     "end_time": "2024-04-07T03:46:36.505949Z",
     "start_time": "2024-04-07T03:46:34.161494Z"
    }
   },
   "execution_count": 1
  },
  {
   "cell_type": "code",
   "outputs": [
    {
     "name": "stdout",
     "output_type": "stream",
     "text": [
      "Extraction complete.\n"
     ]
    }
   ],
   "source": [
    "# Define the path to the zip file and the directory to extract to\n",
    "zip_file = 'datasets.zip'\n",
    "\n",
    "# Extract the contents of the zip file into the extraction directory\n",
    "with zipfile.ZipFile(zip_file, 'r') as zip_ref:\n",
    "    zip_ref.extractall('.')\n",
    "\n",
    "print('Extraction complete.')"
   ],
   "metadata": {
    "collapsed": false,
    "ExecuteTime": {
     "end_time": "2024-04-07T03:46:42.804417Z",
     "start_time": "2024-04-07T03:46:36.507860Z"
    }
   },
   "execution_count": 2
  },
  {
   "cell_type": "code",
   "execution_count": 3,
   "metadata": {
    "ExecuteTime": {
     "end_time": "2024-04-07T03:46:51.858475Z",
     "start_time": "2024-04-07T03:46:42.808885Z"
    }
   },
   "outputs": [
    {
     "name": "stdout",
     "output_type": "stream",
     "text": [
      "(34208, 3)\n"
     ]
    },
    {
     "data": {
      "text/plain": "   movieId                               title  \\\n0        1                    Toy Story (1995)   \n1        2                      Jumanji (1995)   \n2        3             Grumpier Old Men (1995)   \n3        4            Waiting to Exhale (1995)   \n4        5  Father of the Bride Part II (1995)   \n\n                                        genres  \n0  Adventure|Animation|Children|Comedy|Fantasy  \n1                   Adventure|Children|Fantasy  \n2                               Comedy|Romance  \n3                         Comedy|Drama|Romance  \n4                                       Comedy  ",
      "text/html": "<div>\n<style scoped>\n    .dataframe tbody tr th:only-of-type {\n        vertical-align: middle;\n    }\n\n    .dataframe tbody tr th {\n        vertical-align: top;\n    }\n\n    .dataframe thead th {\n        text-align: right;\n    }\n</style>\n<table border=\"1\" class=\"dataframe\">\n  <thead>\n    <tr style=\"text-align: right;\">\n      <th></th>\n      <th>movieId</th>\n      <th>title</th>\n      <th>genres</th>\n    </tr>\n  </thead>\n  <tbody>\n    <tr>\n      <th>0</th>\n      <td>1</td>\n      <td>Toy Story (1995)</td>\n      <td>Adventure|Animation|Children|Comedy|Fantasy</td>\n    </tr>\n    <tr>\n      <th>1</th>\n      <td>2</td>\n      <td>Jumanji (1995)</td>\n      <td>Adventure|Children|Fantasy</td>\n    </tr>\n    <tr>\n      <th>2</th>\n      <td>3</td>\n      <td>Grumpier Old Men (1995)</td>\n      <td>Comedy|Romance</td>\n    </tr>\n    <tr>\n      <th>3</th>\n      <td>4</td>\n      <td>Waiting to Exhale (1995)</td>\n      <td>Comedy|Drama|Romance</td>\n    </tr>\n    <tr>\n      <th>4</th>\n      <td>5</td>\n      <td>Father of the Bride Part II (1995)</td>\n      <td>Comedy</td>\n    </tr>\n  </tbody>\n</table>\n</div>"
     },
     "execution_count": 3,
     "metadata": {},
     "output_type": "execute_result"
    }
   ],
   "source": [
    "# Storing the movie information into a pandas dataframe\n",
    "movies_df = pd.read_csv(\"datasets/movies.csv\")\n",
    "\n",
    "# Storing the user information into a pandas dataframe\n",
    "ratings_df = pd.read_csv(\"datasets/ratings.csv\")\n",
    "\n",
    "print(movies_df.shape)\n",
    "movies_df.head()"
   ]
  },
  {
   "cell_type": "code",
   "execution_count": 4,
   "metadata": {
    "ExecuteTime": {
     "end_time": "2024-04-07T03:46:52.011674Z",
     "start_time": "2024-04-07T03:46:51.872436Z"
    }
   },
   "outputs": [
    {
     "data": {
      "text/plain": "   movieId                        title  \\\n0        1                    Toy Story   \n1        2                      Jumanji   \n2        3             Grumpier Old Men   \n3        4            Waiting to Exhale   \n4        5  Father of the Bride Part II   \n\n                                        genres  year  \n0  Adventure|Animation|Children|Comedy|Fantasy  1995  \n1                   Adventure|Children|Fantasy  1995  \n2                               Comedy|Romance  1995  \n3                         Comedy|Drama|Romance  1995  \n4                                       Comedy  1995  ",
      "text/html": "<div>\n<style scoped>\n    .dataframe tbody tr th:only-of-type {\n        vertical-align: middle;\n    }\n\n    .dataframe tbody tr th {\n        vertical-align: top;\n    }\n\n    .dataframe thead th {\n        text-align: right;\n    }\n</style>\n<table border=\"1\" class=\"dataframe\">\n  <thead>\n    <tr style=\"text-align: right;\">\n      <th></th>\n      <th>movieId</th>\n      <th>title</th>\n      <th>genres</th>\n      <th>year</th>\n    </tr>\n  </thead>\n  <tbody>\n    <tr>\n      <th>0</th>\n      <td>1</td>\n      <td>Toy Story</td>\n      <td>Adventure|Animation|Children|Comedy|Fantasy</td>\n      <td>1995</td>\n    </tr>\n    <tr>\n      <th>1</th>\n      <td>2</td>\n      <td>Jumanji</td>\n      <td>Adventure|Children|Fantasy</td>\n      <td>1995</td>\n    </tr>\n    <tr>\n      <th>2</th>\n      <td>3</td>\n      <td>Grumpier Old Men</td>\n      <td>Comedy|Romance</td>\n      <td>1995</td>\n    </tr>\n    <tr>\n      <th>3</th>\n      <td>4</td>\n      <td>Waiting to Exhale</td>\n      <td>Comedy|Drama|Romance</td>\n      <td>1995</td>\n    </tr>\n    <tr>\n      <th>4</th>\n      <td>5</td>\n      <td>Father of the Bride Part II</td>\n      <td>Comedy</td>\n      <td>1995</td>\n    </tr>\n  </tbody>\n</table>\n</div>"
     },
     "execution_count": 4,
     "metadata": {},
     "output_type": "execute_result"
    }
   ],
   "source": [
    "# Remove year from title column and store it in a new column\n",
    "\n",
    "# Using regular expressions to find a year stored between parentheses\n",
    "# We specify the parantheses so we don't conflict with movies that have years in their titles\n",
    "movies_df['year'] = movies_df.title.str.extract('(\\(\\d\\d\\d\\d\\))',expand=False)\n",
    "\n",
    "# Removing the parentheses from year column\n",
    "movies_df['year'] = movies_df.year.str.extract('(\\d\\d\\d\\d)',expand=False)\n",
    "\n",
    "# Removing the years from the 'title' column\n",
    "movies_df['title'] = movies_df.title.str.replace('(\\(\\d\\d\\d\\d\\))', '', regex=True)\n",
    "\n",
    "# Applying the strip function to get rid of any ending whitespace characters that may have appeared\n",
    "movies_df['title'] = movies_df['title'].apply(lambda x: x.strip())\n",
    "movies_df.head()"
   ]
  },
  {
   "cell_type": "code",
   "execution_count": 5,
   "metadata": {
    "ExecuteTime": {
     "end_time": "2024-04-07T03:46:56.826302Z",
     "start_time": "2024-04-07T03:46:52.013095Z"
    }
   },
   "outputs": [
    {
     "data": {
      "text/plain": "   movieId                        title  year\n0        1                    Toy Story  1995\n1        2                      Jumanji  1995\n2        3             Grumpier Old Men  1995\n3        4            Waiting to Exhale  1995\n4        5  Father of the Bride Part II  1995",
      "text/html": "<div>\n<style scoped>\n    .dataframe tbody tr th:only-of-type {\n        vertical-align: middle;\n    }\n\n    .dataframe tbody tr th {\n        vertical-align: top;\n    }\n\n    .dataframe thead th {\n        text-align: right;\n    }\n</style>\n<table border=\"1\" class=\"dataframe\">\n  <thead>\n    <tr style=\"text-align: right;\">\n      <th></th>\n      <th>movieId</th>\n      <th>title</th>\n      <th>year</th>\n    </tr>\n  </thead>\n  <tbody>\n    <tr>\n      <th>0</th>\n      <td>1</td>\n      <td>Toy Story</td>\n      <td>1995</td>\n    </tr>\n    <tr>\n      <th>1</th>\n      <td>2</td>\n      <td>Jumanji</td>\n      <td>1995</td>\n    </tr>\n    <tr>\n      <th>2</th>\n      <td>3</td>\n      <td>Grumpier Old Men</td>\n      <td>1995</td>\n    </tr>\n    <tr>\n      <th>3</th>\n      <td>4</td>\n      <td>Waiting to Exhale</td>\n      <td>1995</td>\n    </tr>\n    <tr>\n      <th>4</th>\n      <td>5</td>\n      <td>Father of the Bride Part II</td>\n      <td>1995</td>\n    </tr>\n  </tbody>\n</table>\n</div>"
     },
     "execution_count": 5,
     "metadata": {},
     "output_type": "execute_result"
    }
   ],
   "source": [
    "# Drop the genres column since we won't need it for collaboration based recommendation system.\n",
    "movies_df.drop(columns=['genres'], inplace=True)\n",
    "movies_df.head()"
   ]
  },
  {
   "cell_type": "code",
   "execution_count": 6,
   "metadata": {
    "ExecuteTime": {
     "end_time": "2024-04-07T03:46:56.843093Z",
     "start_time": "2024-04-07T03:46:56.829508Z"
    }
   },
   "outputs": [
    {
     "name": "stdout",
     "output_type": "stream",
     "text": [
      "(22884377, 4)\n"
     ]
    },
    {
     "data": {
      "text/plain": "   userId  movieId  rating   timestamp\n0       1      169     2.5  1204927694\n1       1     2471     3.0  1204927438\n2       1    48516     5.0  1204927435\n3       2     2571     3.5  1436165433\n4       2   109487     4.0  1436165496",
      "text/html": "<div>\n<style scoped>\n    .dataframe tbody tr th:only-of-type {\n        vertical-align: middle;\n    }\n\n    .dataframe tbody tr th {\n        vertical-align: top;\n    }\n\n    .dataframe thead th {\n        text-align: right;\n    }\n</style>\n<table border=\"1\" class=\"dataframe\">\n  <thead>\n    <tr style=\"text-align: right;\">\n      <th></th>\n      <th>userId</th>\n      <th>movieId</th>\n      <th>rating</th>\n      <th>timestamp</th>\n    </tr>\n  </thead>\n  <tbody>\n    <tr>\n      <th>0</th>\n      <td>1</td>\n      <td>169</td>\n      <td>2.5</td>\n      <td>1204927694</td>\n    </tr>\n    <tr>\n      <th>1</th>\n      <td>1</td>\n      <td>2471</td>\n      <td>3.0</td>\n      <td>1204927438</td>\n    </tr>\n    <tr>\n      <th>2</th>\n      <td>1</td>\n      <td>48516</td>\n      <td>5.0</td>\n      <td>1204927435</td>\n    </tr>\n    <tr>\n      <th>3</th>\n      <td>2</td>\n      <td>2571</td>\n      <td>3.5</td>\n      <td>1436165433</td>\n    </tr>\n    <tr>\n      <th>4</th>\n      <td>2</td>\n      <td>109487</td>\n      <td>4.0</td>\n      <td>1436165496</td>\n    </tr>\n  </tbody>\n</table>\n</div>"
     },
     "execution_count": 6,
     "metadata": {},
     "output_type": "execute_result"
    }
   ],
   "source": [
    "print(ratings_df.shape)\n",
    "ratings_df.head()"
   ]
  },
  {
   "cell_type": "code",
   "execution_count": 7,
   "metadata": {
    "ExecuteTime": {
     "end_time": "2024-04-07T03:46:57.837293Z",
     "start_time": "2024-04-07T03:46:56.844831Z"
    }
   },
   "outputs": [
    {
     "data": {
      "text/plain": "   userId  movieId  rating\n0       1      169     2.5\n1       1     2471     3.0\n2       1    48516     5.0\n3       2     2571     3.5\n4       2   109487     4.0",
      "text/html": "<div>\n<style scoped>\n    .dataframe tbody tr th:only-of-type {\n        vertical-align: middle;\n    }\n\n    .dataframe tbody tr th {\n        vertical-align: top;\n    }\n\n    .dataframe thead th {\n        text-align: right;\n    }\n</style>\n<table border=\"1\" class=\"dataframe\">\n  <thead>\n    <tr style=\"text-align: right;\">\n      <th></th>\n      <th>userId</th>\n      <th>movieId</th>\n      <th>rating</th>\n    </tr>\n  </thead>\n  <tbody>\n    <tr>\n      <th>0</th>\n      <td>1</td>\n      <td>169</td>\n      <td>2.5</td>\n    </tr>\n    <tr>\n      <th>1</th>\n      <td>1</td>\n      <td>2471</td>\n      <td>3.0</td>\n    </tr>\n    <tr>\n      <th>2</th>\n      <td>1</td>\n      <td>48516</td>\n      <td>5.0</td>\n    </tr>\n    <tr>\n      <th>3</th>\n      <td>2</td>\n      <td>2571</td>\n      <td>3.5</td>\n    </tr>\n    <tr>\n      <th>4</th>\n      <td>2</td>\n      <td>109487</td>\n      <td>4.0</td>\n    </tr>\n  </tbody>\n</table>\n</div>"
     },
     "execution_count": 7,
     "metadata": {},
     "output_type": "execute_result"
    }
   ],
   "source": [
    "# Drop review timestamp column as we don't need that information\n",
    "ratings_df.drop(columns=['timestamp'], inplace=True)\n",
    "ratings_df.head()"
   ]
  },
  {
   "cell_type": "markdown",
   "source": [
    "Collaborative Filtering\n",
    "\n",
    "This technique we're going to take a look at is called Collaborative Filtering, which is also known as User-User Filtering. This technique uses other users to recommend items to the input user. It attempts to find users that have similar preferences and opinions as the input and then recommends items that they have liked to the input. There are several methods of finding similar users (Even some making use of Machine Learning), and the one we will be using here is going to be based on the Pearson Correlation Function.\n",
    "\n",
    "The process for creating a User Based recommendation system is as follows:\n",
    "\n",
    "1. Select a user with the movies the user has watched\n",
    "2. Based on the user's rating to movies, find the top X neighbours\n",
    "3. Get the watched movie record of the user for each neighbour.\n",
    "4. Calculate a similarity score using a formula\n",
    "5. Recommend the items with the highest score"
   ],
   "metadata": {
    "collapsed": false
   }
  },
  {
   "cell_type": "code",
   "execution_count": 8,
   "metadata": {
    "ExecuteTime": {
     "end_time": "2024-04-07T03:46:57.877587Z",
     "start_time": "2024-04-07T03:46:57.852534Z"
    }
   },
   "outputs": [
    {
     "data": {
      "text/plain": "                  title  rating\n0         Happy Gilmore     4.0\n1            Fight Club     5.0\n2        Shutter Island     5.0\n3          Pulp Fiction     5.0\n4  Seven (a.k.a. Se7en)     4.5",
      "text/html": "<div>\n<style scoped>\n    .dataframe tbody tr th:only-of-type {\n        vertical-align: middle;\n    }\n\n    .dataframe tbody tr th {\n        vertical-align: top;\n    }\n\n    .dataframe thead th {\n        text-align: right;\n    }\n</style>\n<table border=\"1\" class=\"dataframe\">\n  <thead>\n    <tr style=\"text-align: right;\">\n      <th></th>\n      <th>title</th>\n      <th>rating</th>\n    </tr>\n  </thead>\n  <tbody>\n    <tr>\n      <th>0</th>\n      <td>Happy Gilmore</td>\n      <td>4.0</td>\n    </tr>\n    <tr>\n      <th>1</th>\n      <td>Fight Club</td>\n      <td>5.0</td>\n    </tr>\n    <tr>\n      <th>2</th>\n      <td>Shutter Island</td>\n      <td>5.0</td>\n    </tr>\n    <tr>\n      <th>3</th>\n      <td>Pulp Fiction</td>\n      <td>5.0</td>\n    </tr>\n    <tr>\n      <th>4</th>\n      <td>Seven (a.k.a. Se7en)</td>\n      <td>4.5</td>\n    </tr>\n  </tbody>\n</table>\n</div>"
     },
     "execution_count": 8,
     "metadata": {},
     "output_type": "execute_result"
    }
   ],
   "source": [
    "# Let's begin by creating an input user to recommend movies to:\n",
    "userInput = [\n",
    "            {'title':'Happy Gilmore', 'rating':4},\n",
    "            {'title':'Fight Club', 'rating':5},\n",
    "            {'title':'Shutter Island', 'rating':5},\n",
    "            {'title':\"Pulp Fiction\", 'rating':5},\n",
    "            {'title':'Seven (a.k.a. Se7en)', 'rating':4.5}\n",
    "         ] \n",
    "inputMovies = pd.DataFrame(userInput)\n",
    "inputMovies"
   ]
  },
  {
   "cell_type": "code",
   "execution_count": 9,
   "metadata": {
    "ExecuteTime": {
     "end_time": "2024-04-07T03:46:57.925055Z",
     "start_time": "2024-04-07T03:46:57.879809Z"
    }
   },
   "outputs": [
    {
     "data": {
      "text/plain": "                  title  rating  movieId\n0         Happy Gilmore     4.0      104\n1            Fight Club     5.0     2959\n2        Shutter Island     5.0    74458\n3          Pulp Fiction     5.0      296\n4  Seven (a.k.a. Se7en)     4.5       47",
      "text/html": "<div>\n<style scoped>\n    .dataframe tbody tr th:only-of-type {\n        vertical-align: middle;\n    }\n\n    .dataframe tbody tr th {\n        vertical-align: top;\n    }\n\n    .dataframe thead th {\n        text-align: right;\n    }\n</style>\n<table border=\"1\" class=\"dataframe\">\n  <thead>\n    <tr style=\"text-align: right;\">\n      <th></th>\n      <th>title</th>\n      <th>rating</th>\n      <th>movieId</th>\n    </tr>\n  </thead>\n  <tbody>\n    <tr>\n      <th>0</th>\n      <td>Happy Gilmore</td>\n      <td>4.0</td>\n      <td>104</td>\n    </tr>\n    <tr>\n      <th>1</th>\n      <td>Fight Club</td>\n      <td>5.0</td>\n      <td>2959</td>\n    </tr>\n    <tr>\n      <th>2</th>\n      <td>Shutter Island</td>\n      <td>5.0</td>\n      <td>74458</td>\n    </tr>\n    <tr>\n      <th>3</th>\n      <td>Pulp Fiction</td>\n      <td>5.0</td>\n      <td>296</td>\n    </tr>\n    <tr>\n      <th>4</th>\n      <td>Seven (a.k.a. Se7en)</td>\n      <td>4.5</td>\n      <td>47</td>\n    </tr>\n  </tbody>\n</table>\n</div>"
     },
     "execution_count": 9,
     "metadata": {},
     "output_type": "execute_result"
    }
   ],
   "source": [
    "# Add movieId to input user\n",
    "# extract the input movies's ID's from the movies dataframe and add them into it movieId\n",
    "\n",
    "# We can achieve this by first filtering out the rows that contain the input movies' title and then merging this subset with the input dataframe. \n",
    "# We also drop unnecessary columns for the input to save memory space.\n",
    "\n",
    "# Filtering out the movies by title\n",
    "inputId = movies_df[movies_df['title'].isin(inputMovies['title'].tolist())]\n",
    "\n",
    "# Then merging it so we can get the movieId. It's merging it based on title.\n",
    "inputMovies = inputMovies.merge(inputId, on='title')\n",
    "\n",
    "# Dropping information we won't use from the input dataframe\n",
    "inputMovies.drop(columns=['year'], inplace=True)\n",
    "\n",
    "inputMovies"
   ]
  },
  {
   "cell_type": "code",
   "execution_count": 10,
   "metadata": {
    "ExecuteTime": {
     "end_time": "2024-04-07T03:46:59.582058Z",
     "start_time": "2024-04-07T03:46:57.934974Z"
    }
   },
   "outputs": [
    {
     "data": {
      "text/plain": "     userId  movieId  rating\n14        4       47     2.0\n19        4      296     4.0\n118       4     2959     4.0\n246       7     2959     4.0\n602      13     2959     4.0\n645      14       47     3.0\n681      14      296     2.0\n757      15       47     4.5\n776      15      296     3.0\n962      15     2959     4.5",
      "text/html": "<div>\n<style scoped>\n    .dataframe tbody tr th:only-of-type {\n        vertical-align: middle;\n    }\n\n    .dataframe tbody tr th {\n        vertical-align: top;\n    }\n\n    .dataframe thead th {\n        text-align: right;\n    }\n</style>\n<table border=\"1\" class=\"dataframe\">\n  <thead>\n    <tr style=\"text-align: right;\">\n      <th></th>\n      <th>userId</th>\n      <th>movieId</th>\n      <th>rating</th>\n    </tr>\n  </thead>\n  <tbody>\n    <tr>\n      <th>14</th>\n      <td>4</td>\n      <td>47</td>\n      <td>2.0</td>\n    </tr>\n    <tr>\n      <th>19</th>\n      <td>4</td>\n      <td>296</td>\n      <td>4.0</td>\n    </tr>\n    <tr>\n      <th>118</th>\n      <td>4</td>\n      <td>2959</td>\n      <td>4.0</td>\n    </tr>\n    <tr>\n      <th>246</th>\n      <td>7</td>\n      <td>2959</td>\n      <td>4.0</td>\n    </tr>\n    <tr>\n      <th>602</th>\n      <td>13</td>\n      <td>2959</td>\n      <td>4.0</td>\n    </tr>\n    <tr>\n      <th>645</th>\n      <td>14</td>\n      <td>47</td>\n      <td>3.0</td>\n    </tr>\n    <tr>\n      <th>681</th>\n      <td>14</td>\n      <td>296</td>\n      <td>2.0</td>\n    </tr>\n    <tr>\n      <th>757</th>\n      <td>15</td>\n      <td>47</td>\n      <td>4.5</td>\n    </tr>\n    <tr>\n      <th>776</th>\n      <td>15</td>\n      <td>296</td>\n      <td>3.0</td>\n    </tr>\n    <tr>\n      <th>962</th>\n      <td>15</td>\n      <td>2959</td>\n      <td>4.5</td>\n    </tr>\n  </tbody>\n</table>\n</div>"
     },
     "execution_count": 10,
     "metadata": {},
     "output_type": "execute_result"
    }
   ],
   "source": [
    "# The users who has seen the same movies\n",
    "# Now with the movie ID's in our input, we can now get the subset of users that have watched and reviewed the movies in our input\n",
    "\n",
    "# Filtering out users that have watched movies that the input has watched and storing it\n",
    "userRatingSubset = ratings_df[ratings_df['movieId'].isin(inputMovies['movieId'].tolist())]\n",
    "userRatingSubset.head(10)"
   ]
  },
  {
   "cell_type": "code",
   "execution_count": 11,
   "metadata": {
    "ExecuteTime": {
     "end_time": "2024-04-07T03:46:59.855785Z",
     "start_time": "2024-04-07T03:46:59.589844Z"
    }
   },
   "outputs": [
    {
     "name": "stdout",
     "output_type": "stream",
     "text": [
      "        userId  movieId  rating\n",
      "104180    1130       47     4.0\n",
      "104214    1130      296     4.0\n",
      "104576    1130     2959     4.5\n",
      "        userId  movieId  rating\n",
      "105169    1131      296     4.0\n",
      "105213    1131     2959     4.5\n"
     ]
    }
   ],
   "source": [
    "# We now group up the rows by user ID.\n",
    "\n",
    "# Groupby creates several sub dataframes where they all have the same value in the column specified as the parameter\n",
    "userRatingSubsetGroup = userRatingSubset.groupby(['userId'])\n",
    "\n",
    "# let's look at one of the users, e.g. the one with userID=1130\n",
    "print(userRatingSubsetGroup.get_group(1130))\n",
    "print(userRatingSubsetGroup.get_group(1131))"
   ]
  },
  {
   "cell_type": "code",
   "execution_count": 12,
   "metadata": {
    "ExecuteTime": {
     "end_time": "2024-04-07T03:47:08.153585Z",
     "start_time": "2024-04-07T03:46:59.860627Z"
    }
   },
   "outputs": [
    {
     "data": {
      "text/plain": "[(59,\n        userId  movieId  rating\n  6352      59       47     3.5\n  6355      59      104     3.5\n  6359      59      296     3.5\n  6414      59     2959     2.5\n  6576      59    74458     5.0),\n (447,\n         userId  movieId  rating\n  39876     447       47     4.0\n  39882     447      104     4.0\n  39905     447      296     3.5\n  40196     447     2959     4.0\n  40533     447    74458     4.0),\n (815,\n         userId  movieId  rating\n  73776     815       47     4.5\n  73809     815      104     3.0\n  73922     815      296     5.0\n  75148     815     2959     3.5\n  77836     815    74458     3.5),\n (1011,\n         userId  movieId  rating\n  94581    1011       47     4.0\n  94584    1011      104     2.5\n  94592    1011      296     4.0\n  94654    1011     2959     4.0\n  94845    1011    74458     4.0)]"
     },
     "execution_count": 12,
     "metadata": {},
     "output_type": "execute_result"
    }
   ],
   "source": [
    "# Let's also sort these groups so the users that share the most movies in common with the input have higher priority. \n",
    "# This provides a richer recommendation since we won't go through every single user.\n",
    "\n",
    "# Sorting it so users with movie most in common with the input will have priority\n",
    "# Iterating over a groupby object will give tuples of size 2, first index is the grouped key, 2nd index is the dataframe associated with that grouped key\n",
    "userRatingSubsetGroup = sorted(userRatingSubsetGroup,  key=lambda x: len(x[1]), reverse=True)\n",
    "userRatingSubsetGroup[0:4]"
   ]
  },
  {
   "cell_type": "markdown",
   "source": [
    "Similarity of users to input user\n",
    "\n",
    "Next, we are going to compare all users (not really all !!!) to our specified user and find the one that is most similar.\n",
    "We're going to find out how similar each user is to the input through the Pearson Correlation Coefficient. \n",
    "It is used to measure the strength of a linear association between two variables.\n",
    "\n",
    "Pearson's correlation coefficient = covariance(X, Y) / (std_dev(X) * std_dev(Y))\n",
    "\n",
    "cov(X, Y) = (sum (x - mean(X)) * (y - mean(Y)) ) /(n-1)\n",
    "\n",
    "Why Pearson Correlation?\n",
    "\n",
    "Pearson correlation is invariant to scaling, i.e. multiplying all elements by a nonzero constant or adding any constant to all elements. For example, if you have two vectors X and Y,then, pearson(X, Y) == pearson(X, 2 * Y + 3). This is a pretty important property in recommendation systems because for example two users might rate two series of items totally different in terms of absolute rates, but they would be similar users (i.e. with similar ideas) with similar rates in various scales .\n",
    "\n",
    "The values given by the formula vary from r = -1 to r = 1, where 1 forms a direct correlation between the two entities (it means a perfect positive correlation) and -1 forms a perfect negative correlation.\n",
    "\n",
    "In our case, a 1 means that the two users have similar tastes while a -1 means the opposite.\n",
    "\n",
    "We will select a subset of users to iterate through. This limit is imposed because we don't want to waste too much time going through every single user."
   ],
   "metadata": {
    "collapsed": false
   }
  },
  {
   "cell_type": "code",
   "execution_count": 13,
   "metadata": {
    "ExecuteTime": {
     "end_time": "2024-04-07T03:47:08.357642Z",
     "start_time": "2024-04-07T03:47:08.160006Z"
    }
   },
   "outputs": [],
   "source": [
    "userRatingSubsetGroup = userRatingSubsetGroup[0:100]"
   ]
  },
  {
   "cell_type": "code",
   "execution_count": 14,
   "metadata": {
    "ExecuteTime": {
     "end_time": "2024-04-07T03:47:09.358374Z",
     "start_time": "2024-04-07T03:47:08.359038Z"
    }
   },
   "outputs": [],
   "source": [
    "from scipy.stats import pearsonr\n",
    "\n",
    "# Sort inputMovies by movieId\n",
    "inputMovies = inputMovies.sort_values(by='movieId')\n",
    "\n",
    "# Initialize pearsonCorrelationDict\n",
    "pearsonCorrelationDict = {}\n",
    "\n",
    "# For every user group in our subset\n",
    "for userId, group in userRatingSubsetGroup:\n",
    "    # Sort the group by movieId\n",
    "    group = group.sort_values(by='movieId')\n",
    "    \n",
    "    # Get common movies between inputMovies and current user group\n",
    "    common_input_movies = inputMovies[inputMovies['movieId'].isin(group['movieId'])]\n",
    "    \n",
    "    # Get rating vectors for common movies\n",
    "    input_ratings = common_input_movies['rating'].values\n",
    "    group_ratings = group[group['movieId'].isin(common_input_movies['movieId'])]['rating'].values\n",
    "    \n",
    "    # Calculate Pearson correlation coefficient\n",
    "    correlation_coefficient, _ = pearsonr(input_ratings, group_ratings)\n",
    "    \n",
    "    # Store Pearson correlation coefficient in pearsonCorrelationDict\n",
    "    pearsonCorrelationDict[userId] = correlation_coefficient"
   ]
  },
  {
   "cell_type": "code",
   "execution_count": 15,
   "metadata": {
    "ExecuteTime": {
     "end_time": "2024-04-07T03:47:09.556343Z",
     "start_time": "2024-04-07T03:47:09.405396Z"
    }
   },
   "outputs": [
    {
     "data": {
      "text/plain": "   similarityIndex  userId\n0         0.093750      59\n1        -0.375000     447\n2         0.408248     815\n3         0.875000    1011\n4         0.279508    1040",
      "text/html": "<div>\n<style scoped>\n    .dataframe tbody tr th:only-of-type {\n        vertical-align: middle;\n    }\n\n    .dataframe tbody tr th {\n        vertical-align: top;\n    }\n\n    .dataframe thead th {\n        text-align: right;\n    }\n</style>\n<table border=\"1\" class=\"dataframe\">\n  <thead>\n    <tr style=\"text-align: right;\">\n      <th></th>\n      <th>similarityIndex</th>\n      <th>userId</th>\n    </tr>\n  </thead>\n  <tbody>\n    <tr>\n      <th>0</th>\n      <td>0.093750</td>\n      <td>59</td>\n    </tr>\n    <tr>\n      <th>1</th>\n      <td>-0.375000</td>\n      <td>447</td>\n    </tr>\n    <tr>\n      <th>2</th>\n      <td>0.408248</td>\n      <td>815</td>\n    </tr>\n    <tr>\n      <th>3</th>\n      <td>0.875000</td>\n      <td>1011</td>\n    </tr>\n    <tr>\n      <th>4</th>\n      <td>0.279508</td>\n      <td>1040</td>\n    </tr>\n  </tbody>\n</table>\n</div>"
     },
     "execution_count": 15,
     "metadata": {},
     "output_type": "execute_result"
    }
   ],
   "source": [
    "pearsonDF = pd.DataFrame.from_dict(pearsonCorrelationDict, orient='index')\n",
    "pearsonDF.columns = ['similarityIndex']\n",
    "pearsonDF['userId'] = pearsonDF.index\n",
    "pearsonDF.index = range(len(pearsonDF))\n",
    "pearsonDF.head()"
   ]
  },
  {
   "cell_type": "code",
   "execution_count": 16,
   "metadata": {
    "ExecuteTime": {
     "end_time": "2024-04-07T03:47:09.992358Z",
     "start_time": "2024-04-07T03:47:09.560554Z"
    }
   },
   "outputs": [
    {
     "data": {
      "text/plain": "    similarityIndex  userId\n51         1.000000    7247\n16         0.995105    2484\n43         0.986117    6082\n20         0.983415    2655\n24         0.979850    3403",
      "text/html": "<div>\n<style scoped>\n    .dataframe tbody tr th:only-of-type {\n        vertical-align: middle;\n    }\n\n    .dataframe tbody tr th {\n        vertical-align: top;\n    }\n\n    .dataframe thead th {\n        text-align: right;\n    }\n</style>\n<table border=\"1\" class=\"dataframe\">\n  <thead>\n    <tr style=\"text-align: right;\">\n      <th></th>\n      <th>similarityIndex</th>\n      <th>userId</th>\n    </tr>\n  </thead>\n  <tbody>\n    <tr>\n      <th>51</th>\n      <td>1.000000</td>\n      <td>7247</td>\n    </tr>\n    <tr>\n      <th>16</th>\n      <td>0.995105</td>\n      <td>2484</td>\n    </tr>\n    <tr>\n      <th>43</th>\n      <td>0.986117</td>\n      <td>6082</td>\n    </tr>\n    <tr>\n      <th>20</th>\n      <td>0.983415</td>\n      <td>2655</td>\n    </tr>\n    <tr>\n      <th>24</th>\n      <td>0.979850</td>\n      <td>3403</td>\n    </tr>\n  </tbody>\n</table>\n</div>"
     },
     "execution_count": 16,
     "metadata": {},
     "output_type": "execute_result"
    }
   ],
   "source": [
    "# The top X similar users to input user\n",
    "# Now let's get the top 50 users that are most similar to the input.\n",
    "\n",
    "topUsers = pearsonDF.sort_values(by='similarityIndex', ascending=False).iloc[:50]\n",
    "topUsers.head()"
   ]
  },
  {
   "cell_type": "code",
   "execution_count": 17,
   "metadata": {
    "ExecuteTime": {
     "end_time": "2024-04-07T03:47:30.418766Z",
     "start_time": "2024-04-07T03:47:09.996736Z"
    }
   },
   "outputs": [
    {
     "data": {
      "text/plain": "   similarityIndex  userId  movieId  rating  weightedRating\n0              1.0    7247        2     4.0             4.0\n1              1.0    7247       10     3.5             3.5\n2              1.0    7247       19     4.0             4.0\n3              1.0    7247       32     4.0             4.0\n4              1.0    7247       47     4.5             4.5\n5              1.0    7247       48     3.5             3.5\n6              1.0    7247      104     4.0             4.0\n7              1.0    7247      110     4.5             4.5\n8              1.0    7247      153     3.5             3.5\n9              1.0    7247      165     4.5             4.5",
      "text/html": "<div>\n<style scoped>\n    .dataframe tbody tr th:only-of-type {\n        vertical-align: middle;\n    }\n\n    .dataframe tbody tr th {\n        vertical-align: top;\n    }\n\n    .dataframe thead th {\n        text-align: right;\n    }\n</style>\n<table border=\"1\" class=\"dataframe\">\n  <thead>\n    <tr style=\"text-align: right;\">\n      <th></th>\n      <th>similarityIndex</th>\n      <th>userId</th>\n      <th>movieId</th>\n      <th>rating</th>\n      <th>weightedRating</th>\n    </tr>\n  </thead>\n  <tbody>\n    <tr>\n      <th>0</th>\n      <td>1.0</td>\n      <td>7247</td>\n      <td>2</td>\n      <td>4.0</td>\n      <td>4.0</td>\n    </tr>\n    <tr>\n      <th>1</th>\n      <td>1.0</td>\n      <td>7247</td>\n      <td>10</td>\n      <td>3.5</td>\n      <td>3.5</td>\n    </tr>\n    <tr>\n      <th>2</th>\n      <td>1.0</td>\n      <td>7247</td>\n      <td>19</td>\n      <td>4.0</td>\n      <td>4.0</td>\n    </tr>\n    <tr>\n      <th>3</th>\n      <td>1.0</td>\n      <td>7247</td>\n      <td>32</td>\n      <td>4.0</td>\n      <td>4.0</td>\n    </tr>\n    <tr>\n      <th>4</th>\n      <td>1.0</td>\n      <td>7247</td>\n      <td>47</td>\n      <td>4.5</td>\n      <td>4.5</td>\n    </tr>\n    <tr>\n      <th>5</th>\n      <td>1.0</td>\n      <td>7247</td>\n      <td>48</td>\n      <td>3.5</td>\n      <td>3.5</td>\n    </tr>\n    <tr>\n      <th>6</th>\n      <td>1.0</td>\n      <td>7247</td>\n      <td>104</td>\n      <td>4.0</td>\n      <td>4.0</td>\n    </tr>\n    <tr>\n      <th>7</th>\n      <td>1.0</td>\n      <td>7247</td>\n      <td>110</td>\n      <td>4.5</td>\n      <td>4.5</td>\n    </tr>\n    <tr>\n      <th>8</th>\n      <td>1.0</td>\n      <td>7247</td>\n      <td>153</td>\n      <td>3.5</td>\n      <td>3.5</td>\n    </tr>\n    <tr>\n      <th>9</th>\n      <td>1.0</td>\n      <td>7247</td>\n      <td>165</td>\n      <td>4.5</td>\n      <td>4.5</td>\n    </tr>\n  </tbody>\n</table>\n</div>"
     },
     "execution_count": 17,
     "metadata": {},
     "output_type": "execute_result"
    }
   ],
   "source": [
    "# Now, let's start recommending movies to the input user.\n",
    "\n",
    "# Rating of selected users to all movies\n",
    "\n",
    "# We're going to do this by taking the weighted average of the ratings of the movies using the Pearson Correlation as the weight. \n",
    "\n",
    "# To do this, we first need to get the movies watched by the users in our pearsonDF from the ratings dataframe and then store their correlation in a new column called similarityIndex\". This is achieved below by merging of these two tables.\n",
    "\n",
    "topUsersRating = topUsers.merge(ratings_df, left_on='userId', right_on='userId', how='inner')\n",
    "\n",
    "# Now all we need to do is simply multiply the movie rating by its weight (The similarity index), then sum up the new ratings and divide it by the sum of the weights.\n",
    "# We can easily do this by simply multiplying two columns, then grouping up the dataframe by movieId and then dividing two columns:\n",
    "# It shows the idea of all similar users to candidate movies for the input user:\n",
    "\n",
    "# Multiplies the similarity by the user's ratings\n",
    "topUsersRating['weightedRating'] = topUsersRating['similarityIndex'] * topUsersRating['rating']\n",
    "\n",
    "topUsersRating.head(10)"
   ]
  },
  {
   "cell_type": "code",
   "outputs": [
    {
     "data": {
      "text/plain": "         weighted_avg_recommendation_score\nmovieId                                   \n1                                 3.568738\n2                                 3.034504\n3                                 2.595078\n4                                 2.000000\n5                                 2.248307",
      "text/html": "<div>\n<style scoped>\n    .dataframe tbody tr th:only-of-type {\n        vertical-align: middle;\n    }\n\n    .dataframe tbody tr th {\n        vertical-align: top;\n    }\n\n    .dataframe thead th {\n        text-align: right;\n    }\n</style>\n<table border=\"1\" class=\"dataframe\">\n  <thead>\n    <tr style=\"text-align: right;\">\n      <th></th>\n      <th>weighted_avg_recommendation_score</th>\n    </tr>\n    <tr>\n      <th>movieId</th>\n      <th></th>\n    </tr>\n  </thead>\n  <tbody>\n    <tr>\n      <th>1</th>\n      <td>3.568738</td>\n    </tr>\n    <tr>\n      <th>2</th>\n      <td>3.034504</td>\n    </tr>\n    <tr>\n      <th>3</th>\n      <td>2.595078</td>\n    </tr>\n    <tr>\n      <th>4</th>\n      <td>2.000000</td>\n    </tr>\n    <tr>\n      <th>5</th>\n      <td>2.248307</td>\n    </tr>\n  </tbody>\n</table>\n</div>"
     },
     "execution_count": 18,
     "metadata": {},
     "output_type": "execute_result"
    }
   ],
   "source": [
    "# Group by movieId and sum up the weighted ratings and similarity indices\n",
    "tempTopUsersRating = topUsersRating.groupby('movieId').agg({'similarityIndex': 'sum', 'weightedRating': 'sum'})\n",
    "tempTopUsersRating.columns = ['sum_similarityIndex','sum_weightedRating']\n",
    "\n",
    "# Calculate the weighted average recommendation score\n",
    "recommendation_df = pd.DataFrame()\n",
    "recommendation_df['weighted_avg_recommendation_score'] = tempTopUsersRating['sum_weightedRating'] / tempTopUsersRating['sum_similarityIndex']\n",
    "recommendation_df.head()"
   ],
   "metadata": {
    "collapsed": false,
    "ExecuteTime": {
     "end_time": "2024-04-07T03:47:30.705216Z",
     "start_time": "2024-04-07T03:47:30.447573Z"
    }
   },
   "execution_count": 18
  },
  {
   "cell_type": "code",
   "outputs": [
    {
     "data": {
      "text/plain": "         weighted_avg_recommendation_score  movieId\nmovieId                                            \n1                                 3.568738        1\n2                                 3.034504        2\n3                                 2.595078        3\n4                                 2.000000        4\n5                                 2.248307        5",
      "text/html": "<div>\n<style scoped>\n    .dataframe tbody tr th:only-of-type {\n        vertical-align: middle;\n    }\n\n    .dataframe tbody tr th {\n        vertical-align: top;\n    }\n\n    .dataframe thead th {\n        text-align: right;\n    }\n</style>\n<table border=\"1\" class=\"dataframe\">\n  <thead>\n    <tr style=\"text-align: right;\">\n      <th></th>\n      <th>weighted_avg_recommendation_score</th>\n      <th>movieId</th>\n    </tr>\n    <tr>\n      <th>movieId</th>\n      <th></th>\n      <th></th>\n    </tr>\n  </thead>\n  <tbody>\n    <tr>\n      <th>1</th>\n      <td>3.568738</td>\n      <td>1</td>\n    </tr>\n    <tr>\n      <th>2</th>\n      <td>3.034504</td>\n      <td>2</td>\n    </tr>\n    <tr>\n      <th>3</th>\n      <td>2.595078</td>\n      <td>3</td>\n    </tr>\n    <tr>\n      <th>4</th>\n      <td>2.000000</td>\n      <td>4</td>\n    </tr>\n    <tr>\n      <th>5</th>\n      <td>2.248307</td>\n      <td>5</td>\n    </tr>\n  </tbody>\n</table>\n</div>"
     },
     "execution_count": 19,
     "metadata": {},
     "output_type": "execute_result"
    }
   ],
   "source": [
    "#Creates an empty dataframe\n",
    "recommendation_df = pd.DataFrame()\n",
    "\n",
    "# Now we take the weighted average\n",
    "recommendation_df['weighted_avg_recommendation_score'] = tempTopUsersRating['sum_weightedRating']/tempTopUsersRating['sum_similarityIndex']\n",
    "recommendation_df['movieId'] = tempTopUsersRating.index\n",
    "recommendation_df.head()"
   ],
   "metadata": {
    "collapsed": false,
    "ExecuteTime": {
     "end_time": "2024-04-07T03:47:30.716822Z",
     "start_time": "2024-04-07T03:47:30.706136Z"
    }
   },
   "execution_count": 19
  },
  {
   "cell_type": "code",
   "execution_count": 20,
   "metadata": {
    "ExecuteTime": {
     "end_time": "2024-04-07T03:47:30.733463Z",
     "start_time": "2024-04-07T03:47:30.722399Z"
    }
   },
   "outputs": [
    {
     "data": {
      "text/plain": "         weighted_avg_recommendation_score  movieId\nmovieId                                            \n94482                                  5.0    94482\n94867                                  5.0    94867\n26122                                  5.0    26122\n96964                                  5.0    96964\n105468                                 5.0   105468\n96411                                  5.0    96411\n95654                                  5.0    95654\n8261                                   5.0     8261\n118760                                 5.0   118760\n95105                                  5.0    95105",
      "text/html": "<div>\n<style scoped>\n    .dataframe tbody tr th:only-of-type {\n        vertical-align: middle;\n    }\n\n    .dataframe tbody tr th {\n        vertical-align: top;\n    }\n\n    .dataframe thead th {\n        text-align: right;\n    }\n</style>\n<table border=\"1\" class=\"dataframe\">\n  <thead>\n    <tr style=\"text-align: right;\">\n      <th></th>\n      <th>weighted_avg_recommendation_score</th>\n      <th>movieId</th>\n    </tr>\n    <tr>\n      <th>movieId</th>\n      <th></th>\n      <th></th>\n    </tr>\n  </thead>\n  <tbody>\n    <tr>\n      <th>94482</th>\n      <td>5.0</td>\n      <td>94482</td>\n    </tr>\n    <tr>\n      <th>94867</th>\n      <td>5.0</td>\n      <td>94867</td>\n    </tr>\n    <tr>\n      <th>26122</th>\n      <td>5.0</td>\n      <td>26122</td>\n    </tr>\n    <tr>\n      <th>96964</th>\n      <td>5.0</td>\n      <td>96964</td>\n    </tr>\n    <tr>\n      <th>105468</th>\n      <td>5.0</td>\n      <td>105468</td>\n    </tr>\n    <tr>\n      <th>96411</th>\n      <td>5.0</td>\n      <td>96411</td>\n    </tr>\n    <tr>\n      <th>95654</th>\n      <td>5.0</td>\n      <td>95654</td>\n    </tr>\n    <tr>\n      <th>8261</th>\n      <td>5.0</td>\n      <td>8261</td>\n    </tr>\n    <tr>\n      <th>118760</th>\n      <td>5.0</td>\n      <td>118760</td>\n    </tr>\n    <tr>\n      <th>95105</th>\n      <td>5.0</td>\n      <td>95105</td>\n    </tr>\n  </tbody>\n</table>\n</div>"
     },
     "execution_count": 20,
     "metadata": {},
     "output_type": "execute_result"
    }
   ],
   "source": [
    "# Now let's sort it and see the top 10 movies that the algorithm recommended!\n",
    "\n",
    "recommendation_df = recommendation_df.sort_values(by='weighted_avg_recommendation_score', ascending=False)\n",
    "recommendation_df.head(10)"
   ]
  },
  {
   "cell_type": "code",
   "execution_count": 21,
   "metadata": {
    "ExecuteTime": {
     "end_time": "2024-04-07T03:47:30.834959Z",
     "start_time": "2024-04-07T03:47:30.746039Z"
    }
   },
   "outputs": [
    {
     "data": {
      "text/plain": "       movieId                                    title  year\n7728      8261                    3 Women (Three Women)  1977\n8625     26122                                  Onibaba  1964\n19045    94482                  Big Boys Gone Bananas!*  2011\n19116    94867                                Pact, The  2012\n19174    95105       Madagascar 3: Europe's Most Wanted  2012\n19291    95654                              Geri's Game  1997\n19460    96411  6 Days to Air: The Making of South Park  2011\n19639    96964                            Tall Man, The  2012\n21926   105468      Cloudy with a Chance of Meatballs 2  2013\n25476   118760                             The Good Lie  2014",
      "text/html": "<div>\n<style scoped>\n    .dataframe tbody tr th:only-of-type {\n        vertical-align: middle;\n    }\n\n    .dataframe tbody tr th {\n        vertical-align: top;\n    }\n\n    .dataframe thead th {\n        text-align: right;\n    }\n</style>\n<table border=\"1\" class=\"dataframe\">\n  <thead>\n    <tr style=\"text-align: right;\">\n      <th></th>\n      <th>movieId</th>\n      <th>title</th>\n      <th>year</th>\n    </tr>\n  </thead>\n  <tbody>\n    <tr>\n      <th>7728</th>\n      <td>8261</td>\n      <td>3 Women (Three Women)</td>\n      <td>1977</td>\n    </tr>\n    <tr>\n      <th>8625</th>\n      <td>26122</td>\n      <td>Onibaba</td>\n      <td>1964</td>\n    </tr>\n    <tr>\n      <th>19045</th>\n      <td>94482</td>\n      <td>Big Boys Gone Bananas!*</td>\n      <td>2011</td>\n    </tr>\n    <tr>\n      <th>19116</th>\n      <td>94867</td>\n      <td>Pact, The</td>\n      <td>2012</td>\n    </tr>\n    <tr>\n      <th>19174</th>\n      <td>95105</td>\n      <td>Madagascar 3: Europe's Most Wanted</td>\n      <td>2012</td>\n    </tr>\n    <tr>\n      <th>19291</th>\n      <td>95654</td>\n      <td>Geri's Game</td>\n      <td>1997</td>\n    </tr>\n    <tr>\n      <th>19460</th>\n      <td>96411</td>\n      <td>6 Days to Air: The Making of South Park</td>\n      <td>2011</td>\n    </tr>\n    <tr>\n      <th>19639</th>\n      <td>96964</td>\n      <td>Tall Man, The</td>\n      <td>2012</td>\n    </tr>\n    <tr>\n      <th>21926</th>\n      <td>105468</td>\n      <td>Cloudy with a Chance of Meatballs 2</td>\n      <td>2013</td>\n    </tr>\n    <tr>\n      <th>25476</th>\n      <td>118760</td>\n      <td>The Good Lie</td>\n      <td>2014</td>\n    </tr>\n  </tbody>\n</table>\n</div>"
     },
     "execution_count": 21,
     "metadata": {},
     "output_type": "execute_result"
    }
   ],
   "source": [
    "movies_df.loc[movies_df['movieId'].isin(recommendation_df.head(10)['movieId'].tolist())]"
   ]
  },
  {
   "cell_type": "markdown",
   "source": [
    "## Advantages and Disadvantages of Collaborative Filtering\n",
    "\n",
    "### Advantages\n",
    "* Takes other user's ratings into consideration\n",
    "* Doesn't need to study or extract information from the recommended item\n",
    "* Adapts to the user's interests which might change over time\n",
    "\n",
    "### Disadvantages\n",
    "* Approximation function can be slow\n",
    "* There might be a low of amount of users to approximate\n",
    "* Privacy issues when trying to learn the user's preferences"
   ],
   "metadata": {
    "collapsed": false
   }
  },
  {
   "cell_type": "code",
   "outputs": [],
   "source": [],
   "metadata": {
    "collapsed": false,
    "ExecuteTime": {
     "end_time": "2024-04-07T03:47:30.841823Z",
     "start_time": "2024-04-07T03:47:30.838884Z"
    }
   },
   "execution_count": 21
  }
 ],
 "metadata": {
  "kernelspec": {
   "display_name": "Python 3",
   "language": "python",
   "name": "python3"
  },
  "language_info": {
   "codemirror_mode": {
    "name": "ipython",
    "version": 3
   },
   "file_extension": ".py",
   "mimetype": "text/x-python",
   "name": "python",
   "nbconvert_exporter": "python",
   "pygments_lexer": "ipython3",
   "version": "3.6.7"
  }
 },
 "nbformat": 4,
 "nbformat_minor": 2
}
