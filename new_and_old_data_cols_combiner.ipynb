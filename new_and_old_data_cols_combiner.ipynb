{
 "cells": [
  {
   "cell_type": "code",
   "execution_count": 1,
   "id": "initial_id",
   "metadata": {
    "collapsed": true,
    "ExecuteTime": {
     "end_time": "2024-03-10T19:24:08.639531Z",
     "start_time": "2024-03-10T19:24:07.495475Z"
    }
   },
   "outputs": [],
   "source": [
    "import pandas as pd\n"
   ]
  },
  {
   "cell_type": "code",
   "execution_count": 19,
   "outputs": [
    {
     "data": {
      "text/plain": "                                      School_name  school_type     city   \\\n0                        Boulder Creek High School      Public    Anthem   \n1             Great Hearts Academies - Anthem Prep      Public    Anthem   \n2             West-Mec - Boulder Creek High School      Public    Anthem   \n3                            Agua Fria High School      Public  Avondale   \n4  Arizona Agribusiness & Equine Center - Estrella      Public  Avondale   \n\n   zipcode  \n0    85086  \n1    85086  \n2    85086  \n3    85323  \n4    85007  ",
      "text/html": "<div>\n<style scoped>\n    .dataframe tbody tr th:only-of-type {\n        vertical-align: middle;\n    }\n\n    .dataframe tbody tr th {\n        vertical-align: top;\n    }\n\n    .dataframe thead th {\n        text-align: right;\n    }\n</style>\n<table border=\"1\" class=\"dataframe\">\n  <thead>\n    <tr style=\"text-align: right;\">\n      <th></th>\n      <th>School_name</th>\n      <th>school_type</th>\n      <th>city</th>\n      <th>zipcode</th>\n    </tr>\n  </thead>\n  <tbody>\n    <tr>\n      <th>0</th>\n      <td>Boulder Creek High School</td>\n      <td>Public</td>\n      <td>Anthem</td>\n      <td>85086</td>\n    </tr>\n    <tr>\n      <th>1</th>\n      <td>Great Hearts Academies - Anthem Prep</td>\n      <td>Public</td>\n      <td>Anthem</td>\n      <td>85086</td>\n    </tr>\n    <tr>\n      <th>2</th>\n      <td>West-Mec - Boulder Creek High School</td>\n      <td>Public</td>\n      <td>Anthem</td>\n      <td>85086</td>\n    </tr>\n    <tr>\n      <th>3</th>\n      <td>Agua Fria High School</td>\n      <td>Public</td>\n      <td>Avondale</td>\n      <td>85323</td>\n    </tr>\n    <tr>\n      <th>4</th>\n      <td>Arizona Agribusiness &amp; Equine Center - Estrella</td>\n      <td>Public</td>\n      <td>Avondale</td>\n      <td>85007</td>\n    </tr>\n  </tbody>\n</table>\n</div>"
     },
     "execution_count": 19,
     "metadata": {},
     "output_type": "execute_result"
    }
   ],
   "source": [
    "old_data  = pd.read_csv('school_data.csv', usecols=['School_name ' ,'school_type','city ' ,'zipcode'])\n",
    "old_data.head()"
   ],
   "metadata": {
    "collapsed": false,
    "ExecuteTime": {
     "end_time": "2024-03-07T22:29:37.062182Z",
     "start_time": "2024-03-07T22:29:36.822438Z"
    }
   },
   "id": "6b75a70cbb585ee8"
  },
  {
   "cell_type": "code",
   "execution_count": 30,
   "outputs": [
    {
     "data": {
      "text/plain": "                      School_name  edu_range school_grade title_i_status  \\\n0  Academy with Community Partners    9 - 12            B            Yes   \n1      Accelerated Learning Center    9 - 12            A             No   \n2            Agua Fria High School    9 - 12            B            Yes   \n3             Alhambra High School    9 - 12            C            Yes   \n4               Apollo High School    9 - 12            B            Yes   \n\n  total_students african_american african_american_percent hispanic  \\\n0            169               13                     7.69       92   \n1            153              <10                      <10       27   \n2           1653              177                    10.71     1185   \n3           2283              235                    10.29     1838   \n4           2198              176                     8.01     1582   \n\n  hispanic_percent native_american  ...  \\\n0            54.44             <10  ...   \n1            17.65             <10  ...   \n2            71.69             <10  ...   \n3            80.51              28  ...   \n4            71.97             <10  ...   \n\n                                   sports_facilities  \\\n0  ['Basketball', 'Others', 'chevron_right', 'Fla...   \n1                              ['No data available']   \n2  ['Badminton', 'Baseball', 'Basketball', 'Cross...   \n3  ['Badminton', 'Baseball', 'Basketball', 'Cross...   \n4  ['Badminton', 'Baseball', 'Basketball', 'Cross...   \n\n                                    music_facilities  \\\n0                                            ['Art']   \n1                             ['Art', 'Photography']   \n2  ['Art', 'Band', 'Ceramics/Sculpting', 'Choir',...   \n3  ['Art', 'Band', 'Ceramics/Sculpting', 'Choir',...   \n4  ['Art', 'Band', 'Ceramics/Sculpting', 'Choir',...   \n\n                          after_school_opportunities  \\\n0  ['Athletic', 'chevron_right', 'Basketball', 'c...   \n1                              ['No data available']   \n2  ['Academic', 'chevron_right', 'National Honor ...   \n3  ['Academic', 'chevron_right', 'AVID Club/Unive...   \n4  ['Academic', 'chevron_right', 'World Language ...   \n\n                                    other_facilities  \\\n0     ['Dedicated Counselors', 'chevron_right', '1']   \n1         ['Art Room', 'Indoor air quality control']   \n2  ['Art Room', 'Auditorium', 'Book Store', 'Cafe...   \n3  ['Art Room', 'Auditorium', 'Book Store', 'Cafe...   \n4  ['Art Room', 'Auditorium', 'Book Store', 'Cafe...   \n\n                                    student_services acad_focus_1  \\\n0  ['Assistance with Material Needs', 'McKinney-V...          Yes   \n1  ['Assistance with Material Needs', 'McKinney-V...          Yes   \n2                              ['No data available']          Yes   \n3  ['Dedicated School Counselor', 'chevron_right'...          Yes   \n4                              ['No data available']          NaN   \n\n  acad_focus_2 acad_focus_3 acad_focus_4  acad_focus_5  \n0          Yes          Yes          Yes           Yes  \n1          Yes          Yes          Yes           Yes  \n2          Yes          Yes          Yes           Yes  \n3          Yes          Yes          Yes           Yes  \n4          NaN          NaN          NaN           NaN  \n\n[5 rows x 45 columns]",
      "text/html": "<div>\n<style scoped>\n    .dataframe tbody tr th:only-of-type {\n        vertical-align: middle;\n    }\n\n    .dataframe tbody tr th {\n        vertical-align: top;\n    }\n\n    .dataframe thead th {\n        text-align: right;\n    }\n</style>\n<table border=\"1\" class=\"dataframe\">\n  <thead>\n    <tr style=\"text-align: right;\">\n      <th></th>\n      <th>School_name</th>\n      <th>edu_range</th>\n      <th>school_grade</th>\n      <th>title_i_status</th>\n      <th>total_students</th>\n      <th>african_american</th>\n      <th>african_american_percent</th>\n      <th>hispanic</th>\n      <th>hispanic_percent</th>\n      <th>native_american</th>\n      <th>...</th>\n      <th>sports_facilities</th>\n      <th>music_facilities</th>\n      <th>after_school_opportunities</th>\n      <th>other_facilities</th>\n      <th>student_services</th>\n      <th>acad_focus_1</th>\n      <th>acad_focus_2</th>\n      <th>acad_focus_3</th>\n      <th>acad_focus_4</th>\n      <th>acad_focus_5</th>\n    </tr>\n  </thead>\n  <tbody>\n    <tr>\n      <th>0</th>\n      <td>Academy with Community Partners</td>\n      <td>9 - 12</td>\n      <td>B</td>\n      <td>Yes</td>\n      <td>169</td>\n      <td>13</td>\n      <td>7.69</td>\n      <td>92</td>\n      <td>54.44</td>\n      <td>&lt;10</td>\n      <td>...</td>\n      <td>['Basketball', 'Others', 'chevron_right', 'Fla...</td>\n      <td>['Art']</td>\n      <td>['Athletic', 'chevron_right', 'Basketball', 'c...</td>\n      <td>['Dedicated Counselors', 'chevron_right', '1']</td>\n      <td>['Assistance with Material Needs', 'McKinney-V...</td>\n      <td>Yes</td>\n      <td>Yes</td>\n      <td>Yes</td>\n      <td>Yes</td>\n      <td>Yes</td>\n    </tr>\n    <tr>\n      <th>1</th>\n      <td>Accelerated Learning Center</td>\n      <td>9 - 12</td>\n      <td>A</td>\n      <td>No</td>\n      <td>153</td>\n      <td>&lt;10</td>\n      <td>&lt;10</td>\n      <td>27</td>\n      <td>17.65</td>\n      <td>&lt;10</td>\n      <td>...</td>\n      <td>['No data available']</td>\n      <td>['Art', 'Photography']</td>\n      <td>['No data available']</td>\n      <td>['Art Room', 'Indoor air quality control']</td>\n      <td>['Assistance with Material Needs', 'McKinney-V...</td>\n      <td>Yes</td>\n      <td>Yes</td>\n      <td>Yes</td>\n      <td>Yes</td>\n      <td>Yes</td>\n    </tr>\n    <tr>\n      <th>2</th>\n      <td>Agua Fria High School</td>\n      <td>9 - 12</td>\n      <td>B</td>\n      <td>Yes</td>\n      <td>1653</td>\n      <td>177</td>\n      <td>10.71</td>\n      <td>1185</td>\n      <td>71.69</td>\n      <td>&lt;10</td>\n      <td>...</td>\n      <td>['Badminton', 'Baseball', 'Basketball', 'Cross...</td>\n      <td>['Art', 'Band', 'Ceramics/Sculpting', 'Choir',...</td>\n      <td>['Academic', 'chevron_right', 'National Honor ...</td>\n      <td>['Art Room', 'Auditorium', 'Book Store', 'Cafe...</td>\n      <td>['No data available']</td>\n      <td>Yes</td>\n      <td>Yes</td>\n      <td>Yes</td>\n      <td>Yes</td>\n      <td>Yes</td>\n    </tr>\n    <tr>\n      <th>3</th>\n      <td>Alhambra High School</td>\n      <td>9 - 12</td>\n      <td>C</td>\n      <td>Yes</td>\n      <td>2283</td>\n      <td>235</td>\n      <td>10.29</td>\n      <td>1838</td>\n      <td>80.51</td>\n      <td>28</td>\n      <td>...</td>\n      <td>['Badminton', 'Baseball', 'Basketball', 'Cross...</td>\n      <td>['Art', 'Band', 'Ceramics/Sculpting', 'Choir',...</td>\n      <td>['Academic', 'chevron_right', 'AVID Club/Unive...</td>\n      <td>['Art Room', 'Auditorium', 'Book Store', 'Cafe...</td>\n      <td>['Dedicated School Counselor', 'chevron_right'...</td>\n      <td>Yes</td>\n      <td>Yes</td>\n      <td>Yes</td>\n      <td>Yes</td>\n      <td>Yes</td>\n    </tr>\n    <tr>\n      <th>4</th>\n      <td>Apollo High School</td>\n      <td>9 - 12</td>\n      <td>B</td>\n      <td>Yes</td>\n      <td>2198</td>\n      <td>176</td>\n      <td>8.01</td>\n      <td>1582</td>\n      <td>71.97</td>\n      <td>&lt;10</td>\n      <td>...</td>\n      <td>['Badminton', 'Baseball', 'Basketball', 'Cross...</td>\n      <td>['Art', 'Band', 'Ceramics/Sculpting', 'Choir',...</td>\n      <td>['Academic', 'chevron_right', 'World Language ...</td>\n      <td>['Art Room', 'Auditorium', 'Book Store', 'Cafe...</td>\n      <td>['No data available']</td>\n      <td>NaN</td>\n      <td>NaN</td>\n      <td>NaN</td>\n      <td>NaN</td>\n      <td>NaN</td>\n    </tr>\n  </tbody>\n</table>\n<p>5 rows × 45 columns</p>\n</div>"
     },
     "execution_count": 30,
     "metadata": {},
     "output_type": "execute_result"
    }
   ],
   "source": [
    "new_data  = pd.read_csv('school_data_3.csv')\n",
    "new_data.head()"
   ],
   "metadata": {
    "collapsed": false,
    "ExecuteTime": {
     "end_time": "2024-03-07T22:38:22.679369Z",
     "start_time": "2024-03-07T22:38:22.625396Z"
    }
   },
   "id": "7751d04568f5cb65"
  },
  {
   "cell_type": "code",
   "execution_count": 31,
   "outputs": [
    {
     "data": {
      "text/plain": "                        School_name           edu_range school_grade  \\\n0    Academy with Community Partners             9 - 12            B   \n1        Accelerated Learning Center             9 - 12            A   \n2              Agua Fria High School             9 - 12            B   \n3               Alhambra High School             9 - 12            C   \n4                 Apollo High School             9 - 12            B   \n..                               ...                ...          ...   \n218       Wickenburg Virtual Academy  Kindergarten - 12          NaN   \n219       Williams Field High School             8 - 12            A   \n220        Willis Junior High School              7 - 8            B   \n221        Willow Canyon High School             7 - 12            A   \n222             Youngker High School             9 - 12            A   \n\n    title_i_status total_students african_american african_american_percent  \\\n0              Yes            169               13                     7.69   \n1               No            153              <10                      <10   \n2              Yes           1653              177                    10.71   \n3              Yes           2283              235                    10.29   \n4              Yes           2198              176                     8.01   \n..             ...            ...              ...                      ...   \n218             No             78              <10                      <10   \n219             No           2115              165                      7.8   \n220            Yes            858               48                     5.59   \n221             No           1787              137                     7.67   \n222            Yes           2107              192                     9.11   \n\n    hispanic hispanic_percent native_american  ...  \\\n0         92            54.44             <10  ...   \n1         27            17.65             <10  ...   \n2       1185            71.69             <10  ...   \n3       1838            80.51              28  ...   \n4       1582            71.97             <10  ...   \n..       ...              ...             ...  ...   \n218       30            38.46             NaN  ...   \n219      490            23.17              24  ...   \n220      495            57.69             <10  ...   \n221      575            32.18              20  ...   \n222     1372            65.12              19  ...   \n\n                                      other_facilities  \\\n0       ['Dedicated Counselors', 'chevron_right', '1']   \n1           ['Art Room', 'Indoor air quality control']   \n2    ['Art Room', 'Auditorium', 'Book Store', 'Cafe...   \n3    ['Art Room', 'Auditorium', 'Book Store', 'Cafe...   \n4    ['Art Room', 'Auditorium', 'Book Store', 'Cafe...   \n..                                                 ...   \n218  ['Cafeteria (Onsite food service)', 'Technolog...   \n219                              ['No data available']   \n220  ['Art Room', 'Cafeteria (Onsite food service)'...   \n221  ['Art Room', 'Auditorium', 'Book Store', 'Cafe...   \n222  ['Art Room', 'Auditorium', 'Cafeteria (Onsite ...   \n\n                                      student_services acad_focus_1  \\\n0    ['Assistance with Material Needs', 'McKinney-V...          Yes   \n1    ['Assistance with Material Needs', 'McKinney-V...          Yes   \n2                                ['No data available']          Yes   \n3    ['Dedicated School Counselor', 'chevron_right'...          Yes   \n4                                ['No data available']          NaN   \n..                                                 ...          ...   \n218                              ['No data available']          NaN   \n219                              ['No data available']          NaN   \n220  ['Dedicated School Counselor', 'chevron_right'...          Yes   \n221                              ['No data available']          Yes   \n222  ['Dedicated School Counselor', 'chevron_right'...          Yes   \n\n    acad_focus_2 acad_focus_3 acad_focus_4 acad_focus_5 school_type  \\\n0            Yes          Yes          Yes          Yes      Public   \n1            Yes          Yes          Yes          Yes      Public   \n2            Yes          Yes          Yes          Yes      Public   \n3            Yes          Yes          Yes          Yes      Public   \n4            NaN          NaN          NaN          NaN      Public   \n..           ...          ...          ...          ...         ...   \n218          NaN          NaN          NaN          NaN      Public   \n219          NaN          NaN          NaN          NaN      Public   \n220          Yes          Yes          Yes          Yes      Public   \n221          Yes          Yes          Yes          Yes      Public   \n222          Yes          Yes          Yes          Yes      Public   \n\n          city   zipcode  \n0          Mesa    85203  \n1       Phoenix    85028  \n2      Avondale    85323  \n3       Phoenix    85019  \n4      Glendale    85302  \n..          ...      ...  \n218  Wickenburg    85390  \n219      Higley    85236  \n220    Chandler    85225  \n221    Surprise    85374  \n222     Buckeye    85326  \n\n[223 rows x 48 columns]",
      "text/html": "<div>\n<style scoped>\n    .dataframe tbody tr th:only-of-type {\n        vertical-align: middle;\n    }\n\n    .dataframe tbody tr th {\n        vertical-align: top;\n    }\n\n    .dataframe thead th {\n        text-align: right;\n    }\n</style>\n<table border=\"1\" class=\"dataframe\">\n  <thead>\n    <tr style=\"text-align: right;\">\n      <th></th>\n      <th>School_name</th>\n      <th>edu_range</th>\n      <th>school_grade</th>\n      <th>title_i_status</th>\n      <th>total_students</th>\n      <th>african_american</th>\n      <th>african_american_percent</th>\n      <th>hispanic</th>\n      <th>hispanic_percent</th>\n      <th>native_american</th>\n      <th>...</th>\n      <th>other_facilities</th>\n      <th>student_services</th>\n      <th>acad_focus_1</th>\n      <th>acad_focus_2</th>\n      <th>acad_focus_3</th>\n      <th>acad_focus_4</th>\n      <th>acad_focus_5</th>\n      <th>school_type</th>\n      <th>city</th>\n      <th>zipcode</th>\n    </tr>\n  </thead>\n  <tbody>\n    <tr>\n      <th>0</th>\n      <td>Academy with Community Partners</td>\n      <td>9 - 12</td>\n      <td>B</td>\n      <td>Yes</td>\n      <td>169</td>\n      <td>13</td>\n      <td>7.69</td>\n      <td>92</td>\n      <td>54.44</td>\n      <td>&lt;10</td>\n      <td>...</td>\n      <td>['Dedicated Counselors', 'chevron_right', '1']</td>\n      <td>['Assistance with Material Needs', 'McKinney-V...</td>\n      <td>Yes</td>\n      <td>Yes</td>\n      <td>Yes</td>\n      <td>Yes</td>\n      <td>Yes</td>\n      <td>Public</td>\n      <td>Mesa</td>\n      <td>85203</td>\n    </tr>\n    <tr>\n      <th>1</th>\n      <td>Accelerated Learning Center</td>\n      <td>9 - 12</td>\n      <td>A</td>\n      <td>No</td>\n      <td>153</td>\n      <td>&lt;10</td>\n      <td>&lt;10</td>\n      <td>27</td>\n      <td>17.65</td>\n      <td>&lt;10</td>\n      <td>...</td>\n      <td>['Art Room', 'Indoor air quality control']</td>\n      <td>['Assistance with Material Needs', 'McKinney-V...</td>\n      <td>Yes</td>\n      <td>Yes</td>\n      <td>Yes</td>\n      <td>Yes</td>\n      <td>Yes</td>\n      <td>Public</td>\n      <td>Phoenix</td>\n      <td>85028</td>\n    </tr>\n    <tr>\n      <th>2</th>\n      <td>Agua Fria High School</td>\n      <td>9 - 12</td>\n      <td>B</td>\n      <td>Yes</td>\n      <td>1653</td>\n      <td>177</td>\n      <td>10.71</td>\n      <td>1185</td>\n      <td>71.69</td>\n      <td>&lt;10</td>\n      <td>...</td>\n      <td>['Art Room', 'Auditorium', 'Book Store', 'Cafe...</td>\n      <td>['No data available']</td>\n      <td>Yes</td>\n      <td>Yes</td>\n      <td>Yes</td>\n      <td>Yes</td>\n      <td>Yes</td>\n      <td>Public</td>\n      <td>Avondale</td>\n      <td>85323</td>\n    </tr>\n    <tr>\n      <th>3</th>\n      <td>Alhambra High School</td>\n      <td>9 - 12</td>\n      <td>C</td>\n      <td>Yes</td>\n      <td>2283</td>\n      <td>235</td>\n      <td>10.29</td>\n      <td>1838</td>\n      <td>80.51</td>\n      <td>28</td>\n      <td>...</td>\n      <td>['Art Room', 'Auditorium', 'Book Store', 'Cafe...</td>\n      <td>['Dedicated School Counselor', 'chevron_right'...</td>\n      <td>Yes</td>\n      <td>Yes</td>\n      <td>Yes</td>\n      <td>Yes</td>\n      <td>Yes</td>\n      <td>Public</td>\n      <td>Phoenix</td>\n      <td>85019</td>\n    </tr>\n    <tr>\n      <th>4</th>\n      <td>Apollo High School</td>\n      <td>9 - 12</td>\n      <td>B</td>\n      <td>Yes</td>\n      <td>2198</td>\n      <td>176</td>\n      <td>8.01</td>\n      <td>1582</td>\n      <td>71.97</td>\n      <td>&lt;10</td>\n      <td>...</td>\n      <td>['Art Room', 'Auditorium', 'Book Store', 'Cafe...</td>\n      <td>['No data available']</td>\n      <td>NaN</td>\n      <td>NaN</td>\n      <td>NaN</td>\n      <td>NaN</td>\n      <td>NaN</td>\n      <td>Public</td>\n      <td>Glendale</td>\n      <td>85302</td>\n    </tr>\n    <tr>\n      <th>...</th>\n      <td>...</td>\n      <td>...</td>\n      <td>...</td>\n      <td>...</td>\n      <td>...</td>\n      <td>...</td>\n      <td>...</td>\n      <td>...</td>\n      <td>...</td>\n      <td>...</td>\n      <td>...</td>\n      <td>...</td>\n      <td>...</td>\n      <td>...</td>\n      <td>...</td>\n      <td>...</td>\n      <td>...</td>\n      <td>...</td>\n      <td>...</td>\n      <td>...</td>\n      <td>...</td>\n    </tr>\n    <tr>\n      <th>218</th>\n      <td>Wickenburg Virtual Academy</td>\n      <td>Kindergarten - 12</td>\n      <td>NaN</td>\n      <td>No</td>\n      <td>78</td>\n      <td>&lt;10</td>\n      <td>&lt;10</td>\n      <td>30</td>\n      <td>38.46</td>\n      <td>NaN</td>\n      <td>...</td>\n      <td>['Cafeteria (Onsite food service)', 'Technolog...</td>\n      <td>['No data available']</td>\n      <td>NaN</td>\n      <td>NaN</td>\n      <td>NaN</td>\n      <td>NaN</td>\n      <td>NaN</td>\n      <td>Public</td>\n      <td>Wickenburg</td>\n      <td>85390</td>\n    </tr>\n    <tr>\n      <th>219</th>\n      <td>Williams Field High School</td>\n      <td>8 - 12</td>\n      <td>A</td>\n      <td>No</td>\n      <td>2115</td>\n      <td>165</td>\n      <td>7.8</td>\n      <td>490</td>\n      <td>23.17</td>\n      <td>24</td>\n      <td>...</td>\n      <td>['No data available']</td>\n      <td>['No data available']</td>\n      <td>NaN</td>\n      <td>NaN</td>\n      <td>NaN</td>\n      <td>NaN</td>\n      <td>NaN</td>\n      <td>Public</td>\n      <td>Higley</td>\n      <td>85236</td>\n    </tr>\n    <tr>\n      <th>220</th>\n      <td>Willis Junior High School</td>\n      <td>7 - 8</td>\n      <td>B</td>\n      <td>Yes</td>\n      <td>858</td>\n      <td>48</td>\n      <td>5.59</td>\n      <td>495</td>\n      <td>57.69</td>\n      <td>&lt;10</td>\n      <td>...</td>\n      <td>['Art Room', 'Cafeteria (Onsite food service)'...</td>\n      <td>['Dedicated School Counselor', 'chevron_right'...</td>\n      <td>Yes</td>\n      <td>Yes</td>\n      <td>Yes</td>\n      <td>Yes</td>\n      <td>Yes</td>\n      <td>Public</td>\n      <td>Chandler</td>\n      <td>85225</td>\n    </tr>\n    <tr>\n      <th>221</th>\n      <td>Willow Canyon High School</td>\n      <td>7 - 12</td>\n      <td>A</td>\n      <td>No</td>\n      <td>1787</td>\n      <td>137</td>\n      <td>7.67</td>\n      <td>575</td>\n      <td>32.18</td>\n      <td>20</td>\n      <td>...</td>\n      <td>['Art Room', 'Auditorium', 'Book Store', 'Cafe...</td>\n      <td>['No data available']</td>\n      <td>Yes</td>\n      <td>Yes</td>\n      <td>Yes</td>\n      <td>Yes</td>\n      <td>Yes</td>\n      <td>Public</td>\n      <td>Surprise</td>\n      <td>85374</td>\n    </tr>\n    <tr>\n      <th>222</th>\n      <td>Youngker High School</td>\n      <td>9 - 12</td>\n      <td>A</td>\n      <td>Yes</td>\n      <td>2107</td>\n      <td>192</td>\n      <td>9.11</td>\n      <td>1372</td>\n      <td>65.12</td>\n      <td>19</td>\n      <td>...</td>\n      <td>['Art Room', 'Auditorium', 'Cafeteria (Onsite ...</td>\n      <td>['Dedicated School Counselor', 'chevron_right'...</td>\n      <td>Yes</td>\n      <td>Yes</td>\n      <td>Yes</td>\n      <td>Yes</td>\n      <td>Yes</td>\n      <td>Public</td>\n      <td>Buckeye</td>\n      <td>85326</td>\n    </tr>\n  </tbody>\n</table>\n<p>223 rows × 48 columns</p>\n</div>"
     },
     "execution_count": 31,
     "metadata": {},
     "output_type": "execute_result"
    }
   ],
   "source": [
    "result = pd.merge(new_data, old_data, on=\"School_name \")\n",
    "result"
   ],
   "metadata": {
    "collapsed": false,
    "ExecuteTime": {
     "end_time": "2024-03-07T22:38:23.735020Z",
     "start_time": "2024-03-07T22:38:23.716407Z"
    }
   },
   "id": "4ea2b048c1ae445b"
  },
  {
   "cell_type": "code",
   "execution_count": 32,
   "outputs": [
    {
     "data": {
      "text/plain": "                        School_name  school_type       city   zipcode  \\\n0    Academy with Community Partners      Public        Mesa    85203   \n1        Accelerated Learning Center      Public     Phoenix    85028   \n2              Agua Fria High School      Public    Avondale    85323   \n3               Alhambra High School      Public     Phoenix    85019   \n4                 Apollo High School      Public    Glendale    85302   \n..                               ...         ...         ...      ...   \n218       Wickenburg Virtual Academy      Public  Wickenburg    85390   \n219       Williams Field High School      Public      Higley    85236   \n220        Willis Junior High School      Public    Chandler    85225   \n221        Willow Canyon High School      Public    Surprise    85374   \n222             Youngker High School      Public     Buckeye    85326   \n\n             edu_range school_grade title_i_status total_students  \\\n0               9 - 12            B            Yes            169   \n1               9 - 12            A             No            153   \n2               9 - 12            B            Yes           1653   \n3               9 - 12            C            Yes           2283   \n4               9 - 12            B            Yes           2198   \n..                 ...          ...            ...            ...   \n218  Kindergarten - 12          NaN             No             78   \n219             8 - 12            A             No           2115   \n220              7 - 8            B            Yes            858   \n221             7 - 12            A             No           1787   \n222             9 - 12            A            Yes           2107   \n\n    african_american african_american_percent  ...  \\\n0                 13                     7.69  ...   \n1                <10                      <10  ...   \n2                177                    10.71  ...   \n3                235                    10.29  ...   \n4                176                     8.01  ...   \n..               ...                      ...  ...   \n218              <10                      <10  ...   \n219              165                      7.8  ...   \n220               48                     5.59  ...   \n221              137                     7.67  ...   \n222              192                     9.11  ...   \n\n                                     sports_facilities  \\\n0    ['Basketball', 'Others', 'chevron_right', 'Fla...   \n1                                ['No data available']   \n2    ['Badminton', 'Baseball', 'Basketball', 'Cross...   \n3    ['Badminton', 'Baseball', 'Basketball', 'Cross...   \n4    ['Badminton', 'Baseball', 'Basketball', 'Cross...   \n..                                                 ...   \n218  ['Baseball', 'Basketball', 'Cross-Country', 'F...   \n219                              ['No data available']   \n220  ['Baseball', 'Basketball', 'Cross-Country', 'F...   \n221  ['Badminton', 'Baseball', 'Basketball', 'Cross...   \n222  ['Badminton', 'Baseball', 'Basketball', 'Cross...   \n\n                                      music_facilities  \\\n0                                              ['Art']   \n1                               ['Art', 'Photography']   \n2    ['Art', 'Band', 'Ceramics/Sculpting', 'Choir',...   \n3    ['Art', 'Band', 'Ceramics/Sculpting', 'Choir',...   \n4    ['Art', 'Band', 'Ceramics/Sculpting', 'Choir',...   \n..                                                 ...   \n218                              ['No data available']   \n219                              ['No data available']   \n220  ['Art', 'Band', 'Ceramics/Sculpting', 'Choir',...   \n221  ['Art', 'Band', 'Ceramics/Sculpting', 'Choir',...   \n222  ['Art', 'Band', 'Ceramics/Sculpting', 'Choir',...   \n\n                            after_school_opportunities  \\\n0    ['Athletic', 'chevron_right', 'Basketball', 'c...   \n1                                ['No data available']   \n2    ['Academic', 'chevron_right', 'National Honor ...   \n3    ['Academic', 'chevron_right', 'AVID Club/Unive...   \n4    ['Academic', 'chevron_right', 'World Language ...   \n..                                                 ...   \n218                              ['No data available']   \n219                              ['No data available']   \n220  ['Academic', 'chevron_right', 'Math Club', 'ch...   \n221  ['Academic', 'chevron_right', 'Various Academi...   \n222  ['Academic', 'Arts', 'Athletic', 'Career and T...   \n\n                                      other_facilities  \\\n0       ['Dedicated Counselors', 'chevron_right', '1']   \n1           ['Art Room', 'Indoor air quality control']   \n2    ['Art Room', 'Auditorium', 'Book Store', 'Cafe...   \n3    ['Art Room', 'Auditorium', 'Book Store', 'Cafe...   \n4    ['Art Room', 'Auditorium', 'Book Store', 'Cafe...   \n..                                                 ...   \n218  ['Cafeteria (Onsite food service)', 'Technolog...   \n219                              ['No data available']   \n220  ['Art Room', 'Cafeteria (Onsite food service)'...   \n221  ['Art Room', 'Auditorium', 'Book Store', 'Cafe...   \n222  ['Art Room', 'Auditorium', 'Cafeteria (Onsite ...   \n\n                                      student_services acad_focus_1  \\\n0    ['Assistance with Material Needs', 'McKinney-V...          Yes   \n1    ['Assistance with Material Needs', 'McKinney-V...          Yes   \n2                                ['No data available']          Yes   \n3    ['Dedicated School Counselor', 'chevron_right'...          Yes   \n4                                ['No data available']          NaN   \n..                                                 ...          ...   \n218                              ['No data available']          NaN   \n219                              ['No data available']          NaN   \n220  ['Dedicated School Counselor', 'chevron_right'...          Yes   \n221                              ['No data available']          Yes   \n222  ['Dedicated School Counselor', 'chevron_right'...          Yes   \n\n    acad_focus_2 acad_focus_3 acad_focus_4 acad_focus_5  \n0            Yes          Yes          Yes          Yes  \n1            Yes          Yes          Yes          Yes  \n2            Yes          Yes          Yes          Yes  \n3            Yes          Yes          Yes          Yes  \n4            NaN          NaN          NaN          NaN  \n..           ...          ...          ...          ...  \n218          NaN          NaN          NaN          NaN  \n219          NaN          NaN          NaN          NaN  \n220          Yes          Yes          Yes          Yes  \n221          Yes          Yes          Yes          Yes  \n222          Yes          Yes          Yes          Yes  \n\n[223 rows x 48 columns]",
      "text/html": "<div>\n<style scoped>\n    .dataframe tbody tr th:only-of-type {\n        vertical-align: middle;\n    }\n\n    .dataframe tbody tr th {\n        vertical-align: top;\n    }\n\n    .dataframe thead th {\n        text-align: right;\n    }\n</style>\n<table border=\"1\" class=\"dataframe\">\n  <thead>\n    <tr style=\"text-align: right;\">\n      <th></th>\n      <th>School_name</th>\n      <th>school_type</th>\n      <th>city</th>\n      <th>zipcode</th>\n      <th>edu_range</th>\n      <th>school_grade</th>\n      <th>title_i_status</th>\n      <th>total_students</th>\n      <th>african_american</th>\n      <th>african_american_percent</th>\n      <th>...</th>\n      <th>sports_facilities</th>\n      <th>music_facilities</th>\n      <th>after_school_opportunities</th>\n      <th>other_facilities</th>\n      <th>student_services</th>\n      <th>acad_focus_1</th>\n      <th>acad_focus_2</th>\n      <th>acad_focus_3</th>\n      <th>acad_focus_4</th>\n      <th>acad_focus_5</th>\n    </tr>\n  </thead>\n  <tbody>\n    <tr>\n      <th>0</th>\n      <td>Academy with Community Partners</td>\n      <td>Public</td>\n      <td>Mesa</td>\n      <td>85203</td>\n      <td>9 - 12</td>\n      <td>B</td>\n      <td>Yes</td>\n      <td>169</td>\n      <td>13</td>\n      <td>7.69</td>\n      <td>...</td>\n      <td>['Basketball', 'Others', 'chevron_right', 'Fla...</td>\n      <td>['Art']</td>\n      <td>['Athletic', 'chevron_right', 'Basketball', 'c...</td>\n      <td>['Dedicated Counselors', 'chevron_right', '1']</td>\n      <td>['Assistance with Material Needs', 'McKinney-V...</td>\n      <td>Yes</td>\n      <td>Yes</td>\n      <td>Yes</td>\n      <td>Yes</td>\n      <td>Yes</td>\n    </tr>\n    <tr>\n      <th>1</th>\n      <td>Accelerated Learning Center</td>\n      <td>Public</td>\n      <td>Phoenix</td>\n      <td>85028</td>\n      <td>9 - 12</td>\n      <td>A</td>\n      <td>No</td>\n      <td>153</td>\n      <td>&lt;10</td>\n      <td>&lt;10</td>\n      <td>...</td>\n      <td>['No data available']</td>\n      <td>['Art', 'Photography']</td>\n      <td>['No data available']</td>\n      <td>['Art Room', 'Indoor air quality control']</td>\n      <td>['Assistance with Material Needs', 'McKinney-V...</td>\n      <td>Yes</td>\n      <td>Yes</td>\n      <td>Yes</td>\n      <td>Yes</td>\n      <td>Yes</td>\n    </tr>\n    <tr>\n      <th>2</th>\n      <td>Agua Fria High School</td>\n      <td>Public</td>\n      <td>Avondale</td>\n      <td>85323</td>\n      <td>9 - 12</td>\n      <td>B</td>\n      <td>Yes</td>\n      <td>1653</td>\n      <td>177</td>\n      <td>10.71</td>\n      <td>...</td>\n      <td>['Badminton', 'Baseball', 'Basketball', 'Cross...</td>\n      <td>['Art', 'Band', 'Ceramics/Sculpting', 'Choir',...</td>\n      <td>['Academic', 'chevron_right', 'National Honor ...</td>\n      <td>['Art Room', 'Auditorium', 'Book Store', 'Cafe...</td>\n      <td>['No data available']</td>\n      <td>Yes</td>\n      <td>Yes</td>\n      <td>Yes</td>\n      <td>Yes</td>\n      <td>Yes</td>\n    </tr>\n    <tr>\n      <th>3</th>\n      <td>Alhambra High School</td>\n      <td>Public</td>\n      <td>Phoenix</td>\n      <td>85019</td>\n      <td>9 - 12</td>\n      <td>C</td>\n      <td>Yes</td>\n      <td>2283</td>\n      <td>235</td>\n      <td>10.29</td>\n      <td>...</td>\n      <td>['Badminton', 'Baseball', 'Basketball', 'Cross...</td>\n      <td>['Art', 'Band', 'Ceramics/Sculpting', 'Choir',...</td>\n      <td>['Academic', 'chevron_right', 'AVID Club/Unive...</td>\n      <td>['Art Room', 'Auditorium', 'Book Store', 'Cafe...</td>\n      <td>['Dedicated School Counselor', 'chevron_right'...</td>\n      <td>Yes</td>\n      <td>Yes</td>\n      <td>Yes</td>\n      <td>Yes</td>\n      <td>Yes</td>\n    </tr>\n    <tr>\n      <th>4</th>\n      <td>Apollo High School</td>\n      <td>Public</td>\n      <td>Glendale</td>\n      <td>85302</td>\n      <td>9 - 12</td>\n      <td>B</td>\n      <td>Yes</td>\n      <td>2198</td>\n      <td>176</td>\n      <td>8.01</td>\n      <td>...</td>\n      <td>['Badminton', 'Baseball', 'Basketball', 'Cross...</td>\n      <td>['Art', 'Band', 'Ceramics/Sculpting', 'Choir',...</td>\n      <td>['Academic', 'chevron_right', 'World Language ...</td>\n      <td>['Art Room', 'Auditorium', 'Book Store', 'Cafe...</td>\n      <td>['No data available']</td>\n      <td>NaN</td>\n      <td>NaN</td>\n      <td>NaN</td>\n      <td>NaN</td>\n      <td>NaN</td>\n    </tr>\n    <tr>\n      <th>...</th>\n      <td>...</td>\n      <td>...</td>\n      <td>...</td>\n      <td>...</td>\n      <td>...</td>\n      <td>...</td>\n      <td>...</td>\n      <td>...</td>\n      <td>...</td>\n      <td>...</td>\n      <td>...</td>\n      <td>...</td>\n      <td>...</td>\n      <td>...</td>\n      <td>...</td>\n      <td>...</td>\n      <td>...</td>\n      <td>...</td>\n      <td>...</td>\n      <td>...</td>\n      <td>...</td>\n    </tr>\n    <tr>\n      <th>218</th>\n      <td>Wickenburg Virtual Academy</td>\n      <td>Public</td>\n      <td>Wickenburg</td>\n      <td>85390</td>\n      <td>Kindergarten - 12</td>\n      <td>NaN</td>\n      <td>No</td>\n      <td>78</td>\n      <td>&lt;10</td>\n      <td>&lt;10</td>\n      <td>...</td>\n      <td>['Baseball', 'Basketball', 'Cross-Country', 'F...</td>\n      <td>['No data available']</td>\n      <td>['No data available']</td>\n      <td>['Cafeteria (Onsite food service)', 'Technolog...</td>\n      <td>['No data available']</td>\n      <td>NaN</td>\n      <td>NaN</td>\n      <td>NaN</td>\n      <td>NaN</td>\n      <td>NaN</td>\n    </tr>\n    <tr>\n      <th>219</th>\n      <td>Williams Field High School</td>\n      <td>Public</td>\n      <td>Higley</td>\n      <td>85236</td>\n      <td>8 - 12</td>\n      <td>A</td>\n      <td>No</td>\n      <td>2115</td>\n      <td>165</td>\n      <td>7.8</td>\n      <td>...</td>\n      <td>['No data available']</td>\n      <td>['No data available']</td>\n      <td>['No data available']</td>\n      <td>['No data available']</td>\n      <td>['No data available']</td>\n      <td>NaN</td>\n      <td>NaN</td>\n      <td>NaN</td>\n      <td>NaN</td>\n      <td>NaN</td>\n    </tr>\n    <tr>\n      <th>220</th>\n      <td>Willis Junior High School</td>\n      <td>Public</td>\n      <td>Chandler</td>\n      <td>85225</td>\n      <td>7 - 8</td>\n      <td>B</td>\n      <td>Yes</td>\n      <td>858</td>\n      <td>48</td>\n      <td>5.59</td>\n      <td>...</td>\n      <td>['Baseball', 'Basketball', 'Cross-Country', 'F...</td>\n      <td>['Art', 'Band', 'Ceramics/Sculpting', 'Choir',...</td>\n      <td>['Academic', 'chevron_right', 'Math Club', 'ch...</td>\n      <td>['Art Room', 'Cafeteria (Onsite food service)'...</td>\n      <td>['Dedicated School Counselor', 'chevron_right'...</td>\n      <td>Yes</td>\n      <td>Yes</td>\n      <td>Yes</td>\n      <td>Yes</td>\n      <td>Yes</td>\n    </tr>\n    <tr>\n      <th>221</th>\n      <td>Willow Canyon High School</td>\n      <td>Public</td>\n      <td>Surprise</td>\n      <td>85374</td>\n      <td>7 - 12</td>\n      <td>A</td>\n      <td>No</td>\n      <td>1787</td>\n      <td>137</td>\n      <td>7.67</td>\n      <td>...</td>\n      <td>['Badminton', 'Baseball', 'Basketball', 'Cross...</td>\n      <td>['Art', 'Band', 'Ceramics/Sculpting', 'Choir',...</td>\n      <td>['Academic', 'chevron_right', 'Various Academi...</td>\n      <td>['Art Room', 'Auditorium', 'Book Store', 'Cafe...</td>\n      <td>['No data available']</td>\n      <td>Yes</td>\n      <td>Yes</td>\n      <td>Yes</td>\n      <td>Yes</td>\n      <td>Yes</td>\n    </tr>\n    <tr>\n      <th>222</th>\n      <td>Youngker High School</td>\n      <td>Public</td>\n      <td>Buckeye</td>\n      <td>85326</td>\n      <td>9 - 12</td>\n      <td>A</td>\n      <td>Yes</td>\n      <td>2107</td>\n      <td>192</td>\n      <td>9.11</td>\n      <td>...</td>\n      <td>['Badminton', 'Baseball', 'Basketball', 'Cross...</td>\n      <td>['Art', 'Band', 'Ceramics/Sculpting', 'Choir',...</td>\n      <td>['Academic', 'Arts', 'Athletic', 'Career and T...</td>\n      <td>['Art Room', 'Auditorium', 'Cafeteria (Onsite ...</td>\n      <td>['Dedicated School Counselor', 'chevron_right'...</td>\n      <td>Yes</td>\n      <td>Yes</td>\n      <td>Yes</td>\n      <td>Yes</td>\n      <td>Yes</td>\n    </tr>\n  </tbody>\n</table>\n<p>223 rows × 48 columns</p>\n</div>"
     },
     "execution_count": 32,
     "metadata": {},
     "output_type": "execute_result"
    }
   ],
   "source": [
    "result = result[['School_name ','school_type','city ','zipcode','edu_range','school_grade','title_i_status','total_students', 'african_american', 'african_american_percent', 'hispanic', 'hispanic_percent', 'native_american', 'native_american_percent', 'white', 'white_percent', 'multiple_race', 'multiple_race_percent', 'asian', 'asian_percent', 'pacific_islander', 'pacific_islander_percent', 'proficiency_pts', 'Grad_Rate_pts', 'Dropout_rate', 'CCRI_points', 'promotion_rate', 'No_of_students_adv_placement_course', 'Students_with_Chronic_Absenteeism', 'crime_rate', 'total_students_bullied', 'personnel_federal_expenditure', 'personnel_state_and_local_expenditure', 'non_personnel_federal_expenditure', 'non_personnel_state_and_local_expenditure', 'total_per_pupil_expenditure', 'awards_and_recognitions', 'academic_offerings', 'sports_facilities', 'music_facilities', 'after_school_opportunities', 'other_facilities', 'student_services', 'acad_focus_1', 'acad_focus_2', 'acad_focus_3', 'acad_focus_4', 'acad_focus_5', ]]\n",
    "result"
   ],
   "metadata": {
    "collapsed": false,
    "ExecuteTime": {
     "end_time": "2024-03-07T22:38:25.195427Z",
     "start_time": "2024-03-07T22:38:25.141991Z"
    }
   },
   "id": "1348a5cbc5e7e309"
  },
  {
   "cell_type": "code",
   "execution_count": 33,
   "outputs": [],
   "source": [
    "result.to_csv('dataset_of_schools_in_phoenix_metropolitan.csv',index=False)\n"
   ],
   "metadata": {
    "collapsed": false,
    "ExecuteTime": {
     "end_time": "2024-03-07T22:38:26.401654Z",
     "start_time": "2024-03-07T22:38:26.387321Z"
    }
   },
   "id": "5528336fe8a09afb"
  },
  {
   "cell_type": "code",
   "execution_count": 35,
   "outputs": [
    {
     "data": {
      "text/plain": "Grad_Rate_pts\nFalse    165\nTrue      58\nName: count, dtype: int64"
     },
     "execution_count": 35,
     "metadata": {},
     "output_type": "execute_result"
    }
   ],
   "source": [
    "result[\"Grad_Rate_pts\"].isnull().value_counts()"
   ],
   "metadata": {
    "collapsed": false,
    "ExecuteTime": {
     "end_time": "2024-03-08T01:28:19.702315Z",
     "start_time": "2024-03-08T01:28:19.691154Z"
    }
   },
   "id": "dd094be7df109b1"
  },
  {
   "cell_type": "code",
   "execution_count": 4,
   "outputs": [
    {
     "data": {
      "text/plain": "school_grade\nFalse    209\nTrue      12\nName: count, dtype: int64"
     },
     "execution_count": 4,
     "metadata": {},
     "output_type": "execute_result"
    }
   ],
   "source": [
    "import pandas as pd\n",
    "df = pd.read_csv('dataset_of_schools_in_phoenix_metropolitan.csv')\n",
    "df.head()\n",
    "\n",
    "df['school_grade'].isnull().value_counts()"
   ],
   "metadata": {
    "collapsed": false,
    "ExecuteTime": {
     "end_time": "2024-03-10T20:11:02.757338Z",
     "start_time": "2024-03-10T20:11:01.746112Z"
    }
   },
   "id": "15b36b2e5f748683"
  },
  {
   "cell_type": "code",
   "execution_count": 5,
   "outputs": [
    {
     "name": "stderr",
     "output_type": "stream",
     "text": [
      "/var/folders/rd/0t81087x5czf3z64s284fdcw0000gn/T/ipykernel_57663/2813297388.py:1: FutureWarning: A value is trying to be set on a copy of a DataFrame or Series through chained assignment using an inplace method.\n",
      "The behavior will change in pandas 3.0. This inplace method will never work because the intermediate object on which we are setting values always behaves as a copy.\n",
      "\n",
      "For example, when doing 'df[col].method(value, inplace=True)', try using 'df.method({col: value}, inplace=True)' or df[col] = df[col].method(value) instead, to perform the operation inplace on the original object.\n",
      "\n",
      "\n",
      "  df['school_grade'].fillna('B', inplace=True)\n"
     ]
    },
    {
     "data": {
      "text/plain": "school_grade\nFalse    221\nName: count, dtype: int64"
     },
     "execution_count": 5,
     "metadata": {},
     "output_type": "execute_result"
    }
   ],
   "source": [
    "df['school_grade'].fillna('B', inplace=True)\n",
    "df['school_grade'].isnull().value_counts()\n",
    " "
   ],
   "metadata": {
    "collapsed": false,
    "ExecuteTime": {
     "end_time": "2024-03-10T20:11:07.924809Z",
     "start_time": "2024-03-10T20:11:07.909455Z"
    }
   },
   "id": "3153ec41a4400699"
  },
  {
   "cell_type": "code",
   "execution_count": 6,
   "outputs": [
    {
     "data": {
      "text/plain": "proficiency_pts\nFalse    206\nTrue      15\nName: count, dtype: int64"
     },
     "execution_count": 6,
     "metadata": {},
     "output_type": "execute_result"
    }
   ],
   "source": [
    "df['proficiency_pts'].isnull().value_counts()"
   ],
   "metadata": {
    "collapsed": false,
    "ExecuteTime": {
     "end_time": "2024-03-10T20:11:23.055731Z",
     "start_time": "2024-03-10T20:11:23.041570Z"
    }
   },
   "id": "3f8bea582f6928a7"
  },
  {
   "cell_type": "code",
   "execution_count": 7,
   "outputs": [
    {
     "name": "stderr",
     "output_type": "stream",
     "text": [
      "/var/folders/rd/0t81087x5czf3z64s284fdcw0000gn/T/ipykernel_57663/4013736679.py:2: FutureWarning: A value is trying to be set on a copy of a DataFrame or Series through chained assignment using an inplace method.\n",
      "The behavior will change in pandas 3.0. This inplace method will never work because the intermediate object on which we are setting values always behaves as a copy.\n",
      "\n",
      "For example, when doing 'df[col].method(value, inplace=True)', try using 'df.method({col: value}, inplace=True)' or df[col] = df[col].method(value) instead, to perform the operation inplace on the original object.\n",
      "\n",
      "\n",
      "  df['proficiency_pts'].fillna(proficiency_pts_mean, inplace=True)\n"
     ]
    },
    {
     "data": {
      "text/plain": "proficiency_pts\nFalse    221\nName: count, dtype: int64"
     },
     "execution_count": 7,
     "metadata": {},
     "output_type": "execute_result"
    }
   ],
   "source": [
    "proficiency_pts_mean = df['proficiency_pts'].mean().round(2)\n",
    "df['proficiency_pts'].fillna(proficiency_pts_mean, inplace=True)\n",
    "df['proficiency_pts'].isnull().value_counts()"
   ],
   "metadata": {
    "collapsed": false,
    "ExecuteTime": {
     "end_time": "2024-03-10T20:11:24.569380Z",
     "start_time": "2024-03-10T20:11:24.550350Z"
    }
   },
   "id": "fe1258b462846f7d"
  },
  {
   "cell_type": "code",
   "execution_count": 8,
   "outputs": [
    {
     "data": {
      "text/plain": "Grad_Rate_pts\nFalse    165\nTrue      56\nName: count, dtype: int64"
     },
     "execution_count": 8,
     "metadata": {},
     "output_type": "execute_result"
    }
   ],
   "source": [
    "\n",
    "df['Grad_Rate_pts'].isnull().value_counts()"
   ],
   "metadata": {
    "collapsed": false,
    "ExecuteTime": {
     "end_time": "2024-03-10T20:11:31.193303Z",
     "start_time": "2024-03-10T20:11:31.187676Z"
    }
   },
   "id": "e6050c9c42385d52"
  },
  {
   "cell_type": "code",
   "execution_count": 9,
   "outputs": [
    {
     "name": "stderr",
     "output_type": "stream",
     "text": [
      "/var/folders/rd/0t81087x5czf3z64s284fdcw0000gn/T/ipykernel_57663/1379915649.py:5: FutureWarning: A value is trying to be set on a copy of a DataFrame or Series through chained assignment using an inplace method.\n",
      "The behavior will change in pandas 3.0. This inplace method will never work because the intermediate object on which we are setting values always behaves as a copy.\n",
      "\n",
      "For example, when doing 'df[col].method(value, inplace=True)', try using 'df.method({col: value}, inplace=True)' or df[col] = df[col].method(value) instead, to perform the operation inplace on the original object.\n",
      "\n",
      "\n",
      "  df['Grad_Rate_pts'].fillna(mean_grad_rate_pts, inplace=True)\n",
      "/var/folders/rd/0t81087x5czf3z64s284fdcw0000gn/T/ipykernel_57663/1379915649.py:7: FutureWarning: A value is trying to be set on a copy of a DataFrame or Series through chained assignment using an inplace method.\n",
      "The behavior will change in pandas 3.0. This inplace method will never work because the intermediate object on which we are setting values always behaves as a copy.\n",
      "\n",
      "For example, when doing 'df[col].method(value, inplace=True)', try using 'df.method({col: value}, inplace=True)' or df[col] = df[col].method(value) instead, to perform the operation inplace on the original object.\n",
      "\n",
      "\n",
      "  df['Grad_Rate_pts'].fillna(0, inplace=True)\n"
     ]
    },
    {
     "data": {
      "text/plain": "Grad_Rate_pts\nFalse    221\nName: count, dtype: int64"
     },
     "execution_count": 9,
     "metadata": {},
     "output_type": "execute_result"
    }
   ],
   "source": [
    "mean_grad_rate_pts = round(df['Grad_Rate_pts'].mean(), 2)\n",
    "condition_12 = df['edu_range'].str.split('-').str[-1] == ' 12'\n",
    "for i in condition_12:\n",
    "    if(i == True):\n",
    "        df['Grad_Rate_pts'].fillna(mean_grad_rate_pts, inplace=True)\n",
    "    else:\n",
    "        df['Grad_Rate_pts'].fillna(0, inplace=True)\n",
    "df['Grad_Rate_pts'].isnull().value_counts()"
   ],
   "metadata": {
    "collapsed": false,
    "ExecuteTime": {
     "end_time": "2024-03-10T20:11:43.244232Z",
     "start_time": "2024-03-10T20:11:43.166861Z"
    }
   },
   "id": "8cf7ad5caf9157c0"
  },
  {
   "cell_type": "code",
   "execution_count": 0,
   "outputs": [],
   "source": [
    "df['Grad_Rate_pts'].value_counts()\n",
    "df['CCRI_points'].isnull().value_counts()\n",
    "mean_ccri_pts = round(df['CCRI_points'].mean(), 2)\n",
    "condition_12 = df['edu_range'].str.split('-').str[-1] == ' 12'\n",
    "for i in condition_12:\n",
    "    if(i == True):\n",
    "        df['CCRI_points'].fillna(mean_ccri_pts, inplace=True)\n",
    "    else:\n",
    "        df['CCRI_points'].fillna(0, inplace=True)"
   ],
   "metadata": {
    "collapsed": false
   },
   "id": "42140fc25985c6fa"
  },
  {
   "cell_type": "code",
   "execution_count": 11,
   "outputs": [
    {
     "data": {
      "text/plain": "CCRI_points\nFalse    221\nName: count, dtype: int64"
     },
     "execution_count": 11,
     "metadata": {},
     "output_type": "execute_result"
    }
   ],
   "source": [
    "df['CCRI_points'].isnull().value_counts()"
   ],
   "metadata": {
    "collapsed": false,
    "ExecuteTime": {
     "end_time": "2024-03-10T20:12:34.626410Z",
     "start_time": "2024-03-10T20:12:34.617694Z"
    }
   },
   "id": "100123fd4efcdfed"
  },
  {
   "cell_type": "code",
   "execution_count": 10,
   "outputs": [
    {
     "name": "stderr",
     "output_type": "stream",
     "text": [
      "/var/folders/rd/0t81087x5czf3z64s284fdcw0000gn/T/ipykernel_57663/2184214477.py:7: FutureWarning: A value is trying to be set on a copy of a DataFrame or Series through chained assignment using an inplace method.\n",
      "The behavior will change in pandas 3.0. This inplace method will never work because the intermediate object on which we are setting values always behaves as a copy.\n",
      "\n",
      "For example, when doing 'df[col].method(value, inplace=True)', try using 'df.method({col: value}, inplace=True)' or df[col] = df[col].method(value) instead, to perform the operation inplace on the original object.\n",
      "\n",
      "\n",
      "  df['CCRI_points'].fillna(mean_ccri_pts, inplace=True)\n",
      "/var/folders/rd/0t81087x5czf3z64s284fdcw0000gn/T/ipykernel_57663/2184214477.py:9: FutureWarning: A value is trying to be set on a copy of a DataFrame or Series through chained assignment using an inplace method.\n",
      "The behavior will change in pandas 3.0. This inplace method will never work because the intermediate object on which we are setting values always behaves as a copy.\n",
      "\n",
      "For example, when doing 'df[col].method(value, inplace=True)', try using 'df.method({col: value}, inplace=True)' or df[col] = df[col].method(value) instead, to perform the operation inplace on the original object.\n",
      "\n",
      "\n",
      "  df['CCRI_points'].fillna(0, inplace=True)\n"
     ]
    },
    {
     "data": {
      "text/plain": "CCRI_points\n20.1    51\n20.0    27\n35.0    19\n19.0     6\n16.0     5\n        ..\n17.6     1\n16.4     1\n31.8     1\n33.6     1\n17.8     1\nName: count, Length: 81, dtype: int64"
     },
     "execution_count": 10,
     "metadata": {},
     "output_type": "execute_result"
    }
   ],
   "source": [
    "df['CCRI_points'].value_counts()"
   ],
   "metadata": {
    "collapsed": false,
    "ExecuteTime": {
     "start_time": "2024-03-10T20:12:22.612446Z"
    }
   },
   "id": "befc10eeb45a0ad2"
  },
  {
   "cell_type": "code",
   "execution_count": 12,
   "outputs": [],
   "source": [
    "\n",
    "df.to_csv('dataset_of_schools_in_phoenix_metropolitan-1.csv', index=False)"
   ],
   "metadata": {
    "collapsed": false,
    "ExecuteTime": {
     "end_time": "2024-03-10T20:12:41.755234Z",
     "start_time": "2024-03-10T20:12:41.722509Z"
    }
   },
   "id": "babb2e0adbc1763b"
  },
  {
   "cell_type": "code",
   "execution_count": null,
   "outputs": [],
   "source": [],
   "metadata": {
    "collapsed": false
   },
   "id": "f05d062810301d2e"
  }
 ],
 "metadata": {
  "kernelspec": {
   "display_name": "Python 3",
   "language": "python",
   "name": "python3"
  },
  "language_info": {
   "codemirror_mode": {
    "name": "ipython",
    "version": 2
   },
   "file_extension": ".py",
   "mimetype": "text/x-python",
   "name": "python",
   "nbconvert_exporter": "python",
   "pygments_lexer": "ipython2",
   "version": "2.7.6"
  }
 },
 "nbformat": 4,
 "nbformat_minor": 5
}
