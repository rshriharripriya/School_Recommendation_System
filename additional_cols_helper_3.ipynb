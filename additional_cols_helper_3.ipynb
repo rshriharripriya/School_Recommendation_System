{
 "cells": [
  {
   "cell_type": "markdown",
   "id": "163e07b7414e0750",
   "metadata": {
    "collapsed": false
   },
   "source": [
    "# Project step 2 - collecting basic data\n"
   ]
  },
  {
   "cell_type": "code",
   "execution_count": 410,
   "outputs": [],
   "source": [
    "link_of_schools =['https://azreportcards.azed.gov//schools/detail/10795', 'https://azreportcards.azed.gov//schools/detail/5462', 'https://azreportcards.azed.gov//schools/detail/5454', 'https://azreportcards.azed.gov//schools/detail/5436', 'https://azreportcards.azed.gov//schools/detail/5431', 'https://azreportcards.azed.gov//schools/detail/5066', 'https://azreportcards.azed.gov//schools/detail/90780', 'https://azreportcards.azed.gov//schools/detail/79454', 'https://azreportcards.azed.gov//schools/detail/90907', 'https://azreportcards.azed.gov//schools/detail/81179', 'https://azreportcards.azed.gov//schools/detail/79982', 'https://azreportcards.azed.gov//schools/detail/91830', 'https://azreportcards.azed.gov//schools/detail/79702', 'https://azreportcards.azed.gov//schools/detail/79705', 'https://azreportcards.azed.gov//schools/detail/5162', 'https://azreportcards.azed.gov//schools/detail/79633', 'https://azreportcards.azed.gov//schools/detail/92270', 'https://azreportcards.azed.gov//schools/detail/89571', 'https://azreportcards.azed.gov//schools/detail/5125', 'https://azreportcards.azed.gov//schools/detail/6249', 'https://azreportcards.azed.gov//schools/detail/85850', 'https://azreportcards.azed.gov//schools/detail/5424', 'https://azreportcards.azed.gov//schools/detail/5014', 'https://azreportcards.azed.gov//schools/detail/5137', 'https://azreportcards.azed.gov//schools/detail/5438', 'https://azreportcards.azed.gov//schools/detail/90124', 'https://azreportcards.azed.gov//schools/detail/5440', 'https://azreportcards.azed.gov//schools/detail/5016', 'https://azreportcards.azed.gov//schools/detail/5439', 'https://azreportcards.azed.gov//schools/detail/78847', 'https://azreportcards.azed.gov//schools/detail/5127', 'https://azreportcards.azed.gov//schools/detail/91282', 'https://azreportcards.azed.gov//schools/detail/5069',  'https://azreportcards.azed.gov//schools/detail/92259', 'https://azreportcards.azed.gov//schools/detail/85810', 'https://azreportcards.azed.gov//schools/detail/79099', 'https://azreportcards.azed.gov//schools/detail/5447', 'https://azreportcards.azed.gov//schools/detail/5067', 'https://azreportcards.azed.gov//schools/detail/5429', 'https://azreportcards.azed.gov//schools/detail/79102', 'https://azreportcards.azed.gov//schools/detail/78813', 'https://azreportcards.azed.gov//schools/detail/79476', 'https://azreportcards.azed.gov//schools/detail/79506', 'https://azreportcards.azed.gov//schools/detail/5161', 'https://azreportcards.azed.gov//schools/detail/5142', 'https://azreportcards.azed.gov//schools/detail/79799', 'https://azreportcards.azed.gov//schools/detail/5250', 'https://azreportcards.azed.gov//schools/detail/78901', 'https://azreportcards.azed.gov//schools/detail/79958', 'https://azreportcards.azed.gov//schools/detail/5070', 'https://azreportcards.azed.gov//schools/detail/5449', 'https://azreportcards.azed.gov//schools/detail/4983', 'https://azreportcards.azed.gov//schools/detail/92892', 'https://azreportcards.azed.gov//schools/detail/5133', 'https://azreportcards.azed.gov//schools/detail/4967', 'https://azreportcards.azed.gov//schools/detail/78932', 'https://azreportcards.azed.gov//schools/detail/87350', 'https://azreportcards.azed.gov//schools/detail/79376', 'https://azreportcards.azed.gov//schools/detail/78900', 'https://azreportcards.azed.gov//schools/detail/5167', 'https://azreportcards.azed.gov//schools/detail/90303', 'https://azreportcards.azed.gov//schools/detail/89778', 'https://azreportcards.azed.gov//schools/detail/4971', 'https://azreportcards.azed.gov//schools/detail/5480', 'https://azreportcards.azed.gov//schools/detail/5019', 'https://azreportcards.azed.gov//schools/detail/5039', 'https://azreportcards.azed.gov//schools/detail/5466', 'https://azreportcards.azed.gov//schools/detail/5426', 'https://azreportcards.azed.gov//schools/detail/92246', 'https://azreportcards.azed.gov//schools/detail/90635', 'https://azreportcards.azed.gov//schools/detail/90999', 'https://azreportcards.azed.gov//schools/detail/91000', 'https://azreportcards.azed.gov//schools/detail/89487', 'https://azreportcards.azed.gov//schools/detail/88300', 'https://azreportcards.azed.gov//schools/detail/92317', 'https://azreportcards.azed.gov//schools/detail/89830', 'https://azreportcards.azed.gov//schools/detail/92732', 'https://azreportcards.azed.gov//schools/detail/91422', 'https://azreportcards.azed.gov//schools/detail/89757', 'https://azreportcards.azed.gov//schools/detail/91156', 'https://azreportcards.azed.gov//schools/detail/80994', 'https://azreportcards.azed.gov//schools/detail/5022', 'https://azreportcards.azed.gov//schools/detail/5433', 'https://azreportcards.azed.gov//schools/detail/5101', 'https://azreportcards.azed.gov//schools/detail/6015', 'https://azreportcards.azed.gov//schools/detail/5509', 'https://azreportcards.azed.gov//schools/detail/92521', 'https://azreportcards.azed.gov//schools/detail/5040', 'https://azreportcards.azed.gov//schools/detail/6006', 'https://azreportcards.azed.gov//schools/detail/79374', 'https://azreportcards.azed.gov//schools/detail/5155', 'https://azreportcards.azed.gov//schools/detail/81042', 'https://azreportcards.azed.gov//schools/detail/81182', 'https://azreportcards.azed.gov//schools/detail/5106',  'https://azreportcards.azed.gov//schools/detail/89791', 'https://azreportcards.azed.gov//schools/detail/5434', 'https://azreportcards.azed.gov//schools/detail/79952', 'https://azreportcards.azed.gov//schools/detail/5530', 'https://azreportcards.azed.gov//schools/detail/10746', 'https://azreportcards.azed.gov//schools/detail/90208', 'https://azreportcards.azed.gov//schools/detail/88232', 'https://azreportcards.azed.gov//schools/detail/79042', 'https://azreportcards.azed.gov//schools/detail/5015', 'https://azreportcards.azed.gov//schools/detail/79113', 'https://azreportcards.azed.gov//schools/detail/92636', 'https://azreportcards.azed.gov//schools/detail/10884', 'https://azreportcards.azed.gov//schools/detail/4970', 'https://azreportcards.azed.gov//schools/detail/80051', 'https://azreportcards.azed.gov//schools/detail/87416', 'https://azreportcards.azed.gov//schools/detail/81102', 'https://azreportcards.azed.gov//schools/detail/88289', 'https://azreportcards.azed.gov//schools/detail/92605', 'https://azreportcards.azed.gov//schools/detail/5446', 'https://azreportcards.azed.gov//schools/detail/5441', 'https://azreportcards.azed.gov//schools/detail/5445', 'https://azreportcards.azed.gov//schools/detail/89593', 'https://azreportcards.azed.gov//schools/detail/78930', 'https://azreportcards.azed.gov//schools/detail/4980', 'https://azreportcards.azed.gov//schools/detail/6007', 'https://azreportcards.azed.gov//schools/detail/5021', 'https://azreportcards.azed.gov//schools/detail/6248', 'https://azreportcards.azed.gov//schools/detail/10847', 'https://azreportcards.azed.gov//schools/detail/80385', 'https://azreportcards.azed.gov//schools/detail/78926', 'https://azreportcards.azed.gov//schools/detail/5430', 'https://azreportcards.azed.gov//schools/detail/5448', 'https://azreportcards.azed.gov//schools/detail/5163', 'https://azreportcards.azed.gov//schools/detail/5259', 'https://azreportcards.azed.gov//schools/detail/79729', 'https://azreportcards.azed.gov//schools/detail/5482', 'https://azreportcards.azed.gov//schools/detail/78883', 'https://azreportcards.azed.gov//schools/detail/5107', 'https://azreportcards.azed.gov//schools/detail/5442', 'https://azreportcards.azed.gov//schools/detail/79456', 'https://azreportcards.azed.gov//schools/detail/91825', 'https://azreportcards.azed.gov//schools/detail/5493', 'https://azreportcards.azed.gov//schools/detail/89440', 'https://azreportcards.azed.gov//schools/detail/78814', 'https://azreportcards.azed.gov//schools/detail/79174', 'https://azreportcards.azed.gov//schools/detail/80026', 'https://azreportcards.azed.gov//schools/detail/10737', 'https://azreportcards.azed.gov//schools/detail/5280', 'https://azreportcards.azed.gov//schools/detail/5263', 'https://azreportcards.azed.gov//schools/detail/79579', 'https://azreportcards.azed.gov//schools/detail/89828', 'https://azreportcards.azed.gov//schools/detail/5105', 'https://azreportcards.azed.gov//schools/detail/89918', 'https://azreportcards.azed.gov//schools/detail/78817', 'https://azreportcards.azed.gov//schools/detail/6231', 'https://azreportcards.azed.gov//schools/detail/5013', 'https://azreportcards.azed.gov//schools/detail/89613', 'https://azreportcards.azed.gov//schools/detail/81175', 'https://azreportcards.azed.gov//schools/detail/88407', 'https://azreportcards.azed.gov//schools/detail/91213', 'https://azreportcards.azed.gov//schools/detail/79621', 'https://azreportcards.azed.gov//schools/detail/79268',  'https://azreportcards.azed.gov//schools/detail/4973', 'https://azreportcards.azed.gov//schools/detail/80006', 'https://azreportcards.azed.gov//schools/detail/79570', 'https://azreportcards.azed.gov//schools/detail/81178', 'https://azreportcards.azed.gov//schools/detail/5141', 'https://azreportcards.azed.gov//schools/detail/92628', 'https://azreportcards.azed.gov//schools/detail/85835', 'https://azreportcards.azed.gov//schools/detail/4984', 'https://azreportcards.azed.gov//schools/detail/4974', 'https://azreportcards.azed.gov//schools/detail/5071', 'https://azreportcards.azed.gov//schools/detail/5068', 'https://azreportcards.azed.gov//schools/detail/90159', 'https://azreportcards.azed.gov//schools/detail/89799', 'https://azreportcards.azed.gov//schools/detail/80317', 'https://azreportcards.azed.gov//schools/detail/79634', 'https://azreportcards.azed.gov//schools/detail/91286', 'https://azreportcards.azed.gov//schools/detail/5500', 'https://azreportcards.azed.gov//schools/detail/10849', 'https://azreportcards.azed.gov//schools/detail/5108', 'https://azreportcards.azed.gov//schools/detail/90134', 'https://azreportcards.azed.gov//schools/detail/5104', 'https://azreportcards.azed.gov//schools/detail/4977', 'https://azreportcards.azed.gov//schools/detail/89908', 'https://azreportcards.azed.gov//schools/detail/78917', 'https://azreportcards.azed.gov//schools/detail/79092', 'https://azreportcards.azed.gov//schools/detail/6350', 'https://azreportcards.azed.gov//schools/detail/79489', 'https://azreportcards.azed.gov//schools/detail/80974', 'https://azreportcards.azed.gov//schools/detail/90639', 'https://azreportcards.azed.gov//schools/detail/78911', 'https://azreportcards.azed.gov//schools/detail/92260', 'https://azreportcards.azed.gov//schools/detail/5443', 'https://azreportcards.azed.gov//schools/detail/80990', 'https://azreportcards.azed.gov//schools/detail/88335', 'https://azreportcards.azed.gov//schools/detail/92044', 'https://azreportcards.azed.gov//schools/detail/4979', 'https://azreportcards.azed.gov//schools/detail/6347', 'https://azreportcards.azed.gov//schools/detail/92645', 'https://azreportcards.azed.gov//schools/detail/5427', 'https://azreportcards.azed.gov//schools/detail/5103', 'https://azreportcards.azed.gov//schools/detail/5017', 'https://azreportcards.azed.gov//schools/detail/92611', 'https://azreportcards.azed.gov//schools/detail/4975', 'https://azreportcards.azed.gov//schools/detail/5444', 'https://azreportcards.azed.gov//schools/detail/5549', 'https://azreportcards.azed.gov//schools/detail/5432', 'https://azreportcards.azed.gov//schools/detail/5452', 'https://azreportcards.azed.gov//schools/detail/85819', 'https://azreportcards.azed.gov//schools/detail/5437', 'https://azreportcards.azed.gov//schools/detail/79111', 'https://azreportcards.azed.gov//schools/detail/88417', 'https://azreportcards.azed.gov//schools/detail/87903', 'https://azreportcards.azed.gov//schools/detail/79177', 'https://azreportcards.azed.gov//schools/detail/92525', 'https://azreportcards.azed.gov//schools/detail/5100', 'https://azreportcards.azed.gov//schools/detail/5428', 'https://azreportcards.azed.gov//schools/detail/6348', 'https://azreportcards.azed.gov//schools/detail/92619', 'https://azreportcards.azed.gov//schools/detail/10801', 'https://azreportcards.azed.gov//schools/detail/5453', 'https://azreportcards.azed.gov//schools/detail/4981', 'https://azreportcards.azed.gov//schools/detail/4987', 'https://azreportcards.azed.gov//schools/detail/91264', 'https://azreportcards.azed.gov//schools/detail/89581', 'https://azreportcards.azed.gov//schools/detail/5110', 'https://azreportcards.azed.gov//schools/detail/81113', 'https://azreportcards.azed.gov//schools/detail/89573']\n"
   ],
   "metadata": {
    "collapsed": false,
    "ExecuteTime": {
     "end_time": "2024-03-07T22:34:07.661702Z",
     "start_time": "2024-03-07T22:34:07.654149Z"
    }
   },
   "id": "e03568307a047165"
  },
  {
   "cell_type": "code",
   "execution_count": 411,
   "outputs": [
    {
     "data": {
      "text/plain": "223"
     },
     "execution_count": 411,
     "metadata": {},
     "output_type": "execute_result"
    }
   ],
   "source": [
    "len(link_of_schools)"
   ],
   "metadata": {
    "collapsed": false,
    "ExecuteTime": {
     "end_time": "2024-03-07T22:34:13.534043Z",
     "start_time": "2024-03-07T22:34:13.490889Z"
    }
   },
   "id": "e8e9d3849ae5d9e5"
  },
  {
   "cell_type": "code",
   "execution_count": 437,
   "outputs": [
    {
     "name": "stdout",
     "output_type": "stream",
     "text": [
      "https://azreportcards.azed.gov//schools/detail/79476\n"
     ]
    }
   ],
   "source": [
    "# for i in link_of_schools[15]:\n",
    "#     url = i\n",
    "print (link_of_schools[41])"
   ],
   "metadata": {
    "collapsed": false,
    "ExecuteTime": {
     "end_time": "2024-03-08T02:01:08.751628Z",
     "start_time": "2024-03-08T02:01:08.749779Z"
    }
   },
   "id": "421339ed9fe0aece"
  },
  {
   "cell_type": "code",
   "execution_count": 416,
   "outputs": [],
   "source": [
    "from selenium import webdriver \n",
    "from selenium.webdriver.common.by import By \n",
    "import pandas as pd\n",
    "from selenium.common.exceptions import NoSuchElementException\n",
    "\n",
    "options = webdriver.EdgeOptions()\n",
    "\n",
    "options.add_argument('--headless')\n",
    "# run browser in headless mode \n",
    "options.headless = True \n",
    "\n",
    "driver = webdriver.Edge(options=options) \n",
    "# load website \n",
    "url = link_of_schools[15]\n",
    " \n",
    "# get the entire website content \n",
    "driver.get(url) \n",
    "driver.implicitly_wait(7)\n",
    "# select elements by class name \n",
    "\n",
    "\n",
    "# elements = driver.find_elements(By.CLASS_NAME, 'v-table__overflow') \n",
    "# elements = driver.find_elements_by_xpath(\"(//*[@class='v-table__overflow'])[1]\")"
   ],
   "metadata": {
    "collapsed": false,
    "ExecuteTime": {
     "end_time": "2024-03-08T01:50:50.054989Z",
     "start_time": "2024-03-08T01:50:33.037258Z"
    }
   },
   "id": "1ae753e768c6cf76"
  },
  {
   "cell_type": "code",
   "execution_count": 417,
   "outputs": [],
   "source": [
    "def validator(value):\n",
    "        if value == \" \" or value == \"\" or str(value).strip() == \"N/A\" or str(value).strip() == \"\" or str(value).strip() == \"No data available\" or str(value).strip() == \"Declined to Answer\":\n",
    "            value = None  \n",
    "            \n",
    "        elif value == \"*\":\n",
    "            value = \"<10\"\n",
    "            \n",
    "        return value "
   ],
   "metadata": {
    "collapsed": false,
    "ExecuteTime": {
     "end_time": "2024-03-08T01:50:50.060041Z",
     "start_time": "2024-03-08T01:50:50.003895Z"
    }
   },
   "id": "e49da95720c490fc"
  },
  {
   "cell_type": "code",
   "execution_count": 418,
   "outputs": [],
   "source": [
    "african_american = None \n",
    "asian  = None \n",
    "hispanic  = None \n",
    "native_american  = None \n",
    "white = None \n",
    "pacific_islander = None \n",
    "multiple_race = None \n",
    "african_american_percent = None\n",
    "asian_percent = None\n",
    "hispanic_percent = None\n",
    "native_american_percent = None\n",
    "white_percent = None\n",
    "pacific_islander_percent = None\n",
    "multiple_race_percent = None"
   ],
   "metadata": {
    "collapsed": false,
    "ExecuteTime": {
     "end_time": "2024-03-08T01:50:50.079205Z",
     "start_time": "2024-03-08T01:50:50.039467Z"
    }
   },
   "id": "5204ef16f22c314e"
  },
  {
   "cell_type": "code",
   "execution_count": 419,
   "outputs": [
    {
     "name": "stdout",
     "output_type": "stream",
     "text": [
      "Basha High School\n"
     ]
    }
   ],
   "source": [
    "school_name = validator(driver.find_element(By.XPATH,'//*[@id=\"school-overview\"]/div[2]/div[4]/div[1]/div').text)\n",
    "print(school_name)"
   ],
   "metadata": {
    "collapsed": false,
    "ExecuteTime": {
     "end_time": "2024-03-08T01:50:53.885658Z",
     "start_time": "2024-03-08T01:50:50.072639Z"
    }
   },
   "id": "ac41a06dfdd6160e"
  },
  {
   "cell_type": "code",
   "execution_count": 420,
   "outputs": [
    {
     "name": "stdout",
     "output_type": "stream",
     "text": [
      "Preschool - 12\n"
     ]
    }
   ],
   "source": [
    "edu_range = validator(driver.find_element(By.XPATH,'//*[@id=\"school-info\"]/div[3]/div[1]/div[1]/div/div[2]/div/div/div[1]/div[3]').text)\n",
    "edu_range = edu_range.replace(\"Grade \", \"\")\n",
    "print(edu_range)"
   ],
   "metadata": {
    "collapsed": false,
    "ExecuteTime": {
     "end_time": "2024-03-08T01:50:53.889075Z",
     "start_time": "2024-03-08T01:50:53.766051Z"
    }
   },
   "id": "4e0cf3e28768e4f8"
  },
  {
   "cell_type": "code",
   "execution_count": 421,
   "outputs": [
    {
     "name": "stdout",
     "output_type": "stream",
     "text": [
      "Basha High School Preschool - 12 A\n"
     ]
    }
   ],
   "source": [
    "school_grade = validator(driver.find_element(By.XPATH,'//*[@id=\"school-info\"]/div[3]/div[1]/div[1]/div/div[2]/div/div/div[6]/div[2]/div[2]/button/div/span').text)\n",
    "print(school_name,edu_range,school_grade)"
   ],
   "metadata": {
    "collapsed": false,
    "ExecuteTime": {
     "end_time": "2024-03-08T01:50:53.890836Z",
     "start_time": "2024-03-08T01:50:53.820008Z"
    }
   },
   "id": "47f4ce1bb42df033"
  },
  {
   "cell_type": "code",
   "execution_count": 422,
   "outputs": [
    {
     "name": "stdout",
     "output_type": "stream",
     "text": [
      "Basha High School Preschool - 12 A No\n"
     ]
    }
   ],
   "source": [
    "title_i_status = validator(driver.find_element(By.XPATH,'//*[@id=\"school-info\"]/div[3]/div[1]/div[1]/div/div[2]/div/div/div[4]/div[3]').text)\n",
    "print(school_name,edu_range,school_grade,title_i_status)\n"
   ],
   "metadata": {
    "collapsed": false,
    "ExecuteTime": {
     "end_time": "2024-03-08T01:50:53.919143Z",
     "start_time": "2024-03-08T01:50:53.851719Z"
    }
   },
   "id": "3531bd4df27afd3b"
  },
  {
   "cell_type": "code",
   "execution_count": 423,
   "outputs": [
    {
     "name": "stdout",
     "output_type": "stream",
     "text": [
      "2797\n"
     ]
    }
   ],
   "source": [
    "data_btn  = driver.find_element(By.XPATH,'//*[@id=\"enrollment\"]/div[1]/div/div[2]/div/div[1]/div/button[3]')\n",
    "driver.execute_script(\"arguments[0].click();\", data_btn)\n",
    "total_students = validator(driver.find_element(By.XPATH,'//*[@id=\"enrollment\"]/div[1]/div/div[3]/div/div/div[3]/div/div/div/div/table/tbody/tr[1]/td[2]').text)\n",
    "print(total_students)"
   ],
   "metadata": {
    "collapsed": false,
    "ExecuteTime": {
     "end_time": "2024-03-08T01:50:56.958287Z",
     "start_time": "2024-03-08T01:50:53.888796Z"
    }
   },
   "id": "44aafc8a007f649c"
  },
  {
   "cell_type": "code",
   "execution_count": 424,
   "outputs": [],
   "source": [
    "race_table = driver.find_element(By.XPATH,'//*[@id=\"enrollment\"]/div[1]/div/div[3]/div/div/div[3]').text\n",
    "for i in race_table.split('\\n'):\n",
    "    i = i.split(\" \")\n",
    "    if i[0] == \"African\":\n",
    "        african_american = validator(i[2])\n",
    "        african_american_percent = validator(i[3])\n",
    "    elif i[0] == \"Hispanic\":\n",
    "        hispanic = validator(i[1])\n",
    "        hispanic_percent = validator(i[2])\n",
    "    elif i[0] == \"Native\":\n",
    "        native_american = validator(i[2])\n",
    "        native_american_percent = validator(i[3])\n",
    "    elif i[0] == \"White\":\n",
    "        white = validator(i[1])\n",
    "        white_percent = validator(i[2])\n",
    "    elif i[0] == \"Multiple\":\n",
    "        multiple_race = validator(i[2])\n",
    "        multiple_race_percent = validator(i[3])\n",
    "    elif i[0] == \"Asian\":\n",
    "        asian = validator(i[1])\n",
    "        asian_percent = validator(i[2])\n",
    "    elif i[0] == \"Pacific\":\n",
    "        pacific_islander = validator(i[2])\n",
    "        pacific_islander_percent = validator(i[3])\n",
    "    \n",
    "\n"
   ],
   "metadata": {
    "collapsed": false,
    "ExecuteTime": {
     "end_time": "2024-03-08T01:50:57.155365Z",
     "start_time": "2024-03-08T01:50:56.971688Z"
    }
   },
   "id": "2d1456428415d1d9"
  },
  {
   "cell_type": "code",
   "execution_count": 425,
   "outputs": [
    {
     "name": "stdout",
     "output_type": "stream",
     "text": [
      "133 4.75\n",
      "489 17.48\n",
      "<10 <10\n",
      "1675 59.89\n",
      "144 5.15\n",
      "307 10.98\n",
      "<10 <10\n"
     ]
    }
   ],
   "source": [
    "print(african_american,african_american_percent)\n",
    "print(hispanic,hispanic_percent)\n",
    "print(native_american,native_american_percent)\n",
    "print(white,white_percent)\n",
    "print(multiple_race,multiple_race_percent)\n",
    "print(asian,asian_percent)\n",
    "print(pacific_islander,pacific_islander_percent)\n"
   ],
   "metadata": {
    "collapsed": false,
    "ExecuteTime": {
     "end_time": "2024-03-08T01:50:57.156067Z",
     "start_time": "2024-03-08T01:50:57.065297Z"
    }
   },
   "id": "ef6ebe136cbc87b"
  },
  {
   "cell_type": "code",
   "execution_count": 426,
   "outputs": [
    {
     "name": "stdout",
     "output_type": "stream",
     "text": [
      "30\n"
     ]
    }
   ],
   "source": [
    "try:\n",
    "    proficiency_pts  = validator(driver.find_element(By.XPATH,'//*[@id=\"assessmentResults\"]/div[1]/div/div[5]/div/div/div[4]/div[2]/div/div/div/div/table/tbody/tr/td[2]').text)\n",
    "except NoSuchElementException:\n",
    "    proficiency_pts = None\n",
    "print(proficiency_pts)\n",
    "\n",
    "\n"
   ],
   "metadata": {
    "collapsed": false,
    "ExecuteTime": {
     "end_time": "2024-03-08T01:50:57.156783Z",
     "start_time": "2024-03-08T01:50:57.074347Z"
    }
   },
   "id": "c2b240a8f7bd95ee"
  },
  {
   "cell_type": "code",
   "execution_count": 427,
   "outputs": [
    {
     "name": "stdout",
     "output_type": "stream",
     "text": [
      "10\n"
     ]
    }
   ],
   "source": [
    "try:\n",
    "    Grad_Rate_pts  = validator(driver.find_element(By.XPATH,'//*[@id=\"entitygraduationrate\"]/div[1]/div/div[3]/div/div[3]/div/div/div/table/tbody/tr/td[2]').text)\n",
    "except NoSuchElementException:\n",
    "    Grad_Rate_pts = None\n",
    "print(Grad_Rate_pts )\n"
   ],
   "metadata": {
    "collapsed": false,
    "ExecuteTime": {
     "end_time": "2024-03-08T01:50:57.191078Z",
     "start_time": "2024-03-08T01:50:57.119370Z"
    }
   },
   "id": "3a0a7c96fce3d139"
  },
  {
   "cell_type": "code",
   "execution_count": 428,
   "outputs": [
    {
     "name": "stdout",
     "output_type": "stream",
     "text": [
      "1.53\n"
     ]
    }
   ],
   "source": [
    "try:\n",
    "    data_btn  = driver.find_element(By.XPATH,'//*[@id=\"entitydropoutrate\"]/div[1]/div/div[2]/div/button[3]')\n",
    "    driver.execute_script(\"arguments[0].click();\", data_btn)\n",
    "    Dropout_rate = validator(driver.find_element(By.XPATH,'//*[@id=\"entitydropoutrate\"]/div[1]/div/div[3]/div/div[1]/div/div/div/div/div/table/tbody/tr[1]/td[2]').text) \n",
    "\n",
    "except NoSuchElementException:\n",
    "    Dropout_rate = None\n",
    "print(Dropout_rate)   "
   ],
   "metadata": {
    "collapsed": false,
    "ExecuteTime": {
     "end_time": "2024-03-08T01:50:57.489381Z",
     "start_time": "2024-03-08T01:50:57.153818Z"
    }
   },
   "id": "418c4f4da33fb95e"
  },
  {
   "cell_type": "code",
   "execution_count": 429,
   "outputs": [
    {
     "name": "stdout",
     "output_type": "stream",
     "text": [
      "17.1\n"
     ]
    }
   ],
   "source": [
    "try:\n",
    "    CCRI_points = validator(driver.find_element(By.XPATH,'//*[@id=\"ccripoints\"]/div/div/div[2]/div/div/table/tbody/tr/td[2]').text)\n",
    "except NoSuchElementException:\n",
    "    CCRI_points = None\n",
    "print(CCRI_points)"
   ],
   "metadata": {
    "collapsed": false,
    "ExecuteTime": {
     "end_time": "2024-03-08T01:50:57.491057Z",
     "start_time": "2024-03-08T01:50:57.349159Z"
    }
   },
   "id": "eb69a19ba211ab31"
  },
  {
   "cell_type": "code",
   "execution_count": 430,
   "outputs": [
    {
     "name": "stdout",
     "output_type": "stream",
     "text": [
      "98.59\n"
     ]
    }
   ],
   "source": [
    "\n",
    "data_btn  = driver.find_element(By.XPATH,'//*[@id=\"entityendofyearpromotion\"]/div[1]/div/div[3]/div/button[2]')\n",
    "driver.execute_script(\"arguments[0].click();\", data_btn)\n",
    "promotion_rate = validator(driver.find_element(By.XPATH,'//*[@id=\"entityendofyearpromotion\"]/div[1]/div/div[4]/div/div[1]/div/div/div/div/div/table/tbody/tr[1]/td[2]').text )\n",
    "print(promotion_rate)\n"
   ],
   "metadata": {
    "collapsed": false,
    "ExecuteTime": {
     "end_time": "2024-03-08T01:50:57.653263Z",
     "start_time": "2024-03-08T01:50:57.414661Z"
    }
   },
   "id": "4e6967bcf1060b26"
  },
  {
   "cell_type": "code",
   "execution_count": 431,
   "outputs": [
    {
     "name": "stdout",
     "output_type": "stream",
     "text": [
      "901\n",
      "1\n",
      "24\n",
      "712\n"
     ]
    }
   ],
   "source": [
    "try:\n",
    "    No_of_students_adv_placement_course = validator(driver.find_element(By.XPATH,'//*[@id=\"civil-rights\"]/div/div[1]/div[2]/div/div[1]/div[2]/div/div/table/tbody/tr[1]/td[2]/div').text )\n",
    "    \n",
    "    Students_with_Chronic_Absenteeism = validator(driver.find_element(By.XPATH,'//*[@id=\"civil-rights\"]/div/div[1]/div[2]/div/div[1]/div[2]/div/div/table/tbody/tr[2]/td[2]/div').text)    \n",
    "    \n",
    "    crime_rate = validator(driver.find_element(By.XPATH,'//*[@id=\"civil-rights\"]/div/div[1]/div[2]/div/div[1]/div[2]/div/div/table/tbody/tr[3]/td[2]/div').text )\n",
    "\n",
    "    total_students_bullied = validator(driver.find_element(By.XPATH,'//*[@id=\"civil-rights\"]/div/div[1]/div[2]/div/div[1]/div[2]/div/div/table/tbody/tr[4]/td[2]/div').text )\n",
    "\n",
    "except NoSuchElementException:\n",
    "    No_of_students_adv_placement_course = None\n",
    "    Students_with_Chronic_Absenteeism = None\n",
    "    crime_rate = None\n",
    "    total_students_bullied = None\n",
    "    \n",
    "print(No_of_students_adv_placement_course)\n",
    "print(total_students_bullied)\n",
    "print(crime_rate)\n",
    "print(Students_with_Chronic_Absenteeism)"
   ],
   "metadata": {
    "collapsed": false,
    "ExecuteTime": {
     "end_time": "2024-03-08T01:50:57.671383Z",
     "start_time": "2024-03-08T01:50:57.504477Z"
    }
   },
   "id": "f0493f9c1382e857"
  },
  {
   "cell_type": "code",
   "execution_count": 432,
   "outputs": [
    {
     "name": "stdout",
     "output_type": "stream",
     "text": [
      "$ 288.18\n",
      "$ 6,404.09\n",
      "$ 80.45\n",
      "$ 767.83\n",
      "$ 7,540.56\n"
     ]
    }
   ],
   "source": [
    "try:\n",
    "    personnel_federal_expenditure  = validator(validator(driver.find_element(By.XPATH,'//*[@id=\"Per-Pupil-Expenditure\"]/div[2]/div[4]/div[2]/div/div/div/div/div/div/table/tbody/tr/td[1]').text))\n",
    "    \n",
    "    print(personnel_federal_expenditure)\n",
    "    \n",
    "    personnel_state_and_local_expenditure  = validator(validator(driver.find_element(By.XPATH,'//*[@id=\"Per-Pupil-Expenditure\"]/div[2]/div[4]/div[2]/div/div/div/div/div/div/table/tbody/tr/td[2]').text))\n",
    "    \n",
    "    print(personnel_state_and_local_expenditure)\n",
    "    \n",
    "    non_personnel_federal_expenditure  = validator(validator(driver.find_element(By.XPATH,'//*[@id=\"Per-Pupil-Expenditure\"]/div[2]/div[4]/div[2]/div/div/div/div/div/div/table/tbody/tr/td[3]').text))\n",
    "    \n",
    "    print(non_personnel_federal_expenditure)\n",
    "    \n",
    "    non_personnel_state_and_local_expenditure   = validator(validator(driver.find_element(By.XPATH,'//*[@id=\"Per-Pupil-Expenditure\"]/div[2]/div[4]/div[2]/div/div/div/div/div/div/table/tbody/tr/td[4]').text))\n",
    "    \n",
    "    print(non_personnel_state_and_local_expenditure)\n",
    "    \n",
    "    total_per_pupil_expenditure  = validator(validator(driver.find_element(By.XPATH,'//*[@id=\"Per-Pupil-Expenditure\"]/div[2]/div[4]/div[2]/div/div/div/div/div/div/table/tbody/tr/td[5]').text))\n",
    "    \n",
    "    print(total_per_pupil_expenditure)\n",
    "except NoSuchElementException:\n",
    "    personnel_federal_expenditure = None\n",
    "    personnel_state_and_local_expenditure = None\n",
    "    non_personnel_federal_expenditure = None \n",
    "    non_personnel_state_and_local_expenditure = None \n",
    "    total_per_pupil_expenditure  = None\n",
    "\n"
   ],
   "metadata": {
    "collapsed": false,
    "ExecuteTime": {
     "end_time": "2024-03-08T01:50:57.804107Z",
     "start_time": "2024-03-08T01:50:57.653722Z"
    }
   },
   "id": "827a63f2ec5caac7"
  },
  {
   "cell_type": "code",
   "execution_count": 433,
   "outputs": [
    {
     "name": "stdout",
     "output_type": "stream",
     "text": [
      "['A+ School of Excellence', \"Rated one of Arizona's Best High School (US News and World Report)\", 'Basha AMS Ranked #1 Middle School based on AzM2 Data (Schooldigger.com)', 'First Ever Arizona Girls Wrestling State Champions 2020', 'AIA Open Division Football State Champions', '1st CUSD Girls Volleyball AIA State Champions 2019', '5 National Merit Semifinalists', 'Accelerated Middle School was Academic Pentathlon National Champions', '6 National Board Certified Teachers on Campus', 'Forbes ranks CUSD 2021 Best Employer in State - https://www.forbes.com/best-employers-by-state/#7d64f06c487a']\n"
     ]
    }
   ],
   "source": [
    "\n",
    "data_btn  = driver.find_element(By.XPATH,'//*[@id=\"edorg-characteristics\"]/div/div[2]/div/div[2]/div/div[1]/div[1]/article/div/div[1]/div[3]/i')\n",
    "driver.execute_script(\"arguments[0].click();\", data_btn)\n",
    "awards_and_recognitions  = driver.find_element(By.XPATH,'//*[@id=\"edorg-characteristics\"]/div/div[2]/div/div[2]/div/div[1]/div[1]/article/div/div[2]/section/div/div/div').text.split('\\n')\n",
    "\n",
    "if awards_and_recognitions == ['']:\n",
    "    data_btn  = driver.find_element(By.XPATH,'//*[@id=\"edorg-characteristics\"]/div/div[2]/div/div[2]/div/div[1]/div[1]/article/div/div[1]/div[3]/i')\n",
    "    driver.execute_script(\"arguments[0].click();\", data_btn)\n",
    "    awards_and_recognitions  = driver.find_element(By.XPATH,'//*[@id=\"edorg-characteristics\"]/div/div[2]/div/div[2]/div/div[1]/div[1]/article/div/div[2]/section/div/div/div').text.split('\\n')\n",
    "    \n",
    "                                                                                                 \n",
    "print(awards_and_recognitions)"
   ],
   "metadata": {
    "collapsed": false,
    "ExecuteTime": {
     "end_time": "2024-03-08T01:50:57.892591Z",
     "start_time": "2024-03-08T01:50:57.779097Z"
    }
   },
   "id": "d5d1c43664a99abd"
  },
  {
   "cell_type": "code",
   "execution_count": 434,
   "outputs": [
    {
     "name": "stdout",
     "output_type": "stream",
     "text": [
      "['Advanced Placement (AP)', 'Career and Technical Education (CTE)', 'Dual enrollment', 'Foreign Language', 'Gifted Program', 'Honors (Independent of IB/AP/Dual Enrollment)', 'ROTC/JROTC', 'Others', 'chevron_right', 'Cyber Security']\n"
     ]
    }
   ],
   "source": [
    "data_btn  = driver.find_element(By.XPATH,'//*[@id=\"edorg-characteristics\"]/div/div[2]/div/div[2]/div/div[2]/div[1]/article/div/div[1]/div[3]/i')\n",
    "driver.execute_script(\"arguments[0].click();\", data_btn)\n",
    "\n",
    "academic_offerings = driver.find_element(By.XPATH,'//*[@id=\"edorg-characteristics\"]/div/div[2]/div/div[2]/div/div[2]/div[1]/article/div/div[2]/section/div/div/div').text.split('\\n')\n",
    "\n",
    "\n",
    "# \n",
    "if academic_offerings == [''] :\n",
    "    data_btn  = driver.find_element(By.XPATH,'//*[@id=\"edorg-characteristics\"]/div/div[2]/div/div[2]/div/div[2]/div[1]/article/div/div[1]/div[3]/i')\n",
    "    driver.execute_script(\"arguments[0].click();\", data_btn)\n",
    "\n",
    "    academic_offerings = driver.find_element(By.XPATH,'//*[@id=\"edorg-characteristics\"]/div/div[2]/div/div[2]/div/div[2]/div[1]/article/div/div[2]/section/div/div/div').text.split('\\n')\n",
    "\n",
    "print(academic_offerings)"
   ],
   "metadata": {
    "collapsed": false,
    "ExecuteTime": {
     "end_time": "2024-03-08T01:50:58.009596Z",
     "start_time": "2024-03-08T01:50:57.890773Z"
    }
   },
   "id": "1f031b99bc20be23"
  },
  {
   "cell_type": "code",
   "execution_count": 435,
   "outputs": [
    {
     "name": "stdout",
     "output_type": "stream",
     "text": [
      "['Badminton', 'Baseball', 'Basketball', 'Cross-Country', 'Football', 'Golf', 'Soccer', 'Softball', 'Spirit/Cheerleading', 'Swimming', 'Tennis', 'Track and Field', 'Volleyball', 'Wrestling', 'Others', 'chevron_right', 'ESports']\n"
     ]
    }
   ],
   "source": [
    "                                                   \n",
    "data_btn  = driver.find_element(By.XPATH,'//*[@id=\"edorg-characteristics\"]/div/div[2]/div/div[2]/div/div[3]/div[1]/article/div/div[1]/div[3]/i')\n",
    "driver.execute_script(\"arguments[0].click();\", data_btn)\n",
    "\n",
    "sports_facilities= driver.find_element(By.XPATH,'//*[@id=\"edorg-characteristics\"]/div/div[2]/div/div[2]/div/div[3]/div[1]/article/div/div[2]/section/div/div/div').text.split('\\n')\n",
    "\n",
    "if sports_facilities == [''] :\n",
    "    data_btn  = driver.find_element(By.XPATH,'//*[@id=\"edorg-characteristics\"]/div/div[2]/div/div[2]/div/div[3]/div[1]/article/div/div[1]/div[3]/i')\n",
    "    driver.execute_script(\"arguments[0].click();\", data_btn)\n",
    "    \n",
    "    sports_facilities= driver.find_element(By.XPATH,'//*[@id=\"edorg-characteristics\"]/div/div[2]/div/div[2]/div/div[3]/div[1]/article/div/div[2]/section/div/div/div').text.split('\\n')\n",
    "\n",
    "print(sports_facilities)"
   ],
   "metadata": {
    "collapsed": false,
    "ExecuteTime": {
     "end_time": "2024-03-08T01:50:58.164754Z",
     "start_time": "2024-03-08T01:50:58.005350Z"
    }
   },
   "id": "1e5f2fe5de57cc46"
  },
  {
   "cell_type": "code",
   "execution_count": 436,
   "outputs": [
    {
     "name": "stdout",
     "output_type": "stream",
     "text": [
      "['Art', 'Band', 'Choir', 'Cultural Arts', 'Dance', 'Music', 'Orchestra', 'Painting', 'Photography', 'Theater']\n"
     ]
    }
   ],
   "source": [
    "data_btn  = driver.find_element(By.XPATH,'//*[@id=\"edorg-characteristics\"]/div/div[2]/div/div[2]/div/div[4]/div[1]/article/div/div[1]/div[3]/i')\n",
    "driver.execute_script(\"arguments[0].click();\", data_btn)\n",
    "\n",
    "music_facilities= driver.find_element(By.XPATH,'//*[@id=\"edorg-characteristics\"]/div/div[2]/div/div[2]/div/div[4]/div[1]/article/div/div[2]/section/div/div/div').text.split('\\n')\n",
    "\n",
    "if music_facilities == [''] :\n",
    "    data_btn  = driver.find_element(By.XPATH,'//*[@id=\"edorg-characteristics\"]/div/div[2]/div/div[2]/div/div[4]/div[1]/article/div/div[1]/div[3]/i')\n",
    "    driver.execute_script(\"arguments[0].click();\", data_btn)\n",
    "\n",
    "    music_facilities = driver.find_element(By.XPATH,'//*[@id=\"edorg-characteristics\"]/div/div[2]/div/div[2]/div/div[4]/div[1]/article/div/div[2]/section/div/div/div').text.split('\\n')\n",
    "\n",
    "print(music_facilities)"
   ],
   "metadata": {
    "collapsed": false,
    "ExecuteTime": {
     "end_time": "2024-03-08T01:50:58.330820Z",
     "start_time": "2024-03-08T01:50:58.170493Z"
    }
   },
   "id": "bb4d2c047cfdced2"
  },
  {
   "cell_type": "code",
   "execution_count": 398,
   "outputs": [
    {
     "name": "stdout",
     "output_type": "stream",
     "text": [
      "['Tutoring and Mentoring', 'chevron_right', 'Free Summer School for Enrolled Students']\n"
     ]
    }
   ],
   "source": [
    "data_btn  = driver.find_element(By.XPATH,'//*[@id=\"edorg-characteristics\"]/div/div[2]/div/div[2]/div/div[5]/div[1]/article/div/div[1]/div[3]/i')\n",
    "\n",
    "driver.execute_script(\"arguments[0].click();\", data_btn)\n",
    "\n",
    "after_school_opportunities= (driver.find_element(By.XPATH,\n",
    "                                      '//*[@id=\"edorg-characteristics\"]/div/div[2]/div/div[2]/div/div[5]/div[1]/article/div/div[2]/section/div/div/div')\n",
    "                                     .text.split('\\n'))\n",
    "\n",
    "if after_school_opportunities == [''] :\n",
    "    data_btn  = driver.find_element(By.XPATH,'//*[@id=\"edorg-characteristics\"]/div/div[2]/div/div[2]/div/div[5]/div[1]/article/div/div[1]/div[3]/i')\n",
    "\n",
    "    driver.execute_script(\"arguments[0].click();\", data_btn)\n",
    "\n",
    "    after_school_opportunities= (driver.find_element(By.XPATH,\n",
    "                                          '//*[@id=\"edorg-characteristics\"]/div/div[2]/div/div[2]/div/div[5]/div[1]/article/div/div[2]/section/div/div/div')\n",
    "                                         .text.split('\\n'))\n",
    "\n",
    "print(after_school_opportunities)"
   ],
   "metadata": {
    "collapsed": false,
    "ExecuteTime": {
     "end_time": "2024-03-07T22:01:34.839747Z",
     "start_time": "2024-03-07T22:01:34.706287Z"
    }
   },
   "id": "909e50df54ac54f8"
  },
  {
   "cell_type": "code",
   "execution_count": 399,
   "outputs": [
    {
     "name": "stdout",
     "output_type": "stream",
     "text": [
      "['School Resource Officer (SRO)', 'Technology Lab', 'Others', 'chevron_right', 'Blended Learning Labs with Laptops', 'chevron_right', 'Bus Stop in front of school, bus passes provided', 'chevron_right', '1-1 Technology Ratio, Each Student is provided a laptop or workstation', 'Ombudsman classrooms enhance a blended learning environment by including smart board technology and student devices in every classroom.']\n"
     ]
    }
   ],
   "source": [
    "data_btn  = driver.find_element(By.XPATH,'//*[@id=\"edorg-characteristics\"]/div/div[2]/div/div[2]/div/div[6]/div[1]/article/div/div[1]/div[3]/i')\n",
    "\n",
    "driver.execute_script(\"arguments[0].click();\", data_btn)\n",
    "\n",
    "other_facilities= (driver.find_element(By.XPATH,\n",
    "                                      '//*[@id=\"edorg-characteristics\"]/div/div[2]/div/div[2]/div/div[6]/div[1]/article/div/div[2]/section/div/div/div').text.split('\\n'))\n",
    "\n",
    "if other_facilities == [''] :\n",
    "    data_btn  = driver.find_element(By.XPATH,'//*[@id=\"edorg-characteristics\"]/div/div[2]/div/div[2]/div/div[6]/div[1]/article/div/div[1]/div[3]/i')\n",
    "\n",
    "    driver.execute_script(\"arguments[0].click();\", data_btn)\n",
    "    \n",
    "    other_facilities= (driver.find_element(By.XPATH,\n",
    "                                          '//*[@id=\"edorg-characteristics\"]/div/div[2]/div/div[2]/div/div[6]/div[1]/article/div/div[2]/section/div/div/div').text.split('\\n'))\n",
    "\n",
    "print(other_facilities)"
   ],
   "metadata": {
    "collapsed": false,
    "ExecuteTime": {
     "end_time": "2024-03-07T22:01:35.863885Z",
     "start_time": "2024-03-07T22:01:35.739899Z"
    }
   },
   "id": "c54866b605a30b7b"
  },
  {
   "cell_type": "code",
   "execution_count": 400,
   "outputs": [
    {
     "name": "stdout",
     "output_type": "stream",
     "text": [
      "['No data available']\n"
     ]
    }
   ],
   "source": [
    "data_btn  = driver.find_element(By.XPATH,'//*[@id=\"edorg-characteristics\"]/div/div[2]/div/div[2]/div/div[7]/div[1]/article/div/div[1]/div[3]/i')\n",
    "\n",
    "driver.execute_script(\"arguments[0].click();\", data_btn)\n",
    "\n",
    "student_services= (driver.find_element(By.XPATH,\n",
    "                                      '//*[@id=\"edorg-characteristics\"]/div/div[2]/div/div[2]/div/div[7]/div[1]/article/div/div[2]/section/div/div/div').text.split('\\n'))\n",
    "\n",
    "if student_services == [''] :\n",
    "    data_btn  = driver.find_element(By.XPATH,'//*[@id=\"edorg-characteristics\"]/div/div[2]/div/div[2]/div/div[7]/div[1]/article/div/div[1]/div[3]/i')\n",
    "\n",
    "    driver.execute_script(\"arguments[0].click();\", data_btn)\n",
    "    \n",
    "    student_services= (driver.find_element(By.XPATH,\n",
    "                                          '//*[@id=\"edorg-characteristics\"]/div/div[2]/div/div[2]/div/div[7]/div[1]/article/div/div[2]/section/div/div/div').text.split('\\n'))\n",
    "\n",
    "print(student_services)"
   ],
   "metadata": {
    "collapsed": false,
    "ExecuteTime": {
     "end_time": "2024-03-07T22:01:37.121424Z",
     "start_time": "2024-03-07T22:01:36.951083Z"
    }
   },
   "id": "55517c209553ca98"
  },
  {
   "cell_type": "code",
   "execution_count": 401,
   "outputs": [
    {
     "name": "stdout",
     "output_type": "stream",
     "text": [
      "None None None None None\n"
     ]
    }
   ],
   "source": [
    "try:\n",
    "    acad_focus_1  =validator(driver.find_element(By.XPATH,'//*[@id=\"edorg-characteristics\"]/div/div[2]/div/div[2]/div[3]/div/div[2]/div/table/tbody/tr[1]/td[2]').text)\n",
    "    \n",
    "    acad_focus_2  =validator(driver.find_element(By.XPATH,'//*[@id=\"edorg-characteristics\"]/div/div[2]/div/div[2]/div[3]/div/div[2]/div/table/tbody/tr[2]/td[2]').text)\n",
    "    \n",
    "    acad_focus_3  =validator(driver.find_element(By.XPATH,'//*[@id=\"edorg-characteristics\"]/div/div[2]/div/div[2]/div[3]/div/div[2]/div/table/tbody/tr[3]/td[2]').text)\n",
    "    \n",
    "    acad_focus_4  =validator(driver.find_element(By.XPATH,'//*[@id=\"edorg-characteristics\"]/div/div[2]/div/div[2]/div[3]/div/div[2]/div/table/tbody/tr[4]/td[2]').text)\n",
    "    \n",
    "    acad_focus_5  =validator(driver.find_element(By.XPATH,'//*[@id=\"edorg-characteristics\"]/div/div[2]/div/div[2]/div[3]/div/div[2]/div/table/tbody/tr[5]/td[2]').text)\n",
    "except NoSuchElementException:\n",
    "    acad_focus_1 = None\n",
    "    acad_focus_2  = None\n",
    "    acad_focus_3  = None\n",
    "    acad_focus_4  = None\n",
    "    acad_focus_5  = None\n",
    "    \n",
    "\n",
    "print(acad_focus_1,acad_focus_2,acad_focus_3,acad_focus_4,acad_focus_5)\n"
   ],
   "metadata": {
    "collapsed": false,
    "ExecuteTime": {
     "end_time": "2024-03-07T22:01:45.334386Z",
     "start_time": "2024-03-07T22:01:38.263033Z"
    }
   },
   "id": "58180f6adabaf03a"
  },
  {
   "cell_type": "code",
   "execution_count": 363,
   "outputs": [],
   "source": [
    "additional_school_data = pd.DataFrame([[school_name,edu_range,school_grade,title_i_status,total_students,african_american,african_american_percent,\n",
    "hispanic,hispanic_percent,\n",
    "native_american,native_american_percent,\n",
    "white,white_percent,\n",
    "multiple_race,multiple_race_percent,\n",
    "asian,asian_percent,\n",
    "pacific_islander,pacific_islander_percent,proficiency_pts,Grad_Rate_pts,Dropout_rate,CCRI_points,promotion_rate,No_of_students_adv_placement_course,Students_with_Chronic_Absenteeism,crime_rate,total_students_bullied,personnel_federal_expenditure,personnel_state_and_local_expenditure,non_personnel_federal_expenditure,non_personnel_state_and_local_expenditure,total_per_pupil_expenditure,awards_and_recognitions,academic_offerings,sports_facilities,music_facilities,after_school_opportunities,other_facilities,student_services,acad_focus_1,acad_focus_2,acad_focus_3,acad_focus_4,acad_focus_5]],\n",
    "                           columns=['school_name','edu_range','school_grade','title_i_status',\n",
    "                           'total_students','african_american','african_american_percent',\n",
    "'hispanic','hispanic_percent',\n",
    "'native_american','native_american_percent',\n",
    "'white','white_percent',\n",
    "'multiple_race','multiple_race_percent',\n",
    "'asian','asian_percent',\n",
    "'pacific_islander','pacific_islander_percent','proficiency_pts','Grad_Rate_pts','Dropout_rate','CCRI_points','promotion_rate','No_of_students_adv_placement_course','Students_with_Chronic_Absenteeism','crime_rate','total_students_bullied','personnel_federal_expenditure','personnel_state_and_local_expenditure','non_personnel_federal_expenditure','non_personnel_state_and_local_expenditure','total_per_pupil_expenditure','awards_and_recognitions','academic_offerings','sports_facilities','music_facilities','after_school_opportunities','other_facilities','student_services','acad_focus_1','acad_focus_2','acad_focus_3','acad_focus_4','acad_focus_5'])\n"
   ],
   "metadata": {
    "collapsed": false,
    "ExecuteTime": {
     "end_time": "2024-03-07T21:09:54.248175Z",
     "start_time": "2024-03-07T21:09:54.232410Z"
    }
   },
   "id": "957952b632be767a"
  },
  {
   "cell_type": "code",
   "execution_count": null,
   "outputs": [],
   "source": [],
   "metadata": {
    "collapsed": false
   },
   "id": "122a04bf9ac74f1d"
  },
  {
   "cell_type": "code",
   "execution_count": 277,
   "outputs": [],
   "source": [
    "additional_school_data.to_csv('school_data_3.csv',index=False )"
   ],
   "metadata": {
    "collapsed": false,
    "ExecuteTime": {
     "end_time": "2024-03-07T20:35:13.714156Z",
     "start_time": "2024-03-07T20:35:13.705224Z"
    }
   },
   "id": "88047e4faf4f7a92"
  },
  {
   "cell_type": "code",
   "execution_count": 364,
   "outputs": [],
   "source": [
    "additional_school_data.to_csv('school_data_3.csv', mode='a', index=False, header=False)"
   ],
   "metadata": {
    "collapsed": false,
    "ExecuteTime": {
     "end_time": "2024-03-07T21:09:56.425594Z",
     "start_time": "2024-03-07T21:09:56.412034Z"
    }
   },
   "id": "b005ea461716d7ba"
  },
  {
   "cell_type": "code",
   "execution_count": null,
   "outputs": [],
   "source": [],
   "metadata": {
    "collapsed": false
   },
   "id": "fd2848bc758b8c5f"
  }
 ],
 "metadata": {
  "kernelspec": {
   "display_name": "Python 3 (ipykernel)",
   "language": "python",
   "name": "python3"
  },
  "language_info": {
   "codemirror_mode": {
    "name": "ipython",
    "version": 3
   },
   "file_extension": ".py",
   "mimetype": "text/x-python",
   "name": "python",
   "nbconvert_exporter": "python",
   "pygments_lexer": "ipython3",
   "version": "3.11.7"
  }
 },
 "nbformat": 4,
 "nbformat_minor": 5
}
