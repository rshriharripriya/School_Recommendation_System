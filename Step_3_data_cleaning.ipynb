{
 "cells": [
  {
   "cell_type": "markdown",
   "source": [],
   "metadata": {
    "collapsed": false
   },
   "id": "f0946710cf292a"
  },
  {
   "cell_type": "code",
   "execution_count": 202,
   "id": "88a8f3ba8f8bcc9e",
   "metadata": {
    "collapsed": true,
    "ExecuteTime": {
     "end_time": "2024-03-10T23:14:29.119323Z",
     "start_time": "2024-03-10T23:14:28.396680Z"
    }
   },
   "outputs": [],
   "source": [
    "import pandas as pd"
   ]
  },
  {
   "cell_type": "code",
   "execution_count": 203,
   "outputs": [
    {
     "data": {
      "text/plain": "                      School_name  school_type     city   zipcode edu_range  \\\n0  Academy with Community Partners      Public      Mesa    85203    9 - 12   \n1      Accelerated Learning Center      Public   Phoenix    85028    9 - 12   \n2            Agua Fria High School      Public  Avondale    85323    9 - 12   \n3             Alhambra High School      Public   Phoenix    85019    9 - 12   \n4               Apollo High School      Public  Glendale    85302    9 - 12   \n\n  school_grade title_i_status total_students african_american  \\\n0            B            Yes            169               13   \n1            A             No            153              <10   \n2            B            Yes           1653              177   \n3            C            Yes           2283              235   \n4            B            Yes           2198              176   \n\n  african_american_percent  ...  \\\n0                     7.69  ...   \n1                      <10  ...   \n2                    10.71  ...   \n3                    10.29  ...   \n4                     8.01  ...   \n\n                                   sports_facilities  \\\n0  ['Basketball', 'Others', 'chevron_right', 'Fla...   \n1                              ['No data available']   \n2  ['Badminton', 'Baseball', 'Basketball', 'Cross...   \n3  ['Badminton', 'Baseball', 'Basketball', 'Cross...   \n4  ['Badminton', 'Baseball', 'Basketball', 'Cross...   \n\n                                    music_facilities  \\\n0                                            ['Art']   \n1                             ['Art', 'Photography']   \n2  ['Art', 'Band', 'Ceramics/Sculpting', 'Choir',...   \n3  ['Art', 'Band', 'Ceramics/Sculpting', 'Choir',...   \n4  ['Art', 'Band', 'Ceramics/Sculpting', 'Choir',...   \n\n                          after_school_opportunities  \\\n0  ['Athletic', 'chevron_right', 'Basketball', 'c...   \n1                              ['No data available']   \n2  ['Academic', 'chevron_right', 'National Honor ...   \n3  ['Academic', 'chevron_right', 'AVID Club/Unive...   \n4  ['Academic', 'chevron_right', 'World Language ...   \n\n                                    other_facilities  \\\n0     ['Dedicated Counselors', 'chevron_right', '1']   \n1         ['Art Room', 'Indoor air quality control']   \n2  ['Art Room', 'Auditorium', 'Book Store', 'Cafe...   \n3  ['Art Room', 'Auditorium', 'Book Store', 'Cafe...   \n4  ['Art Room', 'Auditorium', 'Book Store', 'Cafe...   \n\n                                    student_services acad_focus_1  \\\n0  ['Assistance with Material Needs', 'McKinney-V...          Yes   \n1  ['Assistance with Material Needs', 'McKinney-V...          Yes   \n2                              ['No data available']          Yes   \n3  ['Dedicated School Counselor', 'chevron_right'...          Yes   \n4                              ['No data available']          NaN   \n\n  acad_focus_2 acad_focus_3 acad_focus_4 acad_focus_5  \n0          Yes          Yes          Yes          Yes  \n1          Yes          Yes          Yes          Yes  \n2          Yes          Yes          Yes          Yes  \n3          Yes          Yes          Yes          Yes  \n4          NaN          NaN          NaN          NaN  \n\n[5 rows x 48 columns]",
      "text/html": "<div>\n<style scoped>\n    .dataframe tbody tr th:only-of-type {\n        vertical-align: middle;\n    }\n\n    .dataframe tbody tr th {\n        vertical-align: top;\n    }\n\n    .dataframe thead th {\n        text-align: right;\n    }\n</style>\n<table border=\"1\" class=\"dataframe\">\n  <thead>\n    <tr style=\"text-align: right;\">\n      <th></th>\n      <th>School_name</th>\n      <th>school_type</th>\n      <th>city</th>\n      <th>zipcode</th>\n      <th>edu_range</th>\n      <th>school_grade</th>\n      <th>title_i_status</th>\n      <th>total_students</th>\n      <th>african_american</th>\n      <th>african_american_percent</th>\n      <th>...</th>\n      <th>sports_facilities</th>\n      <th>music_facilities</th>\n      <th>after_school_opportunities</th>\n      <th>other_facilities</th>\n      <th>student_services</th>\n      <th>acad_focus_1</th>\n      <th>acad_focus_2</th>\n      <th>acad_focus_3</th>\n      <th>acad_focus_4</th>\n      <th>acad_focus_5</th>\n    </tr>\n  </thead>\n  <tbody>\n    <tr>\n      <th>0</th>\n      <td>Academy with Community Partners</td>\n      <td>Public</td>\n      <td>Mesa</td>\n      <td>85203</td>\n      <td>9 - 12</td>\n      <td>B</td>\n      <td>Yes</td>\n      <td>169</td>\n      <td>13</td>\n      <td>7.69</td>\n      <td>...</td>\n      <td>['Basketball', 'Others', 'chevron_right', 'Fla...</td>\n      <td>['Art']</td>\n      <td>['Athletic', 'chevron_right', 'Basketball', 'c...</td>\n      <td>['Dedicated Counselors', 'chevron_right', '1']</td>\n      <td>['Assistance with Material Needs', 'McKinney-V...</td>\n      <td>Yes</td>\n      <td>Yes</td>\n      <td>Yes</td>\n      <td>Yes</td>\n      <td>Yes</td>\n    </tr>\n    <tr>\n      <th>1</th>\n      <td>Accelerated Learning Center</td>\n      <td>Public</td>\n      <td>Phoenix</td>\n      <td>85028</td>\n      <td>9 - 12</td>\n      <td>A</td>\n      <td>No</td>\n      <td>153</td>\n      <td>&lt;10</td>\n      <td>&lt;10</td>\n      <td>...</td>\n      <td>['No data available']</td>\n      <td>['Art', 'Photography']</td>\n      <td>['No data available']</td>\n      <td>['Art Room', 'Indoor air quality control']</td>\n      <td>['Assistance with Material Needs', 'McKinney-V...</td>\n      <td>Yes</td>\n      <td>Yes</td>\n      <td>Yes</td>\n      <td>Yes</td>\n      <td>Yes</td>\n    </tr>\n    <tr>\n      <th>2</th>\n      <td>Agua Fria High School</td>\n      <td>Public</td>\n      <td>Avondale</td>\n      <td>85323</td>\n      <td>9 - 12</td>\n      <td>B</td>\n      <td>Yes</td>\n      <td>1653</td>\n      <td>177</td>\n      <td>10.71</td>\n      <td>...</td>\n      <td>['Badminton', 'Baseball', 'Basketball', 'Cross...</td>\n      <td>['Art', 'Band', 'Ceramics/Sculpting', 'Choir',...</td>\n      <td>['Academic', 'chevron_right', 'National Honor ...</td>\n      <td>['Art Room', 'Auditorium', 'Book Store', 'Cafe...</td>\n      <td>['No data available']</td>\n      <td>Yes</td>\n      <td>Yes</td>\n      <td>Yes</td>\n      <td>Yes</td>\n      <td>Yes</td>\n    </tr>\n    <tr>\n      <th>3</th>\n      <td>Alhambra High School</td>\n      <td>Public</td>\n      <td>Phoenix</td>\n      <td>85019</td>\n      <td>9 - 12</td>\n      <td>C</td>\n      <td>Yes</td>\n      <td>2283</td>\n      <td>235</td>\n      <td>10.29</td>\n      <td>...</td>\n      <td>['Badminton', 'Baseball', 'Basketball', 'Cross...</td>\n      <td>['Art', 'Band', 'Ceramics/Sculpting', 'Choir',...</td>\n      <td>['Academic', 'chevron_right', 'AVID Club/Unive...</td>\n      <td>['Art Room', 'Auditorium', 'Book Store', 'Cafe...</td>\n      <td>['Dedicated School Counselor', 'chevron_right'...</td>\n      <td>Yes</td>\n      <td>Yes</td>\n      <td>Yes</td>\n      <td>Yes</td>\n      <td>Yes</td>\n    </tr>\n    <tr>\n      <th>4</th>\n      <td>Apollo High School</td>\n      <td>Public</td>\n      <td>Glendale</td>\n      <td>85302</td>\n      <td>9 - 12</td>\n      <td>B</td>\n      <td>Yes</td>\n      <td>2198</td>\n      <td>176</td>\n      <td>8.01</td>\n      <td>...</td>\n      <td>['Badminton', 'Baseball', 'Basketball', 'Cross...</td>\n      <td>['Art', 'Band', 'Ceramics/Sculpting', 'Choir',...</td>\n      <td>['Academic', 'chevron_right', 'World Language ...</td>\n      <td>['Art Room', 'Auditorium', 'Book Store', 'Cafe...</td>\n      <td>['No data available']</td>\n      <td>NaN</td>\n      <td>NaN</td>\n      <td>NaN</td>\n      <td>NaN</td>\n      <td>NaN</td>\n    </tr>\n  </tbody>\n</table>\n<p>5 rows × 48 columns</p>\n</div>"
     },
     "execution_count": 203,
     "metadata": {},
     "output_type": "execute_result"
    }
   ],
   "source": [
    "school_data = pd.read_csv('dataset_of_schools_in_phoenix_metropolitan-1.csv')\n",
    "school_data.head()"
   ],
   "metadata": {
    "collapsed": false,
    "ExecuteTime": {
     "end_time": "2024-03-10T23:14:29.123083Z",
     "start_time": "2024-03-10T23:14:28.404020Z"
    }
   },
   "id": "92c5d2013c3c80c5"
  },
  {
   "cell_type": "code",
   "execution_count": 204,
   "outputs": [
    {
     "data": {
      "text/plain": "Dropout_rate\nFalse    182\nTrue      39\nName: count, dtype: int64"
     },
     "execution_count": 204,
     "metadata": {},
     "output_type": "execute_result"
    }
   ],
   "source": [
    "school_data['Dropout_rate'].isnull().value_counts()"
   ],
   "metadata": {
    "collapsed": false,
    "ExecuteTime": {
     "end_time": "2024-03-10T23:14:29.123595Z",
     "start_time": "2024-03-10T23:14:28.435118Z"
    }
   },
   "id": "initial_id"
  },
  {
   "cell_type": "code",
   "execution_count": 205,
   "outputs": [
    {
     "data": {
      "text/plain": "Dropout_rate\nFalse    221\nName: count, dtype: int64"
     },
     "execution_count": 205,
     "metadata": {},
     "output_type": "execute_result"
    }
   ],
   "source": [
    "school_data.fillna({'Dropout_rate': 0}, inplace=True)\n",
    "school_data['Dropout_rate'].isnull().value_counts()"
   ],
   "metadata": {
    "collapsed": false,
    "ExecuteTime": {
     "end_time": "2024-03-10T23:14:29.123906Z",
     "start_time": "2024-03-10T23:14:28.441057Z"
    }
   },
   "id": "74ee87c86cefcd36"
  },
  {
   "cell_type": "code",
   "execution_count": 206,
   "outputs": [
    {
     "data": {
      "text/plain": "No_of_students_adv_placement_course\nFalse    219\nTrue       2\nName: count, dtype: int64"
     },
     "execution_count": 206,
     "metadata": {},
     "output_type": "execute_result"
    }
   ],
   "source": [
    "school_data['No_of_students_adv_placement_course'].isnull().value_counts()"
   ],
   "metadata": {
    "collapsed": false,
    "ExecuteTime": {
     "end_time": "2024-03-10T23:14:29.139735Z",
     "start_time": "2024-03-10T23:14:28.446054Z"
    }
   },
   "id": "408bdbc17633d9e4"
  },
  {
   "cell_type": "code",
   "execution_count": 207,
   "outputs": [
    {
     "data": {
      "text/plain": "Students_with_Chronic_Absenteeism\nFalse    219\nTrue       2\nName: count, dtype: int64"
     },
     "execution_count": 207,
     "metadata": {},
     "output_type": "execute_result"
    }
   ],
   "source": [
    "school_data['Students_with_Chronic_Absenteeism'].isnull().value_counts()"
   ],
   "metadata": {
    "collapsed": false,
    "ExecuteTime": {
     "end_time": "2024-03-10T23:14:29.140154Z",
     "start_time": "2024-03-10T23:14:28.452777Z"
    }
   },
   "id": "a3b66f42eaebe7aa"
  },
  {
   "cell_type": "code",
   "execution_count": 208,
   "outputs": [
    {
     "data": {
      "text/plain": "crime_rate\nFalse    219\nTrue       2\nName: count, dtype: int64"
     },
     "execution_count": 208,
     "metadata": {},
     "output_type": "execute_result"
    }
   ],
   "source": [
    "school_data['crime_rate'].isnull().value_counts()"
   ],
   "metadata": {
    "collapsed": false,
    "ExecuteTime": {
     "end_time": "2024-03-10T23:14:29.140345Z",
     "start_time": "2024-03-10T23:14:28.458010Z"
    }
   },
   "id": "c1d1c40f3d301aeb"
  },
  {
   "cell_type": "code",
   "execution_count": 209,
   "outputs": [
    {
     "data": {
      "text/plain": "total_students_bullied\nFalse    219\nTrue       2\nName: count, dtype: int64"
     },
     "execution_count": 209,
     "metadata": {},
     "output_type": "execute_result"
    }
   ],
   "source": [
    "school_data['total_students_bullied'].isnull().value_counts()"
   ],
   "metadata": {
    "collapsed": false,
    "ExecuteTime": {
     "end_time": "2024-03-10T23:14:29.140518Z",
     "start_time": "2024-03-10T23:14:28.462314Z"
    }
   },
   "id": "932f3cab737488b9"
  },
  {
   "cell_type": "code",
   "execution_count": 210,
   "outputs": [],
   "source": [
    "\n",
    "school_data.fillna({'No_of_students_adv_placement_course': 0.0, 'Students_with_Chronic_Absenteeism' : 0.0,'crime_rate' : 0.0, 'total_students_bullied' : 0.0}, inplace=True)\n"
   ],
   "metadata": {
    "collapsed": false,
    "ExecuteTime": {
     "end_time": "2024-03-10T23:14:29.140599Z",
     "start_time": "2024-03-10T23:14:28.467441Z"
    }
   },
   "id": "fa6e3e107f48e507"
  },
  {
   "cell_type": "code",
   "execution_count": 211,
   "outputs": [
    {
     "data": {
      "text/plain": "No_of_students_adv_placement_course\nFalse    221\nName: count, dtype: int64"
     },
     "execution_count": 211,
     "metadata": {},
     "output_type": "execute_result"
    }
   ],
   "source": [
    "school_data['No_of_students_adv_placement_course'].isnull().value_counts()"
   ],
   "metadata": {
    "collapsed": false,
    "ExecuteTime": {
     "end_time": "2024-03-10T23:14:29.140862Z",
     "start_time": "2024-03-10T23:14:28.473059Z"
    }
   },
   "id": "62b9234c0041a602"
  },
  {
   "cell_type": "code",
   "execution_count": 212,
   "outputs": [
    {
     "data": {
      "text/plain": "Students_with_Chronic_Absenteeism\nFalse    221\nName: count, dtype: int64"
     },
     "execution_count": 212,
     "metadata": {},
     "output_type": "execute_result"
    }
   ],
   "source": [
    "school_data['Students_with_Chronic_Absenteeism'].isnull().value_counts()"
   ],
   "metadata": {
    "collapsed": false,
    "ExecuteTime": {
     "end_time": "2024-03-10T23:14:29.141051Z",
     "start_time": "2024-03-10T23:14:28.477476Z"
    }
   },
   "id": "b744ebfef7224f54"
  },
  {
   "cell_type": "code",
   "execution_count": 213,
   "outputs": [
    {
     "data": {
      "text/plain": "crime_rate\nFalse    221\nName: count, dtype: int64"
     },
     "execution_count": 213,
     "metadata": {},
     "output_type": "execute_result"
    }
   ],
   "source": [
    "school_data['crime_rate'].isnull().value_counts()"
   ],
   "metadata": {
    "collapsed": false,
    "ExecuteTime": {
     "end_time": "2024-03-10T23:14:29.141235Z",
     "start_time": "2024-03-10T23:14:28.482054Z"
    }
   },
   "id": "37c07e405d4ec6a3"
  },
  {
   "cell_type": "code",
   "execution_count": 214,
   "outputs": [
    {
     "data": {
      "text/plain": "total_students_bullied\nFalse    221\nName: count, dtype: int64"
     },
     "execution_count": 214,
     "metadata": {},
     "output_type": "execute_result"
    }
   ],
   "source": [
    "school_data['total_students_bullied'].isnull().value_counts()"
   ],
   "metadata": {
    "collapsed": false,
    "ExecuteTime": {
     "end_time": "2024-03-10T23:14:29.141409Z",
     "start_time": "2024-03-10T23:14:28.487207Z"
    }
   },
   "id": "11eb173052848a94"
  },
  {
   "cell_type": "code",
   "execution_count": 215,
   "outputs": [
    {
     "name": "stdout",
     "output_type": "stream",
     "text": [
      "acad_focus_1\n",
      "True     120\n",
      "False    101\n",
      "Name: count, dtype: int64\n",
      "acad_focus_2\n",
      "True     120\n",
      "False    101\n",
      "Name: count, dtype: int64\n",
      "acad_focus_3\n",
      "True     120\n",
      "False    101\n",
      "Name: count, dtype: int64\n",
      "acad_focus_4\n",
      "True     120\n",
      "False    101\n",
      "Name: count, dtype: int64\n",
      "acad_focus_5\n",
      "True     120\n",
      "False    101\n",
      "Name: count, dtype: int64\n"
     ]
    }
   ],
   "source": [
    "for column in school_data.columns:\n",
    "    if 'acad_focus_' in column:\n",
    "        print(school_data[column].isnull().value_counts())"
   ],
   "metadata": {
    "collapsed": false,
    "ExecuteTime": {
     "end_time": "2024-03-10T23:14:29.141632Z",
     "start_time": "2024-03-10T23:14:28.496091Z"
    }
   },
   "id": "dcb66fb66288f9f1"
  },
  {
   "cell_type": "code",
   "execution_count": 216,
   "outputs": [],
   "source": [
    "for column in school_data.columns:\n",
    "    if 'acad_focus_' in column:\n",
    "        school_data.fillna({column: \"No\"}, inplace=True)"
   ],
   "metadata": {
    "collapsed": false,
    "ExecuteTime": {
     "end_time": "2024-03-10T23:14:29.141835Z",
     "start_time": "2024-03-10T23:14:28.502443Z"
    }
   },
   "id": "6eba2ea9e043f4e0"
  },
  {
   "cell_type": "code",
   "execution_count": 217,
   "outputs": [
    {
     "name": "stdout",
     "output_type": "stream",
     "text": [
      "acad_focus_1\n",
      "False    221\n",
      "Name: count, dtype: int64\n",
      "acad_focus_2\n",
      "False    221\n",
      "Name: count, dtype: int64\n",
      "acad_focus_3\n",
      "False    221\n",
      "Name: count, dtype: int64\n",
      "acad_focus_4\n",
      "False    221\n",
      "Name: count, dtype: int64\n",
      "acad_focus_5\n",
      "False    221\n",
      "Name: count, dtype: int64\n"
     ]
    }
   ],
   "source": [
    "for column in school_data.columns:\n",
    "    if 'acad_focus_' in column:\n",
    "        print(school_data[column].isnull().value_counts())"
   ],
   "metadata": {
    "collapsed": false,
    "ExecuteTime": {
     "end_time": "2024-03-10T23:14:29.141982Z",
     "start_time": "2024-03-10T23:14:28.508900Z"
    }
   },
   "id": "af99f015a4937030"
  },
  {
   "cell_type": "code",
   "execution_count": 218,
   "outputs": [
    {
     "name": "stdout",
     "output_type": "stream",
     "text": [
      "african_american\n",
      "False    218\n",
      "True       3\n",
      "Name: count, dtype: int64\n",
      "\n",
      "african_american_percent\n",
      "False    218\n",
      "True       3\n",
      "Name: count, dtype: int64\n",
      "\n",
      "hispanic\n",
      "False    221\n",
      "Name: count, dtype: int64\n",
      "\n",
      "hispanic_percent\n",
      "False    221\n",
      "Name: count, dtype: int64\n",
      "\n",
      "native_american\n",
      "False    205\n",
      "True      16\n",
      "Name: count, dtype: int64\n",
      "\n",
      "native_american_percent\n",
      "False    205\n",
      "True      16\n",
      "Name: count, dtype: int64\n",
      "\n",
      "white\n",
      "False    218\n",
      "True       3\n",
      "Name: count, dtype: int64\n",
      "\n",
      "white_percent\n",
      "False    218\n",
      "True       3\n",
      "Name: count, dtype: int64\n",
      "\n",
      "multiple_race\n",
      "False    208\n",
      "True      13\n",
      "Name: count, dtype: int64\n",
      "\n",
      "multiple_race_percent\n",
      "False    208\n",
      "True      13\n",
      "Name: count, dtype: int64\n",
      "\n",
      "asian\n",
      "False    188\n",
      "True      33\n",
      "Name: count, dtype: int64\n",
      "\n",
      "asian_percent\n",
      "False    188\n",
      "True      33\n",
      "Name: count, dtype: int64\n",
      "\n",
      "pacific_islander\n",
      "False    159\n",
      "True      62\n",
      "Name: count, dtype: int64\n",
      "\n",
      "pacific_islander_percent\n",
      "False    159\n",
      "True      62\n",
      "Name: count, dtype: int64\n"
     ]
    }
   ],
   "source": [
    "\n",
    "columns_to_replace = ['african_american', 'african_american_percent', \n",
    "                      'hispanic', 'hispanic_percent', \n",
    "                      'native_american', 'native_american_percent', \n",
    "                      'white', 'white_percent', \n",
    "                      'multiple_race', 'multiple_race_percent', \n",
    "                      'asian', 'asian_percent', \n",
    "                      'pacific_islander', 'pacific_islander_percent']\n",
    "\n",
    "for column in columns_to_replace:\n",
    "    print(school_data[column].isnull().value_counts())\n",
    "    print()"
   ],
   "metadata": {
    "collapsed": false,
    "ExecuteTime": {
     "end_time": "2024-03-10T23:14:29.142136Z",
     "start_time": "2024-03-10T23:14:28.523034Z"
    }
   },
   "id": "81df779caf28b506"
  },
  {
   "cell_type": "code",
   "execution_count": 219,
   "outputs": [],
   "source": [
    "for column in columns_to_replace:\n",
    "    school_data.fillna({column: 0}, inplace=True)"
   ],
   "metadata": {
    "collapsed": false,
    "ExecuteTime": {
     "end_time": "2024-03-10T23:14:29.142215Z",
     "start_time": "2024-03-10T23:14:28.531392Z"
    }
   },
   "id": "9c38109e93998c3f"
  },
  {
   "cell_type": "code",
   "execution_count": 220,
   "outputs": [
    {
     "name": "stdout",
     "output_type": "stream",
     "text": [
      "african_american\n",
      "False    221\n",
      "Name: count, dtype: int64\n",
      "african_american_percent\n",
      "False    221\n",
      "Name: count, dtype: int64\n",
      "hispanic\n",
      "False    221\n",
      "Name: count, dtype: int64\n",
      "hispanic_percent\n",
      "False    221\n",
      "Name: count, dtype: int64\n",
      "native_american\n",
      "False    221\n",
      "Name: count, dtype: int64\n",
      "native_american_percent\n",
      "False    221\n",
      "Name: count, dtype: int64\n",
      "white\n",
      "False    221\n",
      "Name: count, dtype: int64\n",
      "white_percent\n",
      "False    221\n",
      "Name: count, dtype: int64\n",
      "multiple_race\n",
      "False    221\n",
      "Name: count, dtype: int64\n",
      "multiple_race_percent\n",
      "False    221\n",
      "Name: count, dtype: int64\n",
      "asian\n",
      "False    221\n",
      "Name: count, dtype: int64\n",
      "asian_percent\n",
      "False    221\n",
      "Name: count, dtype: int64\n",
      "pacific_islander\n",
      "False    221\n",
      "Name: count, dtype: int64\n",
      "pacific_islander_percent\n",
      "False    221\n",
      "Name: count, dtype: int64\n"
     ]
    }
   ],
   "source": [
    "\n",
    "for column in columns_to_replace:\n",
    "    print(school_data[column].isnull().value_counts())\n"
   ],
   "metadata": {
    "collapsed": false,
    "ExecuteTime": {
     "end_time": "2024-03-10T23:14:29.142367Z",
     "start_time": "2024-03-10T23:14:28.543396Z"
    }
   },
   "id": "9fa9ee1b8680750f"
  },
  {
   "cell_type": "code",
   "execution_count": 221,
   "outputs": [],
   "source": [
    "\n",
    "#Removing '<' symbol\n",
    "def remove_lt_symbol(text):\n",
    "    if isinstance(text, str):\n",
    "        return text.replace('<', '')\n",
    "    else:\n",
    "        return text\n",
    "for column in school_data.columns:\n",
    "    school_data[column] = school_data[column].apply(remove_lt_symbol)\n"
   ],
   "metadata": {
    "collapsed": false,
    "ExecuteTime": {
     "end_time": "2024-03-10T23:14:29.142458Z",
     "start_time": "2024-03-10T23:14:28.554118Z"
    }
   },
   "id": "56951e77627e31eb"
  },
  {
   "cell_type": "code",
   "execution_count": 222,
   "outputs": [],
   "source": [
    "\n",
    "#Removing ','\n",
    "def remove_comma(text):\n",
    "    if isinstance(text, str):\n",
    "        return text.replace(',', '')\n",
    "    else:\n",
    "        return text\n",
    "\n",
    "for column in school_data.columns:\n",
    "    school_data[column] = school_data[column].apply(remove_comma)\n"
   ],
   "metadata": {
    "collapsed": false,
    "ExecuteTime": {
     "end_time": "2024-03-10T23:14:29.142595Z",
     "start_time": "2024-03-10T23:14:28.575567Z"
    }
   },
   "id": "6c3cc010471a242a"
  },
  {
   "cell_type": "code",
   "execution_count": 223,
   "outputs": [],
   "source": [
    "\n",
    "#Removing '$' sign\n",
    "def remove_dollar(text):\n",
    "    if isinstance(text, str):\n",
    "        return text.replace('$', '')\n",
    "    else:\n",
    "        return text\n",
    "for column in school_data.columns:\n",
    "    school_data[column] = school_data[column].apply(remove_dollar)\n"
   ],
   "metadata": {
    "collapsed": false,
    "ExecuteTime": {
     "end_time": "2024-03-10T23:14:29.142686Z",
     "start_time": "2024-03-10T23:14:28.578274Z"
    }
   },
   "id": "8a3fca3603df1b0f"
  },
  {
   "cell_type": "code",
   "execution_count": 224,
   "outputs": [],
   "source": [
    "\n",
    "#Converting to int\n",
    "column_numbers_to_convert = [7,8, 10, 12, 14, 16, 18, 20] \n",
    "school_data.iloc[:, column_numbers_to_convert] = school_data.iloc[:, column_numbers_to_convert].astype(int)\n"
   ],
   "metadata": {
    "collapsed": false,
    "ExecuteTime": {
     "end_time": "2024-03-10T23:14:29.142759Z",
     "start_time": "2024-03-10T23:14:28.589903Z"
    }
   },
   "id": "a5e20f3385277597"
  },
  {
   "cell_type": "code",
   "execution_count": 225,
   "outputs": [],
   "source": [
    "\n",
    "#Converting to float\n",
    "column_numbers_to_convert = [9, 11, 13, 15, 17, 19, 21]  \n",
    "school_data.iloc[:, column_numbers_to_convert] = school_data.iloc[:, column_numbers_to_convert].astype(float)\n",
    "\n",
    "\n",
    "\n",
    "\n"
   ],
   "metadata": {
    "collapsed": false,
    "ExecuteTime": {
     "end_time": "2024-03-10T23:14:29.142834Z",
     "start_time": "2024-03-10T23:14:28.595527Z"
    }
   },
   "id": "2029179f83271fed"
  },
  {
   "cell_type": "code",
   "execution_count": 225,
   "outputs": [],
   "source": [],
   "metadata": {
    "collapsed": false,
    "ExecuteTime": {
     "end_time": "2024-03-10T23:14:29.142911Z",
     "start_time": "2024-03-10T23:14:28.599159Z"
    }
   },
   "id": "ddb679a959d60ac1"
  },
  {
   "cell_type": "code",
   "execution_count": 226,
   "outputs": [
    {
     "name": "stderr",
     "output_type": "stream",
     "text": [
      "/var/folders/rd/0t81087x5czf3z64s284fdcw0000gn/T/ipykernel_61851/2876677860.py:4: FutureWarning: Downcasting behavior in `replace` is deprecated and will be removed in a future version. To retain the old behavior, explicitly call `result.infer_objects(copy=False)`. To opt-in to the future behavior, set `pd.set_option('future.no_silent_downcasting', True)`\n",
      "  school_data.iloc[:, [6,43,44,45,46,47]] = school_data.iloc[:, [6,43,44,45,46,47]].replace(to_replace = 'Yes',value =1)\n"
     ]
    },
    {
     "data": {
      "text/plain": "                        School_name  school_type       city   zipcode  \\\n0    Academy with Community Partners      Public        Mesa    85203   \n1        Accelerated Learning Center      Public     Phoenix    85028   \n2              Agua Fria High School      Public    Avondale    85323   \n3               Alhambra High School      Public     Phoenix    85019   \n4                 Apollo High School      Public    Glendale    85302   \n..                               ...         ...         ...      ...   \n216       Wickenburg Virtual Academy      Public  Wickenburg    85390   \n217       Williams Field High School      Public      Higley    85236   \n218        Willis Junior High School      Public    Chandler    85225   \n219        Willow Canyon High School      Public    Surprise    85374   \n220             Youngker High School      Public     Buckeye    85326   \n\n             edu_range school_grade title_i_status total_students  \\\n0               9 - 12            B              1            169   \n1               9 - 12            A              0            153   \n2               9 - 12            B              1           1653   \n3               9 - 12            C              1           2283   \n4               9 - 12            B              1           2198   \n..                 ...          ...            ...            ...   \n216  Kindergarten - 12            B              0             78   \n217             8 - 12            A              0           2115   \n218              7 - 8            B              1            858   \n219             7 - 12            A              0           1787   \n220             9 - 12            A              1           2107   \n\n    african_american african_american_percent  ...  \\\n0                 13                     7.69  ...   \n1                 10                     10.0  ...   \n2                177                    10.71  ...   \n3                235                    10.29  ...   \n4                176                     8.01  ...   \n..               ...                      ...  ...   \n216               10                     10.0  ...   \n217              165                      7.8  ...   \n218               48                     5.59  ...   \n219              137                     7.67  ...   \n220              192                     9.11  ...   \n\n                                     sports_facilities  \\\n0    ['Basketball' 'Others' 'chevron_right' 'Flag F...   \n1                                ['No data available']   \n2    ['Badminton' 'Baseball' 'Basketball' 'Cross-Co...   \n3    ['Badminton' 'Baseball' 'Basketball' 'Cross-Co...   \n4    ['Badminton' 'Baseball' 'Basketball' 'Cross-Co...   \n..                                                 ...   \n216  ['Baseball' 'Basketball' 'Cross-Country' 'Foot...   \n217                              ['No data available']   \n218  ['Baseball' 'Basketball' 'Cross-Country' 'Foot...   \n219  ['Badminton' 'Baseball' 'Basketball' 'Cross-Co...   \n220  ['Badminton' 'Baseball' 'Basketball' 'Cross-Co...   \n\n                                      music_facilities  \\\n0                                              ['Art']   \n1                                ['Art' 'Photography']   \n2    ['Art' 'Band' 'Ceramics/Sculpting' 'Choir' 'Da...   \n3    ['Art' 'Band' 'Ceramics/Sculpting' 'Choir' 'Da...   \n4    ['Art' 'Band' 'Ceramics/Sculpting' 'Choir' 'Da...   \n..                                                 ...   \n216                              ['No data available']   \n217                              ['No data available']   \n218  ['Art' 'Band' 'Ceramics/Sculpting' 'Choir' 'Mu...   \n219  ['Art' 'Band' 'Ceramics/Sculpting' 'Choir' 'Cu...   \n220  ['Art' 'Band' 'Ceramics/Sculpting' 'Choir' 'Da...   \n\n                            after_school_opportunities  \\\n0    ['Athletic' 'chevron_right' 'Basketball' 'chev...   \n1                                ['No data available']   \n2    ['Academic' 'chevron_right' 'National Honor So...   \n3    ['Academic' 'chevron_right' 'AVID Club/Univers...   \n4    ['Academic' 'chevron_right' 'World Language Cl...   \n..                                                 ...   \n216                              ['No data available']   \n217                              ['No data available']   \n218  ['Academic' 'chevron_right' 'Math Club' 'chevr...   \n219  ['Academic' 'chevron_right' 'Various Academic ...   \n220  ['Academic' 'Arts' 'Athletic' 'Career and Tech...   \n\n                                      other_facilities  \\\n0         ['Dedicated Counselors' 'chevron_right' '1']   \n1            ['Art Room' 'Indoor air quality control']   \n2    ['Art Room' 'Auditorium' 'Book Store' 'Cafeter...   \n3    ['Art Room' 'Auditorium' 'Book Store' 'Cafeter...   \n4    ['Art Room' 'Auditorium' 'Book Store' 'Cafeter...   \n..                                                 ...   \n216  ['Cafeteria (Onsite food service)' 'Technology...   \n217                              ['No data available']   \n218  ['Art Room' 'Cafeteria (Onsite food service)' ...   \n219  ['Art Room' 'Auditorium' 'Book Store' 'Cafeter...   \n220  ['Art Room' 'Auditorium' 'Cafeteria (Onsite fo...   \n\n                                      student_services acad_focus_1  \\\n0    ['Assistance with Material Needs' 'McKinney-Ve...            1   \n1    ['Assistance with Material Needs' 'McKinney-Ve...            1   \n2                                ['No data available']            1   \n3    ['Dedicated School Counselor' 'chevron_right' ...            1   \n4                                ['No data available']            0   \n..                                                 ...          ...   \n216                              ['No data available']            0   \n217                              ['No data available']            0   \n218  ['Dedicated School Counselor' 'chevron_right' ...            1   \n219                              ['No data available']            1   \n220  ['Dedicated School Counselor' 'chevron_right' ...            1   \n\n    acad_focus_2 acad_focus_3 acad_focus_4 acad_focus_5  \n0              1            1            1            1  \n1              1            1            1            1  \n2              1            1            1            1  \n3              1            1            1            1  \n4              0            0            0            0  \n..           ...          ...          ...          ...  \n216            0            0            0            0  \n217            0            0            0            0  \n218            1            1            1            1  \n219            1            1            1            1  \n220            1            1            1            1  \n\n[221 rows x 48 columns]",
      "text/html": "<div>\n<style scoped>\n    .dataframe tbody tr th:only-of-type {\n        vertical-align: middle;\n    }\n\n    .dataframe tbody tr th {\n        vertical-align: top;\n    }\n\n    .dataframe thead th {\n        text-align: right;\n    }\n</style>\n<table border=\"1\" class=\"dataframe\">\n  <thead>\n    <tr style=\"text-align: right;\">\n      <th></th>\n      <th>School_name</th>\n      <th>school_type</th>\n      <th>city</th>\n      <th>zipcode</th>\n      <th>edu_range</th>\n      <th>school_grade</th>\n      <th>title_i_status</th>\n      <th>total_students</th>\n      <th>african_american</th>\n      <th>african_american_percent</th>\n      <th>...</th>\n      <th>sports_facilities</th>\n      <th>music_facilities</th>\n      <th>after_school_opportunities</th>\n      <th>other_facilities</th>\n      <th>student_services</th>\n      <th>acad_focus_1</th>\n      <th>acad_focus_2</th>\n      <th>acad_focus_3</th>\n      <th>acad_focus_4</th>\n      <th>acad_focus_5</th>\n    </tr>\n  </thead>\n  <tbody>\n    <tr>\n      <th>0</th>\n      <td>Academy with Community Partners</td>\n      <td>Public</td>\n      <td>Mesa</td>\n      <td>85203</td>\n      <td>9 - 12</td>\n      <td>B</td>\n      <td>1</td>\n      <td>169</td>\n      <td>13</td>\n      <td>7.69</td>\n      <td>...</td>\n      <td>['Basketball' 'Others' 'chevron_right' 'Flag F...</td>\n      <td>['Art']</td>\n      <td>['Athletic' 'chevron_right' 'Basketball' 'chev...</td>\n      <td>['Dedicated Counselors' 'chevron_right' '1']</td>\n      <td>['Assistance with Material Needs' 'McKinney-Ve...</td>\n      <td>1</td>\n      <td>1</td>\n      <td>1</td>\n      <td>1</td>\n      <td>1</td>\n    </tr>\n    <tr>\n      <th>1</th>\n      <td>Accelerated Learning Center</td>\n      <td>Public</td>\n      <td>Phoenix</td>\n      <td>85028</td>\n      <td>9 - 12</td>\n      <td>A</td>\n      <td>0</td>\n      <td>153</td>\n      <td>10</td>\n      <td>10.0</td>\n      <td>...</td>\n      <td>['No data available']</td>\n      <td>['Art' 'Photography']</td>\n      <td>['No data available']</td>\n      <td>['Art Room' 'Indoor air quality control']</td>\n      <td>['Assistance with Material Needs' 'McKinney-Ve...</td>\n      <td>1</td>\n      <td>1</td>\n      <td>1</td>\n      <td>1</td>\n      <td>1</td>\n    </tr>\n    <tr>\n      <th>2</th>\n      <td>Agua Fria High School</td>\n      <td>Public</td>\n      <td>Avondale</td>\n      <td>85323</td>\n      <td>9 - 12</td>\n      <td>B</td>\n      <td>1</td>\n      <td>1653</td>\n      <td>177</td>\n      <td>10.71</td>\n      <td>...</td>\n      <td>['Badminton' 'Baseball' 'Basketball' 'Cross-Co...</td>\n      <td>['Art' 'Band' 'Ceramics/Sculpting' 'Choir' 'Da...</td>\n      <td>['Academic' 'chevron_right' 'National Honor So...</td>\n      <td>['Art Room' 'Auditorium' 'Book Store' 'Cafeter...</td>\n      <td>['No data available']</td>\n      <td>1</td>\n      <td>1</td>\n      <td>1</td>\n      <td>1</td>\n      <td>1</td>\n    </tr>\n    <tr>\n      <th>3</th>\n      <td>Alhambra High School</td>\n      <td>Public</td>\n      <td>Phoenix</td>\n      <td>85019</td>\n      <td>9 - 12</td>\n      <td>C</td>\n      <td>1</td>\n      <td>2283</td>\n      <td>235</td>\n      <td>10.29</td>\n      <td>...</td>\n      <td>['Badminton' 'Baseball' 'Basketball' 'Cross-Co...</td>\n      <td>['Art' 'Band' 'Ceramics/Sculpting' 'Choir' 'Da...</td>\n      <td>['Academic' 'chevron_right' 'AVID Club/Univers...</td>\n      <td>['Art Room' 'Auditorium' 'Book Store' 'Cafeter...</td>\n      <td>['Dedicated School Counselor' 'chevron_right' ...</td>\n      <td>1</td>\n      <td>1</td>\n      <td>1</td>\n      <td>1</td>\n      <td>1</td>\n    </tr>\n    <tr>\n      <th>4</th>\n      <td>Apollo High School</td>\n      <td>Public</td>\n      <td>Glendale</td>\n      <td>85302</td>\n      <td>9 - 12</td>\n      <td>B</td>\n      <td>1</td>\n      <td>2198</td>\n      <td>176</td>\n      <td>8.01</td>\n      <td>...</td>\n      <td>['Badminton' 'Baseball' 'Basketball' 'Cross-Co...</td>\n      <td>['Art' 'Band' 'Ceramics/Sculpting' 'Choir' 'Da...</td>\n      <td>['Academic' 'chevron_right' 'World Language Cl...</td>\n      <td>['Art Room' 'Auditorium' 'Book Store' 'Cafeter...</td>\n      <td>['No data available']</td>\n      <td>0</td>\n      <td>0</td>\n      <td>0</td>\n      <td>0</td>\n      <td>0</td>\n    </tr>\n    <tr>\n      <th>...</th>\n      <td>...</td>\n      <td>...</td>\n      <td>...</td>\n      <td>...</td>\n      <td>...</td>\n      <td>...</td>\n      <td>...</td>\n      <td>...</td>\n      <td>...</td>\n      <td>...</td>\n      <td>...</td>\n      <td>...</td>\n      <td>...</td>\n      <td>...</td>\n      <td>...</td>\n      <td>...</td>\n      <td>...</td>\n      <td>...</td>\n      <td>...</td>\n      <td>...</td>\n      <td>...</td>\n    </tr>\n    <tr>\n      <th>216</th>\n      <td>Wickenburg Virtual Academy</td>\n      <td>Public</td>\n      <td>Wickenburg</td>\n      <td>85390</td>\n      <td>Kindergarten - 12</td>\n      <td>B</td>\n      <td>0</td>\n      <td>78</td>\n      <td>10</td>\n      <td>10.0</td>\n      <td>...</td>\n      <td>['Baseball' 'Basketball' 'Cross-Country' 'Foot...</td>\n      <td>['No data available']</td>\n      <td>['No data available']</td>\n      <td>['Cafeteria (Onsite food service)' 'Technology...</td>\n      <td>['No data available']</td>\n      <td>0</td>\n      <td>0</td>\n      <td>0</td>\n      <td>0</td>\n      <td>0</td>\n    </tr>\n    <tr>\n      <th>217</th>\n      <td>Williams Field High School</td>\n      <td>Public</td>\n      <td>Higley</td>\n      <td>85236</td>\n      <td>8 - 12</td>\n      <td>A</td>\n      <td>0</td>\n      <td>2115</td>\n      <td>165</td>\n      <td>7.8</td>\n      <td>...</td>\n      <td>['No data available']</td>\n      <td>['No data available']</td>\n      <td>['No data available']</td>\n      <td>['No data available']</td>\n      <td>['No data available']</td>\n      <td>0</td>\n      <td>0</td>\n      <td>0</td>\n      <td>0</td>\n      <td>0</td>\n    </tr>\n    <tr>\n      <th>218</th>\n      <td>Willis Junior High School</td>\n      <td>Public</td>\n      <td>Chandler</td>\n      <td>85225</td>\n      <td>7 - 8</td>\n      <td>B</td>\n      <td>1</td>\n      <td>858</td>\n      <td>48</td>\n      <td>5.59</td>\n      <td>...</td>\n      <td>['Baseball' 'Basketball' 'Cross-Country' 'Foot...</td>\n      <td>['Art' 'Band' 'Ceramics/Sculpting' 'Choir' 'Mu...</td>\n      <td>['Academic' 'chevron_right' 'Math Club' 'chevr...</td>\n      <td>['Art Room' 'Cafeteria (Onsite food service)' ...</td>\n      <td>['Dedicated School Counselor' 'chevron_right' ...</td>\n      <td>1</td>\n      <td>1</td>\n      <td>1</td>\n      <td>1</td>\n      <td>1</td>\n    </tr>\n    <tr>\n      <th>219</th>\n      <td>Willow Canyon High School</td>\n      <td>Public</td>\n      <td>Surprise</td>\n      <td>85374</td>\n      <td>7 - 12</td>\n      <td>A</td>\n      <td>0</td>\n      <td>1787</td>\n      <td>137</td>\n      <td>7.67</td>\n      <td>...</td>\n      <td>['Badminton' 'Baseball' 'Basketball' 'Cross-Co...</td>\n      <td>['Art' 'Band' 'Ceramics/Sculpting' 'Choir' 'Cu...</td>\n      <td>['Academic' 'chevron_right' 'Various Academic ...</td>\n      <td>['Art Room' 'Auditorium' 'Book Store' 'Cafeter...</td>\n      <td>['No data available']</td>\n      <td>1</td>\n      <td>1</td>\n      <td>1</td>\n      <td>1</td>\n      <td>1</td>\n    </tr>\n    <tr>\n      <th>220</th>\n      <td>Youngker High School</td>\n      <td>Public</td>\n      <td>Buckeye</td>\n      <td>85326</td>\n      <td>9 - 12</td>\n      <td>A</td>\n      <td>1</td>\n      <td>2107</td>\n      <td>192</td>\n      <td>9.11</td>\n      <td>...</td>\n      <td>['Badminton' 'Baseball' 'Basketball' 'Cross-Co...</td>\n      <td>['Art' 'Band' 'Ceramics/Sculpting' 'Choir' 'Da...</td>\n      <td>['Academic' 'Arts' 'Athletic' 'Career and Tech...</td>\n      <td>['Art Room' 'Auditorium' 'Cafeteria (Onsite fo...</td>\n      <td>['Dedicated School Counselor' 'chevron_right' ...</td>\n      <td>1</td>\n      <td>1</td>\n      <td>1</td>\n      <td>1</td>\n      <td>1</td>\n    </tr>\n  </tbody>\n</table>\n<p>221 rows × 48 columns</p>\n</div>"
     },
     "execution_count": 226,
     "metadata": {},
     "output_type": "execute_result"
    }
   ],
   "source": [
    "column_numbers_to_convert = [6,43,44,45,46,47]\n",
    "# for col_num in column_numbers_to_convert:\n",
    "school_data.iloc[:, [6,43,44,45,46,47]] = school_data.iloc[:, [6,43,44,45,46,47]].replace(to_replace = 'No',value =0)\n",
    "school_data.iloc[:, [6,43,44,45,46,47]] = school_data.iloc[:, [6,43,44,45,46,47]].replace(to_replace = 'Yes',value =1)\n",
    "school_data"
   ],
   "metadata": {
    "collapsed": false,
    "ExecuteTime": {
     "end_time": "2024-03-10T23:14:29.143863Z",
     "start_time": "2024-03-10T23:14:28.613418Z"
    }
   },
   "id": "c6303957d9e472b4"
  },
  {
   "cell_type": "code",
   "execution_count": 227,
   "outputs": [],
   "source": [
    "columns = ['personnel_federal_expenditure', \n",
    "           'personnel_state_and_local_expenditure', \n",
    "           'non_personnel_federal_expenditure', \n",
    "           'non_personnel_state_and_local_expenditure', \n",
    "           'total_per_pupil_expenditure']"
   ],
   "metadata": {
    "collapsed": false,
    "ExecuteTime": {
     "end_time": "2024-03-10T23:14:29.144001Z",
     "start_time": "2024-03-10T23:14:28.622321Z"
    }
   },
   "id": "681a23bc0ef79bf"
  },
  {
   "cell_type": "code",
   "execution_count": 228,
   "outputs": [
    {
     "name": "stdout",
     "output_type": "stream",
     "text": [
      "personnel_federal_expenditure\n",
      "False    139\n",
      "True      82\n",
      "Name: count, dtype: int64\n",
      "personnel_state_and_local_expenditure\n",
      "False    139\n",
      "True      82\n",
      "Name: count, dtype: int64\n",
      "non_personnel_federal_expenditure\n",
      "False    139\n",
      "True      82\n",
      "Name: count, dtype: int64\n",
      "non_personnel_state_and_local_expenditure\n",
      "False    139\n",
      "True      82\n",
      "Name: count, dtype: int64\n",
      "total_per_pupil_expenditure\n",
      "False    139\n",
      "True      82\n",
      "Name: count, dtype: int64\n"
     ]
    }
   ],
   "source": [
    "for i in columns:\n",
    "    print(school_data[i].isnull().value_counts())"
   ],
   "metadata": {
    "collapsed": false,
    "ExecuteTime": {
     "end_time": "2024-03-10T23:14:29.144152Z",
     "start_time": "2024-03-10T23:14:28.628249Z"
    }
   },
   "id": "3108f54056c71a16"
  },
  {
   "cell_type": "code",
   "execution_count": 229,
   "outputs": [],
   "source": [
    "for cols in columns:\n",
    "    school_data.fillna({cols: school_data[cols].dropna().min()}, inplace=True)\n"
   ],
   "metadata": {
    "collapsed": false,
    "ExecuteTime": {
     "end_time": "2024-03-10T23:14:29.144281Z",
     "start_time": "2024-03-10T23:14:28.630675Z"
    }
   },
   "id": "6ea69a0131252c2d"
  },
  {
   "cell_type": "code",
   "execution_count": 230,
   "outputs": [
    {
     "name": "stdout",
     "output_type": "stream",
     "text": [
      "personnel_federal_expenditure\n",
      "False    221\n",
      "Name: count, dtype: int64\n",
      "personnel_state_and_local_expenditure\n",
      "False    221\n",
      "Name: count, dtype: int64\n",
      "non_personnel_federal_expenditure\n",
      "False    221\n",
      "Name: count, dtype: int64\n",
      "non_personnel_state_and_local_expenditure\n",
      "False    221\n",
      "Name: count, dtype: int64\n",
      "total_per_pupil_expenditure\n",
      "False    221\n",
      "Name: count, dtype: int64\n"
     ]
    }
   ],
   "source": [
    "for i in columns:\n",
    "    print(school_data[i].isnull().value_counts())"
   ],
   "metadata": {
    "collapsed": false,
    "ExecuteTime": {
     "end_time": "2024-03-10T23:14:29.144456Z",
     "start_time": "2024-03-10T23:14:28.639820Z"
    }
   },
   "id": "ccfa3877941bb0cd"
  },
  {
   "cell_type": "code",
   "execution_count": 231,
   "outputs": [
    {
     "data": {
      "text/plain": "              School_name  school_type    city   zipcode edu_range  \\\n152  Pillar Academy Online      Public  Phoenix    85021    9 - 12   \n\n    school_grade title_i_status total_students african_american  \\\n152            B              0             10                0   \n\n    african_american_percent  ...      sports_facilities  \\\n152                      0.0  ...  ['No data available']   \n\n          music_facilities after_school_opportunities       other_facilities  \\\n152  ['No data available']      ['No data available']  ['No data available']   \n\n          student_services acad_focus_1 acad_focus_2 acad_focus_3  \\\n152  ['No data available']            0            0            0   \n\n    acad_focus_4 acad_focus_5  \n152            0            0  \n\n[1 rows x 48 columns]",
      "text/html": "<div>\n<style scoped>\n    .dataframe tbody tr th:only-of-type {\n        vertical-align: middle;\n    }\n\n    .dataframe tbody tr th {\n        vertical-align: top;\n    }\n\n    .dataframe thead th {\n        text-align: right;\n    }\n</style>\n<table border=\"1\" class=\"dataframe\">\n  <thead>\n    <tr style=\"text-align: right;\">\n      <th></th>\n      <th>School_name</th>\n      <th>school_type</th>\n      <th>city</th>\n      <th>zipcode</th>\n      <th>edu_range</th>\n      <th>school_grade</th>\n      <th>title_i_status</th>\n      <th>total_students</th>\n      <th>african_american</th>\n      <th>african_american_percent</th>\n      <th>...</th>\n      <th>sports_facilities</th>\n      <th>music_facilities</th>\n      <th>after_school_opportunities</th>\n      <th>other_facilities</th>\n      <th>student_services</th>\n      <th>acad_focus_1</th>\n      <th>acad_focus_2</th>\n      <th>acad_focus_3</th>\n      <th>acad_focus_4</th>\n      <th>acad_focus_5</th>\n    </tr>\n  </thead>\n  <tbody>\n    <tr>\n      <th>152</th>\n      <td>Pillar Academy Online</td>\n      <td>Public</td>\n      <td>Phoenix</td>\n      <td>85021</td>\n      <td>9 - 12</td>\n      <td>B</td>\n      <td>0</td>\n      <td>10</td>\n      <td>0</td>\n      <td>0.0</td>\n      <td>...</td>\n      <td>['No data available']</td>\n      <td>['No data available']</td>\n      <td>['No data available']</td>\n      <td>['No data available']</td>\n      <td>['No data available']</td>\n      <td>0</td>\n      <td>0</td>\n      <td>0</td>\n      <td>0</td>\n      <td>0</td>\n    </tr>\n  </tbody>\n</table>\n<p>1 rows × 48 columns</p>\n</div>"
     },
     "execution_count": 231,
     "metadata": {},
     "output_type": "execute_result"
    }
   ],
   "source": [
    "school_data[school_data['total_students'] <= 10]"
   ],
   "metadata": {
    "collapsed": false,
    "ExecuteTime": {
     "end_time": "2024-03-10T23:14:29.144848Z",
     "start_time": "2024-03-10T23:14:28.651413Z"
    }
   },
   "id": "395bde70eef43bfb"
  },
  {
   "cell_type": "code",
   "execution_count": 232,
   "outputs": [],
   "source": [
    "school_data.drop(school_data[school_data['total_students'] <= 10].index, inplace=True)"
   ],
   "metadata": {
    "collapsed": false,
    "ExecuteTime": {
     "end_time": "2024-03-10T23:14:29.144929Z",
     "start_time": "2024-03-10T23:14:28.657876Z"
    }
   },
   "id": "2141ca872c3edb85"
  },
  {
   "cell_type": "code",
   "execution_count": 233,
   "outputs": [
    {
     "data": {
      "text/plain": "Empty DataFrame\nColumns: [School_name , school_type, city , zipcode, edu_range, school_grade, title_i_status, total_students, african_american, african_american_percent, hispanic, hispanic_percent, native_american, native_american_percent, white, white_percent, multiple_race, multiple_race_percent, asian, asian_percent, pacific_islander, pacific_islander_percent, proficiency_pts, Grad_Rate_pts, Dropout_rate, CCRI_points, promotion_rate, No_of_students_adv_placement_course, Students_with_Chronic_Absenteeism, crime_rate, total_students_bullied, personnel_federal_expenditure, personnel_state_and_local_expenditure, non_personnel_federal_expenditure, non_personnel_state_and_local_expenditure, total_per_pupil_expenditure, awards_and_recognitions, academic_offerings, sports_facilities, music_facilities, after_school_opportunities, other_facilities, student_services, acad_focus_1, acad_focus_2, acad_focus_3, acad_focus_4, acad_focus_5]\nIndex: []\n\n[0 rows x 48 columns]",
      "text/html": "<div>\n<style scoped>\n    .dataframe tbody tr th:only-of-type {\n        vertical-align: middle;\n    }\n\n    .dataframe tbody tr th {\n        vertical-align: top;\n    }\n\n    .dataframe thead th {\n        text-align: right;\n    }\n</style>\n<table border=\"1\" class=\"dataframe\">\n  <thead>\n    <tr style=\"text-align: right;\">\n      <th></th>\n      <th>School_name</th>\n      <th>school_type</th>\n      <th>city</th>\n      <th>zipcode</th>\n      <th>edu_range</th>\n      <th>school_grade</th>\n      <th>title_i_status</th>\n      <th>total_students</th>\n      <th>african_american</th>\n      <th>african_american_percent</th>\n      <th>...</th>\n      <th>sports_facilities</th>\n      <th>music_facilities</th>\n      <th>after_school_opportunities</th>\n      <th>other_facilities</th>\n      <th>student_services</th>\n      <th>acad_focus_1</th>\n      <th>acad_focus_2</th>\n      <th>acad_focus_3</th>\n      <th>acad_focus_4</th>\n      <th>acad_focus_5</th>\n    </tr>\n  </thead>\n  <tbody>\n  </tbody>\n</table>\n<p>0 rows × 48 columns</p>\n</div>"
     },
     "execution_count": 233,
     "metadata": {},
     "output_type": "execute_result"
    }
   ],
   "source": [
    "school_data[school_data['total_students'] <= 10]"
   ],
   "metadata": {
    "collapsed": false,
    "ExecuteTime": {
     "end_time": "2024-03-10T23:14:29.148222Z",
     "start_time": "2024-03-10T23:14:28.668173Z"
    }
   },
   "id": "af656fe62b7a9d2b"
  },
  {
   "cell_type": "code",
   "execution_count": 234,
   "outputs": [
    {
     "data": {
      "text/plain": "array(['B', 'A', 'C', 'D', 'F'], dtype=object)"
     },
     "execution_count": 234,
     "metadata": {},
     "output_type": "execute_result"
    }
   ],
   "source": [
    "school_data['school_grade'].unique()"
   ],
   "metadata": {
    "collapsed": false,
    "ExecuteTime": {
     "end_time": "2024-03-10T23:14:29.148561Z",
     "start_time": "2024-03-10T23:14:28.671112Z"
    }
   },
   "id": "ab07db4d67e341ba"
  },
  {
   "cell_type": "code",
   "execution_count": 235,
   "outputs": [],
   "source": [
    "grade_mapping = {\n",
    "    'A': 5,\n",
    "    'B': 4,\n",
    "    'C': 3,\n",
    "    'D': 2,\n",
    "    'F': 1\n",
    "}"
   ],
   "metadata": {
    "collapsed": false,
    "ExecuteTime": {
     "end_time": "2024-03-10T23:14:29.148659Z",
     "start_time": "2024-03-10T23:14:28.677309Z"
    }
   },
   "id": "ebc7c0fee3b4fefd"
  },
  {
   "cell_type": "code",
   "execution_count": 236,
   "outputs": [
    {
     "data": {
      "text/plain": "0      4\n1      5\n2      4\n3      3\n4      4\n      ..\n216    4\n217    5\n218    4\n219    5\n220    5\nName: school_grade, Length: 220, dtype: int64"
     },
     "execution_count": 236,
     "metadata": {},
     "output_type": "execute_result"
    }
   ],
   "source": [
    "school_data['school_grade'] =school_data['school_grade'].map(grade_mapping)\n",
    "school_data['school_grade']"
   ],
   "metadata": {
    "collapsed": false,
    "ExecuteTime": {
     "end_time": "2024-03-10T23:14:29.148873Z",
     "start_time": "2024-03-10T23:14:28.682568Z"
    }
   },
   "id": "9966d72962ea68e8"
  },
  {
   "cell_type": "code",
   "execution_count": 237,
   "outputs": [
    {
     "data": {
      "text/plain": "                        School_name  school_type       city   zipcode  \\\n0    Academy with Community Partners      Public        Mesa    85203   \n1        Accelerated Learning Center      Public     Phoenix    85028   \n2              Agua Fria High School      Public    Avondale    85323   \n3               Alhambra High School      Public     Phoenix    85019   \n4                 Apollo High School      Public    Glendale    85302   \n..                               ...         ...         ...      ...   \n216       Wickenburg Virtual Academy      Public  Wickenburg    85390   \n217       Williams Field High School      Public      Higley    85236   \n218        Willis Junior High School      Public    Chandler    85225   \n219        Willow Canyon High School      Public    Surprise    85374   \n220             Youngker High School      Public     Buckeye    85326   \n\n           edu_range  school_grade title_i_status total_students  \\\n0               9 12             4              1            169   \n1               9 12             5              0            153   \n2               9 12             4              1           1653   \n3               9 12             3              1           2283   \n4               9 12             4              1           2198   \n..               ...           ...            ...            ...   \n216  Kindergarten 12             4              0             78   \n217             8 12             5              0           2115   \n218              7 8             4              1            858   \n219             7 12             5              0           1787   \n220             9 12             5              1           2107   \n\n    african_american african_american_percent  ...  \\\n0                 13                     7.69  ...   \n1                 10                     10.0  ...   \n2                177                    10.71  ...   \n3                235                    10.29  ...   \n4                176                     8.01  ...   \n..               ...                      ...  ...   \n216               10                     10.0  ...   \n217              165                      7.8  ...   \n218               48                     5.59  ...   \n219              137                     7.67  ...   \n220              192                     9.11  ...   \n\n                                     sports_facilities  \\\n0    ['Basketball' 'Others' 'chevron_right' 'Flag F...   \n1                                ['No data available']   \n2    ['Badminton' 'Baseball' 'Basketball' 'Cross-Co...   \n3    ['Badminton' 'Baseball' 'Basketball' 'Cross-Co...   \n4    ['Badminton' 'Baseball' 'Basketball' 'Cross-Co...   \n..                                                 ...   \n216  ['Baseball' 'Basketball' 'Cross-Country' 'Foot...   \n217                              ['No data available']   \n218  ['Baseball' 'Basketball' 'Cross-Country' 'Foot...   \n219  ['Badminton' 'Baseball' 'Basketball' 'Cross-Co...   \n220  ['Badminton' 'Baseball' 'Basketball' 'Cross-Co...   \n\n                                      music_facilities  \\\n0                                              ['Art']   \n1                                ['Art' 'Photography']   \n2    ['Art' 'Band' 'Ceramics/Sculpting' 'Choir' 'Da...   \n3    ['Art' 'Band' 'Ceramics/Sculpting' 'Choir' 'Da...   \n4    ['Art' 'Band' 'Ceramics/Sculpting' 'Choir' 'Da...   \n..                                                 ...   \n216                              ['No data available']   \n217                              ['No data available']   \n218  ['Art' 'Band' 'Ceramics/Sculpting' 'Choir' 'Mu...   \n219  ['Art' 'Band' 'Ceramics/Sculpting' 'Choir' 'Cu...   \n220  ['Art' 'Band' 'Ceramics/Sculpting' 'Choir' 'Da...   \n\n                            after_school_opportunities  \\\n0    ['Athletic' 'chevron_right' 'Basketball' 'chev...   \n1                                ['No data available']   \n2    ['Academic' 'chevron_right' 'National Honor So...   \n3    ['Academic' 'chevron_right' 'AVID Club/Univers...   \n4    ['Academic' 'chevron_right' 'World Language Cl...   \n..                                                 ...   \n216                              ['No data available']   \n217                              ['No data available']   \n218  ['Academic' 'chevron_right' 'Math Club' 'chevr...   \n219  ['Academic' 'chevron_right' 'Various Academic ...   \n220  ['Academic' 'Arts' 'Athletic' 'Career and Tech...   \n\n                                      other_facilities  \\\n0         ['Dedicated Counselors' 'chevron_right' '1']   \n1            ['Art Room' 'Indoor air quality control']   \n2    ['Art Room' 'Auditorium' 'Book Store' 'Cafeter...   \n3    ['Art Room' 'Auditorium' 'Book Store' 'Cafeter...   \n4    ['Art Room' 'Auditorium' 'Book Store' 'Cafeter...   \n..                                                 ...   \n216  ['Cafeteria (Onsite food service)' 'Technology...   \n217                              ['No data available']   \n218  ['Art Room' 'Cafeteria (Onsite food service)' ...   \n219  ['Art Room' 'Auditorium' 'Book Store' 'Cafeter...   \n220  ['Art Room' 'Auditorium' 'Cafeteria (Onsite fo...   \n\n                                      student_services acad_focus_1  \\\n0    ['Assistance with Material Needs' 'McKinney-Ve...            1   \n1    ['Assistance with Material Needs' 'McKinney-Ve...            1   \n2                                ['No data available']            1   \n3    ['Dedicated School Counselor' 'chevron_right' ...            1   \n4                                ['No data available']            0   \n..                                                 ...          ...   \n216                              ['No data available']            0   \n217                              ['No data available']            0   \n218  ['Dedicated School Counselor' 'chevron_right' ...            1   \n219                              ['No data available']            1   \n220  ['Dedicated School Counselor' 'chevron_right' ...            1   \n\n    acad_focus_2 acad_focus_3 acad_focus_4 acad_focus_5  \n0              1            1            1            1  \n1              1            1            1            1  \n2              1            1            1            1  \n3              1            1            1            1  \n4              0            0            0            0  \n..           ...          ...          ...          ...  \n216            0            0            0            0  \n217            0            0            0            0  \n218            1            1            1            1  \n219            1            1            1            1  \n220            1            1            1            1  \n\n[220 rows x 48 columns]",
      "text/html": "<div>\n<style scoped>\n    .dataframe tbody tr th:only-of-type {\n        vertical-align: middle;\n    }\n\n    .dataframe tbody tr th {\n        vertical-align: top;\n    }\n\n    .dataframe thead th {\n        text-align: right;\n    }\n</style>\n<table border=\"1\" class=\"dataframe\">\n  <thead>\n    <tr style=\"text-align: right;\">\n      <th></th>\n      <th>School_name</th>\n      <th>school_type</th>\n      <th>city</th>\n      <th>zipcode</th>\n      <th>edu_range</th>\n      <th>school_grade</th>\n      <th>title_i_status</th>\n      <th>total_students</th>\n      <th>african_american</th>\n      <th>african_american_percent</th>\n      <th>...</th>\n      <th>sports_facilities</th>\n      <th>music_facilities</th>\n      <th>after_school_opportunities</th>\n      <th>other_facilities</th>\n      <th>student_services</th>\n      <th>acad_focus_1</th>\n      <th>acad_focus_2</th>\n      <th>acad_focus_3</th>\n      <th>acad_focus_4</th>\n      <th>acad_focus_5</th>\n    </tr>\n  </thead>\n  <tbody>\n    <tr>\n      <th>0</th>\n      <td>Academy with Community Partners</td>\n      <td>Public</td>\n      <td>Mesa</td>\n      <td>85203</td>\n      <td>9 12</td>\n      <td>4</td>\n      <td>1</td>\n      <td>169</td>\n      <td>13</td>\n      <td>7.69</td>\n      <td>...</td>\n      <td>['Basketball' 'Others' 'chevron_right' 'Flag F...</td>\n      <td>['Art']</td>\n      <td>['Athletic' 'chevron_right' 'Basketball' 'chev...</td>\n      <td>['Dedicated Counselors' 'chevron_right' '1']</td>\n      <td>['Assistance with Material Needs' 'McKinney-Ve...</td>\n      <td>1</td>\n      <td>1</td>\n      <td>1</td>\n      <td>1</td>\n      <td>1</td>\n    </tr>\n    <tr>\n      <th>1</th>\n      <td>Accelerated Learning Center</td>\n      <td>Public</td>\n      <td>Phoenix</td>\n      <td>85028</td>\n      <td>9 12</td>\n      <td>5</td>\n      <td>0</td>\n      <td>153</td>\n      <td>10</td>\n      <td>10.0</td>\n      <td>...</td>\n      <td>['No data available']</td>\n      <td>['Art' 'Photography']</td>\n      <td>['No data available']</td>\n      <td>['Art Room' 'Indoor air quality control']</td>\n      <td>['Assistance with Material Needs' 'McKinney-Ve...</td>\n      <td>1</td>\n      <td>1</td>\n      <td>1</td>\n      <td>1</td>\n      <td>1</td>\n    </tr>\n    <tr>\n      <th>2</th>\n      <td>Agua Fria High School</td>\n      <td>Public</td>\n      <td>Avondale</td>\n      <td>85323</td>\n      <td>9 12</td>\n      <td>4</td>\n      <td>1</td>\n      <td>1653</td>\n      <td>177</td>\n      <td>10.71</td>\n      <td>...</td>\n      <td>['Badminton' 'Baseball' 'Basketball' 'Cross-Co...</td>\n      <td>['Art' 'Band' 'Ceramics/Sculpting' 'Choir' 'Da...</td>\n      <td>['Academic' 'chevron_right' 'National Honor So...</td>\n      <td>['Art Room' 'Auditorium' 'Book Store' 'Cafeter...</td>\n      <td>['No data available']</td>\n      <td>1</td>\n      <td>1</td>\n      <td>1</td>\n      <td>1</td>\n      <td>1</td>\n    </tr>\n    <tr>\n      <th>3</th>\n      <td>Alhambra High School</td>\n      <td>Public</td>\n      <td>Phoenix</td>\n      <td>85019</td>\n      <td>9 12</td>\n      <td>3</td>\n      <td>1</td>\n      <td>2283</td>\n      <td>235</td>\n      <td>10.29</td>\n      <td>...</td>\n      <td>['Badminton' 'Baseball' 'Basketball' 'Cross-Co...</td>\n      <td>['Art' 'Band' 'Ceramics/Sculpting' 'Choir' 'Da...</td>\n      <td>['Academic' 'chevron_right' 'AVID Club/Univers...</td>\n      <td>['Art Room' 'Auditorium' 'Book Store' 'Cafeter...</td>\n      <td>['Dedicated School Counselor' 'chevron_right' ...</td>\n      <td>1</td>\n      <td>1</td>\n      <td>1</td>\n      <td>1</td>\n      <td>1</td>\n    </tr>\n    <tr>\n      <th>4</th>\n      <td>Apollo High School</td>\n      <td>Public</td>\n      <td>Glendale</td>\n      <td>85302</td>\n      <td>9 12</td>\n      <td>4</td>\n      <td>1</td>\n      <td>2198</td>\n      <td>176</td>\n      <td>8.01</td>\n      <td>...</td>\n      <td>['Badminton' 'Baseball' 'Basketball' 'Cross-Co...</td>\n      <td>['Art' 'Band' 'Ceramics/Sculpting' 'Choir' 'Da...</td>\n      <td>['Academic' 'chevron_right' 'World Language Cl...</td>\n      <td>['Art Room' 'Auditorium' 'Book Store' 'Cafeter...</td>\n      <td>['No data available']</td>\n      <td>0</td>\n      <td>0</td>\n      <td>0</td>\n      <td>0</td>\n      <td>0</td>\n    </tr>\n    <tr>\n      <th>...</th>\n      <td>...</td>\n      <td>...</td>\n      <td>...</td>\n      <td>...</td>\n      <td>...</td>\n      <td>...</td>\n      <td>...</td>\n      <td>...</td>\n      <td>...</td>\n      <td>...</td>\n      <td>...</td>\n      <td>...</td>\n      <td>...</td>\n      <td>...</td>\n      <td>...</td>\n      <td>...</td>\n      <td>...</td>\n      <td>...</td>\n      <td>...</td>\n      <td>...</td>\n      <td>...</td>\n    </tr>\n    <tr>\n      <th>216</th>\n      <td>Wickenburg Virtual Academy</td>\n      <td>Public</td>\n      <td>Wickenburg</td>\n      <td>85390</td>\n      <td>Kindergarten 12</td>\n      <td>4</td>\n      <td>0</td>\n      <td>78</td>\n      <td>10</td>\n      <td>10.0</td>\n      <td>...</td>\n      <td>['Baseball' 'Basketball' 'Cross-Country' 'Foot...</td>\n      <td>['No data available']</td>\n      <td>['No data available']</td>\n      <td>['Cafeteria (Onsite food service)' 'Technology...</td>\n      <td>['No data available']</td>\n      <td>0</td>\n      <td>0</td>\n      <td>0</td>\n      <td>0</td>\n      <td>0</td>\n    </tr>\n    <tr>\n      <th>217</th>\n      <td>Williams Field High School</td>\n      <td>Public</td>\n      <td>Higley</td>\n      <td>85236</td>\n      <td>8 12</td>\n      <td>5</td>\n      <td>0</td>\n      <td>2115</td>\n      <td>165</td>\n      <td>7.8</td>\n      <td>...</td>\n      <td>['No data available']</td>\n      <td>['No data available']</td>\n      <td>['No data available']</td>\n      <td>['No data available']</td>\n      <td>['No data available']</td>\n      <td>0</td>\n      <td>0</td>\n      <td>0</td>\n      <td>0</td>\n      <td>0</td>\n    </tr>\n    <tr>\n      <th>218</th>\n      <td>Willis Junior High School</td>\n      <td>Public</td>\n      <td>Chandler</td>\n      <td>85225</td>\n      <td>7 8</td>\n      <td>4</td>\n      <td>1</td>\n      <td>858</td>\n      <td>48</td>\n      <td>5.59</td>\n      <td>...</td>\n      <td>['Baseball' 'Basketball' 'Cross-Country' 'Foot...</td>\n      <td>['Art' 'Band' 'Ceramics/Sculpting' 'Choir' 'Mu...</td>\n      <td>['Academic' 'chevron_right' 'Math Club' 'chevr...</td>\n      <td>['Art Room' 'Cafeteria (Onsite food service)' ...</td>\n      <td>['Dedicated School Counselor' 'chevron_right' ...</td>\n      <td>1</td>\n      <td>1</td>\n      <td>1</td>\n      <td>1</td>\n      <td>1</td>\n    </tr>\n    <tr>\n      <th>219</th>\n      <td>Willow Canyon High School</td>\n      <td>Public</td>\n      <td>Surprise</td>\n      <td>85374</td>\n      <td>7 12</td>\n      <td>5</td>\n      <td>0</td>\n      <td>1787</td>\n      <td>137</td>\n      <td>7.67</td>\n      <td>...</td>\n      <td>['Badminton' 'Baseball' 'Basketball' 'Cross-Co...</td>\n      <td>['Art' 'Band' 'Ceramics/Sculpting' 'Choir' 'Cu...</td>\n      <td>['Academic' 'chevron_right' 'Various Academic ...</td>\n      <td>['Art Room' 'Auditorium' 'Book Store' 'Cafeter...</td>\n      <td>['No data available']</td>\n      <td>1</td>\n      <td>1</td>\n      <td>1</td>\n      <td>1</td>\n      <td>1</td>\n    </tr>\n    <tr>\n      <th>220</th>\n      <td>Youngker High School</td>\n      <td>Public</td>\n      <td>Buckeye</td>\n      <td>85326</td>\n      <td>9 12</td>\n      <td>5</td>\n      <td>1</td>\n      <td>2107</td>\n      <td>192</td>\n      <td>9.11</td>\n      <td>...</td>\n      <td>['Badminton' 'Baseball' 'Basketball' 'Cross-Co...</td>\n      <td>['Art' 'Band' 'Ceramics/Sculpting' 'Choir' 'Da...</td>\n      <td>['Academic' 'Arts' 'Athletic' 'Career and Tech...</td>\n      <td>['Art Room' 'Auditorium' 'Cafeteria (Onsite fo...</td>\n      <td>['Dedicated School Counselor' 'chevron_right' ...</td>\n      <td>1</td>\n      <td>1</td>\n      <td>1</td>\n      <td>1</td>\n      <td>1</td>\n    </tr>\n  </tbody>\n</table>\n<p>220 rows × 48 columns</p>\n</div>"
     },
     "execution_count": 237,
     "metadata": {},
     "output_type": "execute_result"
    }
   ],
   "source": [
    "school_data['edu_range'] = school_data['edu_range'].replace({' - ': ' '},regex=True)\n",
    "school_data"
   ],
   "metadata": {
    "collapsed": false,
    "ExecuteTime": {
     "end_time": "2024-03-10T23:14:29.149724Z",
     "start_time": "2024-03-10T23:14:28.690359Z"
    }
   },
   "id": "95d6d367ec32dfab"
  },
  {
   "cell_type": "code",
   "execution_count": 238,
   "outputs": [],
   "source": [
    "school_data['edu_range'] = school_data['edu_range'].replace({'Preschool.': '0 ', 'Kindergarten.': '0 '},regex=True)\n"
   ],
   "metadata": {
    "collapsed": false,
    "ExecuteTime": {
     "end_time": "2024-03-10T23:14:29.149830Z",
     "start_time": "2024-03-10T23:14:28.709233Z"
    }
   },
   "id": "faaaaa82ff869ef2"
  },
  {
   "cell_type": "code",
   "execution_count": 239,
   "outputs": [],
   "source": [
    "\n",
    "school_data.insert(5, 'elementary_school', None)\n",
    "school_data.insert(6, 'intermediate_school', None)\n",
    "school_data.insert(7, 'middle_school', None)\n",
    "school_data.insert(8, 'high_school', None)\n"
   ],
   "metadata": {
    "collapsed": false,
    "ExecuteTime": {
     "end_time": "2024-03-10T23:14:29.149943Z",
     "start_time": "2024-03-10T23:14:28.719981Z"
    }
   },
   "id": "e02ea90f6e6b885f"
  },
  {
   "cell_type": "code",
   "execution_count": 240,
   "outputs": [
    {
     "data": {
      "text/plain": "                        School_name  school_type       city   zipcode  \\\n0    Academy with Community Partners      Public        Mesa    85203   \n1        Accelerated Learning Center      Public     Phoenix    85028   \n2              Agua Fria High School      Public    Avondale    85323   \n3               Alhambra High School      Public     Phoenix    85019   \n4                 Apollo High School      Public    Glendale    85302   \n..                               ...         ...         ...      ...   \n216       Wickenburg Virtual Academy      Public  Wickenburg    85390   \n217       Williams Field High School      Public      Higley    85236   \n218        Willis Junior High School      Public    Chandler    85225   \n219        Willow Canyon High School      Public    Surprise    85374   \n220             Youngker High School      Public     Buckeye    85326   \n\n    edu_range elementary_school intermediate_school middle_school high_school  \\\n0        9 12              None                None          None        None   \n1        9 12              None                None          None        None   \n2        9 12              None                None          None        None   \n3        9 12              None                None          None        None   \n4        9 12              None                None          None        None   \n..        ...               ...                 ...           ...         ...   \n216      0 12              None                None          None        None   \n217      8 12              None                None          None        None   \n218       7 8              None                None          None        None   \n219      7 12              None                None          None        None   \n220      9 12              None                None          None        None   \n\n     school_grade  ...                                  sports_facilities  \\\n0               4  ...  ['Basketball' 'Others' 'chevron_right' 'Flag F...   \n1               5  ...                              ['No data available']   \n2               4  ...  ['Badminton' 'Baseball' 'Basketball' 'Cross-Co...   \n3               3  ...  ['Badminton' 'Baseball' 'Basketball' 'Cross-Co...   \n4               4  ...  ['Badminton' 'Baseball' 'Basketball' 'Cross-Co...   \n..            ...  ...                                                ...   \n216             4  ...  ['Baseball' 'Basketball' 'Cross-Country' 'Foot...   \n217             5  ...                              ['No data available']   \n218             4  ...  ['Baseball' 'Basketball' 'Cross-Country' 'Foot...   \n219             5  ...  ['Badminton' 'Baseball' 'Basketball' 'Cross-Co...   \n220             5  ...  ['Badminton' 'Baseball' 'Basketball' 'Cross-Co...   \n\n                                      music_facilities  \\\n0                                              ['Art']   \n1                                ['Art' 'Photography']   \n2    ['Art' 'Band' 'Ceramics/Sculpting' 'Choir' 'Da...   \n3    ['Art' 'Band' 'Ceramics/Sculpting' 'Choir' 'Da...   \n4    ['Art' 'Band' 'Ceramics/Sculpting' 'Choir' 'Da...   \n..                                                 ...   \n216                              ['No data available']   \n217                              ['No data available']   \n218  ['Art' 'Band' 'Ceramics/Sculpting' 'Choir' 'Mu...   \n219  ['Art' 'Band' 'Ceramics/Sculpting' 'Choir' 'Cu...   \n220  ['Art' 'Band' 'Ceramics/Sculpting' 'Choir' 'Da...   \n\n                            after_school_opportunities  \\\n0    ['Athletic' 'chevron_right' 'Basketball' 'chev...   \n1                                ['No data available']   \n2    ['Academic' 'chevron_right' 'National Honor So...   \n3    ['Academic' 'chevron_right' 'AVID Club/Univers...   \n4    ['Academic' 'chevron_right' 'World Language Cl...   \n..                                                 ...   \n216                              ['No data available']   \n217                              ['No data available']   \n218  ['Academic' 'chevron_right' 'Math Club' 'chevr...   \n219  ['Academic' 'chevron_right' 'Various Academic ...   \n220  ['Academic' 'Arts' 'Athletic' 'Career and Tech...   \n\n                                      other_facilities  \\\n0         ['Dedicated Counselors' 'chevron_right' '1']   \n1            ['Art Room' 'Indoor air quality control']   \n2    ['Art Room' 'Auditorium' 'Book Store' 'Cafeter...   \n3    ['Art Room' 'Auditorium' 'Book Store' 'Cafeter...   \n4    ['Art Room' 'Auditorium' 'Book Store' 'Cafeter...   \n..                                                 ...   \n216  ['Cafeteria (Onsite food service)' 'Technology...   \n217                              ['No data available']   \n218  ['Art Room' 'Cafeteria (Onsite food service)' ...   \n219  ['Art Room' 'Auditorium' 'Book Store' 'Cafeter...   \n220  ['Art Room' 'Auditorium' 'Cafeteria (Onsite fo...   \n\n                                      student_services acad_focus_1  \\\n0    ['Assistance with Material Needs' 'McKinney-Ve...            1   \n1    ['Assistance with Material Needs' 'McKinney-Ve...            1   \n2                                ['No data available']            1   \n3    ['Dedicated School Counselor' 'chevron_right' ...            1   \n4                                ['No data available']            0   \n..                                                 ...          ...   \n216                              ['No data available']            0   \n217                              ['No data available']            0   \n218  ['Dedicated School Counselor' 'chevron_right' ...            1   \n219                              ['No data available']            1   \n220  ['Dedicated School Counselor' 'chevron_right' ...            1   \n\n    acad_focus_2 acad_focus_3 acad_focus_4 acad_focus_5  \n0              1            1            1            1  \n1              1            1            1            1  \n2              1            1            1            1  \n3              1            1            1            1  \n4              0            0            0            0  \n..           ...          ...          ...          ...  \n216            0            0            0            0  \n217            0            0            0            0  \n218            1            1            1            1  \n219            1            1            1            1  \n220            1            1            1            1  \n\n[220 rows x 52 columns]",
      "text/html": "<div>\n<style scoped>\n    .dataframe tbody tr th:only-of-type {\n        vertical-align: middle;\n    }\n\n    .dataframe tbody tr th {\n        vertical-align: top;\n    }\n\n    .dataframe thead th {\n        text-align: right;\n    }\n</style>\n<table border=\"1\" class=\"dataframe\">\n  <thead>\n    <tr style=\"text-align: right;\">\n      <th></th>\n      <th>School_name</th>\n      <th>school_type</th>\n      <th>city</th>\n      <th>zipcode</th>\n      <th>edu_range</th>\n      <th>elementary_school</th>\n      <th>intermediate_school</th>\n      <th>middle_school</th>\n      <th>high_school</th>\n      <th>school_grade</th>\n      <th>...</th>\n      <th>sports_facilities</th>\n      <th>music_facilities</th>\n      <th>after_school_opportunities</th>\n      <th>other_facilities</th>\n      <th>student_services</th>\n      <th>acad_focus_1</th>\n      <th>acad_focus_2</th>\n      <th>acad_focus_3</th>\n      <th>acad_focus_4</th>\n      <th>acad_focus_5</th>\n    </tr>\n  </thead>\n  <tbody>\n    <tr>\n      <th>0</th>\n      <td>Academy with Community Partners</td>\n      <td>Public</td>\n      <td>Mesa</td>\n      <td>85203</td>\n      <td>9 12</td>\n      <td>None</td>\n      <td>None</td>\n      <td>None</td>\n      <td>None</td>\n      <td>4</td>\n      <td>...</td>\n      <td>['Basketball' 'Others' 'chevron_right' 'Flag F...</td>\n      <td>['Art']</td>\n      <td>['Athletic' 'chevron_right' 'Basketball' 'chev...</td>\n      <td>['Dedicated Counselors' 'chevron_right' '1']</td>\n      <td>['Assistance with Material Needs' 'McKinney-Ve...</td>\n      <td>1</td>\n      <td>1</td>\n      <td>1</td>\n      <td>1</td>\n      <td>1</td>\n    </tr>\n    <tr>\n      <th>1</th>\n      <td>Accelerated Learning Center</td>\n      <td>Public</td>\n      <td>Phoenix</td>\n      <td>85028</td>\n      <td>9 12</td>\n      <td>None</td>\n      <td>None</td>\n      <td>None</td>\n      <td>None</td>\n      <td>5</td>\n      <td>...</td>\n      <td>['No data available']</td>\n      <td>['Art' 'Photography']</td>\n      <td>['No data available']</td>\n      <td>['Art Room' 'Indoor air quality control']</td>\n      <td>['Assistance with Material Needs' 'McKinney-Ve...</td>\n      <td>1</td>\n      <td>1</td>\n      <td>1</td>\n      <td>1</td>\n      <td>1</td>\n    </tr>\n    <tr>\n      <th>2</th>\n      <td>Agua Fria High School</td>\n      <td>Public</td>\n      <td>Avondale</td>\n      <td>85323</td>\n      <td>9 12</td>\n      <td>None</td>\n      <td>None</td>\n      <td>None</td>\n      <td>None</td>\n      <td>4</td>\n      <td>...</td>\n      <td>['Badminton' 'Baseball' 'Basketball' 'Cross-Co...</td>\n      <td>['Art' 'Band' 'Ceramics/Sculpting' 'Choir' 'Da...</td>\n      <td>['Academic' 'chevron_right' 'National Honor So...</td>\n      <td>['Art Room' 'Auditorium' 'Book Store' 'Cafeter...</td>\n      <td>['No data available']</td>\n      <td>1</td>\n      <td>1</td>\n      <td>1</td>\n      <td>1</td>\n      <td>1</td>\n    </tr>\n    <tr>\n      <th>3</th>\n      <td>Alhambra High School</td>\n      <td>Public</td>\n      <td>Phoenix</td>\n      <td>85019</td>\n      <td>9 12</td>\n      <td>None</td>\n      <td>None</td>\n      <td>None</td>\n      <td>None</td>\n      <td>3</td>\n      <td>...</td>\n      <td>['Badminton' 'Baseball' 'Basketball' 'Cross-Co...</td>\n      <td>['Art' 'Band' 'Ceramics/Sculpting' 'Choir' 'Da...</td>\n      <td>['Academic' 'chevron_right' 'AVID Club/Univers...</td>\n      <td>['Art Room' 'Auditorium' 'Book Store' 'Cafeter...</td>\n      <td>['Dedicated School Counselor' 'chevron_right' ...</td>\n      <td>1</td>\n      <td>1</td>\n      <td>1</td>\n      <td>1</td>\n      <td>1</td>\n    </tr>\n    <tr>\n      <th>4</th>\n      <td>Apollo High School</td>\n      <td>Public</td>\n      <td>Glendale</td>\n      <td>85302</td>\n      <td>9 12</td>\n      <td>None</td>\n      <td>None</td>\n      <td>None</td>\n      <td>None</td>\n      <td>4</td>\n      <td>...</td>\n      <td>['Badminton' 'Baseball' 'Basketball' 'Cross-Co...</td>\n      <td>['Art' 'Band' 'Ceramics/Sculpting' 'Choir' 'Da...</td>\n      <td>['Academic' 'chevron_right' 'World Language Cl...</td>\n      <td>['Art Room' 'Auditorium' 'Book Store' 'Cafeter...</td>\n      <td>['No data available']</td>\n      <td>0</td>\n      <td>0</td>\n      <td>0</td>\n      <td>0</td>\n      <td>0</td>\n    </tr>\n    <tr>\n      <th>...</th>\n      <td>...</td>\n      <td>...</td>\n      <td>...</td>\n      <td>...</td>\n      <td>...</td>\n      <td>...</td>\n      <td>...</td>\n      <td>...</td>\n      <td>...</td>\n      <td>...</td>\n      <td>...</td>\n      <td>...</td>\n      <td>...</td>\n      <td>...</td>\n      <td>...</td>\n      <td>...</td>\n      <td>...</td>\n      <td>...</td>\n      <td>...</td>\n      <td>...</td>\n      <td>...</td>\n    </tr>\n    <tr>\n      <th>216</th>\n      <td>Wickenburg Virtual Academy</td>\n      <td>Public</td>\n      <td>Wickenburg</td>\n      <td>85390</td>\n      <td>0 12</td>\n      <td>None</td>\n      <td>None</td>\n      <td>None</td>\n      <td>None</td>\n      <td>4</td>\n      <td>...</td>\n      <td>['Baseball' 'Basketball' 'Cross-Country' 'Foot...</td>\n      <td>['No data available']</td>\n      <td>['No data available']</td>\n      <td>['Cafeteria (Onsite food service)' 'Technology...</td>\n      <td>['No data available']</td>\n      <td>0</td>\n      <td>0</td>\n      <td>0</td>\n      <td>0</td>\n      <td>0</td>\n    </tr>\n    <tr>\n      <th>217</th>\n      <td>Williams Field High School</td>\n      <td>Public</td>\n      <td>Higley</td>\n      <td>85236</td>\n      <td>8 12</td>\n      <td>None</td>\n      <td>None</td>\n      <td>None</td>\n      <td>None</td>\n      <td>5</td>\n      <td>...</td>\n      <td>['No data available']</td>\n      <td>['No data available']</td>\n      <td>['No data available']</td>\n      <td>['No data available']</td>\n      <td>['No data available']</td>\n      <td>0</td>\n      <td>0</td>\n      <td>0</td>\n      <td>0</td>\n      <td>0</td>\n    </tr>\n    <tr>\n      <th>218</th>\n      <td>Willis Junior High School</td>\n      <td>Public</td>\n      <td>Chandler</td>\n      <td>85225</td>\n      <td>7 8</td>\n      <td>None</td>\n      <td>None</td>\n      <td>None</td>\n      <td>None</td>\n      <td>4</td>\n      <td>...</td>\n      <td>['Baseball' 'Basketball' 'Cross-Country' 'Foot...</td>\n      <td>['Art' 'Band' 'Ceramics/Sculpting' 'Choir' 'Mu...</td>\n      <td>['Academic' 'chevron_right' 'Math Club' 'chevr...</td>\n      <td>['Art Room' 'Cafeteria (Onsite food service)' ...</td>\n      <td>['Dedicated School Counselor' 'chevron_right' ...</td>\n      <td>1</td>\n      <td>1</td>\n      <td>1</td>\n      <td>1</td>\n      <td>1</td>\n    </tr>\n    <tr>\n      <th>219</th>\n      <td>Willow Canyon High School</td>\n      <td>Public</td>\n      <td>Surprise</td>\n      <td>85374</td>\n      <td>7 12</td>\n      <td>None</td>\n      <td>None</td>\n      <td>None</td>\n      <td>None</td>\n      <td>5</td>\n      <td>...</td>\n      <td>['Badminton' 'Baseball' 'Basketball' 'Cross-Co...</td>\n      <td>['Art' 'Band' 'Ceramics/Sculpting' 'Choir' 'Cu...</td>\n      <td>['Academic' 'chevron_right' 'Various Academic ...</td>\n      <td>['Art Room' 'Auditorium' 'Book Store' 'Cafeter...</td>\n      <td>['No data available']</td>\n      <td>1</td>\n      <td>1</td>\n      <td>1</td>\n      <td>1</td>\n      <td>1</td>\n    </tr>\n    <tr>\n      <th>220</th>\n      <td>Youngker High School</td>\n      <td>Public</td>\n      <td>Buckeye</td>\n      <td>85326</td>\n      <td>9 12</td>\n      <td>None</td>\n      <td>None</td>\n      <td>None</td>\n      <td>None</td>\n      <td>5</td>\n      <td>...</td>\n      <td>['Badminton' 'Baseball' 'Basketball' 'Cross-Co...</td>\n      <td>['Art' 'Band' 'Ceramics/Sculpting' 'Choir' 'Da...</td>\n      <td>['Academic' 'Arts' 'Athletic' 'Career and Tech...</td>\n      <td>['Art Room' 'Auditorium' 'Cafeteria (Onsite fo...</td>\n      <td>['Dedicated School Counselor' 'chevron_right' ...</td>\n      <td>1</td>\n      <td>1</td>\n      <td>1</td>\n      <td>1</td>\n      <td>1</td>\n    </tr>\n  </tbody>\n</table>\n<p>220 rows × 52 columns</p>\n</div>"
     },
     "execution_count": 240,
     "metadata": {},
     "output_type": "execute_result"
    }
   ],
   "source": [
    "school_data"
   ],
   "metadata": {
    "collapsed": false,
    "ExecuteTime": {
     "end_time": "2024-03-10T23:14:29.150822Z",
     "start_time": "2024-03-10T23:14:28.726991Z"
    }
   },
   "id": "bebfaacf097e4401"
  },
  {
   "cell_type": "code",
   "execution_count": 241,
   "outputs": [],
   "source": [
    "for i, row in school_data.iterrows():\n",
    "    edu_range = row['edu_range']\n",
    "    a =edu_range[0]\n",
    "    b =edu_range[2:]\n",
    "\n",
    "    if int(edu_range[0]) in range(0, 3):\n",
    "        school_data.loc[i, 'elementary_school'] = 1\n",
    "        if b!= ' ' and int(b) >= 3:\n",
    "            a = 3\n",
    "\n",
    "    if int(a) in range(3, 6):\n",
    "        school_data.loc[i, 'intermediate_school'] = 1\n",
    "        if b!= ' ' and int(b) >= 6:\n",
    "            a = 6\n",
    "\n",
    "    if int(a) in range(6, 9):\n",
    "        school_data.loc[i, 'middle_school'] = 1\n",
    "        if b!= ' ' and int(b) >= 9:\n",
    "            a = 9\n",
    "\n",
    "    if int(a) in range(9, 13):\n",
    "        school_data.loc[i, 'high_school'] = 1\n",
    "\n",
    "   "
   ],
   "metadata": {
    "collapsed": false,
    "ExecuteTime": {
     "end_time": "2024-03-10T23:14:29.154668Z",
     "start_time": "2024-03-10T23:14:28.803435Z"
    }
   },
   "id": "2cb5ffb97d86c78a"
  },
  {
   "cell_type": "code",
   "execution_count": 242,
   "outputs": [
    {
     "data": {
      "text/plain": "                        School_name  school_type       city   zipcode  \\\n0    Academy with Community Partners      Public        Mesa    85203   \n1        Accelerated Learning Center      Public     Phoenix    85028   \n2              Agua Fria High School      Public    Avondale    85323   \n3               Alhambra High School      Public     Phoenix    85019   \n4                 Apollo High School      Public    Glendale    85302   \n..                               ...         ...         ...      ...   \n216       Wickenburg Virtual Academy      Public  Wickenburg    85390   \n217       Williams Field High School      Public      Higley    85236   \n218        Willis Junior High School      Public    Chandler    85225   \n219        Willow Canyon High School      Public    Surprise    85374   \n220             Youngker High School      Public     Buckeye    85326   \n\n    edu_range elementary_school intermediate_school middle_school high_school  \\\n0        9 12              None                None          None           1   \n1        9 12              None                None          None           1   \n2        9 12              None                None          None           1   \n3        9 12              None                None          None           1   \n4        9 12              None                None          None           1   \n..        ...               ...                 ...           ...         ...   \n216      0 12                 1                   1             1           1   \n217      8 12              None                None             1           1   \n218       7 8              None                None             1        None   \n219      7 12              None                None             1           1   \n220      9 12              None                None          None           1   \n\n     school_grade  ...                                  sports_facilities  \\\n0               4  ...  ['Basketball' 'Others' 'chevron_right' 'Flag F...   \n1               5  ...                              ['No data available']   \n2               4  ...  ['Badminton' 'Baseball' 'Basketball' 'Cross-Co...   \n3               3  ...  ['Badminton' 'Baseball' 'Basketball' 'Cross-Co...   \n4               4  ...  ['Badminton' 'Baseball' 'Basketball' 'Cross-Co...   \n..            ...  ...                                                ...   \n216             4  ...  ['Baseball' 'Basketball' 'Cross-Country' 'Foot...   \n217             5  ...                              ['No data available']   \n218             4  ...  ['Baseball' 'Basketball' 'Cross-Country' 'Foot...   \n219             5  ...  ['Badminton' 'Baseball' 'Basketball' 'Cross-Co...   \n220             5  ...  ['Badminton' 'Baseball' 'Basketball' 'Cross-Co...   \n\n                                      music_facilities  \\\n0                                              ['Art']   \n1                                ['Art' 'Photography']   \n2    ['Art' 'Band' 'Ceramics/Sculpting' 'Choir' 'Da...   \n3    ['Art' 'Band' 'Ceramics/Sculpting' 'Choir' 'Da...   \n4    ['Art' 'Band' 'Ceramics/Sculpting' 'Choir' 'Da...   \n..                                                 ...   \n216                              ['No data available']   \n217                              ['No data available']   \n218  ['Art' 'Band' 'Ceramics/Sculpting' 'Choir' 'Mu...   \n219  ['Art' 'Band' 'Ceramics/Sculpting' 'Choir' 'Cu...   \n220  ['Art' 'Band' 'Ceramics/Sculpting' 'Choir' 'Da...   \n\n                            after_school_opportunities  \\\n0    ['Athletic' 'chevron_right' 'Basketball' 'chev...   \n1                                ['No data available']   \n2    ['Academic' 'chevron_right' 'National Honor So...   \n3    ['Academic' 'chevron_right' 'AVID Club/Univers...   \n4    ['Academic' 'chevron_right' 'World Language Cl...   \n..                                                 ...   \n216                              ['No data available']   \n217                              ['No data available']   \n218  ['Academic' 'chevron_right' 'Math Club' 'chevr...   \n219  ['Academic' 'chevron_right' 'Various Academic ...   \n220  ['Academic' 'Arts' 'Athletic' 'Career and Tech...   \n\n                                      other_facilities  \\\n0         ['Dedicated Counselors' 'chevron_right' '1']   \n1            ['Art Room' 'Indoor air quality control']   \n2    ['Art Room' 'Auditorium' 'Book Store' 'Cafeter...   \n3    ['Art Room' 'Auditorium' 'Book Store' 'Cafeter...   \n4    ['Art Room' 'Auditorium' 'Book Store' 'Cafeter...   \n..                                                 ...   \n216  ['Cafeteria (Onsite food service)' 'Technology...   \n217                              ['No data available']   \n218  ['Art Room' 'Cafeteria (Onsite food service)' ...   \n219  ['Art Room' 'Auditorium' 'Book Store' 'Cafeter...   \n220  ['Art Room' 'Auditorium' 'Cafeteria (Onsite fo...   \n\n                                      student_services acad_focus_1  \\\n0    ['Assistance with Material Needs' 'McKinney-Ve...            1   \n1    ['Assistance with Material Needs' 'McKinney-Ve...            1   \n2                                ['No data available']            1   \n3    ['Dedicated School Counselor' 'chevron_right' ...            1   \n4                                ['No data available']            0   \n..                                                 ...          ...   \n216                              ['No data available']            0   \n217                              ['No data available']            0   \n218  ['Dedicated School Counselor' 'chevron_right' ...            1   \n219                              ['No data available']            1   \n220  ['Dedicated School Counselor' 'chevron_right' ...            1   \n\n    acad_focus_2 acad_focus_3 acad_focus_4 acad_focus_5  \n0              1            1            1            1  \n1              1            1            1            1  \n2              1            1            1            1  \n3              1            1            1            1  \n4              0            0            0            0  \n..           ...          ...          ...          ...  \n216            0            0            0            0  \n217            0            0            0            0  \n218            1            1            1            1  \n219            1            1            1            1  \n220            1            1            1            1  \n\n[220 rows x 52 columns]",
      "text/html": "<div>\n<style scoped>\n    .dataframe tbody tr th:only-of-type {\n        vertical-align: middle;\n    }\n\n    .dataframe tbody tr th {\n        vertical-align: top;\n    }\n\n    .dataframe thead th {\n        text-align: right;\n    }\n</style>\n<table border=\"1\" class=\"dataframe\">\n  <thead>\n    <tr style=\"text-align: right;\">\n      <th></th>\n      <th>School_name</th>\n      <th>school_type</th>\n      <th>city</th>\n      <th>zipcode</th>\n      <th>edu_range</th>\n      <th>elementary_school</th>\n      <th>intermediate_school</th>\n      <th>middle_school</th>\n      <th>high_school</th>\n      <th>school_grade</th>\n      <th>...</th>\n      <th>sports_facilities</th>\n      <th>music_facilities</th>\n      <th>after_school_opportunities</th>\n      <th>other_facilities</th>\n      <th>student_services</th>\n      <th>acad_focus_1</th>\n      <th>acad_focus_2</th>\n      <th>acad_focus_3</th>\n      <th>acad_focus_4</th>\n      <th>acad_focus_5</th>\n    </tr>\n  </thead>\n  <tbody>\n    <tr>\n      <th>0</th>\n      <td>Academy with Community Partners</td>\n      <td>Public</td>\n      <td>Mesa</td>\n      <td>85203</td>\n      <td>9 12</td>\n      <td>None</td>\n      <td>None</td>\n      <td>None</td>\n      <td>1</td>\n      <td>4</td>\n      <td>...</td>\n      <td>['Basketball' 'Others' 'chevron_right' 'Flag F...</td>\n      <td>['Art']</td>\n      <td>['Athletic' 'chevron_right' 'Basketball' 'chev...</td>\n      <td>['Dedicated Counselors' 'chevron_right' '1']</td>\n      <td>['Assistance with Material Needs' 'McKinney-Ve...</td>\n      <td>1</td>\n      <td>1</td>\n      <td>1</td>\n      <td>1</td>\n      <td>1</td>\n    </tr>\n    <tr>\n      <th>1</th>\n      <td>Accelerated Learning Center</td>\n      <td>Public</td>\n      <td>Phoenix</td>\n      <td>85028</td>\n      <td>9 12</td>\n      <td>None</td>\n      <td>None</td>\n      <td>None</td>\n      <td>1</td>\n      <td>5</td>\n      <td>...</td>\n      <td>['No data available']</td>\n      <td>['Art' 'Photography']</td>\n      <td>['No data available']</td>\n      <td>['Art Room' 'Indoor air quality control']</td>\n      <td>['Assistance with Material Needs' 'McKinney-Ve...</td>\n      <td>1</td>\n      <td>1</td>\n      <td>1</td>\n      <td>1</td>\n      <td>1</td>\n    </tr>\n    <tr>\n      <th>2</th>\n      <td>Agua Fria High School</td>\n      <td>Public</td>\n      <td>Avondale</td>\n      <td>85323</td>\n      <td>9 12</td>\n      <td>None</td>\n      <td>None</td>\n      <td>None</td>\n      <td>1</td>\n      <td>4</td>\n      <td>...</td>\n      <td>['Badminton' 'Baseball' 'Basketball' 'Cross-Co...</td>\n      <td>['Art' 'Band' 'Ceramics/Sculpting' 'Choir' 'Da...</td>\n      <td>['Academic' 'chevron_right' 'National Honor So...</td>\n      <td>['Art Room' 'Auditorium' 'Book Store' 'Cafeter...</td>\n      <td>['No data available']</td>\n      <td>1</td>\n      <td>1</td>\n      <td>1</td>\n      <td>1</td>\n      <td>1</td>\n    </tr>\n    <tr>\n      <th>3</th>\n      <td>Alhambra High School</td>\n      <td>Public</td>\n      <td>Phoenix</td>\n      <td>85019</td>\n      <td>9 12</td>\n      <td>None</td>\n      <td>None</td>\n      <td>None</td>\n      <td>1</td>\n      <td>3</td>\n      <td>...</td>\n      <td>['Badminton' 'Baseball' 'Basketball' 'Cross-Co...</td>\n      <td>['Art' 'Band' 'Ceramics/Sculpting' 'Choir' 'Da...</td>\n      <td>['Academic' 'chevron_right' 'AVID Club/Univers...</td>\n      <td>['Art Room' 'Auditorium' 'Book Store' 'Cafeter...</td>\n      <td>['Dedicated School Counselor' 'chevron_right' ...</td>\n      <td>1</td>\n      <td>1</td>\n      <td>1</td>\n      <td>1</td>\n      <td>1</td>\n    </tr>\n    <tr>\n      <th>4</th>\n      <td>Apollo High School</td>\n      <td>Public</td>\n      <td>Glendale</td>\n      <td>85302</td>\n      <td>9 12</td>\n      <td>None</td>\n      <td>None</td>\n      <td>None</td>\n      <td>1</td>\n      <td>4</td>\n      <td>...</td>\n      <td>['Badminton' 'Baseball' 'Basketball' 'Cross-Co...</td>\n      <td>['Art' 'Band' 'Ceramics/Sculpting' 'Choir' 'Da...</td>\n      <td>['Academic' 'chevron_right' 'World Language Cl...</td>\n      <td>['Art Room' 'Auditorium' 'Book Store' 'Cafeter...</td>\n      <td>['No data available']</td>\n      <td>0</td>\n      <td>0</td>\n      <td>0</td>\n      <td>0</td>\n      <td>0</td>\n    </tr>\n    <tr>\n      <th>...</th>\n      <td>...</td>\n      <td>...</td>\n      <td>...</td>\n      <td>...</td>\n      <td>...</td>\n      <td>...</td>\n      <td>...</td>\n      <td>...</td>\n      <td>...</td>\n      <td>...</td>\n      <td>...</td>\n      <td>...</td>\n      <td>...</td>\n      <td>...</td>\n      <td>...</td>\n      <td>...</td>\n      <td>...</td>\n      <td>...</td>\n      <td>...</td>\n      <td>...</td>\n      <td>...</td>\n    </tr>\n    <tr>\n      <th>216</th>\n      <td>Wickenburg Virtual Academy</td>\n      <td>Public</td>\n      <td>Wickenburg</td>\n      <td>85390</td>\n      <td>0 12</td>\n      <td>1</td>\n      <td>1</td>\n      <td>1</td>\n      <td>1</td>\n      <td>4</td>\n      <td>...</td>\n      <td>['Baseball' 'Basketball' 'Cross-Country' 'Foot...</td>\n      <td>['No data available']</td>\n      <td>['No data available']</td>\n      <td>['Cafeteria (Onsite food service)' 'Technology...</td>\n      <td>['No data available']</td>\n      <td>0</td>\n      <td>0</td>\n      <td>0</td>\n      <td>0</td>\n      <td>0</td>\n    </tr>\n    <tr>\n      <th>217</th>\n      <td>Williams Field High School</td>\n      <td>Public</td>\n      <td>Higley</td>\n      <td>85236</td>\n      <td>8 12</td>\n      <td>None</td>\n      <td>None</td>\n      <td>1</td>\n      <td>1</td>\n      <td>5</td>\n      <td>...</td>\n      <td>['No data available']</td>\n      <td>['No data available']</td>\n      <td>['No data available']</td>\n      <td>['No data available']</td>\n      <td>['No data available']</td>\n      <td>0</td>\n      <td>0</td>\n      <td>0</td>\n      <td>0</td>\n      <td>0</td>\n    </tr>\n    <tr>\n      <th>218</th>\n      <td>Willis Junior High School</td>\n      <td>Public</td>\n      <td>Chandler</td>\n      <td>85225</td>\n      <td>7 8</td>\n      <td>None</td>\n      <td>None</td>\n      <td>1</td>\n      <td>None</td>\n      <td>4</td>\n      <td>...</td>\n      <td>['Baseball' 'Basketball' 'Cross-Country' 'Foot...</td>\n      <td>['Art' 'Band' 'Ceramics/Sculpting' 'Choir' 'Mu...</td>\n      <td>['Academic' 'chevron_right' 'Math Club' 'chevr...</td>\n      <td>['Art Room' 'Cafeteria (Onsite food service)' ...</td>\n      <td>['Dedicated School Counselor' 'chevron_right' ...</td>\n      <td>1</td>\n      <td>1</td>\n      <td>1</td>\n      <td>1</td>\n      <td>1</td>\n    </tr>\n    <tr>\n      <th>219</th>\n      <td>Willow Canyon High School</td>\n      <td>Public</td>\n      <td>Surprise</td>\n      <td>85374</td>\n      <td>7 12</td>\n      <td>None</td>\n      <td>None</td>\n      <td>1</td>\n      <td>1</td>\n      <td>5</td>\n      <td>...</td>\n      <td>['Badminton' 'Baseball' 'Basketball' 'Cross-Co...</td>\n      <td>['Art' 'Band' 'Ceramics/Sculpting' 'Choir' 'Cu...</td>\n      <td>['Academic' 'chevron_right' 'Various Academic ...</td>\n      <td>['Art Room' 'Auditorium' 'Book Store' 'Cafeter...</td>\n      <td>['No data available']</td>\n      <td>1</td>\n      <td>1</td>\n      <td>1</td>\n      <td>1</td>\n      <td>1</td>\n    </tr>\n    <tr>\n      <th>220</th>\n      <td>Youngker High School</td>\n      <td>Public</td>\n      <td>Buckeye</td>\n      <td>85326</td>\n      <td>9 12</td>\n      <td>None</td>\n      <td>None</td>\n      <td>None</td>\n      <td>1</td>\n      <td>5</td>\n      <td>...</td>\n      <td>['Badminton' 'Baseball' 'Basketball' 'Cross-Co...</td>\n      <td>['Art' 'Band' 'Ceramics/Sculpting' 'Choir' 'Da...</td>\n      <td>['Academic' 'Arts' 'Athletic' 'Career and Tech...</td>\n      <td>['Art Room' 'Auditorium' 'Cafeteria (Onsite fo...</td>\n      <td>['Dedicated School Counselor' 'chevron_right' ...</td>\n      <td>1</td>\n      <td>1</td>\n      <td>1</td>\n      <td>1</td>\n      <td>1</td>\n    </tr>\n  </tbody>\n</table>\n<p>220 rows × 52 columns</p>\n</div>"
     },
     "execution_count": 242,
     "metadata": {},
     "output_type": "execute_result"
    }
   ],
   "source": [
    "school_data"
   ],
   "metadata": {
    "collapsed": false,
    "ExecuteTime": {
     "end_time": "2024-03-10T23:14:29.156166Z",
     "start_time": "2024-03-10T23:14:28.944839Z"
    }
   },
   "id": "9c35b62a8fe31e08"
  },
  {
   "cell_type": "code",
   "execution_count": 243,
   "outputs": [
    {
     "name": "stderr",
     "output_type": "stream",
     "text": [
      "/var/folders/rd/0t81087x5czf3z64s284fdcw0000gn/T/ipykernel_61851/3105290311.py:3: FutureWarning: Downcasting object dtype arrays on .fillna, .ffill, .bfill is deprecated and will change in a future version. Call result.infer_objects(copy=False) instead. To opt-in to the future behavior, set `pd.set_option('future.no_silent_downcasting', True)`\n",
      "  school_data.fillna({column: 0}, inplace=True)\n"
     ]
    }
   ],
   "source": [
    "edu_level_categories = ['elementary_school' ,'intermediate_school','middle_school','high_school']\n",
    "for column in edu_level_categories:\n",
    "    school_data.fillna({column: 0}, inplace=True)"
   ],
   "metadata": {
    "collapsed": false,
    "ExecuteTime": {
     "end_time": "2024-03-10T23:14:29.156379Z",
     "start_time": "2024-03-10T23:14:28.976453Z"
    }
   },
   "id": "ef35aeae9d985649"
  },
  {
   "cell_type": "code",
   "execution_count": 244,
   "outputs": [
    {
     "data": {
      "text/plain": "                        School_name  school_type       city   zipcode  \\\n0    Academy with Community Partners      Public        Mesa    85203   \n1        Accelerated Learning Center      Public     Phoenix    85028   \n2              Agua Fria High School      Public    Avondale    85323   \n3               Alhambra High School      Public     Phoenix    85019   \n4                 Apollo High School      Public    Glendale    85302   \n..                               ...         ...         ...      ...   \n216       Wickenburg Virtual Academy      Public  Wickenburg    85390   \n217       Williams Field High School      Public      Higley    85236   \n218        Willis Junior High School      Public    Chandler    85225   \n219        Willow Canyon High School      Public    Surprise    85374   \n220             Youngker High School      Public     Buckeye    85326   \n\n    edu_range  elementary_school  intermediate_school  middle_school  \\\n0        9 12                  0                    0              0   \n1        9 12                  0                    0              0   \n2        9 12                  0                    0              0   \n3        9 12                  0                    0              0   \n4        9 12                  0                    0              0   \n..        ...                ...                  ...            ...   \n216      0 12                  1                    1              1   \n217      8 12                  0                    0              1   \n218       7 8                  0                    0              1   \n219      7 12                  0                    0              1   \n220      9 12                  0                    0              0   \n\n     high_school  school_grade  ...  \\\n0              1             4  ...   \n1              1             5  ...   \n2              1             4  ...   \n3              1             3  ...   \n4              1             4  ...   \n..           ...           ...  ...   \n216            1             4  ...   \n217            1             5  ...   \n218            0             4  ...   \n219            1             5  ...   \n220            1             5  ...   \n\n                                     sports_facilities  \\\n0    ['Basketball' 'Others' 'chevron_right' 'Flag F...   \n1                                ['No data available']   \n2    ['Badminton' 'Baseball' 'Basketball' 'Cross-Co...   \n3    ['Badminton' 'Baseball' 'Basketball' 'Cross-Co...   \n4    ['Badminton' 'Baseball' 'Basketball' 'Cross-Co...   \n..                                                 ...   \n216  ['Baseball' 'Basketball' 'Cross-Country' 'Foot...   \n217                              ['No data available']   \n218  ['Baseball' 'Basketball' 'Cross-Country' 'Foot...   \n219  ['Badminton' 'Baseball' 'Basketball' 'Cross-Co...   \n220  ['Badminton' 'Baseball' 'Basketball' 'Cross-Co...   \n\n                                      music_facilities  \\\n0                                              ['Art']   \n1                                ['Art' 'Photography']   \n2    ['Art' 'Band' 'Ceramics/Sculpting' 'Choir' 'Da...   \n3    ['Art' 'Band' 'Ceramics/Sculpting' 'Choir' 'Da...   \n4    ['Art' 'Band' 'Ceramics/Sculpting' 'Choir' 'Da...   \n..                                                 ...   \n216                              ['No data available']   \n217                              ['No data available']   \n218  ['Art' 'Band' 'Ceramics/Sculpting' 'Choir' 'Mu...   \n219  ['Art' 'Band' 'Ceramics/Sculpting' 'Choir' 'Cu...   \n220  ['Art' 'Band' 'Ceramics/Sculpting' 'Choir' 'Da...   \n\n                            after_school_opportunities  \\\n0    ['Athletic' 'chevron_right' 'Basketball' 'chev...   \n1                                ['No data available']   \n2    ['Academic' 'chevron_right' 'National Honor So...   \n3    ['Academic' 'chevron_right' 'AVID Club/Univers...   \n4    ['Academic' 'chevron_right' 'World Language Cl...   \n..                                                 ...   \n216                              ['No data available']   \n217                              ['No data available']   \n218  ['Academic' 'chevron_right' 'Math Club' 'chevr...   \n219  ['Academic' 'chevron_right' 'Various Academic ...   \n220  ['Academic' 'Arts' 'Athletic' 'Career and Tech...   \n\n                                      other_facilities  \\\n0         ['Dedicated Counselors' 'chevron_right' '1']   \n1            ['Art Room' 'Indoor air quality control']   \n2    ['Art Room' 'Auditorium' 'Book Store' 'Cafeter...   \n3    ['Art Room' 'Auditorium' 'Book Store' 'Cafeter...   \n4    ['Art Room' 'Auditorium' 'Book Store' 'Cafeter...   \n..                                                 ...   \n216  ['Cafeteria (Onsite food service)' 'Technology...   \n217                              ['No data available']   \n218  ['Art Room' 'Cafeteria (Onsite food service)' ...   \n219  ['Art Room' 'Auditorium' 'Book Store' 'Cafeter...   \n220  ['Art Room' 'Auditorium' 'Cafeteria (Onsite fo...   \n\n                                      student_services acad_focus_1  \\\n0    ['Assistance with Material Needs' 'McKinney-Ve...            1   \n1    ['Assistance with Material Needs' 'McKinney-Ve...            1   \n2                                ['No data available']            1   \n3    ['Dedicated School Counselor' 'chevron_right' ...            1   \n4                                ['No data available']            0   \n..                                                 ...          ...   \n216                              ['No data available']            0   \n217                              ['No data available']            0   \n218  ['Dedicated School Counselor' 'chevron_right' ...            1   \n219                              ['No data available']            1   \n220  ['Dedicated School Counselor' 'chevron_right' ...            1   \n\n    acad_focus_2 acad_focus_3 acad_focus_4 acad_focus_5  \n0              1            1            1            1  \n1              1            1            1            1  \n2              1            1            1            1  \n3              1            1            1            1  \n4              0            0            0            0  \n..           ...          ...          ...          ...  \n216            0            0            0            0  \n217            0            0            0            0  \n218            1            1            1            1  \n219            1            1            1            1  \n220            1            1            1            1  \n\n[220 rows x 52 columns]",
      "text/html": "<div>\n<style scoped>\n    .dataframe tbody tr th:only-of-type {\n        vertical-align: middle;\n    }\n\n    .dataframe tbody tr th {\n        vertical-align: top;\n    }\n\n    .dataframe thead th {\n        text-align: right;\n    }\n</style>\n<table border=\"1\" class=\"dataframe\">\n  <thead>\n    <tr style=\"text-align: right;\">\n      <th></th>\n      <th>School_name</th>\n      <th>school_type</th>\n      <th>city</th>\n      <th>zipcode</th>\n      <th>edu_range</th>\n      <th>elementary_school</th>\n      <th>intermediate_school</th>\n      <th>middle_school</th>\n      <th>high_school</th>\n      <th>school_grade</th>\n      <th>...</th>\n      <th>sports_facilities</th>\n      <th>music_facilities</th>\n      <th>after_school_opportunities</th>\n      <th>other_facilities</th>\n      <th>student_services</th>\n      <th>acad_focus_1</th>\n      <th>acad_focus_2</th>\n      <th>acad_focus_3</th>\n      <th>acad_focus_4</th>\n      <th>acad_focus_5</th>\n    </tr>\n  </thead>\n  <tbody>\n    <tr>\n      <th>0</th>\n      <td>Academy with Community Partners</td>\n      <td>Public</td>\n      <td>Mesa</td>\n      <td>85203</td>\n      <td>9 12</td>\n      <td>0</td>\n      <td>0</td>\n      <td>0</td>\n      <td>1</td>\n      <td>4</td>\n      <td>...</td>\n      <td>['Basketball' 'Others' 'chevron_right' 'Flag F...</td>\n      <td>['Art']</td>\n      <td>['Athletic' 'chevron_right' 'Basketball' 'chev...</td>\n      <td>['Dedicated Counselors' 'chevron_right' '1']</td>\n      <td>['Assistance with Material Needs' 'McKinney-Ve...</td>\n      <td>1</td>\n      <td>1</td>\n      <td>1</td>\n      <td>1</td>\n      <td>1</td>\n    </tr>\n    <tr>\n      <th>1</th>\n      <td>Accelerated Learning Center</td>\n      <td>Public</td>\n      <td>Phoenix</td>\n      <td>85028</td>\n      <td>9 12</td>\n      <td>0</td>\n      <td>0</td>\n      <td>0</td>\n      <td>1</td>\n      <td>5</td>\n      <td>...</td>\n      <td>['No data available']</td>\n      <td>['Art' 'Photography']</td>\n      <td>['No data available']</td>\n      <td>['Art Room' 'Indoor air quality control']</td>\n      <td>['Assistance with Material Needs' 'McKinney-Ve...</td>\n      <td>1</td>\n      <td>1</td>\n      <td>1</td>\n      <td>1</td>\n      <td>1</td>\n    </tr>\n    <tr>\n      <th>2</th>\n      <td>Agua Fria High School</td>\n      <td>Public</td>\n      <td>Avondale</td>\n      <td>85323</td>\n      <td>9 12</td>\n      <td>0</td>\n      <td>0</td>\n      <td>0</td>\n      <td>1</td>\n      <td>4</td>\n      <td>...</td>\n      <td>['Badminton' 'Baseball' 'Basketball' 'Cross-Co...</td>\n      <td>['Art' 'Band' 'Ceramics/Sculpting' 'Choir' 'Da...</td>\n      <td>['Academic' 'chevron_right' 'National Honor So...</td>\n      <td>['Art Room' 'Auditorium' 'Book Store' 'Cafeter...</td>\n      <td>['No data available']</td>\n      <td>1</td>\n      <td>1</td>\n      <td>1</td>\n      <td>1</td>\n      <td>1</td>\n    </tr>\n    <tr>\n      <th>3</th>\n      <td>Alhambra High School</td>\n      <td>Public</td>\n      <td>Phoenix</td>\n      <td>85019</td>\n      <td>9 12</td>\n      <td>0</td>\n      <td>0</td>\n      <td>0</td>\n      <td>1</td>\n      <td>3</td>\n      <td>...</td>\n      <td>['Badminton' 'Baseball' 'Basketball' 'Cross-Co...</td>\n      <td>['Art' 'Band' 'Ceramics/Sculpting' 'Choir' 'Da...</td>\n      <td>['Academic' 'chevron_right' 'AVID Club/Univers...</td>\n      <td>['Art Room' 'Auditorium' 'Book Store' 'Cafeter...</td>\n      <td>['Dedicated School Counselor' 'chevron_right' ...</td>\n      <td>1</td>\n      <td>1</td>\n      <td>1</td>\n      <td>1</td>\n      <td>1</td>\n    </tr>\n    <tr>\n      <th>4</th>\n      <td>Apollo High School</td>\n      <td>Public</td>\n      <td>Glendale</td>\n      <td>85302</td>\n      <td>9 12</td>\n      <td>0</td>\n      <td>0</td>\n      <td>0</td>\n      <td>1</td>\n      <td>4</td>\n      <td>...</td>\n      <td>['Badminton' 'Baseball' 'Basketball' 'Cross-Co...</td>\n      <td>['Art' 'Band' 'Ceramics/Sculpting' 'Choir' 'Da...</td>\n      <td>['Academic' 'chevron_right' 'World Language Cl...</td>\n      <td>['Art Room' 'Auditorium' 'Book Store' 'Cafeter...</td>\n      <td>['No data available']</td>\n      <td>0</td>\n      <td>0</td>\n      <td>0</td>\n      <td>0</td>\n      <td>0</td>\n    </tr>\n    <tr>\n      <th>...</th>\n      <td>...</td>\n      <td>...</td>\n      <td>...</td>\n      <td>...</td>\n      <td>...</td>\n      <td>...</td>\n      <td>...</td>\n      <td>...</td>\n      <td>...</td>\n      <td>...</td>\n      <td>...</td>\n      <td>...</td>\n      <td>...</td>\n      <td>...</td>\n      <td>...</td>\n      <td>...</td>\n      <td>...</td>\n      <td>...</td>\n      <td>...</td>\n      <td>...</td>\n      <td>...</td>\n    </tr>\n    <tr>\n      <th>216</th>\n      <td>Wickenburg Virtual Academy</td>\n      <td>Public</td>\n      <td>Wickenburg</td>\n      <td>85390</td>\n      <td>0 12</td>\n      <td>1</td>\n      <td>1</td>\n      <td>1</td>\n      <td>1</td>\n      <td>4</td>\n      <td>...</td>\n      <td>['Baseball' 'Basketball' 'Cross-Country' 'Foot...</td>\n      <td>['No data available']</td>\n      <td>['No data available']</td>\n      <td>['Cafeteria (Onsite food service)' 'Technology...</td>\n      <td>['No data available']</td>\n      <td>0</td>\n      <td>0</td>\n      <td>0</td>\n      <td>0</td>\n      <td>0</td>\n    </tr>\n    <tr>\n      <th>217</th>\n      <td>Williams Field High School</td>\n      <td>Public</td>\n      <td>Higley</td>\n      <td>85236</td>\n      <td>8 12</td>\n      <td>0</td>\n      <td>0</td>\n      <td>1</td>\n      <td>1</td>\n      <td>5</td>\n      <td>...</td>\n      <td>['No data available']</td>\n      <td>['No data available']</td>\n      <td>['No data available']</td>\n      <td>['No data available']</td>\n      <td>['No data available']</td>\n      <td>0</td>\n      <td>0</td>\n      <td>0</td>\n      <td>0</td>\n      <td>0</td>\n    </tr>\n    <tr>\n      <th>218</th>\n      <td>Willis Junior High School</td>\n      <td>Public</td>\n      <td>Chandler</td>\n      <td>85225</td>\n      <td>7 8</td>\n      <td>0</td>\n      <td>0</td>\n      <td>1</td>\n      <td>0</td>\n      <td>4</td>\n      <td>...</td>\n      <td>['Baseball' 'Basketball' 'Cross-Country' 'Foot...</td>\n      <td>['Art' 'Band' 'Ceramics/Sculpting' 'Choir' 'Mu...</td>\n      <td>['Academic' 'chevron_right' 'Math Club' 'chevr...</td>\n      <td>['Art Room' 'Cafeteria (Onsite food service)' ...</td>\n      <td>['Dedicated School Counselor' 'chevron_right' ...</td>\n      <td>1</td>\n      <td>1</td>\n      <td>1</td>\n      <td>1</td>\n      <td>1</td>\n    </tr>\n    <tr>\n      <th>219</th>\n      <td>Willow Canyon High School</td>\n      <td>Public</td>\n      <td>Surprise</td>\n      <td>85374</td>\n      <td>7 12</td>\n      <td>0</td>\n      <td>0</td>\n      <td>1</td>\n      <td>1</td>\n      <td>5</td>\n      <td>...</td>\n      <td>['Badminton' 'Baseball' 'Basketball' 'Cross-Co...</td>\n      <td>['Art' 'Band' 'Ceramics/Sculpting' 'Choir' 'Cu...</td>\n      <td>['Academic' 'chevron_right' 'Various Academic ...</td>\n      <td>['Art Room' 'Auditorium' 'Book Store' 'Cafeter...</td>\n      <td>['No data available']</td>\n      <td>1</td>\n      <td>1</td>\n      <td>1</td>\n      <td>1</td>\n      <td>1</td>\n    </tr>\n    <tr>\n      <th>220</th>\n      <td>Youngker High School</td>\n      <td>Public</td>\n      <td>Buckeye</td>\n      <td>85326</td>\n      <td>9 12</td>\n      <td>0</td>\n      <td>0</td>\n      <td>0</td>\n      <td>1</td>\n      <td>5</td>\n      <td>...</td>\n      <td>['Badminton' 'Baseball' 'Basketball' 'Cross-Co...</td>\n      <td>['Art' 'Band' 'Ceramics/Sculpting' 'Choir' 'Da...</td>\n      <td>['Academic' 'Arts' 'Athletic' 'Career and Tech...</td>\n      <td>['Art Room' 'Auditorium' 'Cafeteria (Onsite fo...</td>\n      <td>['Dedicated School Counselor' 'chevron_right' ...</td>\n      <td>1</td>\n      <td>1</td>\n      <td>1</td>\n      <td>1</td>\n      <td>1</td>\n    </tr>\n  </tbody>\n</table>\n<p>220 rows × 52 columns</p>\n</div>"
     },
     "execution_count": 244,
     "metadata": {},
     "output_type": "execute_result"
    }
   ],
   "source": [
    "school_data"
   ],
   "metadata": {
    "collapsed": false,
    "ExecuteTime": {
     "end_time": "2024-03-10T23:14:29.157298Z",
     "start_time": "2024-03-10T23:14:28.986543Z"
    }
   },
   "id": "c540f9987cb16862"
  },
  {
   "cell_type": "code",
   "execution_count": 245,
   "outputs": [],
   "source": [
    "school_data.drop('edu_range',axis=1, inplace=True)"
   ],
   "metadata": {
    "collapsed": false,
    "ExecuteTime": {
     "end_time": "2024-03-10T23:14:29.157424Z",
     "start_time": "2024-03-10T23:14:29.015610Z"
    }
   },
   "id": "4128572861d3ebb3"
  },
  {
   "cell_type": "code",
   "execution_count": 246,
   "outputs": [],
   "source": [
    "school_data.drop('school_type',axis=1, inplace=True)"
   ],
   "metadata": {
    "collapsed": false,
    "ExecuteTime": {
     "end_time": "2024-03-10T23:14:29.157528Z",
     "start_time": "2024-03-10T23:14:29.026516Z"
    }
   },
   "id": "4ebc049ce0f206e5"
  },
  {
   "cell_type": "code",
   "execution_count": 247,
   "outputs": [],
   "source": [
    "school_data.drop(school_data.columns[38:45], axis=1,inplace=True)"
   ],
   "metadata": {
    "collapsed": false,
    "ExecuteTime": {
     "end_time": "2024-03-10T23:14:29.157629Z",
     "start_time": "2024-03-10T23:14:29.037751Z"
    }
   },
   "id": "48ec9e6d36f9a36a"
  },
  {
   "cell_type": "code",
   "execution_count": null,
   "outputs": [],
   "source": [
    "# Remove duplicates from the DataFrame\n",
    "school_data.drop_duplicates(inplace=True)"
   ],
   "metadata": {
    "collapsed": false
   },
   "id": "a3cf1e85bdd67b94"
  },
  {
   "cell_type": "code",
   "execution_count": 248,
   "outputs": [
    {
     "data": {
      "text/plain": "                        School_name        city   zipcode  elementary_school  \\\n0    Academy with Community Partners        Mesa    85203                  0   \n1        Accelerated Learning Center     Phoenix    85028                  0   \n2              Agua Fria High School    Avondale    85323                  0   \n3               Alhambra High School     Phoenix    85019                  0   \n4                 Apollo High School    Glendale    85302                  0   \n..                               ...         ...      ...                ...   \n216       Wickenburg Virtual Academy  Wickenburg    85390                  1   \n217       Williams Field High School      Higley    85236                  0   \n218        Willis Junior High School    Chandler    85225                  0   \n219        Willow Canyon High School    Surprise    85374                  0   \n220             Youngker High School     Buckeye    85326                  0   \n\n     intermediate_school  middle_school  high_school  school_grade  \\\n0                      0              0            1             4   \n1                      0              0            1             5   \n2                      0              0            1             4   \n3                      0              0            1             3   \n4                      0              0            1             4   \n..                   ...            ...          ...           ...   \n216                    1              1            1             4   \n217                    0              1            1             5   \n218                    0              1            0             4   \n219                    0              1            1             5   \n220                    0              0            1             5   \n\n    title_i_status total_students  ... personnel_federal_expenditure  \\\n0                1            169  ...                          0.00   \n1                0            153  ...                        361.34   \n2                1           1653  ...                       1015.26   \n3                1           2283  ...                        750.23   \n4                1           2198  ...                       1084.03   \n..             ...            ...  ...                           ...   \n216              0             78  ...                          0.00   \n217              0           2115  ...                        589.04   \n218              1            858  ...                        807.22   \n219              0           1787  ...                        567.63   \n220              1           2107  ...                        263.13   \n\n    personnel_state_and_local_expenditure non_personnel_federal_expenditure  \\\n0                                10009.70                              0.00   \n1                                 7245.17                             47.33   \n2                                 8781.97                            133.17   \n3                                 8190.89                             73.03   \n4                                 7182.71                            175.34   \n..                                    ...                               ...   \n216                              10009.70                              0.00   \n217                               6206.66                            131.67   \n218                               7093.56                            141.18   \n219                               7535.96                            541.30   \n220                               4703.99                              5.26   \n\n    non_personnel_state_and_local_expenditure total_per_pupil_expenditure  \\\n0                                     1006.65                    10028.44   \n1                                     2374.60                    10028.44   \n2                                      884.04                    10814.43   \n3                                      183.81                     9197.96   \n4                                      783.21                     9225.29   \n..                                        ...                         ...   \n216                                   1006.65                    10028.44   \n217                                   1282.88                     8210.26   \n218                                    741.24                     8783.20   \n219                                   1460.76                    10105.66   \n220                                    135.97                     5108.35   \n\n    acad_focus_1 acad_focus_2 acad_focus_3 acad_focus_4 acad_focus_5  \n0              1            1            1            1            1  \n1              1            1            1            1            1  \n2              1            1            1            1            1  \n3              1            1            1            1            1  \n4              0            0            0            0            0  \n..           ...          ...          ...          ...          ...  \n216            0            0            0            0            0  \n217            0            0            0            0            0  \n218            1            1            1            1            1  \n219            1            1            1            1            1  \n220            1            1            1            1            1  \n\n[220 rows x 43 columns]",
      "text/html": "<div>\n<style scoped>\n    .dataframe tbody tr th:only-of-type {\n        vertical-align: middle;\n    }\n\n    .dataframe tbody tr th {\n        vertical-align: top;\n    }\n\n    .dataframe thead th {\n        text-align: right;\n    }\n</style>\n<table border=\"1\" class=\"dataframe\">\n  <thead>\n    <tr style=\"text-align: right;\">\n      <th></th>\n      <th>School_name</th>\n      <th>city</th>\n      <th>zipcode</th>\n      <th>elementary_school</th>\n      <th>intermediate_school</th>\n      <th>middle_school</th>\n      <th>high_school</th>\n      <th>school_grade</th>\n      <th>title_i_status</th>\n      <th>total_students</th>\n      <th>...</th>\n      <th>personnel_federal_expenditure</th>\n      <th>personnel_state_and_local_expenditure</th>\n      <th>non_personnel_federal_expenditure</th>\n      <th>non_personnel_state_and_local_expenditure</th>\n      <th>total_per_pupil_expenditure</th>\n      <th>acad_focus_1</th>\n      <th>acad_focus_2</th>\n      <th>acad_focus_3</th>\n      <th>acad_focus_4</th>\n      <th>acad_focus_5</th>\n    </tr>\n  </thead>\n  <tbody>\n    <tr>\n      <th>0</th>\n      <td>Academy with Community Partners</td>\n      <td>Mesa</td>\n      <td>85203</td>\n      <td>0</td>\n      <td>0</td>\n      <td>0</td>\n      <td>1</td>\n      <td>4</td>\n      <td>1</td>\n      <td>169</td>\n      <td>...</td>\n      <td>0.00</td>\n      <td>10009.70</td>\n      <td>0.00</td>\n      <td>1006.65</td>\n      <td>10028.44</td>\n      <td>1</td>\n      <td>1</td>\n      <td>1</td>\n      <td>1</td>\n      <td>1</td>\n    </tr>\n    <tr>\n      <th>1</th>\n      <td>Accelerated Learning Center</td>\n      <td>Phoenix</td>\n      <td>85028</td>\n      <td>0</td>\n      <td>0</td>\n      <td>0</td>\n      <td>1</td>\n      <td>5</td>\n      <td>0</td>\n      <td>153</td>\n      <td>...</td>\n      <td>361.34</td>\n      <td>7245.17</td>\n      <td>47.33</td>\n      <td>2374.60</td>\n      <td>10028.44</td>\n      <td>1</td>\n      <td>1</td>\n      <td>1</td>\n      <td>1</td>\n      <td>1</td>\n    </tr>\n    <tr>\n      <th>2</th>\n      <td>Agua Fria High School</td>\n      <td>Avondale</td>\n      <td>85323</td>\n      <td>0</td>\n      <td>0</td>\n      <td>0</td>\n      <td>1</td>\n      <td>4</td>\n      <td>1</td>\n      <td>1653</td>\n      <td>...</td>\n      <td>1015.26</td>\n      <td>8781.97</td>\n      <td>133.17</td>\n      <td>884.04</td>\n      <td>10814.43</td>\n      <td>1</td>\n      <td>1</td>\n      <td>1</td>\n      <td>1</td>\n      <td>1</td>\n    </tr>\n    <tr>\n      <th>3</th>\n      <td>Alhambra High School</td>\n      <td>Phoenix</td>\n      <td>85019</td>\n      <td>0</td>\n      <td>0</td>\n      <td>0</td>\n      <td>1</td>\n      <td>3</td>\n      <td>1</td>\n      <td>2283</td>\n      <td>...</td>\n      <td>750.23</td>\n      <td>8190.89</td>\n      <td>73.03</td>\n      <td>183.81</td>\n      <td>9197.96</td>\n      <td>1</td>\n      <td>1</td>\n      <td>1</td>\n      <td>1</td>\n      <td>1</td>\n    </tr>\n    <tr>\n      <th>4</th>\n      <td>Apollo High School</td>\n      <td>Glendale</td>\n      <td>85302</td>\n      <td>0</td>\n      <td>0</td>\n      <td>0</td>\n      <td>1</td>\n      <td>4</td>\n      <td>1</td>\n      <td>2198</td>\n      <td>...</td>\n      <td>1084.03</td>\n      <td>7182.71</td>\n      <td>175.34</td>\n      <td>783.21</td>\n      <td>9225.29</td>\n      <td>0</td>\n      <td>0</td>\n      <td>0</td>\n      <td>0</td>\n      <td>0</td>\n    </tr>\n    <tr>\n      <th>...</th>\n      <td>...</td>\n      <td>...</td>\n      <td>...</td>\n      <td>...</td>\n      <td>...</td>\n      <td>...</td>\n      <td>...</td>\n      <td>...</td>\n      <td>...</td>\n      <td>...</td>\n      <td>...</td>\n      <td>...</td>\n      <td>...</td>\n      <td>...</td>\n      <td>...</td>\n      <td>...</td>\n      <td>...</td>\n      <td>...</td>\n      <td>...</td>\n      <td>...</td>\n      <td>...</td>\n    </tr>\n    <tr>\n      <th>216</th>\n      <td>Wickenburg Virtual Academy</td>\n      <td>Wickenburg</td>\n      <td>85390</td>\n      <td>1</td>\n      <td>1</td>\n      <td>1</td>\n      <td>1</td>\n      <td>4</td>\n      <td>0</td>\n      <td>78</td>\n      <td>...</td>\n      <td>0.00</td>\n      <td>10009.70</td>\n      <td>0.00</td>\n      <td>1006.65</td>\n      <td>10028.44</td>\n      <td>0</td>\n      <td>0</td>\n      <td>0</td>\n      <td>0</td>\n      <td>0</td>\n    </tr>\n    <tr>\n      <th>217</th>\n      <td>Williams Field High School</td>\n      <td>Higley</td>\n      <td>85236</td>\n      <td>0</td>\n      <td>0</td>\n      <td>1</td>\n      <td>1</td>\n      <td>5</td>\n      <td>0</td>\n      <td>2115</td>\n      <td>...</td>\n      <td>589.04</td>\n      <td>6206.66</td>\n      <td>131.67</td>\n      <td>1282.88</td>\n      <td>8210.26</td>\n      <td>0</td>\n      <td>0</td>\n      <td>0</td>\n      <td>0</td>\n      <td>0</td>\n    </tr>\n    <tr>\n      <th>218</th>\n      <td>Willis Junior High School</td>\n      <td>Chandler</td>\n      <td>85225</td>\n      <td>0</td>\n      <td>0</td>\n      <td>1</td>\n      <td>0</td>\n      <td>4</td>\n      <td>1</td>\n      <td>858</td>\n      <td>...</td>\n      <td>807.22</td>\n      <td>7093.56</td>\n      <td>141.18</td>\n      <td>741.24</td>\n      <td>8783.20</td>\n      <td>1</td>\n      <td>1</td>\n      <td>1</td>\n      <td>1</td>\n      <td>1</td>\n    </tr>\n    <tr>\n      <th>219</th>\n      <td>Willow Canyon High School</td>\n      <td>Surprise</td>\n      <td>85374</td>\n      <td>0</td>\n      <td>0</td>\n      <td>1</td>\n      <td>1</td>\n      <td>5</td>\n      <td>0</td>\n      <td>1787</td>\n      <td>...</td>\n      <td>567.63</td>\n      <td>7535.96</td>\n      <td>541.30</td>\n      <td>1460.76</td>\n      <td>10105.66</td>\n      <td>1</td>\n      <td>1</td>\n      <td>1</td>\n      <td>1</td>\n      <td>1</td>\n    </tr>\n    <tr>\n      <th>220</th>\n      <td>Youngker High School</td>\n      <td>Buckeye</td>\n      <td>85326</td>\n      <td>0</td>\n      <td>0</td>\n      <td>0</td>\n      <td>1</td>\n      <td>5</td>\n      <td>1</td>\n      <td>2107</td>\n      <td>...</td>\n      <td>263.13</td>\n      <td>4703.99</td>\n      <td>5.26</td>\n      <td>135.97</td>\n      <td>5108.35</td>\n      <td>1</td>\n      <td>1</td>\n      <td>1</td>\n      <td>1</td>\n      <td>1</td>\n    </tr>\n  </tbody>\n</table>\n<p>220 rows × 43 columns</p>\n</div>"
     },
     "execution_count": 248,
     "metadata": {},
     "output_type": "execute_result"
    }
   ],
   "source": [
    "school_data"
   ],
   "metadata": {
    "collapsed": false,
    "ExecuteTime": {
     "end_time": "2024-03-10T23:14:29.158563Z",
     "start_time": "2024-03-10T23:14:29.042071Z"
    }
   },
   "id": "e652b08d686e87c0"
  },
  {
   "cell_type": "code",
   "execution_count": 249,
   "outputs": [],
   "source": [
    "school_data.to_csv('511_project_Step_3.csv', index=False)\n"
   ],
   "metadata": {
    "collapsed": false,
    "ExecuteTime": {
     "end_time": "2024-03-10T23:14:29.158684Z",
     "start_time": "2024-03-10T23:14:29.074026Z"
    }
   },
   "id": "6ab7ef667f7a7371"
  }
 ],
 "metadata": {
  "kernelspec": {
   "display_name": "Python 3",
   "language": "python",
   "name": "python3"
  },
  "language_info": {
   "codemirror_mode": {
    "name": "ipython",
    "version": 2
   },
   "file_extension": ".py",
   "mimetype": "text/x-python",
   "name": "python",
   "nbconvert_exporter": "python",
   "pygments_lexer": "ipython2",
   "version": "2.7.6"
  }
 },
 "nbformat": 4,
 "nbformat_minor": 5
}
