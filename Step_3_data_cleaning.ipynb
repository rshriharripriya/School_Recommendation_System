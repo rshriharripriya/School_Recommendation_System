{
 "cells": [
  {
   "cell_type": "markdown",
   "source": [],
   "metadata": {
    "collapsed": false
   },
   "id": "f0946710cf292a"
  },
  {
   "cell_type": "code",
   "execution_count": 100,
   "id": "88a8f3ba8f8bcc9e",
   "metadata": {
    "collapsed": true,
    "ExecuteTime": {
     "end_time": "2024-04-27T03:34:09.660754Z",
     "start_time": "2024-04-27T03:34:09.642652Z"
    }
   },
   "outputs": [],
   "source": [
    "import pandas as pd"
   ]
  },
  {
   "cell_type": "code",
   "execution_count": 101,
   "outputs": [
    {
     "data": {
      "text/plain": "                      School_name  school_type     city   zipcode edu_range  \\\n0  Academy with Community Partners      Public      Mesa    85203    9 - 12   \n1      Accelerated Learning Center      Public   Phoenix    85028    9 - 12   \n2            Agua Fria High School      Public  Avondale    85323    9 - 12   \n3             Alhambra High School      Public   Phoenix    85019    9 - 12   \n4               Apollo High School      Public  Glendale    85302    9 - 12   \n\n  school_grade title_i_status total_students african_american  \\\n0            B            Yes            169               13   \n1            A             No            153              <10   \n2            B            Yes           1653              177   \n3            C            Yes           2283              235   \n4            B            Yes           2198              176   \n\n  african_american_percent  ...  \\\n0                     7.69  ...   \n1                      <10  ...   \n2                    10.71  ...   \n3                    10.29  ...   \n4                     8.01  ...   \n\n                                   sports_facilities  \\\n0  ['Basketball', 'Others', 'chevron_right', 'Fla...   \n1                              ['No data available']   \n2  ['Badminton', 'Baseball', 'Basketball', 'Cross...   \n3  ['Badminton', 'Baseball', 'Basketball', 'Cross...   \n4  ['Badminton', 'Baseball', 'Basketball', 'Cross...   \n\n                                    music_facilities  \\\n0                                            ['Art']   \n1                             ['Art', 'Photography']   \n2  ['Art', 'Band', 'Ceramics/Sculpting', 'Choir',...   \n3  ['Art', 'Band', 'Ceramics/Sculpting', 'Choir',...   \n4  ['Art', 'Band', 'Ceramics/Sculpting', 'Choir',...   \n\n                          after_school_opportunities  \\\n0  ['Athletic', 'chevron_right', 'Basketball', 'c...   \n1                              ['No data available']   \n2  ['Academic', 'chevron_right', 'National Honor ...   \n3  ['Academic', 'chevron_right', 'AVID Club/Unive...   \n4  ['Academic', 'chevron_right', 'World Language ...   \n\n                                    other_facilities  \\\n0     ['Dedicated Counselors', 'chevron_right', '1']   \n1         ['Art Room', 'Indoor air quality control']   \n2  ['Art Room', 'Auditorium', 'Book Store', 'Cafe...   \n3  ['Art Room', 'Auditorium', 'Book Store', 'Cafe...   \n4  ['Art Room', 'Auditorium', 'Book Store', 'Cafe...   \n\n                                    student_services acad_focus_1  \\\n0  ['Assistance with Material Needs', 'McKinney-V...          Yes   \n1  ['Assistance with Material Needs', 'McKinney-V...          Yes   \n2                              ['No data available']          Yes   \n3  ['Dedicated School Counselor', 'chevron_right'...          Yes   \n4                              ['No data available']          NaN   \n\n  acad_focus_2 acad_focus_3 acad_focus_4 acad_focus_5  \n0          Yes          Yes          Yes          Yes  \n1          Yes          Yes          Yes          Yes  \n2          Yes          Yes          Yes          Yes  \n3          Yes          Yes          Yes          Yes  \n4          NaN          NaN          NaN          NaN  \n\n[5 rows x 48 columns]",
      "text/html": "<div>\n<style scoped>\n    .dataframe tbody tr th:only-of-type {\n        vertical-align: middle;\n    }\n\n    .dataframe tbody tr th {\n        vertical-align: top;\n    }\n\n    .dataframe thead th {\n        text-align: right;\n    }\n</style>\n<table border=\"1\" class=\"dataframe\">\n  <thead>\n    <tr style=\"text-align: right;\">\n      <th></th>\n      <th>School_name</th>\n      <th>school_type</th>\n      <th>city</th>\n      <th>zipcode</th>\n      <th>edu_range</th>\n      <th>school_grade</th>\n      <th>title_i_status</th>\n      <th>total_students</th>\n      <th>african_american</th>\n      <th>african_american_percent</th>\n      <th>...</th>\n      <th>sports_facilities</th>\n      <th>music_facilities</th>\n      <th>after_school_opportunities</th>\n      <th>other_facilities</th>\n      <th>student_services</th>\n      <th>acad_focus_1</th>\n      <th>acad_focus_2</th>\n      <th>acad_focus_3</th>\n      <th>acad_focus_4</th>\n      <th>acad_focus_5</th>\n    </tr>\n  </thead>\n  <tbody>\n    <tr>\n      <th>0</th>\n      <td>Academy with Community Partners</td>\n      <td>Public</td>\n      <td>Mesa</td>\n      <td>85203</td>\n      <td>9 - 12</td>\n      <td>B</td>\n      <td>Yes</td>\n      <td>169</td>\n      <td>13</td>\n      <td>7.69</td>\n      <td>...</td>\n      <td>['Basketball', 'Others', 'chevron_right', 'Fla...</td>\n      <td>['Art']</td>\n      <td>['Athletic', 'chevron_right', 'Basketball', 'c...</td>\n      <td>['Dedicated Counselors', 'chevron_right', '1']</td>\n      <td>['Assistance with Material Needs', 'McKinney-V...</td>\n      <td>Yes</td>\n      <td>Yes</td>\n      <td>Yes</td>\n      <td>Yes</td>\n      <td>Yes</td>\n    </tr>\n    <tr>\n      <th>1</th>\n      <td>Accelerated Learning Center</td>\n      <td>Public</td>\n      <td>Phoenix</td>\n      <td>85028</td>\n      <td>9 - 12</td>\n      <td>A</td>\n      <td>No</td>\n      <td>153</td>\n      <td>&lt;10</td>\n      <td>&lt;10</td>\n      <td>...</td>\n      <td>['No data available']</td>\n      <td>['Art', 'Photography']</td>\n      <td>['No data available']</td>\n      <td>['Art Room', 'Indoor air quality control']</td>\n      <td>['Assistance with Material Needs', 'McKinney-V...</td>\n      <td>Yes</td>\n      <td>Yes</td>\n      <td>Yes</td>\n      <td>Yes</td>\n      <td>Yes</td>\n    </tr>\n    <tr>\n      <th>2</th>\n      <td>Agua Fria High School</td>\n      <td>Public</td>\n      <td>Avondale</td>\n      <td>85323</td>\n      <td>9 - 12</td>\n      <td>B</td>\n      <td>Yes</td>\n      <td>1653</td>\n      <td>177</td>\n      <td>10.71</td>\n      <td>...</td>\n      <td>['Badminton', 'Baseball', 'Basketball', 'Cross...</td>\n      <td>['Art', 'Band', 'Ceramics/Sculpting', 'Choir',...</td>\n      <td>['Academic', 'chevron_right', 'National Honor ...</td>\n      <td>['Art Room', 'Auditorium', 'Book Store', 'Cafe...</td>\n      <td>['No data available']</td>\n      <td>Yes</td>\n      <td>Yes</td>\n      <td>Yes</td>\n      <td>Yes</td>\n      <td>Yes</td>\n    </tr>\n    <tr>\n      <th>3</th>\n      <td>Alhambra High School</td>\n      <td>Public</td>\n      <td>Phoenix</td>\n      <td>85019</td>\n      <td>9 - 12</td>\n      <td>C</td>\n      <td>Yes</td>\n      <td>2283</td>\n      <td>235</td>\n      <td>10.29</td>\n      <td>...</td>\n      <td>['Badminton', 'Baseball', 'Basketball', 'Cross...</td>\n      <td>['Art', 'Band', 'Ceramics/Sculpting', 'Choir',...</td>\n      <td>['Academic', 'chevron_right', 'AVID Club/Unive...</td>\n      <td>['Art Room', 'Auditorium', 'Book Store', 'Cafe...</td>\n      <td>['Dedicated School Counselor', 'chevron_right'...</td>\n      <td>Yes</td>\n      <td>Yes</td>\n      <td>Yes</td>\n      <td>Yes</td>\n      <td>Yes</td>\n    </tr>\n    <tr>\n      <th>4</th>\n      <td>Apollo High School</td>\n      <td>Public</td>\n      <td>Glendale</td>\n      <td>85302</td>\n      <td>9 - 12</td>\n      <td>B</td>\n      <td>Yes</td>\n      <td>2198</td>\n      <td>176</td>\n      <td>8.01</td>\n      <td>...</td>\n      <td>['Badminton', 'Baseball', 'Basketball', 'Cross...</td>\n      <td>['Art', 'Band', 'Ceramics/Sculpting', 'Choir',...</td>\n      <td>['Academic', 'chevron_right', 'World Language ...</td>\n      <td>['Art Room', 'Auditorium', 'Book Store', 'Cafe...</td>\n      <td>['No data available']</td>\n      <td>NaN</td>\n      <td>NaN</td>\n      <td>NaN</td>\n      <td>NaN</td>\n      <td>NaN</td>\n    </tr>\n  </tbody>\n</table>\n<p>5 rows × 48 columns</p>\n</div>"
     },
     "execution_count": 101,
     "metadata": {},
     "output_type": "execute_result"
    }
   ],
   "source": [
    "school_data = pd.read_csv('dataset_of_schools_in_phoenix_metropolitan-1.csv')\n",
    "school_data.head()"
   ],
   "metadata": {
    "collapsed": false,
    "ExecuteTime": {
     "end_time": "2024-04-27T03:34:10.081763Z",
     "start_time": "2024-04-27T03:34:10.041172Z"
    }
   },
   "id": "92c5d2013c3c80c5"
  },
  {
   "cell_type": "code",
   "execution_count": 102,
   "outputs": [
    {
     "data": {
      "text/plain": "Dropout_rate\nFalse    182\nTrue      39\nName: count, dtype: int64"
     },
     "execution_count": 102,
     "metadata": {},
     "output_type": "execute_result"
    }
   ],
   "source": [
    "school_data['Dropout_rate'].isnull().value_counts()"
   ],
   "metadata": {
    "collapsed": false,
    "ExecuteTime": {
     "end_time": "2024-04-27T03:34:11.050182Z",
     "start_time": "2024-04-27T03:34:11.024301Z"
    }
   },
   "id": "initial_id"
  },
  {
   "cell_type": "code",
   "execution_count": 103,
   "outputs": [
    {
     "data": {
      "text/plain": "Dropout_rate\nFalse    221\nName: count, dtype: int64"
     },
     "execution_count": 103,
     "metadata": {},
     "output_type": "execute_result"
    }
   ],
   "source": [
    "school_data.fillna({'Dropout_rate': 0}, inplace=True)\n",
    "school_data['Dropout_rate'].isnull().value_counts()"
   ],
   "metadata": {
    "collapsed": false,
    "ExecuteTime": {
     "end_time": "2024-04-27T03:34:11.835254Z",
     "start_time": "2024-04-27T03:34:11.816202Z"
    }
   },
   "id": "74ee87c86cefcd36"
  },
  {
   "cell_type": "code",
   "execution_count": 104,
   "outputs": [
    {
     "data": {
      "text/plain": "No_of_students_adv_placement_course\nFalse    219\nTrue       2\nName: count, dtype: int64"
     },
     "execution_count": 104,
     "metadata": {},
     "output_type": "execute_result"
    }
   ],
   "source": [
    "school_data['No_of_students_adv_placement_course'].isnull().value_counts()"
   ],
   "metadata": {
    "collapsed": false,
    "ExecuteTime": {
     "end_time": "2024-04-27T03:34:12.429215Z",
     "start_time": "2024-04-27T03:34:12.406987Z"
    }
   },
   "id": "408bdbc17633d9e4"
  },
  {
   "cell_type": "code",
   "execution_count": 105,
   "outputs": [
    {
     "data": {
      "text/plain": "Students_with_Chronic_Absenteeism\nFalse    219\nTrue       2\nName: count, dtype: int64"
     },
     "execution_count": 105,
     "metadata": {},
     "output_type": "execute_result"
    }
   ],
   "source": [
    "school_data['Students_with_Chronic_Absenteeism'].isnull().value_counts()"
   ],
   "metadata": {
    "collapsed": false,
    "ExecuteTime": {
     "end_time": "2024-04-27T03:34:13.027327Z",
     "start_time": "2024-04-27T03:34:13.006868Z"
    }
   },
   "id": "a3b66f42eaebe7aa"
  },
  {
   "cell_type": "code",
   "execution_count": 106,
   "outputs": [
    {
     "data": {
      "text/plain": "crime_rate\nFalse    219\nTrue       2\nName: count, dtype: int64"
     },
     "execution_count": 106,
     "metadata": {},
     "output_type": "execute_result"
    }
   ],
   "source": [
    "school_data['crime_rate'].isnull().value_counts()"
   ],
   "metadata": {
    "collapsed": false,
    "ExecuteTime": {
     "end_time": "2024-04-27T03:34:13.485414Z",
     "start_time": "2024-04-27T03:34:13.464986Z"
    }
   },
   "id": "c1d1c40f3d301aeb"
  },
  {
   "cell_type": "code",
   "execution_count": 107,
   "outputs": [
    {
     "data": {
      "text/plain": "total_students_bullied\nFalse    219\nTrue       2\nName: count, dtype: int64"
     },
     "execution_count": 107,
     "metadata": {},
     "output_type": "execute_result"
    }
   ],
   "source": [
    "school_data['total_students_bullied'].isnull().value_counts()"
   ],
   "metadata": {
    "collapsed": false,
    "ExecuteTime": {
     "end_time": "2024-04-27T03:34:13.955644Z",
     "start_time": "2024-04-27T03:34:13.935510Z"
    }
   },
   "id": "932f3cab737488b9"
  },
  {
   "cell_type": "code",
   "execution_count": 108,
   "outputs": [],
   "source": [
    "\n",
    "school_data.fillna({'No_of_students_adv_placement_course': 0.0, 'Students_with_Chronic_Absenteeism' : 0.0,'crime_rate' : 0.0, 'total_students_bullied' : 0.0}, inplace=True)\n"
   ],
   "metadata": {
    "collapsed": false,
    "ExecuteTime": {
     "end_time": "2024-04-27T03:34:14.436342Z",
     "start_time": "2024-04-27T03:34:14.406258Z"
    }
   },
   "id": "fa6e3e107f48e507"
  },
  {
   "cell_type": "code",
   "execution_count": 109,
   "outputs": [
    {
     "data": {
      "text/plain": "No_of_students_adv_placement_course\nFalse    221\nName: count, dtype: int64"
     },
     "execution_count": 109,
     "metadata": {},
     "output_type": "execute_result"
    }
   ],
   "source": [
    "school_data['No_of_students_adv_placement_course'].isnull().value_counts()"
   ],
   "metadata": {
    "collapsed": false,
    "ExecuteTime": {
     "end_time": "2024-04-27T03:34:14.985695Z",
     "start_time": "2024-04-27T03:34:14.962723Z"
    }
   },
   "id": "62b9234c0041a602"
  },
  {
   "cell_type": "code",
   "execution_count": 110,
   "outputs": [
    {
     "data": {
      "text/plain": "Students_with_Chronic_Absenteeism\nFalse    221\nName: count, dtype: int64"
     },
     "execution_count": 110,
     "metadata": {},
     "output_type": "execute_result"
    }
   ],
   "source": [
    "school_data['Students_with_Chronic_Absenteeism'].isnull().value_counts()"
   ],
   "metadata": {
    "collapsed": false,
    "ExecuteTime": {
     "end_time": "2024-04-27T03:34:15.734206Z",
     "start_time": "2024-04-27T03:34:15.714219Z"
    }
   },
   "id": "b744ebfef7224f54"
  },
  {
   "cell_type": "code",
   "execution_count": 111,
   "outputs": [
    {
     "data": {
      "text/plain": "crime_rate\nFalse    221\nName: count, dtype: int64"
     },
     "execution_count": 111,
     "metadata": {},
     "output_type": "execute_result"
    }
   ],
   "source": [
    "school_data['crime_rate'].isnull().value_counts()"
   ],
   "metadata": {
    "collapsed": false,
    "ExecuteTime": {
     "end_time": "2024-04-27T03:34:16.459255Z",
     "start_time": "2024-04-27T03:34:16.428237Z"
    }
   },
   "id": "37c07e405d4ec6a3"
  },
  {
   "cell_type": "code",
   "execution_count": 112,
   "outputs": [
    {
     "data": {
      "text/plain": "total_students_bullied\nFalse    221\nName: count, dtype: int64"
     },
     "execution_count": 112,
     "metadata": {},
     "output_type": "execute_result"
    }
   ],
   "source": [
    "school_data['total_students_bullied'].isnull().value_counts()"
   ],
   "metadata": {
    "collapsed": false,
    "ExecuteTime": {
     "end_time": "2024-04-27T03:34:17.293317Z",
     "start_time": "2024-04-27T03:34:17.224567Z"
    }
   },
   "id": "11eb173052848a94"
  },
  {
   "cell_type": "code",
   "execution_count": 113,
   "outputs": [
    {
     "name": "stdout",
     "output_type": "stream",
     "text": [
      "acad_focus_1\n",
      "True     120\n",
      "False    101\n",
      "Name: count, dtype: int64\n",
      "acad_focus_2\n",
      "True     120\n",
      "False    101\n",
      "Name: count, dtype: int64\n",
      "acad_focus_3\n",
      "True     120\n",
      "False    101\n",
      "Name: count, dtype: int64\n",
      "acad_focus_4\n",
      "True     120\n",
      "False    101\n",
      "Name: count, dtype: int64\n",
      "acad_focus_5\n",
      "True     120\n",
      "False    101\n",
      "Name: count, dtype: int64\n"
     ]
    }
   ],
   "source": [
    "for column in school_data.columns:\n",
    "    if 'acad_focus_' in column:\n",
    "        print(school_data[column].isnull().value_counts())"
   ],
   "metadata": {
    "collapsed": false,
    "ExecuteTime": {
     "end_time": "2024-04-27T03:34:18.514607Z",
     "start_time": "2024-04-27T03:34:18.500125Z"
    }
   },
   "id": "dcb66fb66288f9f1"
  },
  {
   "cell_type": "code",
   "execution_count": 114,
   "outputs": [],
   "source": [
    "for column in school_data.columns:\n",
    "    if 'acad_focus_' in column:\n",
    "        school_data.fillna({column: \"No\"}, inplace=True)"
   ],
   "metadata": {
    "collapsed": false,
    "ExecuteTime": {
     "end_time": "2024-04-27T03:34:19.179802Z",
     "start_time": "2024-04-27T03:34:19.157061Z"
    }
   },
   "id": "6eba2ea9e043f4e0"
  },
  {
   "cell_type": "code",
   "execution_count": 115,
   "outputs": [
    {
     "name": "stdout",
     "output_type": "stream",
     "text": [
      "acad_focus_1\n",
      "False    221\n",
      "Name: count, dtype: int64\n",
      "acad_focus_2\n",
      "False    221\n",
      "Name: count, dtype: int64\n",
      "acad_focus_3\n",
      "False    221\n",
      "Name: count, dtype: int64\n",
      "acad_focus_4\n",
      "False    221\n",
      "Name: count, dtype: int64\n",
      "acad_focus_5\n",
      "False    221\n",
      "Name: count, dtype: int64\n"
     ]
    }
   ],
   "source": [
    "for column in school_data.columns:\n",
    "    if 'acad_focus_' in column:\n",
    "        print(school_data[column].isnull().value_counts())"
   ],
   "metadata": {
    "collapsed": false,
    "ExecuteTime": {
     "end_time": "2024-04-27T03:34:19.650790Z",
     "start_time": "2024-04-27T03:34:19.631248Z"
    }
   },
   "id": "af99f015a4937030"
  },
  {
   "cell_type": "code",
   "execution_count": 116,
   "outputs": [
    {
     "name": "stdout",
     "output_type": "stream",
     "text": [
      "african_american\n",
      "False    218\n",
      "True       3\n",
      "Name: count, dtype: int64\n",
      "\n",
      "african_american_percent\n",
      "False    218\n",
      "True       3\n",
      "Name: count, dtype: int64\n",
      "\n",
      "hispanic\n",
      "False    221\n",
      "Name: count, dtype: int64\n",
      "\n",
      "hispanic_percent\n",
      "False    221\n",
      "Name: count, dtype: int64\n",
      "\n",
      "native_american\n",
      "False    205\n",
      "True      16\n",
      "Name: count, dtype: int64\n",
      "\n",
      "native_american_percent\n",
      "False    205\n",
      "True      16\n",
      "Name: count, dtype: int64\n",
      "\n",
      "white\n",
      "False    218\n",
      "True       3\n",
      "Name: count, dtype: int64\n",
      "\n",
      "white_percent\n",
      "False    218\n",
      "True       3\n",
      "Name: count, dtype: int64\n",
      "\n",
      "multiple_race\n",
      "False    208\n",
      "True      13\n",
      "Name: count, dtype: int64\n",
      "\n",
      "multiple_race_percent\n",
      "False    208\n",
      "True      13\n",
      "Name: count, dtype: int64\n",
      "\n",
      "asian\n",
      "False    188\n",
      "True      33\n",
      "Name: count, dtype: int64\n",
      "\n",
      "asian_percent\n",
      "False    188\n",
      "True      33\n",
      "Name: count, dtype: int64\n",
      "\n",
      "pacific_islander\n",
      "False    159\n",
      "True      62\n",
      "Name: count, dtype: int64\n",
      "\n",
      "pacific_islander_percent\n",
      "False    159\n",
      "True      62\n",
      "Name: count, dtype: int64\n"
     ]
    }
   ],
   "source": [
    "\n",
    "columns_to_replace = ['african_american', 'african_american_percent', \n",
    "                      'hispanic', 'hispanic_percent', \n",
    "                      'native_american', 'native_american_percent', \n",
    "                      'white', 'white_percent', \n",
    "                      'multiple_race', 'multiple_race_percent', \n",
    "                      'asian', 'asian_percent', \n",
    "                      'pacific_islander', 'pacific_islander_percent']\n",
    "\n",
    "for column in columns_to_replace:\n",
    "    print(school_data[column].isnull().value_counts())\n",
    "    print()"
   ],
   "metadata": {
    "collapsed": false,
    "ExecuteTime": {
     "end_time": "2024-04-27T03:34:20.721909Z",
     "start_time": "2024-04-27T03:34:20.702106Z"
    }
   },
   "id": "81df779caf28b506"
  },
  {
   "cell_type": "code",
   "execution_count": 117,
   "outputs": [],
   "source": [
    "for column in columns_to_replace:\n",
    "    school_data.fillna({column: 0}, inplace=True)"
   ],
   "metadata": {
    "collapsed": false,
    "ExecuteTime": {
     "end_time": "2024-04-27T03:34:22.029634Z",
     "start_time": "2024-04-27T03:34:22.005404Z"
    }
   },
   "id": "9c38109e93998c3f"
  },
  {
   "cell_type": "code",
   "execution_count": 118,
   "outputs": [
    {
     "name": "stdout",
     "output_type": "stream",
     "text": [
      "african_american\n",
      "False    221\n",
      "Name: count, dtype: int64\n",
      "african_american_percent\n",
      "False    221\n",
      "Name: count, dtype: int64\n",
      "hispanic\n",
      "False    221\n",
      "Name: count, dtype: int64\n",
      "hispanic_percent\n",
      "False    221\n",
      "Name: count, dtype: int64\n",
      "native_american\n",
      "False    221\n",
      "Name: count, dtype: int64\n",
      "native_american_percent\n",
      "False    221\n",
      "Name: count, dtype: int64\n",
      "white\n",
      "False    221\n",
      "Name: count, dtype: int64\n",
      "white_percent\n",
      "False    221\n",
      "Name: count, dtype: int64\n",
      "multiple_race\n",
      "False    221\n",
      "Name: count, dtype: int64\n",
      "multiple_race_percent\n",
      "False    221\n",
      "Name: count, dtype: int64\n",
      "asian\n",
      "False    221\n",
      "Name: count, dtype: int64\n",
      "asian_percent\n",
      "False    221\n",
      "Name: count, dtype: int64\n",
      "pacific_islander\n",
      "False    221\n",
      "Name: count, dtype: int64\n",
      "pacific_islander_percent\n",
      "False    221\n",
      "Name: count, dtype: int64\n"
     ]
    }
   ],
   "source": [
    "\n",
    "for column in columns_to_replace:\n",
    "    print(school_data[column].isnull().value_counts())\n"
   ],
   "metadata": {
    "collapsed": false,
    "ExecuteTime": {
     "end_time": "2024-04-27T03:34:23.412799Z",
     "start_time": "2024-04-27T03:34:23.399950Z"
    }
   },
   "id": "9fa9ee1b8680750f"
  },
  {
   "cell_type": "code",
   "execution_count": 119,
   "outputs": [],
   "source": [
    "ignored_cols = ['awards_and_recognitions',\n",
    " 'academic_offerings',\n",
    " 'sports_facilities',\n",
    " 'music_facilities',\n",
    " 'after_school_opportunities',\n",
    " 'other_facilities',\n",
    " 'student_services']"
   ],
   "metadata": {
    "collapsed": false,
    "ExecuteTime": {
     "end_time": "2024-04-27T03:34:25.003827Z",
     "start_time": "2024-04-27T03:34:24.978569Z"
    }
   },
   "id": "f26951b7d8f6dec4"
  },
  {
   "cell_type": "code",
   "execution_count": 122,
   "outputs": [],
   "source": [
    "\n",
    "#Removing '<' symbol\n",
    "def remove_lt_symbol(text):\n",
    "    if isinstance(text, str):\n",
    "        return text.replace('<', '')\n",
    "    else:\n",
    "        return text\n",
    "for column in school_data.columns:\n",
    "    if column not in ignored_cols:\n",
    "        # print(column)\n",
    "        school_data[column] = school_data[column].apply(remove_lt_symbol)\n"
   ],
   "metadata": {
    "collapsed": false,
    "ExecuteTime": {
     "end_time": "2024-04-27T03:34:38.010039Z",
     "start_time": "2024-04-27T03:34:37.969774Z"
    }
   },
   "id": "56951e77627e31eb"
  },
  {
   "cell_type": "code",
   "execution_count": 123,
   "outputs": [],
   "source": [
    "\n",
    "#Removing ','\n",
    "def remove_comma(text):\n",
    "    if isinstance(text, str):\n",
    "        return text.replace(',', '')\n",
    "    else:\n",
    "        return text\n",
    "\n",
    "for column in school_data.columns:\n",
    "    if column not in ignored_cols:\n",
    "        # print(column)\n",
    "        school_data[column] = school_data[column].apply(remove_comma)\n"
   ],
   "metadata": {
    "collapsed": false,
    "ExecuteTime": {
     "end_time": "2024-04-27T03:34:41.014966Z",
     "start_time": "2024-04-27T03:34:41.001202Z"
    }
   },
   "id": "6c3cc010471a242a"
  },
  {
   "cell_type": "code",
   "execution_count": 124,
   "outputs": [],
   "source": [
    "\n",
    "#Removing '$' sign\n",
    "def remove_dollar(text):\n",
    "    if isinstance(text, str):\n",
    "        return text.replace('$', '')\n",
    "    else:\n",
    "        return text\n",
    "for column in school_data.columns:\n",
    "    if column not in ignored_cols:\n",
    "        school_data[column] = school_data[column].apply(remove_dollar)\n"
   ],
   "metadata": {
    "collapsed": false,
    "ExecuteTime": {
     "end_time": "2024-04-27T03:34:43.038893Z",
     "start_time": "2024-04-27T03:34:43.022705Z"
    }
   },
   "id": "8a3fca3603df1b0f"
  },
  {
   "cell_type": "code",
   "execution_count": 125,
   "outputs": [],
   "source": [
    "\n",
    "#Converting to int\n",
    "column_numbers_to_convert = [7,8, 10, 12, 14, 16, 18, 20] \n",
    "school_data.iloc[:, column_numbers_to_convert] = school_data.iloc[:, column_numbers_to_convert].astype(int)\n"
   ],
   "metadata": {
    "collapsed": false,
    "ExecuteTime": {
     "end_time": "2024-04-27T03:34:45.777433Z",
     "start_time": "2024-04-27T03:34:45.761490Z"
    }
   },
   "id": "a5e20f3385277597"
  },
  {
   "cell_type": "code",
   "execution_count": 126,
   "outputs": [],
   "source": [
    "\n",
    "#Converting to float\n",
    "column_numbers_to_convert = [9, 11, 13, 15, 17, 19, 21]  \n",
    "school_data.iloc[:, column_numbers_to_convert] = school_data.iloc[:, column_numbers_to_convert].astype(float)\n",
    "\n",
    "\n",
    "\n",
    "\n"
   ],
   "metadata": {
    "collapsed": false,
    "ExecuteTime": {
     "end_time": "2024-04-27T03:34:46.618656Z",
     "start_time": "2024-04-27T03:34:46.603531Z"
    }
   },
   "id": "2029179f83271fed"
  },
  {
   "cell_type": "code",
   "execution_count": 126,
   "outputs": [],
   "source": [],
   "metadata": {
    "collapsed": false,
    "ExecuteTime": {
     "end_time": "2024-04-27T03:34:47.229124Z",
     "start_time": "2024-04-27T03:34:47.212505Z"
    }
   },
   "id": "ddb679a959d60ac1"
  },
  {
   "cell_type": "code",
   "execution_count": 127,
   "outputs": [
    {
     "name": "stderr",
     "output_type": "stream",
     "text": [
      "/var/folders/rd/0t81087x5czf3z64s284fdcw0000gn/T/ipykernel_46286/2876677860.py:4: FutureWarning: Downcasting behavior in `replace` is deprecated and will be removed in a future version. To retain the old behavior, explicitly call `result.infer_objects(copy=False)`. To opt-in to the future behavior, set `pd.set_option('future.no_silent_downcasting', True)`\n",
      "  school_data.iloc[:, [6,43,44,45,46,47]] = school_data.iloc[:, [6,43,44,45,46,47]].replace(to_replace = 'Yes',value =1)\n"
     ]
    },
    {
     "data": {
      "text/plain": "                        School_name  school_type       city   zipcode  \\\n0    Academy with Community Partners      Public        Mesa    85203   \n1        Accelerated Learning Center      Public     Phoenix    85028   \n2              Agua Fria High School      Public    Avondale    85323   \n3               Alhambra High School      Public     Phoenix    85019   \n4                 Apollo High School      Public    Glendale    85302   \n..                               ...         ...         ...      ...   \n216       Wickenburg Virtual Academy      Public  Wickenburg    85390   \n217       Williams Field High School      Public      Higley    85236   \n218        Willis Junior High School      Public    Chandler    85225   \n219        Willow Canyon High School      Public    Surprise    85374   \n220             Youngker High School      Public     Buckeye    85326   \n\n             edu_range school_grade title_i_status total_students  \\\n0               9 - 12            B              1            169   \n1               9 - 12            A              0            153   \n2               9 - 12            B              1           1653   \n3               9 - 12            C              1           2283   \n4               9 - 12            B              1           2198   \n..                 ...          ...            ...            ...   \n216  Kindergarten - 12            B              0             78   \n217             8 - 12            A              0           2115   \n218              7 - 8            B              1            858   \n219             7 - 12            A              0           1787   \n220             9 - 12            A              1           2107   \n\n    african_american african_american_percent  ...  \\\n0                 13                     7.69  ...   \n1                 10                     10.0  ...   \n2                177                    10.71  ...   \n3                235                    10.29  ...   \n4                176                     8.01  ...   \n..               ...                      ...  ...   \n216               10                     10.0  ...   \n217              165                      7.8  ...   \n218               48                     5.59  ...   \n219              137                     7.67  ...   \n220              192                     9.11  ...   \n\n                                     sports_facilities  \\\n0    ['Basketball', 'Others', 'chevron_right', 'Fla...   \n1                                ['No data available']   \n2    ['Badminton', 'Baseball', 'Basketball', 'Cross...   \n3    ['Badminton', 'Baseball', 'Basketball', 'Cross...   \n4    ['Badminton', 'Baseball', 'Basketball', 'Cross...   \n..                                                 ...   \n216  ['Baseball', 'Basketball', 'Cross-Country', 'F...   \n217                              ['No data available']   \n218  ['Baseball', 'Basketball', 'Cross-Country', 'F...   \n219  ['Badminton', 'Baseball', 'Basketball', 'Cross...   \n220  ['Badminton', 'Baseball', 'Basketball', 'Cross...   \n\n                                      music_facilities  \\\n0                                              ['Art']   \n1                               ['Art', 'Photography']   \n2    ['Art', 'Band', 'Ceramics/Sculpting', 'Choir',...   \n3    ['Art', 'Band', 'Ceramics/Sculpting', 'Choir',...   \n4    ['Art', 'Band', 'Ceramics/Sculpting', 'Choir',...   \n..                                                 ...   \n216                              ['No data available']   \n217                              ['No data available']   \n218  ['Art', 'Band', 'Ceramics/Sculpting', 'Choir',...   \n219  ['Art', 'Band', 'Ceramics/Sculpting', 'Choir',...   \n220  ['Art', 'Band', 'Ceramics/Sculpting', 'Choir',...   \n\n                            after_school_opportunities  \\\n0    ['Athletic', 'chevron_right', 'Basketball', 'c...   \n1                                ['No data available']   \n2    ['Academic', 'chevron_right', 'National Honor ...   \n3    ['Academic', 'chevron_right', 'AVID Club/Unive...   \n4    ['Academic', 'chevron_right', 'World Language ...   \n..                                                 ...   \n216                              ['No data available']   \n217                              ['No data available']   \n218  ['Academic', 'chevron_right', 'Math Club', 'ch...   \n219  ['Academic', 'chevron_right', 'Various Academi...   \n220  ['Academic', 'Arts', 'Athletic', 'Career and T...   \n\n                                      other_facilities  \\\n0       ['Dedicated Counselors', 'chevron_right', '1']   \n1           ['Art Room', 'Indoor air quality control']   \n2    ['Art Room', 'Auditorium', 'Book Store', 'Cafe...   \n3    ['Art Room', 'Auditorium', 'Book Store', 'Cafe...   \n4    ['Art Room', 'Auditorium', 'Book Store', 'Cafe...   \n..                                                 ...   \n216  ['Cafeteria (Onsite food service)', 'Technolog...   \n217                              ['No data available']   \n218  ['Art Room', 'Cafeteria (Onsite food service)'...   \n219  ['Art Room', 'Auditorium', 'Book Store', 'Cafe...   \n220  ['Art Room', 'Auditorium', 'Cafeteria (Onsite ...   \n\n                                      student_services acad_focus_1  \\\n0    ['Assistance with Material Needs', 'McKinney-V...            1   \n1    ['Assistance with Material Needs', 'McKinney-V...            1   \n2                                ['No data available']            1   \n3    ['Dedicated School Counselor', 'chevron_right'...            1   \n4                                ['No data available']            0   \n..                                                 ...          ...   \n216                              ['No data available']            0   \n217                              ['No data available']            0   \n218  ['Dedicated School Counselor', 'chevron_right'...            1   \n219                              ['No data available']            1   \n220  ['Dedicated School Counselor', 'chevron_right'...            1   \n\n    acad_focus_2 acad_focus_3 acad_focus_4 acad_focus_5  \n0              1            1            1            1  \n1              1            1            1            1  \n2              1            1            1            1  \n3              1            1            1            1  \n4              0            0            0            0  \n..           ...          ...          ...          ...  \n216            0            0            0            0  \n217            0            0            0            0  \n218            1            1            1            1  \n219            1            1            1            1  \n220            1            1            1            1  \n\n[221 rows x 48 columns]",
      "text/html": "<div>\n<style scoped>\n    .dataframe tbody tr th:only-of-type {\n        vertical-align: middle;\n    }\n\n    .dataframe tbody tr th {\n        vertical-align: top;\n    }\n\n    .dataframe thead th {\n        text-align: right;\n    }\n</style>\n<table border=\"1\" class=\"dataframe\">\n  <thead>\n    <tr style=\"text-align: right;\">\n      <th></th>\n      <th>School_name</th>\n      <th>school_type</th>\n      <th>city</th>\n      <th>zipcode</th>\n      <th>edu_range</th>\n      <th>school_grade</th>\n      <th>title_i_status</th>\n      <th>total_students</th>\n      <th>african_american</th>\n      <th>african_american_percent</th>\n      <th>...</th>\n      <th>sports_facilities</th>\n      <th>music_facilities</th>\n      <th>after_school_opportunities</th>\n      <th>other_facilities</th>\n      <th>student_services</th>\n      <th>acad_focus_1</th>\n      <th>acad_focus_2</th>\n      <th>acad_focus_3</th>\n      <th>acad_focus_4</th>\n      <th>acad_focus_5</th>\n    </tr>\n  </thead>\n  <tbody>\n    <tr>\n      <th>0</th>\n      <td>Academy with Community Partners</td>\n      <td>Public</td>\n      <td>Mesa</td>\n      <td>85203</td>\n      <td>9 - 12</td>\n      <td>B</td>\n      <td>1</td>\n      <td>169</td>\n      <td>13</td>\n      <td>7.69</td>\n      <td>...</td>\n      <td>['Basketball', 'Others', 'chevron_right', 'Fla...</td>\n      <td>['Art']</td>\n      <td>['Athletic', 'chevron_right', 'Basketball', 'c...</td>\n      <td>['Dedicated Counselors', 'chevron_right', '1']</td>\n      <td>['Assistance with Material Needs', 'McKinney-V...</td>\n      <td>1</td>\n      <td>1</td>\n      <td>1</td>\n      <td>1</td>\n      <td>1</td>\n    </tr>\n    <tr>\n      <th>1</th>\n      <td>Accelerated Learning Center</td>\n      <td>Public</td>\n      <td>Phoenix</td>\n      <td>85028</td>\n      <td>9 - 12</td>\n      <td>A</td>\n      <td>0</td>\n      <td>153</td>\n      <td>10</td>\n      <td>10.0</td>\n      <td>...</td>\n      <td>['No data available']</td>\n      <td>['Art', 'Photography']</td>\n      <td>['No data available']</td>\n      <td>['Art Room', 'Indoor air quality control']</td>\n      <td>['Assistance with Material Needs', 'McKinney-V...</td>\n      <td>1</td>\n      <td>1</td>\n      <td>1</td>\n      <td>1</td>\n      <td>1</td>\n    </tr>\n    <tr>\n      <th>2</th>\n      <td>Agua Fria High School</td>\n      <td>Public</td>\n      <td>Avondale</td>\n      <td>85323</td>\n      <td>9 - 12</td>\n      <td>B</td>\n      <td>1</td>\n      <td>1653</td>\n      <td>177</td>\n      <td>10.71</td>\n      <td>...</td>\n      <td>['Badminton', 'Baseball', 'Basketball', 'Cross...</td>\n      <td>['Art', 'Band', 'Ceramics/Sculpting', 'Choir',...</td>\n      <td>['Academic', 'chevron_right', 'National Honor ...</td>\n      <td>['Art Room', 'Auditorium', 'Book Store', 'Cafe...</td>\n      <td>['No data available']</td>\n      <td>1</td>\n      <td>1</td>\n      <td>1</td>\n      <td>1</td>\n      <td>1</td>\n    </tr>\n    <tr>\n      <th>3</th>\n      <td>Alhambra High School</td>\n      <td>Public</td>\n      <td>Phoenix</td>\n      <td>85019</td>\n      <td>9 - 12</td>\n      <td>C</td>\n      <td>1</td>\n      <td>2283</td>\n      <td>235</td>\n      <td>10.29</td>\n      <td>...</td>\n      <td>['Badminton', 'Baseball', 'Basketball', 'Cross...</td>\n      <td>['Art', 'Band', 'Ceramics/Sculpting', 'Choir',...</td>\n      <td>['Academic', 'chevron_right', 'AVID Club/Unive...</td>\n      <td>['Art Room', 'Auditorium', 'Book Store', 'Cafe...</td>\n      <td>['Dedicated School Counselor', 'chevron_right'...</td>\n      <td>1</td>\n      <td>1</td>\n      <td>1</td>\n      <td>1</td>\n      <td>1</td>\n    </tr>\n    <tr>\n      <th>4</th>\n      <td>Apollo High School</td>\n      <td>Public</td>\n      <td>Glendale</td>\n      <td>85302</td>\n      <td>9 - 12</td>\n      <td>B</td>\n      <td>1</td>\n      <td>2198</td>\n      <td>176</td>\n      <td>8.01</td>\n      <td>...</td>\n      <td>['Badminton', 'Baseball', 'Basketball', 'Cross...</td>\n      <td>['Art', 'Band', 'Ceramics/Sculpting', 'Choir',...</td>\n      <td>['Academic', 'chevron_right', 'World Language ...</td>\n      <td>['Art Room', 'Auditorium', 'Book Store', 'Cafe...</td>\n      <td>['No data available']</td>\n      <td>0</td>\n      <td>0</td>\n      <td>0</td>\n      <td>0</td>\n      <td>0</td>\n    </tr>\n    <tr>\n      <th>...</th>\n      <td>...</td>\n      <td>...</td>\n      <td>...</td>\n      <td>...</td>\n      <td>...</td>\n      <td>...</td>\n      <td>...</td>\n      <td>...</td>\n      <td>...</td>\n      <td>...</td>\n      <td>...</td>\n      <td>...</td>\n      <td>...</td>\n      <td>...</td>\n      <td>...</td>\n      <td>...</td>\n      <td>...</td>\n      <td>...</td>\n      <td>...</td>\n      <td>...</td>\n      <td>...</td>\n    </tr>\n    <tr>\n      <th>216</th>\n      <td>Wickenburg Virtual Academy</td>\n      <td>Public</td>\n      <td>Wickenburg</td>\n      <td>85390</td>\n      <td>Kindergarten - 12</td>\n      <td>B</td>\n      <td>0</td>\n      <td>78</td>\n      <td>10</td>\n      <td>10.0</td>\n      <td>...</td>\n      <td>['Baseball', 'Basketball', 'Cross-Country', 'F...</td>\n      <td>['No data available']</td>\n      <td>['No data available']</td>\n      <td>['Cafeteria (Onsite food service)', 'Technolog...</td>\n      <td>['No data available']</td>\n      <td>0</td>\n      <td>0</td>\n      <td>0</td>\n      <td>0</td>\n      <td>0</td>\n    </tr>\n    <tr>\n      <th>217</th>\n      <td>Williams Field High School</td>\n      <td>Public</td>\n      <td>Higley</td>\n      <td>85236</td>\n      <td>8 - 12</td>\n      <td>A</td>\n      <td>0</td>\n      <td>2115</td>\n      <td>165</td>\n      <td>7.8</td>\n      <td>...</td>\n      <td>['No data available']</td>\n      <td>['No data available']</td>\n      <td>['No data available']</td>\n      <td>['No data available']</td>\n      <td>['No data available']</td>\n      <td>0</td>\n      <td>0</td>\n      <td>0</td>\n      <td>0</td>\n      <td>0</td>\n    </tr>\n    <tr>\n      <th>218</th>\n      <td>Willis Junior High School</td>\n      <td>Public</td>\n      <td>Chandler</td>\n      <td>85225</td>\n      <td>7 - 8</td>\n      <td>B</td>\n      <td>1</td>\n      <td>858</td>\n      <td>48</td>\n      <td>5.59</td>\n      <td>...</td>\n      <td>['Baseball', 'Basketball', 'Cross-Country', 'F...</td>\n      <td>['Art', 'Band', 'Ceramics/Sculpting', 'Choir',...</td>\n      <td>['Academic', 'chevron_right', 'Math Club', 'ch...</td>\n      <td>['Art Room', 'Cafeteria (Onsite food service)'...</td>\n      <td>['Dedicated School Counselor', 'chevron_right'...</td>\n      <td>1</td>\n      <td>1</td>\n      <td>1</td>\n      <td>1</td>\n      <td>1</td>\n    </tr>\n    <tr>\n      <th>219</th>\n      <td>Willow Canyon High School</td>\n      <td>Public</td>\n      <td>Surprise</td>\n      <td>85374</td>\n      <td>7 - 12</td>\n      <td>A</td>\n      <td>0</td>\n      <td>1787</td>\n      <td>137</td>\n      <td>7.67</td>\n      <td>...</td>\n      <td>['Badminton', 'Baseball', 'Basketball', 'Cross...</td>\n      <td>['Art', 'Band', 'Ceramics/Sculpting', 'Choir',...</td>\n      <td>['Academic', 'chevron_right', 'Various Academi...</td>\n      <td>['Art Room', 'Auditorium', 'Book Store', 'Cafe...</td>\n      <td>['No data available']</td>\n      <td>1</td>\n      <td>1</td>\n      <td>1</td>\n      <td>1</td>\n      <td>1</td>\n    </tr>\n    <tr>\n      <th>220</th>\n      <td>Youngker High School</td>\n      <td>Public</td>\n      <td>Buckeye</td>\n      <td>85326</td>\n      <td>9 - 12</td>\n      <td>A</td>\n      <td>1</td>\n      <td>2107</td>\n      <td>192</td>\n      <td>9.11</td>\n      <td>...</td>\n      <td>['Badminton', 'Baseball', 'Basketball', 'Cross...</td>\n      <td>['Art', 'Band', 'Ceramics/Sculpting', 'Choir',...</td>\n      <td>['Academic', 'Arts', 'Athletic', 'Career and T...</td>\n      <td>['Art Room', 'Auditorium', 'Cafeteria (Onsite ...</td>\n      <td>['Dedicated School Counselor', 'chevron_right'...</td>\n      <td>1</td>\n      <td>1</td>\n      <td>1</td>\n      <td>1</td>\n      <td>1</td>\n    </tr>\n  </tbody>\n</table>\n<p>221 rows × 48 columns</p>\n</div>"
     },
     "execution_count": 127,
     "metadata": {},
     "output_type": "execute_result"
    }
   ],
   "source": [
    "column_numbers_to_convert = [6,43,44,45,46,47]\n",
    "# for col_num in column_numbers_to_convert:\n",
    "school_data.iloc[:, [6,43,44,45,46,47]] = school_data.iloc[:, [6,43,44,45,46,47]].replace(to_replace = 'No',value =0)\n",
    "school_data.iloc[:, [6,43,44,45,46,47]] = school_data.iloc[:, [6,43,44,45,46,47]].replace(to_replace = 'Yes',value =1)\n",
    "school_data"
   ],
   "metadata": {
    "collapsed": false,
    "ExecuteTime": {
     "end_time": "2024-04-27T03:34:47.920076Z",
     "start_time": "2024-04-27T03:34:47.903001Z"
    }
   },
   "id": "c6303957d9e472b4"
  },
  {
   "cell_type": "code",
   "execution_count": 128,
   "outputs": [],
   "source": [
    "columns = ['personnel_federal_expenditure', \n",
    "           'personnel_state_and_local_expenditure', \n",
    "           'non_personnel_federal_expenditure', \n",
    "           'non_personnel_state_and_local_expenditure', \n",
    "           'total_per_pupil_expenditure']"
   ],
   "metadata": {
    "collapsed": false,
    "ExecuteTime": {
     "end_time": "2024-04-27T03:34:49.385257Z",
     "start_time": "2024-04-27T03:34:49.355524Z"
    }
   },
   "id": "681a23bc0ef79bf"
  },
  {
   "cell_type": "code",
   "execution_count": 129,
   "outputs": [
    {
     "name": "stdout",
     "output_type": "stream",
     "text": [
      "personnel_federal_expenditure\n",
      "False    139\n",
      "True      82\n",
      "Name: count, dtype: int64\n",
      "personnel_state_and_local_expenditure\n",
      "False    139\n",
      "True      82\n",
      "Name: count, dtype: int64\n",
      "non_personnel_federal_expenditure\n",
      "False    139\n",
      "True      82\n",
      "Name: count, dtype: int64\n",
      "non_personnel_state_and_local_expenditure\n",
      "False    139\n",
      "True      82\n",
      "Name: count, dtype: int64\n",
      "total_per_pupil_expenditure\n",
      "False    139\n",
      "True      82\n",
      "Name: count, dtype: int64\n"
     ]
    }
   ],
   "source": [
    "for i in columns:\n",
    "    print(school_data[i].isnull().value_counts())"
   ],
   "metadata": {
    "collapsed": false,
    "ExecuteTime": {
     "end_time": "2024-04-27T03:34:50.194884Z",
     "start_time": "2024-04-27T03:34:50.173936Z"
    }
   },
   "id": "3108f54056c71a16"
  },
  {
   "cell_type": "code",
   "execution_count": 130,
   "outputs": [],
   "source": [
    "for cols in columns:\n",
    "    school_data.fillna({cols: school_data[cols].dropna().min()}, inplace=True)\n"
   ],
   "metadata": {
    "collapsed": false,
    "ExecuteTime": {
     "end_time": "2024-04-27T03:34:50.955334Z",
     "start_time": "2024-04-27T03:34:50.935215Z"
    }
   },
   "id": "6ea69a0131252c2d"
  },
  {
   "cell_type": "code",
   "execution_count": 131,
   "outputs": [
    {
     "name": "stdout",
     "output_type": "stream",
     "text": [
      "personnel_federal_expenditure\n",
      "False    221\n",
      "Name: count, dtype: int64\n",
      "personnel_state_and_local_expenditure\n",
      "False    221\n",
      "Name: count, dtype: int64\n",
      "non_personnel_federal_expenditure\n",
      "False    221\n",
      "Name: count, dtype: int64\n",
      "non_personnel_state_and_local_expenditure\n",
      "False    221\n",
      "Name: count, dtype: int64\n",
      "total_per_pupil_expenditure\n",
      "False    221\n",
      "Name: count, dtype: int64\n"
     ]
    }
   ],
   "source": [
    "for i in columns:\n",
    "    print(school_data[i].isnull().value_counts())"
   ],
   "metadata": {
    "collapsed": false,
    "ExecuteTime": {
     "end_time": "2024-04-27T03:34:51.666253Z",
     "start_time": "2024-04-27T03:34:51.650524Z"
    }
   },
   "id": "ccfa3877941bb0cd"
  },
  {
   "cell_type": "code",
   "execution_count": 132,
   "outputs": [
    {
     "data": {
      "text/plain": "              School_name  school_type    city   zipcode edu_range  \\\n152  Pillar Academy Online      Public  Phoenix    85021    9 - 12   \n\n    school_grade title_i_status total_students african_american  \\\n152            B              0             10                0   \n\n    african_american_percent  ...      sports_facilities  \\\n152                      0.0  ...  ['No data available']   \n\n          music_facilities after_school_opportunities       other_facilities  \\\n152  ['No data available']      ['No data available']  ['No data available']   \n\n          student_services acad_focus_1 acad_focus_2 acad_focus_3  \\\n152  ['No data available']            0            0            0   \n\n    acad_focus_4 acad_focus_5  \n152            0            0  \n\n[1 rows x 48 columns]",
      "text/html": "<div>\n<style scoped>\n    .dataframe tbody tr th:only-of-type {\n        vertical-align: middle;\n    }\n\n    .dataframe tbody tr th {\n        vertical-align: top;\n    }\n\n    .dataframe thead th {\n        text-align: right;\n    }\n</style>\n<table border=\"1\" class=\"dataframe\">\n  <thead>\n    <tr style=\"text-align: right;\">\n      <th></th>\n      <th>School_name</th>\n      <th>school_type</th>\n      <th>city</th>\n      <th>zipcode</th>\n      <th>edu_range</th>\n      <th>school_grade</th>\n      <th>title_i_status</th>\n      <th>total_students</th>\n      <th>african_american</th>\n      <th>african_american_percent</th>\n      <th>...</th>\n      <th>sports_facilities</th>\n      <th>music_facilities</th>\n      <th>after_school_opportunities</th>\n      <th>other_facilities</th>\n      <th>student_services</th>\n      <th>acad_focus_1</th>\n      <th>acad_focus_2</th>\n      <th>acad_focus_3</th>\n      <th>acad_focus_4</th>\n      <th>acad_focus_5</th>\n    </tr>\n  </thead>\n  <tbody>\n    <tr>\n      <th>152</th>\n      <td>Pillar Academy Online</td>\n      <td>Public</td>\n      <td>Phoenix</td>\n      <td>85021</td>\n      <td>9 - 12</td>\n      <td>B</td>\n      <td>0</td>\n      <td>10</td>\n      <td>0</td>\n      <td>0.0</td>\n      <td>...</td>\n      <td>['No data available']</td>\n      <td>['No data available']</td>\n      <td>['No data available']</td>\n      <td>['No data available']</td>\n      <td>['No data available']</td>\n      <td>0</td>\n      <td>0</td>\n      <td>0</td>\n      <td>0</td>\n      <td>0</td>\n    </tr>\n  </tbody>\n</table>\n<p>1 rows × 48 columns</p>\n</div>"
     },
     "execution_count": 132,
     "metadata": {},
     "output_type": "execute_result"
    }
   ],
   "source": [
    "school_data[school_data['total_students'] <= 10]"
   ],
   "metadata": {
    "collapsed": false,
    "ExecuteTime": {
     "end_time": "2024-04-27T03:34:52.299788Z",
     "start_time": "2024-04-27T03:34:52.289238Z"
    }
   },
   "id": "395bde70eef43bfb"
  },
  {
   "cell_type": "code",
   "execution_count": 133,
   "outputs": [],
   "source": [
    "school_data.drop(school_data[school_data['total_students'] <= 10].index, inplace=True)"
   ],
   "metadata": {
    "collapsed": false,
    "ExecuteTime": {
     "end_time": "2024-04-27T03:34:53.196798Z",
     "start_time": "2024-04-27T03:34:53.175330Z"
    }
   },
   "id": "2141ca872c3edb85"
  },
  {
   "cell_type": "code",
   "execution_count": 134,
   "outputs": [
    {
     "data": {
      "text/plain": "Empty DataFrame\nColumns: [School_name , school_type, city , zipcode, edu_range, school_grade, title_i_status, total_students, african_american, african_american_percent, hispanic, hispanic_percent, native_american, native_american_percent, white, white_percent, multiple_race, multiple_race_percent, asian, asian_percent, pacific_islander, pacific_islander_percent, proficiency_pts, Grad_Rate_pts, Dropout_rate, CCRI_points, promotion_rate, No_of_students_adv_placement_course, Students_with_Chronic_Absenteeism, crime_rate, total_students_bullied, personnel_federal_expenditure, personnel_state_and_local_expenditure, non_personnel_federal_expenditure, non_personnel_state_and_local_expenditure, total_per_pupil_expenditure, awards_and_recognitions, academic_offerings, sports_facilities, music_facilities, after_school_opportunities, other_facilities, student_services, acad_focus_1, acad_focus_2, acad_focus_3, acad_focus_4, acad_focus_5]\nIndex: []\n\n[0 rows x 48 columns]",
      "text/html": "<div>\n<style scoped>\n    .dataframe tbody tr th:only-of-type {\n        vertical-align: middle;\n    }\n\n    .dataframe tbody tr th {\n        vertical-align: top;\n    }\n\n    .dataframe thead th {\n        text-align: right;\n    }\n</style>\n<table border=\"1\" class=\"dataframe\">\n  <thead>\n    <tr style=\"text-align: right;\">\n      <th></th>\n      <th>School_name</th>\n      <th>school_type</th>\n      <th>city</th>\n      <th>zipcode</th>\n      <th>edu_range</th>\n      <th>school_grade</th>\n      <th>title_i_status</th>\n      <th>total_students</th>\n      <th>african_american</th>\n      <th>african_american_percent</th>\n      <th>...</th>\n      <th>sports_facilities</th>\n      <th>music_facilities</th>\n      <th>after_school_opportunities</th>\n      <th>other_facilities</th>\n      <th>student_services</th>\n      <th>acad_focus_1</th>\n      <th>acad_focus_2</th>\n      <th>acad_focus_3</th>\n      <th>acad_focus_4</th>\n      <th>acad_focus_5</th>\n    </tr>\n  </thead>\n  <tbody>\n  </tbody>\n</table>\n<p>0 rows × 48 columns</p>\n</div>"
     },
     "execution_count": 134,
     "metadata": {},
     "output_type": "execute_result"
    }
   ],
   "source": [
    "school_data[school_data['total_students'] <= 10]"
   ],
   "metadata": {
    "collapsed": false,
    "ExecuteTime": {
     "end_time": "2024-04-27T03:34:54.065198Z",
     "start_time": "2024-04-27T03:34:54.029468Z"
    }
   },
   "id": "af656fe62b7a9d2b"
  },
  {
   "cell_type": "code",
   "execution_count": 135,
   "outputs": [
    {
     "data": {
      "text/plain": "array(['B', 'A', 'C', 'D', 'F'], dtype=object)"
     },
     "execution_count": 135,
     "metadata": {},
     "output_type": "execute_result"
    }
   ],
   "source": [
    "school_data['school_grade'].unique()"
   ],
   "metadata": {
    "collapsed": false,
    "ExecuteTime": {
     "end_time": "2024-04-27T03:34:54.715961Z",
     "start_time": "2024-04-27T03:34:54.686665Z"
    }
   },
   "id": "ab07db4d67e341ba"
  },
  {
   "cell_type": "code",
   "execution_count": 136,
   "outputs": [],
   "source": [
    "grade_mapping = {\n",
    "    'A': 5,\n",
    "    'B': 4,\n",
    "    'C': 3,\n",
    "    'D': 2,\n",
    "    'F': 1\n",
    "}"
   ],
   "metadata": {
    "collapsed": false,
    "ExecuteTime": {
     "end_time": "2024-04-27T03:34:55.505873Z",
     "start_time": "2024-04-27T03:34:55.493268Z"
    }
   },
   "id": "ebc7c0fee3b4fefd"
  },
  {
   "cell_type": "code",
   "execution_count": 137,
   "outputs": [
    {
     "data": {
      "text/plain": "0      4\n1      5\n2      4\n3      3\n4      4\n      ..\n216    4\n217    5\n218    4\n219    5\n220    5\nName: school_grade, Length: 220, dtype: int64"
     },
     "execution_count": 137,
     "metadata": {},
     "output_type": "execute_result"
    }
   ],
   "source": [
    "school_data['school_grade'] =school_data['school_grade'].map(grade_mapping)\n",
    "school_data['school_grade']"
   ],
   "metadata": {
    "collapsed": false,
    "ExecuteTime": {
     "end_time": "2024-04-27T03:34:56.128884Z",
     "start_time": "2024-04-27T03:34:56.106308Z"
    }
   },
   "id": "9966d72962ea68e8"
  },
  {
   "cell_type": "code",
   "execution_count": 138,
   "outputs": [
    {
     "data": {
      "text/plain": "                        School_name  school_type       city   zipcode  \\\n0    Academy with Community Partners      Public        Mesa    85203   \n1        Accelerated Learning Center      Public     Phoenix    85028   \n2              Agua Fria High School      Public    Avondale    85323   \n3               Alhambra High School      Public     Phoenix    85019   \n4                 Apollo High School      Public    Glendale    85302   \n..                               ...         ...         ...      ...   \n216       Wickenburg Virtual Academy      Public  Wickenburg    85390   \n217       Williams Field High School      Public      Higley    85236   \n218        Willis Junior High School      Public    Chandler    85225   \n219        Willow Canyon High School      Public    Surprise    85374   \n220             Youngker High School      Public     Buckeye    85326   \n\n           edu_range  school_grade title_i_status total_students  \\\n0               9 12             4              1            169   \n1               9 12             5              0            153   \n2               9 12             4              1           1653   \n3               9 12             3              1           2283   \n4               9 12             4              1           2198   \n..               ...           ...            ...            ...   \n216  Kindergarten 12             4              0             78   \n217             8 12             5              0           2115   \n218              7 8             4              1            858   \n219             7 12             5              0           1787   \n220             9 12             5              1           2107   \n\n    african_american african_american_percent  ...  \\\n0                 13                     7.69  ...   \n1                 10                     10.0  ...   \n2                177                    10.71  ...   \n3                235                    10.29  ...   \n4                176                     8.01  ...   \n..               ...                      ...  ...   \n216               10                     10.0  ...   \n217              165                      7.8  ...   \n218               48                     5.59  ...   \n219              137                     7.67  ...   \n220              192                     9.11  ...   \n\n                                     sports_facilities  \\\n0    ['Basketball', 'Others', 'chevron_right', 'Fla...   \n1                                ['No data available']   \n2    ['Badminton', 'Baseball', 'Basketball', 'Cross...   \n3    ['Badminton', 'Baseball', 'Basketball', 'Cross...   \n4    ['Badminton', 'Baseball', 'Basketball', 'Cross...   \n..                                                 ...   \n216  ['Baseball', 'Basketball', 'Cross-Country', 'F...   \n217                              ['No data available']   \n218  ['Baseball', 'Basketball', 'Cross-Country', 'F...   \n219  ['Badminton', 'Baseball', 'Basketball', 'Cross...   \n220  ['Badminton', 'Baseball', 'Basketball', 'Cross...   \n\n                                      music_facilities  \\\n0                                              ['Art']   \n1                               ['Art', 'Photography']   \n2    ['Art', 'Band', 'Ceramics/Sculpting', 'Choir',...   \n3    ['Art', 'Band', 'Ceramics/Sculpting', 'Choir',...   \n4    ['Art', 'Band', 'Ceramics/Sculpting', 'Choir',...   \n..                                                 ...   \n216                              ['No data available']   \n217                              ['No data available']   \n218  ['Art', 'Band', 'Ceramics/Sculpting', 'Choir',...   \n219  ['Art', 'Band', 'Ceramics/Sculpting', 'Choir',...   \n220  ['Art', 'Band', 'Ceramics/Sculpting', 'Choir',...   \n\n                            after_school_opportunities  \\\n0    ['Athletic', 'chevron_right', 'Basketball', 'c...   \n1                                ['No data available']   \n2    ['Academic', 'chevron_right', 'National Honor ...   \n3    ['Academic', 'chevron_right', 'AVID Club/Unive...   \n4    ['Academic', 'chevron_right', 'World Language ...   \n..                                                 ...   \n216                              ['No data available']   \n217                              ['No data available']   \n218  ['Academic', 'chevron_right', 'Math Club', 'ch...   \n219  ['Academic', 'chevron_right', 'Various Academi...   \n220  ['Academic', 'Arts', 'Athletic', 'Career and T...   \n\n                                      other_facilities  \\\n0       ['Dedicated Counselors', 'chevron_right', '1']   \n1           ['Art Room', 'Indoor air quality control']   \n2    ['Art Room', 'Auditorium', 'Book Store', 'Cafe...   \n3    ['Art Room', 'Auditorium', 'Book Store', 'Cafe...   \n4    ['Art Room', 'Auditorium', 'Book Store', 'Cafe...   \n..                                                 ...   \n216  ['Cafeteria (Onsite food service)', 'Technolog...   \n217                              ['No data available']   \n218  ['Art Room', 'Cafeteria (Onsite food service)'...   \n219  ['Art Room', 'Auditorium', 'Book Store', 'Cafe...   \n220  ['Art Room', 'Auditorium', 'Cafeteria (Onsite ...   \n\n                                      student_services acad_focus_1  \\\n0    ['Assistance with Material Needs', 'McKinney-V...            1   \n1    ['Assistance with Material Needs', 'McKinney-V...            1   \n2                                ['No data available']            1   \n3    ['Dedicated School Counselor', 'chevron_right'...            1   \n4                                ['No data available']            0   \n..                                                 ...          ...   \n216                              ['No data available']            0   \n217                              ['No data available']            0   \n218  ['Dedicated School Counselor', 'chevron_right'...            1   \n219                              ['No data available']            1   \n220  ['Dedicated School Counselor', 'chevron_right'...            1   \n\n    acad_focus_2 acad_focus_3 acad_focus_4 acad_focus_5  \n0              1            1            1            1  \n1              1            1            1            1  \n2              1            1            1            1  \n3              1            1            1            1  \n4              0            0            0            0  \n..           ...          ...          ...          ...  \n216            0            0            0            0  \n217            0            0            0            0  \n218            1            1            1            1  \n219            1            1            1            1  \n220            1            1            1            1  \n\n[220 rows x 48 columns]",
      "text/html": "<div>\n<style scoped>\n    .dataframe tbody tr th:only-of-type {\n        vertical-align: middle;\n    }\n\n    .dataframe tbody tr th {\n        vertical-align: top;\n    }\n\n    .dataframe thead th {\n        text-align: right;\n    }\n</style>\n<table border=\"1\" class=\"dataframe\">\n  <thead>\n    <tr style=\"text-align: right;\">\n      <th></th>\n      <th>School_name</th>\n      <th>school_type</th>\n      <th>city</th>\n      <th>zipcode</th>\n      <th>edu_range</th>\n      <th>school_grade</th>\n      <th>title_i_status</th>\n      <th>total_students</th>\n      <th>african_american</th>\n      <th>african_american_percent</th>\n      <th>...</th>\n      <th>sports_facilities</th>\n      <th>music_facilities</th>\n      <th>after_school_opportunities</th>\n      <th>other_facilities</th>\n      <th>student_services</th>\n      <th>acad_focus_1</th>\n      <th>acad_focus_2</th>\n      <th>acad_focus_3</th>\n      <th>acad_focus_4</th>\n      <th>acad_focus_5</th>\n    </tr>\n  </thead>\n  <tbody>\n    <tr>\n      <th>0</th>\n      <td>Academy with Community Partners</td>\n      <td>Public</td>\n      <td>Mesa</td>\n      <td>85203</td>\n      <td>9 12</td>\n      <td>4</td>\n      <td>1</td>\n      <td>169</td>\n      <td>13</td>\n      <td>7.69</td>\n      <td>...</td>\n      <td>['Basketball', 'Others', 'chevron_right', 'Fla...</td>\n      <td>['Art']</td>\n      <td>['Athletic', 'chevron_right', 'Basketball', 'c...</td>\n      <td>['Dedicated Counselors', 'chevron_right', '1']</td>\n      <td>['Assistance with Material Needs', 'McKinney-V...</td>\n      <td>1</td>\n      <td>1</td>\n      <td>1</td>\n      <td>1</td>\n      <td>1</td>\n    </tr>\n    <tr>\n      <th>1</th>\n      <td>Accelerated Learning Center</td>\n      <td>Public</td>\n      <td>Phoenix</td>\n      <td>85028</td>\n      <td>9 12</td>\n      <td>5</td>\n      <td>0</td>\n      <td>153</td>\n      <td>10</td>\n      <td>10.0</td>\n      <td>...</td>\n      <td>['No data available']</td>\n      <td>['Art', 'Photography']</td>\n      <td>['No data available']</td>\n      <td>['Art Room', 'Indoor air quality control']</td>\n      <td>['Assistance with Material Needs', 'McKinney-V...</td>\n      <td>1</td>\n      <td>1</td>\n      <td>1</td>\n      <td>1</td>\n      <td>1</td>\n    </tr>\n    <tr>\n      <th>2</th>\n      <td>Agua Fria High School</td>\n      <td>Public</td>\n      <td>Avondale</td>\n      <td>85323</td>\n      <td>9 12</td>\n      <td>4</td>\n      <td>1</td>\n      <td>1653</td>\n      <td>177</td>\n      <td>10.71</td>\n      <td>...</td>\n      <td>['Badminton', 'Baseball', 'Basketball', 'Cross...</td>\n      <td>['Art', 'Band', 'Ceramics/Sculpting', 'Choir',...</td>\n      <td>['Academic', 'chevron_right', 'National Honor ...</td>\n      <td>['Art Room', 'Auditorium', 'Book Store', 'Cafe...</td>\n      <td>['No data available']</td>\n      <td>1</td>\n      <td>1</td>\n      <td>1</td>\n      <td>1</td>\n      <td>1</td>\n    </tr>\n    <tr>\n      <th>3</th>\n      <td>Alhambra High School</td>\n      <td>Public</td>\n      <td>Phoenix</td>\n      <td>85019</td>\n      <td>9 12</td>\n      <td>3</td>\n      <td>1</td>\n      <td>2283</td>\n      <td>235</td>\n      <td>10.29</td>\n      <td>...</td>\n      <td>['Badminton', 'Baseball', 'Basketball', 'Cross...</td>\n      <td>['Art', 'Band', 'Ceramics/Sculpting', 'Choir',...</td>\n      <td>['Academic', 'chevron_right', 'AVID Club/Unive...</td>\n      <td>['Art Room', 'Auditorium', 'Book Store', 'Cafe...</td>\n      <td>['Dedicated School Counselor', 'chevron_right'...</td>\n      <td>1</td>\n      <td>1</td>\n      <td>1</td>\n      <td>1</td>\n      <td>1</td>\n    </tr>\n    <tr>\n      <th>4</th>\n      <td>Apollo High School</td>\n      <td>Public</td>\n      <td>Glendale</td>\n      <td>85302</td>\n      <td>9 12</td>\n      <td>4</td>\n      <td>1</td>\n      <td>2198</td>\n      <td>176</td>\n      <td>8.01</td>\n      <td>...</td>\n      <td>['Badminton', 'Baseball', 'Basketball', 'Cross...</td>\n      <td>['Art', 'Band', 'Ceramics/Sculpting', 'Choir',...</td>\n      <td>['Academic', 'chevron_right', 'World Language ...</td>\n      <td>['Art Room', 'Auditorium', 'Book Store', 'Cafe...</td>\n      <td>['No data available']</td>\n      <td>0</td>\n      <td>0</td>\n      <td>0</td>\n      <td>0</td>\n      <td>0</td>\n    </tr>\n    <tr>\n      <th>...</th>\n      <td>...</td>\n      <td>...</td>\n      <td>...</td>\n      <td>...</td>\n      <td>...</td>\n      <td>...</td>\n      <td>...</td>\n      <td>...</td>\n      <td>...</td>\n      <td>...</td>\n      <td>...</td>\n      <td>...</td>\n      <td>...</td>\n      <td>...</td>\n      <td>...</td>\n      <td>...</td>\n      <td>...</td>\n      <td>...</td>\n      <td>...</td>\n      <td>...</td>\n      <td>...</td>\n    </tr>\n    <tr>\n      <th>216</th>\n      <td>Wickenburg Virtual Academy</td>\n      <td>Public</td>\n      <td>Wickenburg</td>\n      <td>85390</td>\n      <td>Kindergarten 12</td>\n      <td>4</td>\n      <td>0</td>\n      <td>78</td>\n      <td>10</td>\n      <td>10.0</td>\n      <td>...</td>\n      <td>['Baseball', 'Basketball', 'Cross-Country', 'F...</td>\n      <td>['No data available']</td>\n      <td>['No data available']</td>\n      <td>['Cafeteria (Onsite food service)', 'Technolog...</td>\n      <td>['No data available']</td>\n      <td>0</td>\n      <td>0</td>\n      <td>0</td>\n      <td>0</td>\n      <td>0</td>\n    </tr>\n    <tr>\n      <th>217</th>\n      <td>Williams Field High School</td>\n      <td>Public</td>\n      <td>Higley</td>\n      <td>85236</td>\n      <td>8 12</td>\n      <td>5</td>\n      <td>0</td>\n      <td>2115</td>\n      <td>165</td>\n      <td>7.8</td>\n      <td>...</td>\n      <td>['No data available']</td>\n      <td>['No data available']</td>\n      <td>['No data available']</td>\n      <td>['No data available']</td>\n      <td>['No data available']</td>\n      <td>0</td>\n      <td>0</td>\n      <td>0</td>\n      <td>0</td>\n      <td>0</td>\n    </tr>\n    <tr>\n      <th>218</th>\n      <td>Willis Junior High School</td>\n      <td>Public</td>\n      <td>Chandler</td>\n      <td>85225</td>\n      <td>7 8</td>\n      <td>4</td>\n      <td>1</td>\n      <td>858</td>\n      <td>48</td>\n      <td>5.59</td>\n      <td>...</td>\n      <td>['Baseball', 'Basketball', 'Cross-Country', 'F...</td>\n      <td>['Art', 'Band', 'Ceramics/Sculpting', 'Choir',...</td>\n      <td>['Academic', 'chevron_right', 'Math Club', 'ch...</td>\n      <td>['Art Room', 'Cafeteria (Onsite food service)'...</td>\n      <td>['Dedicated School Counselor', 'chevron_right'...</td>\n      <td>1</td>\n      <td>1</td>\n      <td>1</td>\n      <td>1</td>\n      <td>1</td>\n    </tr>\n    <tr>\n      <th>219</th>\n      <td>Willow Canyon High School</td>\n      <td>Public</td>\n      <td>Surprise</td>\n      <td>85374</td>\n      <td>7 12</td>\n      <td>5</td>\n      <td>0</td>\n      <td>1787</td>\n      <td>137</td>\n      <td>7.67</td>\n      <td>...</td>\n      <td>['Badminton', 'Baseball', 'Basketball', 'Cross...</td>\n      <td>['Art', 'Band', 'Ceramics/Sculpting', 'Choir',...</td>\n      <td>['Academic', 'chevron_right', 'Various Academi...</td>\n      <td>['Art Room', 'Auditorium', 'Book Store', 'Cafe...</td>\n      <td>['No data available']</td>\n      <td>1</td>\n      <td>1</td>\n      <td>1</td>\n      <td>1</td>\n      <td>1</td>\n    </tr>\n    <tr>\n      <th>220</th>\n      <td>Youngker High School</td>\n      <td>Public</td>\n      <td>Buckeye</td>\n      <td>85326</td>\n      <td>9 12</td>\n      <td>5</td>\n      <td>1</td>\n      <td>2107</td>\n      <td>192</td>\n      <td>9.11</td>\n      <td>...</td>\n      <td>['Badminton', 'Baseball', 'Basketball', 'Cross...</td>\n      <td>['Art', 'Band', 'Ceramics/Sculpting', 'Choir',...</td>\n      <td>['Academic', 'Arts', 'Athletic', 'Career and T...</td>\n      <td>['Art Room', 'Auditorium', 'Cafeteria (Onsite ...</td>\n      <td>['Dedicated School Counselor', 'chevron_right'...</td>\n      <td>1</td>\n      <td>1</td>\n      <td>1</td>\n      <td>1</td>\n      <td>1</td>\n    </tr>\n  </tbody>\n</table>\n<p>220 rows × 48 columns</p>\n</div>"
     },
     "execution_count": 138,
     "metadata": {},
     "output_type": "execute_result"
    }
   ],
   "source": [
    "school_data['edu_range'] = school_data['edu_range'].replace({' - ': ' '},regex=True)\n",
    "school_data"
   ],
   "metadata": {
    "collapsed": false,
    "ExecuteTime": {
     "end_time": "2024-04-27T03:34:56.759224Z",
     "start_time": "2024-04-27T03:34:56.730406Z"
    }
   },
   "id": "95d6d367ec32dfab"
  },
  {
   "cell_type": "code",
   "execution_count": 139,
   "outputs": [],
   "source": [
    "school_data['edu_range'] = school_data['edu_range'].replace({'Preschool.': '0 ', 'Kindergarten.': '0 '},regex=True)\n"
   ],
   "metadata": {
    "collapsed": false,
    "ExecuteTime": {
     "end_time": "2024-04-27T03:35:01.948846Z",
     "start_time": "2024-04-27T03:35:01.918336Z"
    }
   },
   "id": "faaaaa82ff869ef2"
  },
  {
   "cell_type": "code",
   "execution_count": 140,
   "outputs": [],
   "source": [
    "\n",
    "school_data.insert(5, 'elementary_school', None)\n",
    "school_data.insert(6, 'intermediate_school', None)\n",
    "school_data.insert(7, 'middle_school', None)\n",
    "school_data.insert(8, 'high_school', None)\n"
   ],
   "metadata": {
    "collapsed": false,
    "ExecuteTime": {
     "end_time": "2024-04-27T03:35:02.440158Z",
     "start_time": "2024-04-27T03:35:02.419828Z"
    }
   },
   "id": "e02ea90f6e6b885f"
  },
  {
   "cell_type": "code",
   "execution_count": 141,
   "outputs": [
    {
     "data": {
      "text/plain": "                        School_name  school_type       city   zipcode  \\\n0    Academy with Community Partners      Public        Mesa    85203   \n1        Accelerated Learning Center      Public     Phoenix    85028   \n2              Agua Fria High School      Public    Avondale    85323   \n3               Alhambra High School      Public     Phoenix    85019   \n4                 Apollo High School      Public    Glendale    85302   \n..                               ...         ...         ...      ...   \n216       Wickenburg Virtual Academy      Public  Wickenburg    85390   \n217       Williams Field High School      Public      Higley    85236   \n218        Willis Junior High School      Public    Chandler    85225   \n219        Willow Canyon High School      Public    Surprise    85374   \n220             Youngker High School      Public     Buckeye    85326   \n\n    edu_range elementary_school intermediate_school middle_school high_school  \\\n0        9 12              None                None          None        None   \n1        9 12              None                None          None        None   \n2        9 12              None                None          None        None   \n3        9 12              None                None          None        None   \n4        9 12              None                None          None        None   \n..        ...               ...                 ...           ...         ...   \n216      0 12              None                None          None        None   \n217      8 12              None                None          None        None   \n218       7 8              None                None          None        None   \n219      7 12              None                None          None        None   \n220      9 12              None                None          None        None   \n\n     school_grade  ...                                  sports_facilities  \\\n0               4  ...  ['Basketball', 'Others', 'chevron_right', 'Fla...   \n1               5  ...                              ['No data available']   \n2               4  ...  ['Badminton', 'Baseball', 'Basketball', 'Cross...   \n3               3  ...  ['Badminton', 'Baseball', 'Basketball', 'Cross...   \n4               4  ...  ['Badminton', 'Baseball', 'Basketball', 'Cross...   \n..            ...  ...                                                ...   \n216             4  ...  ['Baseball', 'Basketball', 'Cross-Country', 'F...   \n217             5  ...                              ['No data available']   \n218             4  ...  ['Baseball', 'Basketball', 'Cross-Country', 'F...   \n219             5  ...  ['Badminton', 'Baseball', 'Basketball', 'Cross...   \n220             5  ...  ['Badminton', 'Baseball', 'Basketball', 'Cross...   \n\n                                      music_facilities  \\\n0                                              ['Art']   \n1                               ['Art', 'Photography']   \n2    ['Art', 'Band', 'Ceramics/Sculpting', 'Choir',...   \n3    ['Art', 'Band', 'Ceramics/Sculpting', 'Choir',...   \n4    ['Art', 'Band', 'Ceramics/Sculpting', 'Choir',...   \n..                                                 ...   \n216                              ['No data available']   \n217                              ['No data available']   \n218  ['Art', 'Band', 'Ceramics/Sculpting', 'Choir',...   \n219  ['Art', 'Band', 'Ceramics/Sculpting', 'Choir',...   \n220  ['Art', 'Band', 'Ceramics/Sculpting', 'Choir',...   \n\n                            after_school_opportunities  \\\n0    ['Athletic', 'chevron_right', 'Basketball', 'c...   \n1                                ['No data available']   \n2    ['Academic', 'chevron_right', 'National Honor ...   \n3    ['Academic', 'chevron_right', 'AVID Club/Unive...   \n4    ['Academic', 'chevron_right', 'World Language ...   \n..                                                 ...   \n216                              ['No data available']   \n217                              ['No data available']   \n218  ['Academic', 'chevron_right', 'Math Club', 'ch...   \n219  ['Academic', 'chevron_right', 'Various Academi...   \n220  ['Academic', 'Arts', 'Athletic', 'Career and T...   \n\n                                      other_facilities  \\\n0       ['Dedicated Counselors', 'chevron_right', '1']   \n1           ['Art Room', 'Indoor air quality control']   \n2    ['Art Room', 'Auditorium', 'Book Store', 'Cafe...   \n3    ['Art Room', 'Auditorium', 'Book Store', 'Cafe...   \n4    ['Art Room', 'Auditorium', 'Book Store', 'Cafe...   \n..                                                 ...   \n216  ['Cafeteria (Onsite food service)', 'Technolog...   \n217                              ['No data available']   \n218  ['Art Room', 'Cafeteria (Onsite food service)'...   \n219  ['Art Room', 'Auditorium', 'Book Store', 'Cafe...   \n220  ['Art Room', 'Auditorium', 'Cafeteria (Onsite ...   \n\n                                      student_services acad_focus_1  \\\n0    ['Assistance with Material Needs', 'McKinney-V...            1   \n1    ['Assistance with Material Needs', 'McKinney-V...            1   \n2                                ['No data available']            1   \n3    ['Dedicated School Counselor', 'chevron_right'...            1   \n4                                ['No data available']            0   \n..                                                 ...          ...   \n216                              ['No data available']            0   \n217                              ['No data available']            0   \n218  ['Dedicated School Counselor', 'chevron_right'...            1   \n219                              ['No data available']            1   \n220  ['Dedicated School Counselor', 'chevron_right'...            1   \n\n    acad_focus_2 acad_focus_3 acad_focus_4 acad_focus_5  \n0              1            1            1            1  \n1              1            1            1            1  \n2              1            1            1            1  \n3              1            1            1            1  \n4              0            0            0            0  \n..           ...          ...          ...          ...  \n216            0            0            0            0  \n217            0            0            0            0  \n218            1            1            1            1  \n219            1            1            1            1  \n220            1            1            1            1  \n\n[220 rows x 52 columns]",
      "text/html": "<div>\n<style scoped>\n    .dataframe tbody tr th:only-of-type {\n        vertical-align: middle;\n    }\n\n    .dataframe tbody tr th {\n        vertical-align: top;\n    }\n\n    .dataframe thead th {\n        text-align: right;\n    }\n</style>\n<table border=\"1\" class=\"dataframe\">\n  <thead>\n    <tr style=\"text-align: right;\">\n      <th></th>\n      <th>School_name</th>\n      <th>school_type</th>\n      <th>city</th>\n      <th>zipcode</th>\n      <th>edu_range</th>\n      <th>elementary_school</th>\n      <th>intermediate_school</th>\n      <th>middle_school</th>\n      <th>high_school</th>\n      <th>school_grade</th>\n      <th>...</th>\n      <th>sports_facilities</th>\n      <th>music_facilities</th>\n      <th>after_school_opportunities</th>\n      <th>other_facilities</th>\n      <th>student_services</th>\n      <th>acad_focus_1</th>\n      <th>acad_focus_2</th>\n      <th>acad_focus_3</th>\n      <th>acad_focus_4</th>\n      <th>acad_focus_5</th>\n    </tr>\n  </thead>\n  <tbody>\n    <tr>\n      <th>0</th>\n      <td>Academy with Community Partners</td>\n      <td>Public</td>\n      <td>Mesa</td>\n      <td>85203</td>\n      <td>9 12</td>\n      <td>None</td>\n      <td>None</td>\n      <td>None</td>\n      <td>None</td>\n      <td>4</td>\n      <td>...</td>\n      <td>['Basketball', 'Others', 'chevron_right', 'Fla...</td>\n      <td>['Art']</td>\n      <td>['Athletic', 'chevron_right', 'Basketball', 'c...</td>\n      <td>['Dedicated Counselors', 'chevron_right', '1']</td>\n      <td>['Assistance with Material Needs', 'McKinney-V...</td>\n      <td>1</td>\n      <td>1</td>\n      <td>1</td>\n      <td>1</td>\n      <td>1</td>\n    </tr>\n    <tr>\n      <th>1</th>\n      <td>Accelerated Learning Center</td>\n      <td>Public</td>\n      <td>Phoenix</td>\n      <td>85028</td>\n      <td>9 12</td>\n      <td>None</td>\n      <td>None</td>\n      <td>None</td>\n      <td>None</td>\n      <td>5</td>\n      <td>...</td>\n      <td>['No data available']</td>\n      <td>['Art', 'Photography']</td>\n      <td>['No data available']</td>\n      <td>['Art Room', 'Indoor air quality control']</td>\n      <td>['Assistance with Material Needs', 'McKinney-V...</td>\n      <td>1</td>\n      <td>1</td>\n      <td>1</td>\n      <td>1</td>\n      <td>1</td>\n    </tr>\n    <tr>\n      <th>2</th>\n      <td>Agua Fria High School</td>\n      <td>Public</td>\n      <td>Avondale</td>\n      <td>85323</td>\n      <td>9 12</td>\n      <td>None</td>\n      <td>None</td>\n      <td>None</td>\n      <td>None</td>\n      <td>4</td>\n      <td>...</td>\n      <td>['Badminton', 'Baseball', 'Basketball', 'Cross...</td>\n      <td>['Art', 'Band', 'Ceramics/Sculpting', 'Choir',...</td>\n      <td>['Academic', 'chevron_right', 'National Honor ...</td>\n      <td>['Art Room', 'Auditorium', 'Book Store', 'Cafe...</td>\n      <td>['No data available']</td>\n      <td>1</td>\n      <td>1</td>\n      <td>1</td>\n      <td>1</td>\n      <td>1</td>\n    </tr>\n    <tr>\n      <th>3</th>\n      <td>Alhambra High School</td>\n      <td>Public</td>\n      <td>Phoenix</td>\n      <td>85019</td>\n      <td>9 12</td>\n      <td>None</td>\n      <td>None</td>\n      <td>None</td>\n      <td>None</td>\n      <td>3</td>\n      <td>...</td>\n      <td>['Badminton', 'Baseball', 'Basketball', 'Cross...</td>\n      <td>['Art', 'Band', 'Ceramics/Sculpting', 'Choir',...</td>\n      <td>['Academic', 'chevron_right', 'AVID Club/Unive...</td>\n      <td>['Art Room', 'Auditorium', 'Book Store', 'Cafe...</td>\n      <td>['Dedicated School Counselor', 'chevron_right'...</td>\n      <td>1</td>\n      <td>1</td>\n      <td>1</td>\n      <td>1</td>\n      <td>1</td>\n    </tr>\n    <tr>\n      <th>4</th>\n      <td>Apollo High School</td>\n      <td>Public</td>\n      <td>Glendale</td>\n      <td>85302</td>\n      <td>9 12</td>\n      <td>None</td>\n      <td>None</td>\n      <td>None</td>\n      <td>None</td>\n      <td>4</td>\n      <td>...</td>\n      <td>['Badminton', 'Baseball', 'Basketball', 'Cross...</td>\n      <td>['Art', 'Band', 'Ceramics/Sculpting', 'Choir',...</td>\n      <td>['Academic', 'chevron_right', 'World Language ...</td>\n      <td>['Art Room', 'Auditorium', 'Book Store', 'Cafe...</td>\n      <td>['No data available']</td>\n      <td>0</td>\n      <td>0</td>\n      <td>0</td>\n      <td>0</td>\n      <td>0</td>\n    </tr>\n    <tr>\n      <th>...</th>\n      <td>...</td>\n      <td>...</td>\n      <td>...</td>\n      <td>...</td>\n      <td>...</td>\n      <td>...</td>\n      <td>...</td>\n      <td>...</td>\n      <td>...</td>\n      <td>...</td>\n      <td>...</td>\n      <td>...</td>\n      <td>...</td>\n      <td>...</td>\n      <td>...</td>\n      <td>...</td>\n      <td>...</td>\n      <td>...</td>\n      <td>...</td>\n      <td>...</td>\n      <td>...</td>\n    </tr>\n    <tr>\n      <th>216</th>\n      <td>Wickenburg Virtual Academy</td>\n      <td>Public</td>\n      <td>Wickenburg</td>\n      <td>85390</td>\n      <td>0 12</td>\n      <td>None</td>\n      <td>None</td>\n      <td>None</td>\n      <td>None</td>\n      <td>4</td>\n      <td>...</td>\n      <td>['Baseball', 'Basketball', 'Cross-Country', 'F...</td>\n      <td>['No data available']</td>\n      <td>['No data available']</td>\n      <td>['Cafeteria (Onsite food service)', 'Technolog...</td>\n      <td>['No data available']</td>\n      <td>0</td>\n      <td>0</td>\n      <td>0</td>\n      <td>0</td>\n      <td>0</td>\n    </tr>\n    <tr>\n      <th>217</th>\n      <td>Williams Field High School</td>\n      <td>Public</td>\n      <td>Higley</td>\n      <td>85236</td>\n      <td>8 12</td>\n      <td>None</td>\n      <td>None</td>\n      <td>None</td>\n      <td>None</td>\n      <td>5</td>\n      <td>...</td>\n      <td>['No data available']</td>\n      <td>['No data available']</td>\n      <td>['No data available']</td>\n      <td>['No data available']</td>\n      <td>['No data available']</td>\n      <td>0</td>\n      <td>0</td>\n      <td>0</td>\n      <td>0</td>\n      <td>0</td>\n    </tr>\n    <tr>\n      <th>218</th>\n      <td>Willis Junior High School</td>\n      <td>Public</td>\n      <td>Chandler</td>\n      <td>85225</td>\n      <td>7 8</td>\n      <td>None</td>\n      <td>None</td>\n      <td>None</td>\n      <td>None</td>\n      <td>4</td>\n      <td>...</td>\n      <td>['Baseball', 'Basketball', 'Cross-Country', 'F...</td>\n      <td>['Art', 'Band', 'Ceramics/Sculpting', 'Choir',...</td>\n      <td>['Academic', 'chevron_right', 'Math Club', 'ch...</td>\n      <td>['Art Room', 'Cafeteria (Onsite food service)'...</td>\n      <td>['Dedicated School Counselor', 'chevron_right'...</td>\n      <td>1</td>\n      <td>1</td>\n      <td>1</td>\n      <td>1</td>\n      <td>1</td>\n    </tr>\n    <tr>\n      <th>219</th>\n      <td>Willow Canyon High School</td>\n      <td>Public</td>\n      <td>Surprise</td>\n      <td>85374</td>\n      <td>7 12</td>\n      <td>None</td>\n      <td>None</td>\n      <td>None</td>\n      <td>None</td>\n      <td>5</td>\n      <td>...</td>\n      <td>['Badminton', 'Baseball', 'Basketball', 'Cross...</td>\n      <td>['Art', 'Band', 'Ceramics/Sculpting', 'Choir',...</td>\n      <td>['Academic', 'chevron_right', 'Various Academi...</td>\n      <td>['Art Room', 'Auditorium', 'Book Store', 'Cafe...</td>\n      <td>['No data available']</td>\n      <td>1</td>\n      <td>1</td>\n      <td>1</td>\n      <td>1</td>\n      <td>1</td>\n    </tr>\n    <tr>\n      <th>220</th>\n      <td>Youngker High School</td>\n      <td>Public</td>\n      <td>Buckeye</td>\n      <td>85326</td>\n      <td>9 12</td>\n      <td>None</td>\n      <td>None</td>\n      <td>None</td>\n      <td>None</td>\n      <td>5</td>\n      <td>...</td>\n      <td>['Badminton', 'Baseball', 'Basketball', 'Cross...</td>\n      <td>['Art', 'Band', 'Ceramics/Sculpting', 'Choir',...</td>\n      <td>['Academic', 'Arts', 'Athletic', 'Career and T...</td>\n      <td>['Art Room', 'Auditorium', 'Cafeteria (Onsite ...</td>\n      <td>['Dedicated School Counselor', 'chevron_right'...</td>\n      <td>1</td>\n      <td>1</td>\n      <td>1</td>\n      <td>1</td>\n      <td>1</td>\n    </tr>\n  </tbody>\n</table>\n<p>220 rows × 52 columns</p>\n</div>"
     },
     "execution_count": 141,
     "metadata": {},
     "output_type": "execute_result"
    }
   ],
   "source": [
    "school_data"
   ],
   "metadata": {
    "collapsed": false,
    "ExecuteTime": {
     "end_time": "2024-04-27T03:35:06.328172Z",
     "start_time": "2024-04-27T03:35:06.294724Z"
    }
   },
   "id": "bebfaacf097e4401"
  },
  {
   "cell_type": "code",
   "execution_count": 142,
   "outputs": [],
   "source": [
    "for i, row in school_data.iterrows():\n",
    "    edu_range = row['edu_range']\n",
    "    a =edu_range[0]\n",
    "    b =edu_range[2:]\n",
    "\n",
    "    if int(edu_range[0]) in range(0, 3):\n",
    "        school_data.loc[i, 'elementary_school'] = 1\n",
    "        if b!= ' ' and int(b) >= 3:\n",
    "            a = 3\n",
    "\n",
    "    if int(a) in range(3, 6):\n",
    "        school_data.loc[i, 'intermediate_school'] = 1\n",
    "        if b!= ' ' and int(b) >= 6:\n",
    "            a = 6\n",
    "\n",
    "    if int(a) in range(6, 9):\n",
    "        school_data.loc[i, 'middle_school'] = 1\n",
    "        if b!= ' ' and int(b) >= 9:\n",
    "            a = 9\n",
    "\n",
    "    if int(a) in range(9, 13):\n",
    "        school_data.loc[i, 'high_school'] = 1\n",
    "\n",
    "   "
   ],
   "metadata": {
    "collapsed": false,
    "ExecuteTime": {
     "end_time": "2024-04-27T03:35:07.304497Z",
     "start_time": "2024-04-27T03:35:07.288679Z"
    }
   },
   "id": "2cb5ffb97d86c78a"
  },
  {
   "cell_type": "code",
   "execution_count": 143,
   "outputs": [
    {
     "data": {
      "text/plain": "                        School_name  school_type       city   zipcode  \\\n0    Academy with Community Partners      Public        Mesa    85203   \n1        Accelerated Learning Center      Public     Phoenix    85028   \n2              Agua Fria High School      Public    Avondale    85323   \n3               Alhambra High School      Public     Phoenix    85019   \n4                 Apollo High School      Public    Glendale    85302   \n..                               ...         ...         ...      ...   \n216       Wickenburg Virtual Academy      Public  Wickenburg    85390   \n217       Williams Field High School      Public      Higley    85236   \n218        Willis Junior High School      Public    Chandler    85225   \n219        Willow Canyon High School      Public    Surprise    85374   \n220             Youngker High School      Public     Buckeye    85326   \n\n    edu_range elementary_school intermediate_school middle_school high_school  \\\n0        9 12              None                None          None           1   \n1        9 12              None                None          None           1   \n2        9 12              None                None          None           1   \n3        9 12              None                None          None           1   \n4        9 12              None                None          None           1   \n..        ...               ...                 ...           ...         ...   \n216      0 12                 1                   1             1           1   \n217      8 12              None                None             1           1   \n218       7 8              None                None             1        None   \n219      7 12              None                None             1           1   \n220      9 12              None                None          None           1   \n\n     school_grade  ...                                  sports_facilities  \\\n0               4  ...  ['Basketball', 'Others', 'chevron_right', 'Fla...   \n1               5  ...                              ['No data available']   \n2               4  ...  ['Badminton', 'Baseball', 'Basketball', 'Cross...   \n3               3  ...  ['Badminton', 'Baseball', 'Basketball', 'Cross...   \n4               4  ...  ['Badminton', 'Baseball', 'Basketball', 'Cross...   \n..            ...  ...                                                ...   \n216             4  ...  ['Baseball', 'Basketball', 'Cross-Country', 'F...   \n217             5  ...                              ['No data available']   \n218             4  ...  ['Baseball', 'Basketball', 'Cross-Country', 'F...   \n219             5  ...  ['Badminton', 'Baseball', 'Basketball', 'Cross...   \n220             5  ...  ['Badminton', 'Baseball', 'Basketball', 'Cross...   \n\n                                      music_facilities  \\\n0                                              ['Art']   \n1                               ['Art', 'Photography']   \n2    ['Art', 'Band', 'Ceramics/Sculpting', 'Choir',...   \n3    ['Art', 'Band', 'Ceramics/Sculpting', 'Choir',...   \n4    ['Art', 'Band', 'Ceramics/Sculpting', 'Choir',...   \n..                                                 ...   \n216                              ['No data available']   \n217                              ['No data available']   \n218  ['Art', 'Band', 'Ceramics/Sculpting', 'Choir',...   \n219  ['Art', 'Band', 'Ceramics/Sculpting', 'Choir',...   \n220  ['Art', 'Band', 'Ceramics/Sculpting', 'Choir',...   \n\n                            after_school_opportunities  \\\n0    ['Athletic', 'chevron_right', 'Basketball', 'c...   \n1                                ['No data available']   \n2    ['Academic', 'chevron_right', 'National Honor ...   \n3    ['Academic', 'chevron_right', 'AVID Club/Unive...   \n4    ['Academic', 'chevron_right', 'World Language ...   \n..                                                 ...   \n216                              ['No data available']   \n217                              ['No data available']   \n218  ['Academic', 'chevron_right', 'Math Club', 'ch...   \n219  ['Academic', 'chevron_right', 'Various Academi...   \n220  ['Academic', 'Arts', 'Athletic', 'Career and T...   \n\n                                      other_facilities  \\\n0       ['Dedicated Counselors', 'chevron_right', '1']   \n1           ['Art Room', 'Indoor air quality control']   \n2    ['Art Room', 'Auditorium', 'Book Store', 'Cafe...   \n3    ['Art Room', 'Auditorium', 'Book Store', 'Cafe...   \n4    ['Art Room', 'Auditorium', 'Book Store', 'Cafe...   \n..                                                 ...   \n216  ['Cafeteria (Onsite food service)', 'Technolog...   \n217                              ['No data available']   \n218  ['Art Room', 'Cafeteria (Onsite food service)'...   \n219  ['Art Room', 'Auditorium', 'Book Store', 'Cafe...   \n220  ['Art Room', 'Auditorium', 'Cafeteria (Onsite ...   \n\n                                      student_services acad_focus_1  \\\n0    ['Assistance with Material Needs', 'McKinney-V...            1   \n1    ['Assistance with Material Needs', 'McKinney-V...            1   \n2                                ['No data available']            1   \n3    ['Dedicated School Counselor', 'chevron_right'...            1   \n4                                ['No data available']            0   \n..                                                 ...          ...   \n216                              ['No data available']            0   \n217                              ['No data available']            0   \n218  ['Dedicated School Counselor', 'chevron_right'...            1   \n219                              ['No data available']            1   \n220  ['Dedicated School Counselor', 'chevron_right'...            1   \n\n    acad_focus_2 acad_focus_3 acad_focus_4 acad_focus_5  \n0              1            1            1            1  \n1              1            1            1            1  \n2              1            1            1            1  \n3              1            1            1            1  \n4              0            0            0            0  \n..           ...          ...          ...          ...  \n216            0            0            0            0  \n217            0            0            0            0  \n218            1            1            1            1  \n219            1            1            1            1  \n220            1            1            1            1  \n\n[220 rows x 52 columns]",
      "text/html": "<div>\n<style scoped>\n    .dataframe tbody tr th:only-of-type {\n        vertical-align: middle;\n    }\n\n    .dataframe tbody tr th {\n        vertical-align: top;\n    }\n\n    .dataframe thead th {\n        text-align: right;\n    }\n</style>\n<table border=\"1\" class=\"dataframe\">\n  <thead>\n    <tr style=\"text-align: right;\">\n      <th></th>\n      <th>School_name</th>\n      <th>school_type</th>\n      <th>city</th>\n      <th>zipcode</th>\n      <th>edu_range</th>\n      <th>elementary_school</th>\n      <th>intermediate_school</th>\n      <th>middle_school</th>\n      <th>high_school</th>\n      <th>school_grade</th>\n      <th>...</th>\n      <th>sports_facilities</th>\n      <th>music_facilities</th>\n      <th>after_school_opportunities</th>\n      <th>other_facilities</th>\n      <th>student_services</th>\n      <th>acad_focus_1</th>\n      <th>acad_focus_2</th>\n      <th>acad_focus_3</th>\n      <th>acad_focus_4</th>\n      <th>acad_focus_5</th>\n    </tr>\n  </thead>\n  <tbody>\n    <tr>\n      <th>0</th>\n      <td>Academy with Community Partners</td>\n      <td>Public</td>\n      <td>Mesa</td>\n      <td>85203</td>\n      <td>9 12</td>\n      <td>None</td>\n      <td>None</td>\n      <td>None</td>\n      <td>1</td>\n      <td>4</td>\n      <td>...</td>\n      <td>['Basketball', 'Others', 'chevron_right', 'Fla...</td>\n      <td>['Art']</td>\n      <td>['Athletic', 'chevron_right', 'Basketball', 'c...</td>\n      <td>['Dedicated Counselors', 'chevron_right', '1']</td>\n      <td>['Assistance with Material Needs', 'McKinney-V...</td>\n      <td>1</td>\n      <td>1</td>\n      <td>1</td>\n      <td>1</td>\n      <td>1</td>\n    </tr>\n    <tr>\n      <th>1</th>\n      <td>Accelerated Learning Center</td>\n      <td>Public</td>\n      <td>Phoenix</td>\n      <td>85028</td>\n      <td>9 12</td>\n      <td>None</td>\n      <td>None</td>\n      <td>None</td>\n      <td>1</td>\n      <td>5</td>\n      <td>...</td>\n      <td>['No data available']</td>\n      <td>['Art', 'Photography']</td>\n      <td>['No data available']</td>\n      <td>['Art Room', 'Indoor air quality control']</td>\n      <td>['Assistance with Material Needs', 'McKinney-V...</td>\n      <td>1</td>\n      <td>1</td>\n      <td>1</td>\n      <td>1</td>\n      <td>1</td>\n    </tr>\n    <tr>\n      <th>2</th>\n      <td>Agua Fria High School</td>\n      <td>Public</td>\n      <td>Avondale</td>\n      <td>85323</td>\n      <td>9 12</td>\n      <td>None</td>\n      <td>None</td>\n      <td>None</td>\n      <td>1</td>\n      <td>4</td>\n      <td>...</td>\n      <td>['Badminton', 'Baseball', 'Basketball', 'Cross...</td>\n      <td>['Art', 'Band', 'Ceramics/Sculpting', 'Choir',...</td>\n      <td>['Academic', 'chevron_right', 'National Honor ...</td>\n      <td>['Art Room', 'Auditorium', 'Book Store', 'Cafe...</td>\n      <td>['No data available']</td>\n      <td>1</td>\n      <td>1</td>\n      <td>1</td>\n      <td>1</td>\n      <td>1</td>\n    </tr>\n    <tr>\n      <th>3</th>\n      <td>Alhambra High School</td>\n      <td>Public</td>\n      <td>Phoenix</td>\n      <td>85019</td>\n      <td>9 12</td>\n      <td>None</td>\n      <td>None</td>\n      <td>None</td>\n      <td>1</td>\n      <td>3</td>\n      <td>...</td>\n      <td>['Badminton', 'Baseball', 'Basketball', 'Cross...</td>\n      <td>['Art', 'Band', 'Ceramics/Sculpting', 'Choir',...</td>\n      <td>['Academic', 'chevron_right', 'AVID Club/Unive...</td>\n      <td>['Art Room', 'Auditorium', 'Book Store', 'Cafe...</td>\n      <td>['Dedicated School Counselor', 'chevron_right'...</td>\n      <td>1</td>\n      <td>1</td>\n      <td>1</td>\n      <td>1</td>\n      <td>1</td>\n    </tr>\n    <tr>\n      <th>4</th>\n      <td>Apollo High School</td>\n      <td>Public</td>\n      <td>Glendale</td>\n      <td>85302</td>\n      <td>9 12</td>\n      <td>None</td>\n      <td>None</td>\n      <td>None</td>\n      <td>1</td>\n      <td>4</td>\n      <td>...</td>\n      <td>['Badminton', 'Baseball', 'Basketball', 'Cross...</td>\n      <td>['Art', 'Band', 'Ceramics/Sculpting', 'Choir',...</td>\n      <td>['Academic', 'chevron_right', 'World Language ...</td>\n      <td>['Art Room', 'Auditorium', 'Book Store', 'Cafe...</td>\n      <td>['No data available']</td>\n      <td>0</td>\n      <td>0</td>\n      <td>0</td>\n      <td>0</td>\n      <td>0</td>\n    </tr>\n    <tr>\n      <th>...</th>\n      <td>...</td>\n      <td>...</td>\n      <td>...</td>\n      <td>...</td>\n      <td>...</td>\n      <td>...</td>\n      <td>...</td>\n      <td>...</td>\n      <td>...</td>\n      <td>...</td>\n      <td>...</td>\n      <td>...</td>\n      <td>...</td>\n      <td>...</td>\n      <td>...</td>\n      <td>...</td>\n      <td>...</td>\n      <td>...</td>\n      <td>...</td>\n      <td>...</td>\n      <td>...</td>\n    </tr>\n    <tr>\n      <th>216</th>\n      <td>Wickenburg Virtual Academy</td>\n      <td>Public</td>\n      <td>Wickenburg</td>\n      <td>85390</td>\n      <td>0 12</td>\n      <td>1</td>\n      <td>1</td>\n      <td>1</td>\n      <td>1</td>\n      <td>4</td>\n      <td>...</td>\n      <td>['Baseball', 'Basketball', 'Cross-Country', 'F...</td>\n      <td>['No data available']</td>\n      <td>['No data available']</td>\n      <td>['Cafeteria (Onsite food service)', 'Technolog...</td>\n      <td>['No data available']</td>\n      <td>0</td>\n      <td>0</td>\n      <td>0</td>\n      <td>0</td>\n      <td>0</td>\n    </tr>\n    <tr>\n      <th>217</th>\n      <td>Williams Field High School</td>\n      <td>Public</td>\n      <td>Higley</td>\n      <td>85236</td>\n      <td>8 12</td>\n      <td>None</td>\n      <td>None</td>\n      <td>1</td>\n      <td>1</td>\n      <td>5</td>\n      <td>...</td>\n      <td>['No data available']</td>\n      <td>['No data available']</td>\n      <td>['No data available']</td>\n      <td>['No data available']</td>\n      <td>['No data available']</td>\n      <td>0</td>\n      <td>0</td>\n      <td>0</td>\n      <td>0</td>\n      <td>0</td>\n    </tr>\n    <tr>\n      <th>218</th>\n      <td>Willis Junior High School</td>\n      <td>Public</td>\n      <td>Chandler</td>\n      <td>85225</td>\n      <td>7 8</td>\n      <td>None</td>\n      <td>None</td>\n      <td>1</td>\n      <td>None</td>\n      <td>4</td>\n      <td>...</td>\n      <td>['Baseball', 'Basketball', 'Cross-Country', 'F...</td>\n      <td>['Art', 'Band', 'Ceramics/Sculpting', 'Choir',...</td>\n      <td>['Academic', 'chevron_right', 'Math Club', 'ch...</td>\n      <td>['Art Room', 'Cafeteria (Onsite food service)'...</td>\n      <td>['Dedicated School Counselor', 'chevron_right'...</td>\n      <td>1</td>\n      <td>1</td>\n      <td>1</td>\n      <td>1</td>\n      <td>1</td>\n    </tr>\n    <tr>\n      <th>219</th>\n      <td>Willow Canyon High School</td>\n      <td>Public</td>\n      <td>Surprise</td>\n      <td>85374</td>\n      <td>7 12</td>\n      <td>None</td>\n      <td>None</td>\n      <td>1</td>\n      <td>1</td>\n      <td>5</td>\n      <td>...</td>\n      <td>['Badminton', 'Baseball', 'Basketball', 'Cross...</td>\n      <td>['Art', 'Band', 'Ceramics/Sculpting', 'Choir',...</td>\n      <td>['Academic', 'chevron_right', 'Various Academi...</td>\n      <td>['Art Room', 'Auditorium', 'Book Store', 'Cafe...</td>\n      <td>['No data available']</td>\n      <td>1</td>\n      <td>1</td>\n      <td>1</td>\n      <td>1</td>\n      <td>1</td>\n    </tr>\n    <tr>\n      <th>220</th>\n      <td>Youngker High School</td>\n      <td>Public</td>\n      <td>Buckeye</td>\n      <td>85326</td>\n      <td>9 12</td>\n      <td>None</td>\n      <td>None</td>\n      <td>None</td>\n      <td>1</td>\n      <td>5</td>\n      <td>...</td>\n      <td>['Badminton', 'Baseball', 'Basketball', 'Cross...</td>\n      <td>['Art', 'Band', 'Ceramics/Sculpting', 'Choir',...</td>\n      <td>['Academic', 'Arts', 'Athletic', 'Career and T...</td>\n      <td>['Art Room', 'Auditorium', 'Cafeteria (Onsite ...</td>\n      <td>['Dedicated School Counselor', 'chevron_right'...</td>\n      <td>1</td>\n      <td>1</td>\n      <td>1</td>\n      <td>1</td>\n      <td>1</td>\n    </tr>\n  </tbody>\n</table>\n<p>220 rows × 52 columns</p>\n</div>"
     },
     "execution_count": 143,
     "metadata": {},
     "output_type": "execute_result"
    }
   ],
   "source": [
    "school_data"
   ],
   "metadata": {
    "collapsed": false,
    "ExecuteTime": {
     "end_time": "2024-04-27T03:35:09.345466Z",
     "start_time": "2024-04-27T03:35:09.321903Z"
    }
   },
   "id": "9c35b62a8fe31e08"
  },
  {
   "cell_type": "code",
   "execution_count": 144,
   "outputs": [
    {
     "name": "stderr",
     "output_type": "stream",
     "text": [
      "/var/folders/rd/0t81087x5czf3z64s284fdcw0000gn/T/ipykernel_46286/3105290311.py:3: FutureWarning: Downcasting object dtype arrays on .fillna, .ffill, .bfill is deprecated and will change in a future version. Call result.infer_objects(copy=False) instead. To opt-in to the future behavior, set `pd.set_option('future.no_silent_downcasting', True)`\n",
      "  school_data.fillna({column: 0}, inplace=True)\n"
     ]
    }
   ],
   "source": [
    "edu_level_categories = ['elementary_school' ,'intermediate_school','middle_school','high_school']\n",
    "for column in edu_level_categories:\n",
    "    school_data.fillna({column: 0}, inplace=True)"
   ],
   "metadata": {
    "collapsed": false,
    "ExecuteTime": {
     "end_time": "2024-04-27T03:35:10.853968Z",
     "start_time": "2024-04-27T03:35:10.827319Z"
    }
   },
   "id": "ef35aeae9d985649"
  },
  {
   "cell_type": "code",
   "execution_count": 145,
   "outputs": [
    {
     "data": {
      "text/plain": "                        School_name  school_type       city   zipcode  \\\n0    Academy with Community Partners      Public        Mesa    85203   \n1        Accelerated Learning Center      Public     Phoenix    85028   \n2              Agua Fria High School      Public    Avondale    85323   \n3               Alhambra High School      Public     Phoenix    85019   \n4                 Apollo High School      Public    Glendale    85302   \n..                               ...         ...         ...      ...   \n216       Wickenburg Virtual Academy      Public  Wickenburg    85390   \n217       Williams Field High School      Public      Higley    85236   \n218        Willis Junior High School      Public    Chandler    85225   \n219        Willow Canyon High School      Public    Surprise    85374   \n220             Youngker High School      Public     Buckeye    85326   \n\n    edu_range  elementary_school  intermediate_school  middle_school  \\\n0        9 12                  0                    0              0   \n1        9 12                  0                    0              0   \n2        9 12                  0                    0              0   \n3        9 12                  0                    0              0   \n4        9 12                  0                    0              0   \n..        ...                ...                  ...            ...   \n216      0 12                  1                    1              1   \n217      8 12                  0                    0              1   \n218       7 8                  0                    0              1   \n219      7 12                  0                    0              1   \n220      9 12                  0                    0              0   \n\n     high_school  school_grade  ...  \\\n0              1             4  ...   \n1              1             5  ...   \n2              1             4  ...   \n3              1             3  ...   \n4              1             4  ...   \n..           ...           ...  ...   \n216            1             4  ...   \n217            1             5  ...   \n218            0             4  ...   \n219            1             5  ...   \n220            1             5  ...   \n\n                                     sports_facilities  \\\n0    ['Basketball', 'Others', 'chevron_right', 'Fla...   \n1                                ['No data available']   \n2    ['Badminton', 'Baseball', 'Basketball', 'Cross...   \n3    ['Badminton', 'Baseball', 'Basketball', 'Cross...   \n4    ['Badminton', 'Baseball', 'Basketball', 'Cross...   \n..                                                 ...   \n216  ['Baseball', 'Basketball', 'Cross-Country', 'F...   \n217                              ['No data available']   \n218  ['Baseball', 'Basketball', 'Cross-Country', 'F...   \n219  ['Badminton', 'Baseball', 'Basketball', 'Cross...   \n220  ['Badminton', 'Baseball', 'Basketball', 'Cross...   \n\n                                      music_facilities  \\\n0                                              ['Art']   \n1                               ['Art', 'Photography']   \n2    ['Art', 'Band', 'Ceramics/Sculpting', 'Choir',...   \n3    ['Art', 'Band', 'Ceramics/Sculpting', 'Choir',...   \n4    ['Art', 'Band', 'Ceramics/Sculpting', 'Choir',...   \n..                                                 ...   \n216                              ['No data available']   \n217                              ['No data available']   \n218  ['Art', 'Band', 'Ceramics/Sculpting', 'Choir',...   \n219  ['Art', 'Band', 'Ceramics/Sculpting', 'Choir',...   \n220  ['Art', 'Band', 'Ceramics/Sculpting', 'Choir',...   \n\n                            after_school_opportunities  \\\n0    ['Athletic', 'chevron_right', 'Basketball', 'c...   \n1                                ['No data available']   \n2    ['Academic', 'chevron_right', 'National Honor ...   \n3    ['Academic', 'chevron_right', 'AVID Club/Unive...   \n4    ['Academic', 'chevron_right', 'World Language ...   \n..                                                 ...   \n216                              ['No data available']   \n217                              ['No data available']   \n218  ['Academic', 'chevron_right', 'Math Club', 'ch...   \n219  ['Academic', 'chevron_right', 'Various Academi...   \n220  ['Academic', 'Arts', 'Athletic', 'Career and T...   \n\n                                      other_facilities  \\\n0       ['Dedicated Counselors', 'chevron_right', '1']   \n1           ['Art Room', 'Indoor air quality control']   \n2    ['Art Room', 'Auditorium', 'Book Store', 'Cafe...   \n3    ['Art Room', 'Auditorium', 'Book Store', 'Cafe...   \n4    ['Art Room', 'Auditorium', 'Book Store', 'Cafe...   \n..                                                 ...   \n216  ['Cafeteria (Onsite food service)', 'Technolog...   \n217                              ['No data available']   \n218  ['Art Room', 'Cafeteria (Onsite food service)'...   \n219  ['Art Room', 'Auditorium', 'Book Store', 'Cafe...   \n220  ['Art Room', 'Auditorium', 'Cafeteria (Onsite ...   \n\n                                      student_services acad_focus_1  \\\n0    ['Assistance with Material Needs', 'McKinney-V...            1   \n1    ['Assistance with Material Needs', 'McKinney-V...            1   \n2                                ['No data available']            1   \n3    ['Dedicated School Counselor', 'chevron_right'...            1   \n4                                ['No data available']            0   \n..                                                 ...          ...   \n216                              ['No data available']            0   \n217                              ['No data available']            0   \n218  ['Dedicated School Counselor', 'chevron_right'...            1   \n219                              ['No data available']            1   \n220  ['Dedicated School Counselor', 'chevron_right'...            1   \n\n    acad_focus_2 acad_focus_3 acad_focus_4 acad_focus_5  \n0              1            1            1            1  \n1              1            1            1            1  \n2              1            1            1            1  \n3              1            1            1            1  \n4              0            0            0            0  \n..           ...          ...          ...          ...  \n216            0            0            0            0  \n217            0            0            0            0  \n218            1            1            1            1  \n219            1            1            1            1  \n220            1            1            1            1  \n\n[220 rows x 52 columns]",
      "text/html": "<div>\n<style scoped>\n    .dataframe tbody tr th:only-of-type {\n        vertical-align: middle;\n    }\n\n    .dataframe tbody tr th {\n        vertical-align: top;\n    }\n\n    .dataframe thead th {\n        text-align: right;\n    }\n</style>\n<table border=\"1\" class=\"dataframe\">\n  <thead>\n    <tr style=\"text-align: right;\">\n      <th></th>\n      <th>School_name</th>\n      <th>school_type</th>\n      <th>city</th>\n      <th>zipcode</th>\n      <th>edu_range</th>\n      <th>elementary_school</th>\n      <th>intermediate_school</th>\n      <th>middle_school</th>\n      <th>high_school</th>\n      <th>school_grade</th>\n      <th>...</th>\n      <th>sports_facilities</th>\n      <th>music_facilities</th>\n      <th>after_school_opportunities</th>\n      <th>other_facilities</th>\n      <th>student_services</th>\n      <th>acad_focus_1</th>\n      <th>acad_focus_2</th>\n      <th>acad_focus_3</th>\n      <th>acad_focus_4</th>\n      <th>acad_focus_5</th>\n    </tr>\n  </thead>\n  <tbody>\n    <tr>\n      <th>0</th>\n      <td>Academy with Community Partners</td>\n      <td>Public</td>\n      <td>Mesa</td>\n      <td>85203</td>\n      <td>9 12</td>\n      <td>0</td>\n      <td>0</td>\n      <td>0</td>\n      <td>1</td>\n      <td>4</td>\n      <td>...</td>\n      <td>['Basketball', 'Others', 'chevron_right', 'Fla...</td>\n      <td>['Art']</td>\n      <td>['Athletic', 'chevron_right', 'Basketball', 'c...</td>\n      <td>['Dedicated Counselors', 'chevron_right', '1']</td>\n      <td>['Assistance with Material Needs', 'McKinney-V...</td>\n      <td>1</td>\n      <td>1</td>\n      <td>1</td>\n      <td>1</td>\n      <td>1</td>\n    </tr>\n    <tr>\n      <th>1</th>\n      <td>Accelerated Learning Center</td>\n      <td>Public</td>\n      <td>Phoenix</td>\n      <td>85028</td>\n      <td>9 12</td>\n      <td>0</td>\n      <td>0</td>\n      <td>0</td>\n      <td>1</td>\n      <td>5</td>\n      <td>...</td>\n      <td>['No data available']</td>\n      <td>['Art', 'Photography']</td>\n      <td>['No data available']</td>\n      <td>['Art Room', 'Indoor air quality control']</td>\n      <td>['Assistance with Material Needs', 'McKinney-V...</td>\n      <td>1</td>\n      <td>1</td>\n      <td>1</td>\n      <td>1</td>\n      <td>1</td>\n    </tr>\n    <tr>\n      <th>2</th>\n      <td>Agua Fria High School</td>\n      <td>Public</td>\n      <td>Avondale</td>\n      <td>85323</td>\n      <td>9 12</td>\n      <td>0</td>\n      <td>0</td>\n      <td>0</td>\n      <td>1</td>\n      <td>4</td>\n      <td>...</td>\n      <td>['Badminton', 'Baseball', 'Basketball', 'Cross...</td>\n      <td>['Art', 'Band', 'Ceramics/Sculpting', 'Choir',...</td>\n      <td>['Academic', 'chevron_right', 'National Honor ...</td>\n      <td>['Art Room', 'Auditorium', 'Book Store', 'Cafe...</td>\n      <td>['No data available']</td>\n      <td>1</td>\n      <td>1</td>\n      <td>1</td>\n      <td>1</td>\n      <td>1</td>\n    </tr>\n    <tr>\n      <th>3</th>\n      <td>Alhambra High School</td>\n      <td>Public</td>\n      <td>Phoenix</td>\n      <td>85019</td>\n      <td>9 12</td>\n      <td>0</td>\n      <td>0</td>\n      <td>0</td>\n      <td>1</td>\n      <td>3</td>\n      <td>...</td>\n      <td>['Badminton', 'Baseball', 'Basketball', 'Cross...</td>\n      <td>['Art', 'Band', 'Ceramics/Sculpting', 'Choir',...</td>\n      <td>['Academic', 'chevron_right', 'AVID Club/Unive...</td>\n      <td>['Art Room', 'Auditorium', 'Book Store', 'Cafe...</td>\n      <td>['Dedicated School Counselor', 'chevron_right'...</td>\n      <td>1</td>\n      <td>1</td>\n      <td>1</td>\n      <td>1</td>\n      <td>1</td>\n    </tr>\n    <tr>\n      <th>4</th>\n      <td>Apollo High School</td>\n      <td>Public</td>\n      <td>Glendale</td>\n      <td>85302</td>\n      <td>9 12</td>\n      <td>0</td>\n      <td>0</td>\n      <td>0</td>\n      <td>1</td>\n      <td>4</td>\n      <td>...</td>\n      <td>['Badminton', 'Baseball', 'Basketball', 'Cross...</td>\n      <td>['Art', 'Band', 'Ceramics/Sculpting', 'Choir',...</td>\n      <td>['Academic', 'chevron_right', 'World Language ...</td>\n      <td>['Art Room', 'Auditorium', 'Book Store', 'Cafe...</td>\n      <td>['No data available']</td>\n      <td>0</td>\n      <td>0</td>\n      <td>0</td>\n      <td>0</td>\n      <td>0</td>\n    </tr>\n    <tr>\n      <th>...</th>\n      <td>...</td>\n      <td>...</td>\n      <td>...</td>\n      <td>...</td>\n      <td>...</td>\n      <td>...</td>\n      <td>...</td>\n      <td>...</td>\n      <td>...</td>\n      <td>...</td>\n      <td>...</td>\n      <td>...</td>\n      <td>...</td>\n      <td>...</td>\n      <td>...</td>\n      <td>...</td>\n      <td>...</td>\n      <td>...</td>\n      <td>...</td>\n      <td>...</td>\n      <td>...</td>\n    </tr>\n    <tr>\n      <th>216</th>\n      <td>Wickenburg Virtual Academy</td>\n      <td>Public</td>\n      <td>Wickenburg</td>\n      <td>85390</td>\n      <td>0 12</td>\n      <td>1</td>\n      <td>1</td>\n      <td>1</td>\n      <td>1</td>\n      <td>4</td>\n      <td>...</td>\n      <td>['Baseball', 'Basketball', 'Cross-Country', 'F...</td>\n      <td>['No data available']</td>\n      <td>['No data available']</td>\n      <td>['Cafeteria (Onsite food service)', 'Technolog...</td>\n      <td>['No data available']</td>\n      <td>0</td>\n      <td>0</td>\n      <td>0</td>\n      <td>0</td>\n      <td>0</td>\n    </tr>\n    <tr>\n      <th>217</th>\n      <td>Williams Field High School</td>\n      <td>Public</td>\n      <td>Higley</td>\n      <td>85236</td>\n      <td>8 12</td>\n      <td>0</td>\n      <td>0</td>\n      <td>1</td>\n      <td>1</td>\n      <td>5</td>\n      <td>...</td>\n      <td>['No data available']</td>\n      <td>['No data available']</td>\n      <td>['No data available']</td>\n      <td>['No data available']</td>\n      <td>['No data available']</td>\n      <td>0</td>\n      <td>0</td>\n      <td>0</td>\n      <td>0</td>\n      <td>0</td>\n    </tr>\n    <tr>\n      <th>218</th>\n      <td>Willis Junior High School</td>\n      <td>Public</td>\n      <td>Chandler</td>\n      <td>85225</td>\n      <td>7 8</td>\n      <td>0</td>\n      <td>0</td>\n      <td>1</td>\n      <td>0</td>\n      <td>4</td>\n      <td>...</td>\n      <td>['Baseball', 'Basketball', 'Cross-Country', 'F...</td>\n      <td>['Art', 'Band', 'Ceramics/Sculpting', 'Choir',...</td>\n      <td>['Academic', 'chevron_right', 'Math Club', 'ch...</td>\n      <td>['Art Room', 'Cafeteria (Onsite food service)'...</td>\n      <td>['Dedicated School Counselor', 'chevron_right'...</td>\n      <td>1</td>\n      <td>1</td>\n      <td>1</td>\n      <td>1</td>\n      <td>1</td>\n    </tr>\n    <tr>\n      <th>219</th>\n      <td>Willow Canyon High School</td>\n      <td>Public</td>\n      <td>Surprise</td>\n      <td>85374</td>\n      <td>7 12</td>\n      <td>0</td>\n      <td>0</td>\n      <td>1</td>\n      <td>1</td>\n      <td>5</td>\n      <td>...</td>\n      <td>['Badminton', 'Baseball', 'Basketball', 'Cross...</td>\n      <td>['Art', 'Band', 'Ceramics/Sculpting', 'Choir',...</td>\n      <td>['Academic', 'chevron_right', 'Various Academi...</td>\n      <td>['Art Room', 'Auditorium', 'Book Store', 'Cafe...</td>\n      <td>['No data available']</td>\n      <td>1</td>\n      <td>1</td>\n      <td>1</td>\n      <td>1</td>\n      <td>1</td>\n    </tr>\n    <tr>\n      <th>220</th>\n      <td>Youngker High School</td>\n      <td>Public</td>\n      <td>Buckeye</td>\n      <td>85326</td>\n      <td>9 12</td>\n      <td>0</td>\n      <td>0</td>\n      <td>0</td>\n      <td>1</td>\n      <td>5</td>\n      <td>...</td>\n      <td>['Badminton', 'Baseball', 'Basketball', 'Cross...</td>\n      <td>['Art', 'Band', 'Ceramics/Sculpting', 'Choir',...</td>\n      <td>['Academic', 'Arts', 'Athletic', 'Career and T...</td>\n      <td>['Art Room', 'Auditorium', 'Cafeteria (Onsite ...</td>\n      <td>['Dedicated School Counselor', 'chevron_right'...</td>\n      <td>1</td>\n      <td>1</td>\n      <td>1</td>\n      <td>1</td>\n      <td>1</td>\n    </tr>\n  </tbody>\n</table>\n<p>220 rows × 52 columns</p>\n</div>"
     },
     "execution_count": 145,
     "metadata": {},
     "output_type": "execute_result"
    }
   ],
   "source": [
    "school_data"
   ],
   "metadata": {
    "collapsed": false,
    "ExecuteTime": {
     "end_time": "2024-04-27T03:35:12.308278Z",
     "start_time": "2024-04-27T03:35:12.284216Z"
    }
   },
   "id": "c540f9987cb16862"
  },
  {
   "cell_type": "code",
   "execution_count": 146,
   "outputs": [],
   "source": [
    "school_data.drop('edu_range',axis=1, inplace=True)"
   ],
   "metadata": {
    "collapsed": false,
    "ExecuteTime": {
     "end_time": "2024-04-27T03:35:13.143062Z",
     "start_time": "2024-04-27T03:35:13.118291Z"
    }
   },
   "id": "4128572861d3ebb3"
  },
  {
   "cell_type": "code",
   "execution_count": 147,
   "outputs": [],
   "source": [
    "school_data.drop('school_type',axis=1, inplace=True)"
   ],
   "metadata": {
    "collapsed": false,
    "ExecuteTime": {
     "end_time": "2024-04-27T03:35:13.652404Z",
     "start_time": "2024-04-27T03:35:13.627217Z"
    }
   },
   "id": "27092d813b6bb30a"
  },
  {
   "cell_type": "code",
   "execution_count": 148,
   "outputs": [
    {
     "data": {
      "text/plain": "                      School_name      city   zipcode  elementary_school  \\\n0  Academy with Community Partners      Mesa    85203                  0   \n1      Accelerated Learning Center   Phoenix    85028                  0   \n2            Agua Fria High School  Avondale    85323                  0   \n3             Alhambra High School   Phoenix    85019                  0   \n4               Apollo High School  Glendale    85302                  0   \n\n   intermediate_school  middle_school  high_school  school_grade  \\\n0                    0              0            1             4   \n1                    0              0            1             5   \n2                    0              0            1             4   \n3                    0              0            1             3   \n4                    0              0            1             4   \n\n  title_i_status total_students  ...  \\\n0              1            169  ...   \n1              0            153  ...   \n2              1           1653  ...   \n3              1           2283  ...   \n4              1           2198  ...   \n\n                                   sports_facilities  \\\n0  ['Basketball', 'Others', 'chevron_right', 'Fla...   \n1                              ['No data available']   \n2  ['Badminton', 'Baseball', 'Basketball', 'Cross...   \n3  ['Badminton', 'Baseball', 'Basketball', 'Cross...   \n4  ['Badminton', 'Baseball', 'Basketball', 'Cross...   \n\n                                    music_facilities  \\\n0                                            ['Art']   \n1                             ['Art', 'Photography']   \n2  ['Art', 'Band', 'Ceramics/Sculpting', 'Choir',...   \n3  ['Art', 'Band', 'Ceramics/Sculpting', 'Choir',...   \n4  ['Art', 'Band', 'Ceramics/Sculpting', 'Choir',...   \n\n                          after_school_opportunities  \\\n0  ['Athletic', 'chevron_right', 'Basketball', 'c...   \n1                              ['No data available']   \n2  ['Academic', 'chevron_right', 'National Honor ...   \n3  ['Academic', 'chevron_right', 'AVID Club/Unive...   \n4  ['Academic', 'chevron_right', 'World Language ...   \n\n                                    other_facilities  \\\n0     ['Dedicated Counselors', 'chevron_right', '1']   \n1         ['Art Room', 'Indoor air quality control']   \n2  ['Art Room', 'Auditorium', 'Book Store', 'Cafe...   \n3  ['Art Room', 'Auditorium', 'Book Store', 'Cafe...   \n4  ['Art Room', 'Auditorium', 'Book Store', 'Cafe...   \n\n                                    student_services acad_focus_1  \\\n0  ['Assistance with Material Needs', 'McKinney-V...            1   \n1  ['Assistance with Material Needs', 'McKinney-V...            1   \n2                              ['No data available']            1   \n3  ['Dedicated School Counselor', 'chevron_right'...            1   \n4                              ['No data available']            0   \n\n  acad_focus_2 acad_focus_3 acad_focus_4 acad_focus_5  \n0            1            1            1            1  \n1            1            1            1            1  \n2            1            1            1            1  \n3            1            1            1            1  \n4            0            0            0            0  \n\n[5 rows x 50 columns]",
      "text/html": "<div>\n<style scoped>\n    .dataframe tbody tr th:only-of-type {\n        vertical-align: middle;\n    }\n\n    .dataframe tbody tr th {\n        vertical-align: top;\n    }\n\n    .dataframe thead th {\n        text-align: right;\n    }\n</style>\n<table border=\"1\" class=\"dataframe\">\n  <thead>\n    <tr style=\"text-align: right;\">\n      <th></th>\n      <th>School_name</th>\n      <th>city</th>\n      <th>zipcode</th>\n      <th>elementary_school</th>\n      <th>intermediate_school</th>\n      <th>middle_school</th>\n      <th>high_school</th>\n      <th>school_grade</th>\n      <th>title_i_status</th>\n      <th>total_students</th>\n      <th>...</th>\n      <th>sports_facilities</th>\n      <th>music_facilities</th>\n      <th>after_school_opportunities</th>\n      <th>other_facilities</th>\n      <th>student_services</th>\n      <th>acad_focus_1</th>\n      <th>acad_focus_2</th>\n      <th>acad_focus_3</th>\n      <th>acad_focus_4</th>\n      <th>acad_focus_5</th>\n    </tr>\n  </thead>\n  <tbody>\n    <tr>\n      <th>0</th>\n      <td>Academy with Community Partners</td>\n      <td>Mesa</td>\n      <td>85203</td>\n      <td>0</td>\n      <td>0</td>\n      <td>0</td>\n      <td>1</td>\n      <td>4</td>\n      <td>1</td>\n      <td>169</td>\n      <td>...</td>\n      <td>['Basketball', 'Others', 'chevron_right', 'Fla...</td>\n      <td>['Art']</td>\n      <td>['Athletic', 'chevron_right', 'Basketball', 'c...</td>\n      <td>['Dedicated Counselors', 'chevron_right', '1']</td>\n      <td>['Assistance with Material Needs', 'McKinney-V...</td>\n      <td>1</td>\n      <td>1</td>\n      <td>1</td>\n      <td>1</td>\n      <td>1</td>\n    </tr>\n    <tr>\n      <th>1</th>\n      <td>Accelerated Learning Center</td>\n      <td>Phoenix</td>\n      <td>85028</td>\n      <td>0</td>\n      <td>0</td>\n      <td>0</td>\n      <td>1</td>\n      <td>5</td>\n      <td>0</td>\n      <td>153</td>\n      <td>...</td>\n      <td>['No data available']</td>\n      <td>['Art', 'Photography']</td>\n      <td>['No data available']</td>\n      <td>['Art Room', 'Indoor air quality control']</td>\n      <td>['Assistance with Material Needs', 'McKinney-V...</td>\n      <td>1</td>\n      <td>1</td>\n      <td>1</td>\n      <td>1</td>\n      <td>1</td>\n    </tr>\n    <tr>\n      <th>2</th>\n      <td>Agua Fria High School</td>\n      <td>Avondale</td>\n      <td>85323</td>\n      <td>0</td>\n      <td>0</td>\n      <td>0</td>\n      <td>1</td>\n      <td>4</td>\n      <td>1</td>\n      <td>1653</td>\n      <td>...</td>\n      <td>['Badminton', 'Baseball', 'Basketball', 'Cross...</td>\n      <td>['Art', 'Band', 'Ceramics/Sculpting', 'Choir',...</td>\n      <td>['Academic', 'chevron_right', 'National Honor ...</td>\n      <td>['Art Room', 'Auditorium', 'Book Store', 'Cafe...</td>\n      <td>['No data available']</td>\n      <td>1</td>\n      <td>1</td>\n      <td>1</td>\n      <td>1</td>\n      <td>1</td>\n    </tr>\n    <tr>\n      <th>3</th>\n      <td>Alhambra High School</td>\n      <td>Phoenix</td>\n      <td>85019</td>\n      <td>0</td>\n      <td>0</td>\n      <td>0</td>\n      <td>1</td>\n      <td>3</td>\n      <td>1</td>\n      <td>2283</td>\n      <td>...</td>\n      <td>['Badminton', 'Baseball', 'Basketball', 'Cross...</td>\n      <td>['Art', 'Band', 'Ceramics/Sculpting', 'Choir',...</td>\n      <td>['Academic', 'chevron_right', 'AVID Club/Unive...</td>\n      <td>['Art Room', 'Auditorium', 'Book Store', 'Cafe...</td>\n      <td>['Dedicated School Counselor', 'chevron_right'...</td>\n      <td>1</td>\n      <td>1</td>\n      <td>1</td>\n      <td>1</td>\n      <td>1</td>\n    </tr>\n    <tr>\n      <th>4</th>\n      <td>Apollo High School</td>\n      <td>Glendale</td>\n      <td>85302</td>\n      <td>0</td>\n      <td>0</td>\n      <td>0</td>\n      <td>1</td>\n      <td>4</td>\n      <td>1</td>\n      <td>2198</td>\n      <td>...</td>\n      <td>['Badminton', 'Baseball', 'Basketball', 'Cross...</td>\n      <td>['Art', 'Band', 'Ceramics/Sculpting', 'Choir',...</td>\n      <td>['Academic', 'chevron_right', 'World Language ...</td>\n      <td>['Art Room', 'Auditorium', 'Book Store', 'Cafe...</td>\n      <td>['No data available']</td>\n      <td>0</td>\n      <td>0</td>\n      <td>0</td>\n      <td>0</td>\n      <td>0</td>\n    </tr>\n  </tbody>\n</table>\n<p>5 rows × 50 columns</p>\n</div>"
     },
     "execution_count": 148,
     "metadata": {},
     "output_type": "execute_result"
    }
   ],
   "source": [
    "school_data.head(5)"
   ],
   "metadata": {
    "collapsed": false,
    "ExecuteTime": {
     "end_time": "2024-04-27T03:35:14.712020Z",
     "start_time": "2024-04-27T03:35:14.690299Z"
    }
   },
   "id": "4ebc049ce0f206e5"
  },
  {
   "cell_type": "code",
   "execution_count": 149,
   "outputs": [
    {
     "data": {
      "text/plain": "['awards_and_recognitions',\n 'academic_offerings',\n 'sports_facilities',\n 'music_facilities',\n 'after_school_opportunities',\n 'other_facilities',\n 'student_services']"
     },
     "execution_count": 149,
     "metadata": {},
     "output_type": "execute_result"
    }
   ],
   "source": [
    "# school_data.drop(school_data.columns[38:45], axis=1,inplace=True)\n",
    "list(school_data.columns[38:45])"
   ],
   "metadata": {
    "collapsed": false,
    "ExecuteTime": {
     "end_time": "2024-04-27T03:35:15.813409Z",
     "start_time": "2024-04-27T03:35:15.788505Z"
    }
   },
   "id": "48ec9e6d36f9a36a"
  },
  {
   "cell_type": "code",
   "execution_count": 150,
   "outputs": [],
   "source": [
    "# Remove duplicates from the DataFrame\n",
    "school_data.drop_duplicates(inplace=True)"
   ],
   "metadata": {
    "collapsed": false,
    "ExecuteTime": {
     "end_time": "2024-04-27T03:35:18.145975Z",
     "start_time": "2024-04-27T03:35:18.112250Z"
    }
   },
   "id": "a3cf1e85bdd67b94"
  },
  {
   "cell_type": "code",
   "execution_count": 151,
   "outputs": [
    {
     "data": {
      "text/plain": "                      School_name      city   zipcode  elementary_school  \\\n0  Academy with Community Partners      Mesa    85203                  0   \n1      Accelerated Learning Center   Phoenix    85028                  0   \n2            Agua Fria High School  Avondale    85323                  0   \n3             Alhambra High School   Phoenix    85019                  0   \n4               Apollo High School  Glendale    85302                  0   \n\n   intermediate_school  middle_school  high_school  school_grade  \\\n0                    0              0            1             4   \n1                    0              0            1             5   \n2                    0              0            1             4   \n3                    0              0            1             3   \n4                    0              0            1             4   \n\n  title_i_status total_students  ...  \\\n0              1            169  ...   \n1              0            153  ...   \n2              1           1653  ...   \n3              1           2283  ...   \n4              1           2198  ...   \n\n                                   sports_facilities  \\\n0  ['Basketball', 'Others', 'chevron_right', 'Fla...   \n1                              ['No data available']   \n2  ['Badminton', 'Baseball', 'Basketball', 'Cross...   \n3  ['Badminton', 'Baseball', 'Basketball', 'Cross...   \n4  ['Badminton', 'Baseball', 'Basketball', 'Cross...   \n\n                                    music_facilities  \\\n0                                            ['Art']   \n1                             ['Art', 'Photography']   \n2  ['Art', 'Band', 'Ceramics/Sculpting', 'Choir',...   \n3  ['Art', 'Band', 'Ceramics/Sculpting', 'Choir',...   \n4  ['Art', 'Band', 'Ceramics/Sculpting', 'Choir',...   \n\n                          after_school_opportunities  \\\n0  ['Athletic', 'chevron_right', 'Basketball', 'c...   \n1                              ['No data available']   \n2  ['Academic', 'chevron_right', 'National Honor ...   \n3  ['Academic', 'chevron_right', 'AVID Club/Unive...   \n4  ['Academic', 'chevron_right', 'World Language ...   \n\n                                    other_facilities  \\\n0     ['Dedicated Counselors', 'chevron_right', '1']   \n1         ['Art Room', 'Indoor air quality control']   \n2  ['Art Room', 'Auditorium', 'Book Store', 'Cafe...   \n3  ['Art Room', 'Auditorium', 'Book Store', 'Cafe...   \n4  ['Art Room', 'Auditorium', 'Book Store', 'Cafe...   \n\n                                    student_services acad_focus_1  \\\n0  ['Assistance with Material Needs', 'McKinney-V...            1   \n1  ['Assistance with Material Needs', 'McKinney-V...            1   \n2                              ['No data available']            1   \n3  ['Dedicated School Counselor', 'chevron_right'...            1   \n4                              ['No data available']            0   \n\n  acad_focus_2 acad_focus_3 acad_focus_4 acad_focus_5  \n0            1            1            1            1  \n1            1            1            1            1  \n2            1            1            1            1  \n3            1            1            1            1  \n4            0            0            0            0  \n\n[5 rows x 50 columns]",
      "text/html": "<div>\n<style scoped>\n    .dataframe tbody tr th:only-of-type {\n        vertical-align: middle;\n    }\n\n    .dataframe tbody tr th {\n        vertical-align: top;\n    }\n\n    .dataframe thead th {\n        text-align: right;\n    }\n</style>\n<table border=\"1\" class=\"dataframe\">\n  <thead>\n    <tr style=\"text-align: right;\">\n      <th></th>\n      <th>School_name</th>\n      <th>city</th>\n      <th>zipcode</th>\n      <th>elementary_school</th>\n      <th>intermediate_school</th>\n      <th>middle_school</th>\n      <th>high_school</th>\n      <th>school_grade</th>\n      <th>title_i_status</th>\n      <th>total_students</th>\n      <th>...</th>\n      <th>sports_facilities</th>\n      <th>music_facilities</th>\n      <th>after_school_opportunities</th>\n      <th>other_facilities</th>\n      <th>student_services</th>\n      <th>acad_focus_1</th>\n      <th>acad_focus_2</th>\n      <th>acad_focus_3</th>\n      <th>acad_focus_4</th>\n      <th>acad_focus_5</th>\n    </tr>\n  </thead>\n  <tbody>\n    <tr>\n      <th>0</th>\n      <td>Academy with Community Partners</td>\n      <td>Mesa</td>\n      <td>85203</td>\n      <td>0</td>\n      <td>0</td>\n      <td>0</td>\n      <td>1</td>\n      <td>4</td>\n      <td>1</td>\n      <td>169</td>\n      <td>...</td>\n      <td>['Basketball', 'Others', 'chevron_right', 'Fla...</td>\n      <td>['Art']</td>\n      <td>['Athletic', 'chevron_right', 'Basketball', 'c...</td>\n      <td>['Dedicated Counselors', 'chevron_right', '1']</td>\n      <td>['Assistance with Material Needs', 'McKinney-V...</td>\n      <td>1</td>\n      <td>1</td>\n      <td>1</td>\n      <td>1</td>\n      <td>1</td>\n    </tr>\n    <tr>\n      <th>1</th>\n      <td>Accelerated Learning Center</td>\n      <td>Phoenix</td>\n      <td>85028</td>\n      <td>0</td>\n      <td>0</td>\n      <td>0</td>\n      <td>1</td>\n      <td>5</td>\n      <td>0</td>\n      <td>153</td>\n      <td>...</td>\n      <td>['No data available']</td>\n      <td>['Art', 'Photography']</td>\n      <td>['No data available']</td>\n      <td>['Art Room', 'Indoor air quality control']</td>\n      <td>['Assistance with Material Needs', 'McKinney-V...</td>\n      <td>1</td>\n      <td>1</td>\n      <td>1</td>\n      <td>1</td>\n      <td>1</td>\n    </tr>\n    <tr>\n      <th>2</th>\n      <td>Agua Fria High School</td>\n      <td>Avondale</td>\n      <td>85323</td>\n      <td>0</td>\n      <td>0</td>\n      <td>0</td>\n      <td>1</td>\n      <td>4</td>\n      <td>1</td>\n      <td>1653</td>\n      <td>...</td>\n      <td>['Badminton', 'Baseball', 'Basketball', 'Cross...</td>\n      <td>['Art', 'Band', 'Ceramics/Sculpting', 'Choir',...</td>\n      <td>['Academic', 'chevron_right', 'National Honor ...</td>\n      <td>['Art Room', 'Auditorium', 'Book Store', 'Cafe...</td>\n      <td>['No data available']</td>\n      <td>1</td>\n      <td>1</td>\n      <td>1</td>\n      <td>1</td>\n      <td>1</td>\n    </tr>\n    <tr>\n      <th>3</th>\n      <td>Alhambra High School</td>\n      <td>Phoenix</td>\n      <td>85019</td>\n      <td>0</td>\n      <td>0</td>\n      <td>0</td>\n      <td>1</td>\n      <td>3</td>\n      <td>1</td>\n      <td>2283</td>\n      <td>...</td>\n      <td>['Badminton', 'Baseball', 'Basketball', 'Cross...</td>\n      <td>['Art', 'Band', 'Ceramics/Sculpting', 'Choir',...</td>\n      <td>['Academic', 'chevron_right', 'AVID Club/Unive...</td>\n      <td>['Art Room', 'Auditorium', 'Book Store', 'Cafe...</td>\n      <td>['Dedicated School Counselor', 'chevron_right'...</td>\n      <td>1</td>\n      <td>1</td>\n      <td>1</td>\n      <td>1</td>\n      <td>1</td>\n    </tr>\n    <tr>\n      <th>4</th>\n      <td>Apollo High School</td>\n      <td>Glendale</td>\n      <td>85302</td>\n      <td>0</td>\n      <td>0</td>\n      <td>0</td>\n      <td>1</td>\n      <td>4</td>\n      <td>1</td>\n      <td>2198</td>\n      <td>...</td>\n      <td>['Badminton', 'Baseball', 'Basketball', 'Cross...</td>\n      <td>['Art', 'Band', 'Ceramics/Sculpting', 'Choir',...</td>\n      <td>['Academic', 'chevron_right', 'World Language ...</td>\n      <td>['Art Room', 'Auditorium', 'Book Store', 'Cafe...</td>\n      <td>['No data available']</td>\n      <td>0</td>\n      <td>0</td>\n      <td>0</td>\n      <td>0</td>\n      <td>0</td>\n    </tr>\n  </tbody>\n</table>\n<p>5 rows × 50 columns</p>\n</div>"
     },
     "execution_count": 151,
     "metadata": {},
     "output_type": "execute_result"
    }
   ],
   "source": [
    "school_data.head(5)"
   ],
   "metadata": {
    "collapsed": false,
    "ExecuteTime": {
     "end_time": "2024-04-27T03:35:18.997046Z",
     "start_time": "2024-04-27T03:35:18.982562Z"
    }
   },
   "id": "e652b08d686e87c0"
  },
  {
   "cell_type": "code",
   "execution_count": 152,
   "outputs": [],
   "source": [
    "school_data.to_csv('511_project_with_extra_cols.csv', index=False)"
   ],
   "metadata": {
    "collapsed": false,
    "ExecuteTime": {
     "end_time": "2024-04-27T03:35:19.615758Z",
     "start_time": "2024-04-27T03:35:19.544813Z"
    }
   },
   "id": "6ab7ef667f7a7371"
  },
  {
   "cell_type": "code",
   "execution_count": null,
   "outputs": [],
   "source": [],
   "metadata": {
    "collapsed": false
   },
   "id": "cb653eeaa65a45cf"
  }
 ],
 "metadata": {
  "kernelspec": {
   "display_name": "Python 3",
   "language": "python",
   "name": "python3"
  },
  "language_info": {
   "codemirror_mode": {
    "name": "ipython",
    "version": 2
   },
   "file_extension": ".py",
   "mimetype": "text/x-python",
   "name": "python",
   "nbconvert_exporter": "python",
   "pygments_lexer": "ipython2",
   "version": "2.7.6"
  }
 },
 "nbformat": 4,
 "nbformat_minor": 5
}
